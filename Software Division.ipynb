{
 "cells": [
  {
   "cell_type": "code",
   "execution_count": 1,
   "id": "1fd2f2af",
   "metadata": {},
   "outputs": [],
   "source": [
    "from line_profiler import LineProfiler"
   ]
  },
  {
   "cell_type": "code",
   "execution_count": 2,
   "id": "e18f9c54",
   "metadata": {},
   "outputs": [],
   "source": [
    "%load_ext line_profiler"
   ]
  },
  {
   "cell_type": "markdown",
   "id": "6257af3e",
   "metadata": {},
   "source": [
    "## Simple software division of two 32 bit integers"
   ]
  },
  {
   "cell_type": "markdown",
   "id": "88bc6cae",
   "metadata": {},
   "source": [
    "Source: http://bearcave.com/software/divide.htm"
   ]
  },
  {
   "cell_type": "markdown",
   "id": "3c9a13a1",
   "metadata": {},
   "source": [
    "/*\n",
    "   Copyright stuff\n",
    "\n",
    "   Use of this program, for any purpose, is granted the author,\n",
    "   Ian Kaplan, as long as this copyright notice is included in\n",
    "   the source code or any source code derived from this program.\n",
    "   The user assumes all responsibility for using this code.\n",
    "\n",
    "   Ian Kaplan, October 1996\n",
    "\n",
    "*/\n"
   ]
  },
  {
   "cell_type": "code",
   "execution_count": 1,
   "id": "163378b4",
   "metadata": {},
   "outputs": [],
   "source": [
    "def unsigned_divide(dividend: 'uint', divisor: 'uint') -> ('uint', 'uint'):\n",
    "    t       : 'uint' = None\n",
    "    num_bits: 'uint' = None\n",
    "    q       : 'uint' = None\n",
    "    bit     : 'uint' = None\n",
    "    d       : 'uint' = None\n",
    "    i       : 'int'  = None\n",
    "    \n",
    "    remainder : 'uint' = 0\n",
    "    quotient  : 'uint' = 0\n",
    "\n",
    "    if   (divisor == 0       ): pass\n",
    "    elif (divisor  > dividend): remainder = dividend\n",
    "    elif (divisor == dividend): quotient = 1\n",
    "    else:\n",
    "        num_bits = 32\n",
    "        while (remainder < divisor):\n",
    "            bit       = (dividend & 0x80000000) >> 31 # grab the highest bit in dividend\n",
    "            remainder = (remainder << 1) | bit        # shift up remained and move bit into lowest position\n",
    "            d         = dividend                      # store for later\n",
    "            dividend  = dividend << 1                 # shift up dividend, putting the next highest bit in highest position\n",
    "            num_bits -= 1                             # count down the number of bits remaining in dividend\n",
    "            \n",
    "        # The loop, above, always goes one iteration too far.\n",
    "        # To avoid inserting an \"if\" statement inside the loop\n",
    "        # the last iteration is simply reversed.\n",
    "        dividend  = d              # restore dividend to previous value\n",
    "        remainder = remainder >> 1 # shift remainder back down, erasing the previously lowest bit\n",
    "        num_bits += 1              # undo the last counter update\n",
    "        \n",
    "        for i in range(num_bits):\n",
    "            bit       = (dividend & 0x80000000) >> 31 # see above\n",
    "            remainder = (remainder << 1) | bit        # see above\n",
    "            t         = remainder - divisor           # remainder is larger than divisor, so get positive difference\n",
    "            q         = not ((t & 0x80000000) >> 31)  # grab negated highest bit of previous division\n",
    "            dividend  = dividend << 1                 # see above\n",
    "            quotient  = (quotient << 1) | q           # \n",
    "            if (q): remainder = t                     # if highest bit of t == 0, remainder = t\n",
    "    \n",
    "    return quotient, remainder"
   ]
  },
  {
   "cell_type": "code",
   "execution_count": 29,
   "id": "903ac13b",
   "metadata": {},
   "outputs": [
    {
     "name": "stdout",
     "output_type": "stream",
     "text": [
      "0b1011000000000000000000000000000 0b100 0b10\n",
      "\n",
      "0 0b100 - 0b100 = 0b0\n",
      "0b10110000000000000000000000000000 0b1\n",
      "1\n",
      "0b1100000000000000000000000000000 0b10\n",
      "2\n",
      "0b11000000000000000000000000000000 0b100\n",
      "3 0b101 - 0b100 = 0b1\n",
      "0b10000000000000000000000000000000 0b1001\n",
      "4\n",
      "0b0 0b10010\n",
      "5 0b110 - 0b100 = 0b10\n",
      "0b0 0b100101\n"
     ]
    },
    {
     "data": {
      "text/plain": [
       "(37, 2)"
      ]
     },
     "execution_count": 29,
     "metadata": {},
     "output_type": "execute_result"
    }
   ],
   "source": [
    "numerator: 'uint' = 150 # aka dividend\n",
    "divisor  : 'uint' = 4\n",
    "remainder: 'uint' = 0\n",
    "quotient : 'uint' = 0\n",
    "t = q = restore = bit = num_bits = i = None; del t, q, restore, bit, num_bits, i\n",
    "if   (divisor == 0        ): raise ZeroDivisionError\n",
    "elif (divisor  > numerator): remainder = numerator\n",
    "elif (divisor == numerator): quotient  = 1\n",
    "else:\n",
    "    num_bits:'uint' = 32\n",
    "    while (remainder < divisor):\n",
    "        bit       = (numerator & 0x80000000) >> 31 # grab the 32th bit in numerator\n",
    "        remainder = (remainder << 1) | bit         # shift up remained and move bit into lowest position\n",
    "        restore   = numerator                      # store for later\n",
    "        numerator = (numerator << 1) & 0xFFFFFFFF  # shift up numerator, putting the next highest bit in 32th position *1\n",
    "        num_bits -= 1                              # count down the number of bits remaining in numerator\n",
    "    # The loop, above, always goes one iteration too far.\n",
    "    # To avoid inserting an \"if\" statement inside the loop, the last iteration is simply reversed.\n",
    "    numerator = restore        # restore numerator to previous value\n",
    "    remainder = remainder >> 1 # shift remainder back down, erasing the previously lowest bit\n",
    "    num_bits += 1              # undo the last counter update\n",
    "    \n",
    "    print(bin(numerator), bin(divisor), bin(remainder))\n",
    "    print()\n",
    "    \n",
    "    if 1:\n",
    "        for i in range(num_bits):\n",
    "            bit       = (numerator & 0x80000000) >> 31 # see above\n",
    "            numerator = (numerator << 1) & 0xFFFFFFFF  # see above\n",
    "            remainder = (remainder << 1) | bit         # see above\n",
    "            if remainder >= divisor:\n",
    "                print(i, bin(remainder),'-', bin(divisor),'=', bin(remainder - divisor))\n",
    "                remainder = remainder - divisor            # \n",
    "                quotient  = (quotient << 1) | 1            # shift in a 1\n",
    "            else:\n",
    "                quotient  = (quotient << 1)                # shift in a zero\n",
    "                print(i, )\n",
    "            print(bin(numerator), bin(quotient))\n",
    "    else:\n",
    "        for i in range(num_bits):\n",
    "            bit       = (numerator & 0x80000000) >> 31 # see above\n",
    "            numerator = (numerator << 1) & 0xFFFFFFFF  # see above\n",
    "            remainder = (remainder << 1) | bit         # see above\n",
    "            t         = remainder - divisor            # \n",
    "            q         = t >= 0                         # check if result of subtraction has gone below zero *2\n",
    "            quotient  = (quotient << 1) | q            # shift up quotient and store negated highest bit of previous division\n",
    "            print(i, bin(remainder),'-', bin(divisor),'=', t, f'({bin(t)})', q)\n",
    "            print(bin(numerator), bin(quotient))\n",
    "            if (q): remainder = t                      # if remainder >= divisor: remainder = t\n",
    "\n",
    "quotient, remainder"
   ]
  },
  {
   "cell_type": "code",
   "execution_count": 64,
   "id": "ffe2ebe2",
   "metadata": {},
   "outputs": [
    {
     "data": {
      "text/plain": [
       "(37, 2)"
      ]
     },
     "execution_count": 64,
     "metadata": {},
     "output_type": "execute_result"
    }
   ],
   "source": [
    "150 // 4, 150 % 4"
   ]
  },
  {
   "cell_type": "markdown",
   "id": "6e494556",
   "metadata": {},
   "source": [
    "https://www.youtube.com/watch?v=VKemv9u40gc"
   ]
  },
  {
   "cell_type": "markdown",
   "id": "07c6693d",
   "metadata": {},
   "source": [
    "*1 Python support arbitrary sized integers, so shifting up doesn't actually remove the highest bit, but instead just moves in a 0 at the right, effectively doubling the number. Since we're grabbing the 32th bit every time this doesn't really matter, but should we want this algorithm to work with arbitrary sized integers instead of fixed 32 bit, then this need to be changed. To \"fix this we could replace `numerator << 1` with `(numerator << 1) & 0xFFFFFFFF`.\n",
    "\n",
    "---\n",
    "\n",
    "*2 In a C program, we would be working with unsigned numbers here, which wrap around to max int when going below zero. So when we're testing the highest bit for 0 or 1, we really asking if we've wrapped around, or in other words, gone negative. So since we're working with signed integers in python, `not ((t & 0x80000000) >> 31)` really is equivalent to `t >= 0`, which in turn is equivalent to checking if `remainder >= divisor`.\n",
    "\n",
    "---\n",
    "\n"
   ]
  },
  {
   "cell_type": "markdown",
   "id": "dd425240",
   "metadata": {
    "heading_collapsed": true
   },
   "source": [
    "#### signed divide"
   ]
  },
  {
   "cell_type": "code",
   "execution_count": 15,
   "id": "6ab8995f",
   "metadata": {
    "hidden": true
   },
   "outputs": [],
   "source": [
    "def signed_divide(dividend: 'int', divisor: 'int') -> ('int', 'int'):\n",
    "    dend: 'uint' = abs(dividend)\n",
    "    dor : 'uint' = abs(divisor)\n",
    "    q   : 'uint' = None\n",
    "    r   : 'uint' = None\n",
    "    \n",
    "    remainder : 'int' = 0\n",
    "    quotient  : 'int' = 0\n",
    "\n",
    "    q, r = unsigned_divide(dend, dor)\n",
    "\n",
    "#     /* the sign of the remainder is the same as the sign of the dividend\n",
    "#      and the quotient is negated if the signs of the operands are\n",
    "#      opposite */\n",
    "    quotient = q\n",
    "    if (dividend < 0):\n",
    "        remainder = -r;\n",
    "        if (divisor > 0):\n",
    "            quotient = -q;\n",
    "    else: # /* positive dividend */\n",
    "        remainder = r;\n",
    "        if (divisor < 0):\n",
    "            quotient = -q;\n",
    "    return quotient, remainder"
   ]
  },
  {
   "cell_type": "code",
   "execution_count": 18,
   "id": "335c5104",
   "metadata": {
    "hidden": true
   },
   "outputs": [
    {
     "data": {
      "text/plain": [
       "(-2, 0)"
      ]
     },
     "execution_count": 18,
     "metadata": {},
     "output_type": "execute_result"
    }
   ],
   "source": [
    "signed_divide(-4, 2)"
   ]
  },
  {
   "cell_type": "markdown",
   "id": "0fbee268",
   "metadata": {
    "heading_collapsed": true
   },
   "source": [
    "#### two versions of the same code"
   ]
  },
  {
   "cell_type": "code",
   "execution_count": null,
   "id": "68dbd41b",
   "metadata": {
    "hidden": true
   },
   "outputs": [],
   "source": [
    "for i in range(num_bits):\n",
    "    bit       = (numerator & 0x80000000) >> 31 # see above\n",
    "    numerator = (numerator << 1) & 0xFFFFFFFF  # see above\n",
    "    remainder = (remainder << 1) | bit         # see above\n",
    "    t         = remainder - divisor            # \n",
    "    q         = t >= 0                         # check if result of subtraction has gone below zero *2\n",
    "    quotient  = (quotient << 1) | q            # shift up quotient and store negated highest bit of previous division\n",
    "    if (q): remainder = t                      # if remainder >= divisor: remainder = t"
   ]
  },
  {
   "cell_type": "code",
   "execution_count": null,
   "id": "d680a669",
   "metadata": {
    "hidden": true
   },
   "outputs": [],
   "source": [
    "for i in range(num_bits):\n",
    "    bit       = (numerator & 0x80000000) >> 31 # see above\n",
    "    numerator = (numerator << 1) & 0xFFFFFFFF  # see above\n",
    "    remainder = (remainder << 1) | bit         # see above\n",
    "    if remainder >= divisor:                   #\n",
    "        remainder = remainder - divisor        # \n",
    "        quotient  = (quotient << 1) | 1        # shift in a 1\n",
    "    else:                                      #\n",
    "        quotient  = (quotient << 1)            # shift in a zero"
   ]
  },
  {
   "cell_type": "markdown",
   "id": "d39b45dd",
   "metadata": {},
   "source": [
    "#### Apply this to my problem"
   ]
  },
  {
   "cell_type": "markdown",
   "id": "112d0289",
   "metadata": {},
   "source": [
    "The trick we're using here is that in binary long division, producing the result is an iterative process, which takes the bits of the numerator one after the other from most to least significant bit. This bit is then shifted into the least significant bit of the remainder, which is then compared to the divisor, and depending on the result, a one or a zero is shifted into the quotient, while the remainder is reduced back down below the divisor by subtraction.  \n",
    "We only need a single bit from the numerator for each iteration, and we just so happen to shift the numerator up by one bit each time we want to check the next power of two. "
   ]
  },
  {
   "cell_type": "markdown",
   "id": "6db3293b",
   "metadata": {},
   "source": [
    "We continuously divide a power of two $x := 2^{n}$ by a constant multiple of ten $d := 10^{m}$; $x+1 := \\frac{x}{d}$  \n",
    "Each iteration is the same as taking the first number, and dividing it by $d = 10^{mi}$ where $i$ is the $i$th number.  \n",
    "By saving the intermediate results from the previous iteration, this division can be masively accelerated, since we can continue the division where it left off.  "
   ]
  },
  {
   "cell_type": "code",
   "execution_count": 2,
   "id": "90b49705",
   "metadata": {},
   "outputs": [],
   "source": [
    "def ContinueDivision(Quotient, Remainder, Divisor, Bit):\n",
    "    Remainder = (Remainder << 1) | Bit\n",
    "    if Remainder >= Divisor:\n",
    "        Remainder = Remainder - Divisor\n",
    "        Quotient  = (Quotient << 1) | 1\n",
    "    else:\n",
    "        Quotient  = (Quotient << 1)\n",
    "    return Quotient, Remainder"
   ]
  },
  {
   "cell_type": "code",
   "execution_count": 33,
   "id": "55e2ea9b",
   "metadata": {},
   "outputs": [],
   "source": [
    "def ContinueDivision(Quotient, Remainder, Divisor):\n",
    "    Remainder = (Remainder << 1) # Shift in a zero, since we know that the last bit of 2^x will always be a zero.\n",
    "    if Remainder >= Divisor:\n",
    "        Remainder = Remainder - Divisor\n",
    "        Quotient  = (Quotient << 1) | 1\n",
    "    else:\n",
    "        Quotient  = (Quotient << 1)\n",
    "    return Quotient, Remainder"
   ]
  },
  {
   "cell_type": "code",
   "execution_count": 3,
   "id": "5ef8ba06",
   "metadata": {},
   "outputs": [],
   "source": [
    "Number  = 1<<100000; Number, bin(Number)\n",
    "Number2 = Number << 1"
   ]
  },
  {
   "cell_type": "code",
   "execution_count": 4,
   "id": "36aa4be1",
   "metadata": {},
   "outputs": [],
   "source": [
    "Divisor = 10**399; # Divisor, bin(Divisor)"
   ]
  },
  {
   "cell_type": "code",
   "execution_count": 5,
   "id": "298eeea1",
   "metadata": {},
   "outputs": [],
   "source": [
    "Quotient  = Number  // Divisor; # Quotient, bin(Quotient)\n",
    "Quotient2 = Number2 // Divisor"
   ]
  },
  {
   "cell_type": "code",
   "execution_count": 6,
   "id": "88e6674b",
   "metadata": {},
   "outputs": [],
   "source": [
    "Remainder = Number % Divisor; # Remainder, bin(Remainder)\n",
    "Remainder2 = Number2 % Divisor"
   ]
  },
  {
   "cell_type": "code",
   "execution_count": 35,
   "id": "43263e8d",
   "metadata": {},
   "outputs": [
    {
     "data": {
      "text/plain": [
       "True"
      ]
     },
     "execution_count": 35,
     "metadata": {},
     "output_type": "execute_result"
    }
   ],
   "source": [
    "# We can use this to accelerate our algorithm\n",
    "((Number // Divisor) // Divisor) == Number // (Divisor * Divisor)"
   ]
  },
  {
   "cell_type": "code",
   "execution_count": 38,
   "id": "e02ec5b8",
   "metadata": {},
   "outputs": [
    {
     "data": {
      "text/plain": [
       "True"
      ]
     },
     "execution_count": 38,
     "metadata": {},
     "output_type": "execute_result"
    }
   ],
   "source": [
    "Quotient2 == ContinueDivision(Quotient, Remainder, Divisor)[0]"
   ]
  },
  {
   "cell_type": "code",
   "execution_count": 52,
   "id": "26dc2dd3",
   "metadata": {},
   "outputs": [
    {
     "name": "stdout",
     "output_type": "stream",
     "text": [
      "410 µs ± 1.43 µs per loop (mean ± std. dev. of 7 runs, 1,000 loops each)\n"
     ]
    }
   ],
   "source": [
    "%%timeit\n",
    "Q, R = Number // Divisor, Number % Divisor"
   ]
  },
  {
   "cell_type": "code",
   "execution_count": 9,
   "id": "060f396f",
   "metadata": {},
   "outputs": [],
   "source": [
    "Q, R = ContinueDivision(Quotient, Remainder, Divisor)"
   ]
  },
  {
   "cell_type": "code",
   "execution_count": null,
   "id": "ed5eefd8",
   "metadata": {},
   "outputs": [],
   "source": [
    "def count_sixes_naive(number, divisor):\n",
    "    six_counter     = 0\n",
    "    six_counter_max = 0\n",
    "    while number > 0:\n",
    "        digit    = number % 10\n",
    "        number //= divisor\n",
    "        if digit == 6:\n",
    "            six_counter    += 1\n",
    "            six_counter_max = max(six_counter_max, six_counter)\n",
    "        else:\n",
    "            six_counter = 0\n",
    "    return six_counter_max"
   ]
  },
  {
   "cell_type": "markdown",
   "id": "3f4e5faa",
   "metadata": {},
   "source": [
    "| $2^{i-1}$ | ${2^i}$ |\n",
    "|- | - |\n",
    "| - | $\\frac{2^i}{10^{399*1}} $ |\n",
    "| - | result 2 asdasdsd |\n",
    "| result 1 | result 2 |\n",
    "| result 1| - |"
   ]
  },
  {
   "cell_type": "code",
   "execution_count": 157,
   "id": "d64ef30b",
   "metadata": {},
   "outputs": [],
   "source": [
    "profiler = LineProfiler()\n",
    "@profiler\n",
    "def count_sixes_new(N, D, Cache):\n",
    "    SixCounter    = 0\n",
    "    SixCounterMax = 0\n",
    "    j = 0\n",
    "    while N > 0:\n",
    "        # TODO: Could divide first, which would allow us to remove the (j+1) from the divisor.\n",
    "        # TODO: use continued division for this as well? Or can't we just use the remainder instead of the number?\n",
    "        Digit = N % 10\n",
    "        if Digit == 6:\n",
    "            SixCounter   += 1\n",
    "            SixCounterMax = max(SixCounterMax, SixCounter)\n",
    "        else:\n",
    "            SixCounter = 0\n",
    "        try:\n",
    "            # take last bit from previous result of the current i (N),\n",
    "            #                 not current result of the previous i (Q),\n",
    "            Q, R = Cache[j]\n",
    "            R    = (R << 1) | (N & 1)\n",
    "            if R >= D:\n",
    "                R = R - D\n",
    "                N = (Q << 1) | 1\n",
    "            else:\n",
    "                N = (Q << 1)\n",
    "        except KeyError:\n",
    "            R = N  % D\n",
    "            N = N // D\n",
    "        Cache[j] = N, R\n",
    "        j += 1\n",
    "    return SixCounterMax"
   ]
  },
  {
   "cell_type": "code",
   "execution_count": 147,
   "id": "01b5967f",
   "metadata": {},
   "outputs": [],
   "source": [
    "profiler = LineProfiler()\n",
    "@profiler\n",
    "def count_sixes(Number, Divisors, Cache):\n",
    "    SixCounter    = 0\n",
    "    SixCounterMax = 0\n",
    "    j = 0\n",
    "    N = Number\n",
    "    while N > 0:\n",
    "        # TODO: Could divide first, which would allow us to remove the (j+1) from the divisor.\n",
    "        # TODO: use continued division for this as well?\n",
    "        Digit = N % 10\n",
    "        if Digit == 6:\n",
    "            SixCounter   += 1\n",
    "            SixCounterMax = max(SixCounterMax, SixCounter)\n",
    "        else:\n",
    "            SixCounter = 0\n",
    "        try:\n",
    "            # TODO: remove divisors from caching, and instead grab last bit from the numerator\n",
    "            D    = Divisors[j]\n",
    "            N, R = Cache[j]\n",
    "            # N, R = ContinueDivision(Q, R, D) # inline\n",
    "            R = (R << 1)\n",
    "            if R >= D:\n",
    "                R = R - D\n",
    "                N = (N << 1) | 1\n",
    "            else:\n",
    "                N = (N << 1)\n",
    "        except KeyError:\n",
    "            D = 10**(399*(j+1))\n",
    "            N = Number // D\n",
    "            R = Number  % D\n",
    "            Divisors[j] = D\n",
    "        Cache[j] = N, R\n",
    "        j += 1\n",
    "    return SixCounterMax"
   ]
  },
  {
   "cell_type": "code",
   "execution_count": null,
   "id": "4c774ca3",
   "metadata": {},
   "outputs": [],
   "source": [
    "# OLD"
   ]
  },
  {
   "cell_type": "code",
   "execution_count": 219,
   "id": "ba27ddcc",
   "metadata": {},
   "outputs": [
    {
     "name": "stdout",
     "output_type": "stream",
     "text": [
      "Building Caches...\n",
      "Done!\n",
      "CPU times: total: 21 s\n",
      "Wall time: 21 s\n"
     ]
    }
   ],
   "source": [
    "%%time\n",
    "i        = 400_000\n",
    "Number   = 1<<(i - 1)\n",
    "print('Building Caches...')\n",
    "Divisors = {}\n",
    "Cache    = {}\n",
    "count_sixes(Number, Divisors, Cache)\n",
    "Number = Number << 1\n",
    "print('Done!')"
   ]
  },
  {
   "cell_type": "code",
   "execution_count": 220,
   "id": "d8b50414",
   "metadata": {},
   "outputs": [
    {
     "data": {
      "text/plain": [
       "302"
      ]
     },
     "execution_count": 220,
     "metadata": {},
     "output_type": "execute_result"
    }
   ],
   "source": [
    "len(Cache)"
   ]
  },
  {
   "cell_type": "code",
   "execution_count": 253,
   "id": "3bf2563c",
   "metadata": {},
   "outputs": [
    {
     "name": "stdout",
     "output_type": "stream",
     "text": [
      "CPU times: total: 15.6 ms\n",
      "Wall time: 16 ms\n"
     ]
    }
   ],
   "source": [
    "%%time\n",
    "count_sixes(Number, Divisors, Cache)\n",
    "i      += 1\n",
    "Number  = Number<<1"
   ]
  },
  {
   "cell_type": "code",
   "execution_count": 254,
   "id": "9d26b227",
   "metadata": {},
   "outputs": [],
   "source": [
    "# Verify cache\n",
    "assert Number == 1<<i\n",
    "assert len(Divisors) == len(Cache)\n",
    "assert Divisors[0] == 10**399\n",
    "assert (Number>>1) // Divisors[0] == Cache[0][0]\n",
    "assert (Number>>1)  % Divisors[0] == Cache[0][1]\n",
    "j = len(Cache) - 1\n",
    "assert (Number>>1) // Divisors[j] == Cache[j][0] == 0\n",
    "assert (Number>>1)  % Divisors[j] == Cache[j][1]\n",
    "assert j+1 not in Cache\n",
    "del j"
   ]
  },
  {
   "cell_type": "code",
   "execution_count": 151,
   "id": "876681db",
   "metadata": {},
   "outputs": [
    {
     "name": "stdout",
     "output_type": "stream",
     "text": [
      "Timer unit: 1e-07 s\n",
      "\n",
      "Total time: 0.0144448 s\n",
      "File: C:\\Users\\Florian\\AppData\\Local\\Temp\\ipykernel_4028\\2519841460.py\n",
      "Function: count_sixes at line 2\n",
      "\n",
      "Line #      Hits         Time  Per Hit   % Time  Line Contents\n",
      "==============================================================\n",
      "     2                                           @profiler\n",
      "     3                                           def count_sixes(Number, Divisors, Cache):\n",
      "     4         1          6.0      6.0      0.0      SixCounter    = 0\n",
      "     5         1          3.0      3.0      0.0      SixCounterMax = 0\n",
      "     6         1          2.0      2.0      0.0      j = 0\n",
      "     7         1          2.0      2.0      0.0      N = Number\n",
      "     8       303        857.0      2.8      0.6      while N > 0:\n",
      "     9                                                   # TODO: Could divide first, which would allow us to remove the (j+1) from the divisor.\n",
      "    10                                                   # TODO: use continued division for this as well?\n",
      "    11       302      62965.0    208.5     43.6          Digit = N % 10\n",
      "    12       302        840.0      2.8      0.6          if Digit == 6:\n",
      "    13        27         77.0      2.9      0.1              SixCounter   += 1\n",
      "    14        27        294.0     10.9      0.2              SixCounterMax = max(SixCounterMax, SixCounter)\n",
      "    15                                                   else:\n",
      "    16       275        641.0      2.3      0.4              SixCounter = 0\n",
      "    17       302        772.0      2.6      0.5          try:\n",
      "    18                                                       # TODO: remove divisors from caching, and instead grab last bit from the numerator\n",
      "    19       302       1305.0      4.3      0.9              D    = Divisors[j]\n",
      "    20       302       1996.0      6.6      1.4              N, R = Cache[j]\n",
      "    21                                                       # N, R = ContinueDivision(Q, R, D) # inline\n",
      "    22       302      27230.0     90.2     18.9              R = (R << 1)\n",
      "    23       302       1249.0      4.1      0.9              if R >= D:\n",
      "    24       148      16839.0    113.8     11.7                  R = R - D\n",
      "    25       148      14406.0     97.3     10.0                  N = (N << 1) | 1\n",
      "    26                                                       else:\n",
      "    27       154      10608.0     68.9      7.3                  N = (N << 1)\n",
      "    28                                                   except KeyError:\n",
      "    29                                                       D = 10**(399*(j+1))\n",
      "    30                                                       N = Number // D\n",
      "    31                                                       R = Number  % D\n",
      "    32                                                       Divisors[j] = D\n",
      "    33       302       3531.0     11.7      2.4          Cache[j] = N, R\n",
      "    34       302        817.0      2.7      0.6          j += 1\n",
      "    35         1          8.0      8.0      0.0      return SixCounterMax\n",
      "\n"
     ]
    }
   ],
   "source": [
    "profiler.print_stats()"
   ]
  },
  {
   "cell_type": "code",
   "execution_count": 164,
   "id": "ba6eadd9",
   "metadata": {},
   "outputs": [
    {
     "data": {
      "text/plain": [
       "True"
      ]
     },
     "execution_count": 164,
     "metadata": {},
     "output_type": "execute_result"
    }
   ],
   "source": [
    "Cache[300][0] == Cache2[300][0]"
   ]
  },
  {
   "cell_type": "code",
   "execution_count": null,
   "id": "cc468f36",
   "metadata": {},
   "outputs": [],
   "source": [
    "## NEW"
   ]
  },
  {
   "cell_type": "code",
   "execution_count": 153,
   "id": "69158e97",
   "metadata": {},
   "outputs": [
    {
     "name": "stdout",
     "output_type": "stream",
     "text": [
      "Building Cache...\n",
      "Done!\n",
      "CPU times: total: 297 ms\n",
      "Wall time: 278 ms\n"
     ]
    }
   ],
   "source": [
    "%%time\n",
    "i        = 400_000\n",
    "Number   = 1<<(i - 1)\n",
    "print('Building Cache...')\n",
    "Divisor = 10**399\n",
    "Cache2   = {}\n",
    "count_sixes_new(Number, Divisor, Cache2)\n",
    "Number = Number << 1\n",
    "print('Done!')"
   ]
  },
  {
   "cell_type": "code",
   "execution_count": 189,
   "id": "ed440ea5",
   "metadata": {},
   "outputs": [
    {
     "name": "stdout",
     "output_type": "stream",
     "text": [
      "CPU times: total: 15.6 ms\n",
      "Wall time: 9.97 ms\n"
     ]
    }
   ],
   "source": [
    "%%time\n",
    "count_sixes_new(Number, Divisor, Cache2)\n",
    "i      += 1\n",
    "Number  = Number<<1"
   ]
  },
  {
   "cell_type": "code",
   "execution_count": 156,
   "id": "7dbd7eab",
   "metadata": {},
   "outputs": [
    {
     "name": "stdout",
     "output_type": "stream",
     "text": [
      "Timer unit: 1e-07 s\n",
      "\n",
      "Total time: 0.272942 s\n",
      "File: C:\\Users\\Florian\\AppData\\Local\\Temp\\ipykernel_4028\\2359129038.py\n",
      "Function: count_sixes_new at line 2\n",
      "\n",
      "Line #      Hits         Time  Per Hit   % Time  Line Contents\n",
      "==============================================================\n",
      "     2                                           @profiler\n",
      "     3                                           def count_sixes_new(N, D, Cache):\n",
      "     4         1          9.0      9.0      0.0      SixCounter    = 0\n",
      "     5         1          3.0      3.0      0.0      SixCounterMax = 0\n",
      "     6         1          3.0      3.0      0.0      j = 0\n",
      "     7       303       1074.0      3.5      0.0      while N > 0:\n",
      "     8                                                   # TODO: Could divide first, which would allow us to remove the (j+1) from the divisor.\n",
      "     9                                                   # TODO: use continued division for this as well? Or can't we just use the remainder instead of the number?\n",
      "    10       302      70070.0    232.0      2.6          Digit = N % 10\n",
      "    11       302        974.0      3.2      0.0          if Digit == 6:\n",
      "    12        44        150.0      3.4      0.0              SixCounter   += 1\n",
      "    13        44        732.0     16.6      0.0              SixCounterMax = max(SixCounterMax, SixCounter)\n",
      "    14                                                   else:\n",
      "    15       258        723.0      2.8      0.0              SixCounter = 0\n",
      "    16       302       1014.0      3.4      0.0          try:\n",
      "    17                                                       # take last bit from previous result of the current i (N),\n",
      "    18                                                       #                 not current result of the previous i (Q),\n",
      "    19       302       3904.0     12.9      0.1              Q, R = Cache[j]\n",
      "    20                                                       R    = (R << 1) | (N & 1)\n",
      "    21                                                       if R >= D:\n",
      "    22                                                           R = R - D\n",
      "    23                                                           N = (Q << 1) | 1\n",
      "    24                                                       else:\n",
      "    25                                                           N = (Q << 1)\n",
      "    26       302       1703.0      5.6      0.1          except KeyError:\n",
      "    27       302    1330668.0   4406.2     48.8              R = N  % D\n",
      "    28       302    1315055.0   4354.5     48.2              N = N // D\n",
      "    29       302       2135.0      7.1      0.1          Cache[j] = N, R\n",
      "    30       302       1200.0      4.0      0.0          j += 1\n",
      "    31         1          4.0      4.0      0.0      return SixCounterMax\n",
      "\n"
     ]
    }
   ],
   "source": [
    "profiler.print_stats()"
   ]
  },
  {
   "cell_type": "code",
   "execution_count": 160,
   "id": "e14dd28f",
   "metadata": {},
   "outputs": [
    {
     "name": "stdout",
     "output_type": "stream",
     "text": [
      "Timer unit: 1e-07 s\n",
      "\n",
      "Total time: 0.0092632 s\n",
      "File: C:\\Users\\Florian\\AppData\\Local\\Temp\\ipykernel_4028\\2359129038.py\n",
      "Function: count_sixes_new at line 2\n",
      "\n",
      "Line #      Hits         Time  Per Hit   % Time  Line Contents\n",
      "==============================================================\n",
      "     2                                           @profiler\n",
      "     3                                           def count_sixes_new(N, D, Cache):\n",
      "     4         1          8.0      8.0      0.0      SixCounter    = 0\n",
      "     5         1          3.0      3.0      0.0      SixCounterMax = 0\n",
      "     6         1          5.0      5.0      0.0      j = 0\n",
      "     7       303        932.0      3.1      1.0      while N > 0:\n",
      "     8                                                   # TODO: Could divide first, which would allow us to remove the (j+1) from the divisor.\n",
      "     9                                                   # TODO: use continued division for this as well? Or can't we just use the remainder instead of the number?\n",
      "    10       302      63279.0    209.5     68.3          Digit = N % 10\n",
      "    11       302        896.0      3.0      1.0          if Digit == 6:\n",
      "    12        27         87.0      3.2      0.1              SixCounter   += 1\n",
      "    13        27        265.0      9.8      0.3              SixCounterMax = max(SixCounterMax, SixCounter)\n",
      "    14                                                   else:\n",
      "    15       275        642.0      2.3      0.7              SixCounter = 0\n",
      "    16       302        744.0      2.5      0.8          try:\n",
      "    17                                                       # take last bit from previous result of the current i (N),\n",
      "    18                                                       #                 not current result of the previous i (Q),\n",
      "    19       302       2342.0      7.8      2.5              Q, R = Cache[j]\n",
      "    20       302       1547.0      5.1      1.7              R    = (R << 1) | (N & 1)\n",
      "    21       302        871.0      2.9      0.9              if R >= D:\n",
      "    22       148        562.0      3.8      0.6                  R = R - D\n",
      "    23       148       9523.0     64.3     10.3                  N = (Q << 1) | 1\n",
      "    24                                                       else:\n",
      "    25       154       8511.0     55.3      9.2                  N = (Q << 1)\n",
      "    26                                                   except KeyError:\n",
      "    27                                                       R = N  % D\n",
      "    28                                                       N = N // D\n",
      "    29       302       1574.0      5.2      1.7          Cache[j] = N, R\n",
      "    30       302        827.0      2.7      0.9          j += 1\n",
      "    31         1         14.0     14.0      0.0      return SixCounterMax\n",
      "\n"
     ]
    }
   ],
   "source": [
    "profiler.print_stats()"
   ]
  },
  {
   "cell_type": "code",
   "execution_count": 190,
   "id": "18b62e96",
   "metadata": {},
   "outputs": [],
   "source": [
    "# Verify cache\n",
    "assert Number  == 1<<i\n",
    "assert Divisor == 10**399\n",
    "assert (Number>>1) // Divisor == Cache2[0][0]\n",
    "assert (Number>>1)  % Divisor == Cache2[0][1]\n",
    "j            = len(Cache2) - 1\n",
    "j0thDivision = (Number>>1) // (10**(399*(j  )))\n",
    "j1thDivision = (Number>>1) // (10**(399*(j+1)))\n",
    "assert j0thDivision != 0\n",
    "assert j1thDivision           == Cache2[j][0] == 0\n",
    "assert j0thDivision % Divisor == Cache2[j][1]\n",
    "assert j+1 not in Cache\n",
    "del j, j0thDivision, j1thDivision"
   ]
  },
  {
   "cell_type": "code",
   "execution_count": null,
   "id": "0c68a176",
   "metadata": {},
   "outputs": [],
   "source": []
  },
  {
   "cell_type": "code",
   "execution_count": null,
   "id": "0c8a4b23",
   "metadata": {},
   "outputs": [],
   "source": []
  },
  {
   "cell_type": "code",
   "execution_count": null,
   "id": "7d3ecea8",
   "metadata": {},
   "outputs": [],
   "source": []
  },
  {
   "cell_type": "code",
   "execution_count": null,
   "id": "74b07ec4",
   "metadata": {},
   "outputs": [],
   "source": []
  },
  {
   "cell_type": "code",
   "execution_count": null,
   "id": "b55f89f0",
   "metadata": {},
   "outputs": [],
   "source": []
  },
  {
   "cell_type": "code",
   "execution_count": null,
   "id": "583f4983",
   "metadata": {},
   "outputs": [],
   "source": [
    "Cache = {}"
   ]
  },
  {
   "cell_type": "code",
   "execution_count": 68,
   "id": "b8025986",
   "metadata": {},
   "outputs": [
    {
     "data": {
      "text/plain": [
       "True"
      ]
     },
     "execution_count": 68,
     "metadata": {},
     "output_type": "execute_result"
    }
   ],
   "source": [
    "Number << 1 == 1<<100_001"
   ]
  },
  {
   "cell_type": "code",
   "execution_count": 143,
   "id": "c4aae04d",
   "metadata": {},
   "outputs": [
    {
     "name": "stdout",
     "output_type": "stream",
     "text": [
      "2\n",
      "7\n",
      "3\n",
      "0\n",
      "9\n",
      "7\n",
      "1\n",
      "3\n",
      "4\n",
      "4\n",
      "6\n",
      "5\n",
      "2\n",
      "7\n",
      "8\n",
      "9\n",
      "3\n",
      "3\n",
      "3\n",
      "8\n",
      "7\n",
      "5\n",
      "6\n",
      "6\n",
      "0\n",
      "2\n",
      "9\n",
      "7\n",
      "0\n",
      "1\n",
      "7\n",
      "4\n",
      "3\n",
      "5\n",
      "6\n",
      "2\n",
      "1\n",
      "4\n",
      "9\n",
      "8\n",
      "3\n",
      "6\n",
      "7\n",
      "0\n",
      "6\n",
      "4\n",
      "4\n",
      "5\n",
      "9\n",
      "3\n",
      "8\n",
      "2\n",
      "7\n",
      "7\n",
      "6\n",
      "4\n",
      "7\n",
      "0\n",
      "3\n",
      "5\n",
      "5\n",
      "2\n",
      "6\n",
      "2\n",
      "9\n",
      "2\n",
      "3\n",
      "3\n",
      "9\n",
      "5\n",
      "6\n",
      "5\n",
      "3\n",
      "8\n",
      "1\n",
      "5\n"
     ]
    }
   ],
   "source": [
    "# %%time\n",
    "Number = Number << 1\n",
    "N = Number\n",
    "i = 0\n",
    "while N > 0:\n",
    "    Digit   = N % 10\n",
    "    print(Digit)\n",
    "    Divisor = Ten[i]\n",
    "    if i in Cache:\n",
    "        Q, R = Cache[i]\n",
    "        N, R = ContinueDivision(Q, R, Divisor)\n",
    "    else:\n",
    "        print('Cache miss!')\n",
    "        N = Number // Divisor\n",
    "        R = Number % Divisor\n",
    "    Cache[i] = (N, R)\n",
    "    i += 1"
   ]
  },
  {
   "cell_type": "code",
   "execution_count": 86,
   "id": "6a4082c7",
   "metadata": {},
   "outputs": [
    {
     "data": {
      "text/plain": [
       "True"
      ]
     },
     "execution_count": 86,
     "metadata": {},
     "output_type": "execute_result"
    }
   ],
   "source": [
    "Number // Ten[1] == Cache[1][0]"
   ]
  },
  {
   "cell_type": "code",
   "execution_count": 34,
   "id": "cd841d98",
   "metadata": {},
   "outputs": [],
   "source": [
    "zr = (zr << 1)\n",
    "if zr >= y:\n",
    "    zr = zr - y\n",
    "    z  = (z << 1) | 1\n",
    "else:\n",
    "    z  = (z << 1)"
   ]
  },
  {
   "cell_type": "code",
   "execution_count": null,
   "id": "33d0f7e0",
   "metadata": {},
   "outputs": [],
   "source": [
    "for i in range(num_bits):\n",
    "    bit       = (numerator & 0x80000000) >> 31 # see above\n",
    "    numerator = (numerator << 1) & 0xFFFFFFFF  # see above\n",
    "    remainder = (remainder << 1) | bit         # see above\n",
    "    if remainder >= divisor:\n",
    "        remainder = remainder - divisor            # \n",
    "        quotient  = (quotient << 1) | 1            # shift in a 1\n",
    "    else:\n",
    "        quotient  = (quotient << 1)                # shift in a zero"
   ]
  },
  {
   "cell_type": "code",
   "execution_count": 35,
   "id": "ee093ace",
   "metadata": {},
   "outputs": [
    {
     "data": {
      "text/plain": [
       "(507060240091291760598, 6812821504)"
      ]
     },
     "execution_count": 35,
     "metadata": {},
     "output_type": "execute_result"
    }
   ],
   "source": [
    "z, zr"
   ]
  },
  {
   "cell_type": "code",
   "execution_count": 37,
   "id": "2795dae4",
   "metadata": {},
   "outputs": [
    {
     "data": {
      "text/plain": [
       "507060240091291760598"
      ]
     },
     "execution_count": 37,
     "metadata": {},
     "output_type": "execute_result"
    }
   ],
   "source": [
    "(1<<102) // (10**10)"
   ]
  },
  {
   "cell_type": "code",
   "execution_count": 40,
   "id": "2912f3ed",
   "metadata": {},
   "outputs": [
    {
     "data": {
      "text/plain": [
       "'0b1011110011100101000010000110010010'"
      ]
     },
     "execution_count": 40,
     "metadata": {},
     "output_type": "execute_result"
    }
   ],
   "source": [
    "bin((1<<100) // (10**10) // (10**10))"
   ]
  },
  {
   "cell_type": "code",
   "execution_count": 41,
   "id": "2de34187",
   "metadata": {},
   "outputs": [
    {
     "data": {
      "text/plain": [
       "'0b10111100111001010000100001100100100'"
      ]
     },
     "execution_count": 41,
     "metadata": {},
     "output_type": "execute_result"
    }
   ],
   "source": [
    "bin((1<<101) // (10**10) // (10**10))"
   ]
  },
  {
   "cell_type": "code",
   "execution_count": null,
   "id": "41133693",
   "metadata": {},
   "outputs": [],
   "source": []
  },
  {
   "cell_type": "code",
   "execution_count": null,
   "id": "f0823f85",
   "metadata": {},
   "outputs": [],
   "source": []
  },
  {
   "cell_type": "code",
   "execution_count": null,
   "id": "c42ba5da",
   "metadata": {},
   "outputs": [],
   "source": []
  },
  {
   "cell_type": "code",
   "execution_count": null,
   "id": "5d896493",
   "metadata": {},
   "outputs": [],
   "source": []
  },
  {
   "cell_type": "code",
   "execution_count": null,
   "id": "068c4154",
   "metadata": {},
   "outputs": [],
   "source": []
  },
  {
   "cell_type": "code",
   "execution_count": null,
   "id": "f2f8cd1f",
   "metadata": {},
   "outputs": [],
   "source": []
  },
  {
   "cell_type": "code",
   "execution_count": null,
   "id": "c4ffae91",
   "metadata": {},
   "outputs": [],
   "source": []
  },
  {
   "cell_type": "code",
   "execution_count": null,
   "id": "c8fc7ec2",
   "metadata": {},
   "outputs": [],
   "source": []
  },
  {
   "cell_type": "code",
   "execution_count": null,
   "id": "3a13772b",
   "metadata": {},
   "outputs": [],
   "source": []
  },
  {
   "cell_type": "code",
   "execution_count": null,
   "id": "9bd5c51f",
   "metadata": {},
   "outputs": [],
   "source": []
  }
 ],
 "metadata": {
  "kernelspec": {
   "display_name": "Python 3 (ipykernel)",
   "language": "python",
   "name": "python3"
  },
  "language_info": {
   "codemirror_mode": {
    "name": "ipython",
    "version": 3
   },
   "file_extension": ".py",
   "mimetype": "text/x-python",
   "name": "python",
   "nbconvert_exporter": "python",
   "pygments_lexer": "ipython3",
   "version": "3.9.7"
  }
 },
 "nbformat": 4,
 "nbformat_minor": 5
}
