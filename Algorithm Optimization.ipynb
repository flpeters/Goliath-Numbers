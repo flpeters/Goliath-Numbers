{
 "cells": [
  {
   "cell_type": "code",
   "execution_count": 345,
   "id": "e7041222",
   "metadata": {},
   "outputs": [],
   "source": [
    "from math import log\n",
    "from line_profiler import LineProfiler"
   ]
  },
  {
   "cell_type": "code",
   "execution_count": 346,
   "id": "4d3be9c0",
   "metadata": {},
   "outputs": [],
   "source": [
    "%load_ext line_profiler"
   ]
  },
  {
   "cell_type": "markdown",
   "id": "909c590a",
   "metadata": {},
   "source": [
    "## Replace the divide instruction by multiply and shift, or adds and shifts"
   ]
  },
  {
   "cell_type": "markdown",
   "id": "1e57cf35",
   "metadata": {},
   "source": [
    "Source:  \n",
    "https://en.m.wikipedia.org/wiki/Division_algorithm#Division_by_a_constant    \n",
    "https://stackoverflow.com/questions/5558492/divide-by-10-using-bit-shifts  \n",
    "OEIS"
   ]
  },
  {
   "cell_type": "markdown",
   "id": "fc6d8c01",
   "metadata": {},
   "source": [
    "The OEIS sequences [A346495](https://oeis.org/A346495) and [A346496](https://oeis.org/A346496) are used for replacing division with multiplication via an approximation of the inverse of the divisor, if the computer supports multiplying two 32-bit numbers for a 64-bit result.  \n",
    "This is usually much faster than a division instruction because integer division is a very slow operation on most computers."
   ]
  },
  {
   "cell_type": "markdown",
   "id": "64b2f9fe",
   "metadata": {},
   "source": [
    "Smallest a(n) so that division by n can be performed by $$\\left\\lfloor\\frac{x}{n}\\right\\rfloor = \\frac{\\lfloor(x*a(n)\\rfloor}{2^{b(n)}}$$ for all $0 <= x < 2^{32}$. "
   ]
  },
  {
   "cell_type": "code",
   "execution_count": 1,
   "id": "45e4a113",
   "metadata": {},
   "outputs": [],
   "source": [
    "def power_of_two(n):\n",
    "    return n == (1<<(n.bit_length()-1))"
   ]
  },
  {
   "cell_type": "code",
   "execution_count": 2,
   "id": "5263549d",
   "metadata": {},
   "outputs": [],
   "source": [
    "def a(n):\n",
    "    Result = 1\n",
    "    if not power_of_two(n):\n",
    "        n_c = ((1<<32) - ((1<<32) % n)) - 1\n",
    "        b   = 1\n",
    "        while (1<<b) <= (n_c * ((n - 1) - (((1<<b) - 1) % n))):\n",
    "            b += 1\n",
    "        Result = ((1<<b) + (n - 1) - (((1<<b) - 1) % n)) // n\n",
    "    return Result"
   ]
  },
  {
   "cell_type": "code",
   "execution_count": 4,
   "id": "5a58a1f8",
   "metadata": {},
   "outputs": [],
   "source": [
    "def b(n):\n",
    "    Result = None\n",
    "    if power_of_two(n):\n",
    "        Result = n.bit_length() - 1\n",
    "    else:\n",
    "        n_c = ((1<<32) - ((1<<32) % n)) - 1\n",
    "        b   = 1\n",
    "        while (1<<b) <= (n_c * ((n - 1) - (((1<<b) - 1) % n))):\n",
    "            b += 1\n",
    "        Result = b\n",
    "    return Result"
   ]
  },
  {
   "cell_type": "code",
   "execution_count": 3,
   "id": "449a3fc6",
   "metadata": {},
   "outputs": [
    {
     "name": "stdout",
     "output_type": "stream",
     "text": [
      "[1, 1, 2863311531, 1, 3435973837, 2863311531, 4908534053, 1, 954437177, 3435973837, 3123612579, 2863311531, 1321528399, 4908534053, 2290649225, 1, 4042322161, 954437177, 7233629131, 3435973837, 6544712071, 3123612579, 2987803337, 2863311531, 1374389535]\n"
     ]
    }
   ],
   "source": [
    "print([a(n) for n in range(1, 26)])"
   ]
  },
  {
   "cell_type": "code",
   "execution_count": 15,
   "id": "b46c38df",
   "metadata": {},
   "outputs": [
    {
     "name": "stdout",
     "output_type": "stream",
     "text": [
      "[0, 1, 33, 2, 34, 34, 35, 3, 33, 35, 35, 35, 34, 36, 35, 4, 36, 34, 37, 36, 37, 36, 36, 36, 35]\n"
     ]
    }
   ],
   "source": [
    "print([b(n) for n in range(1, 26)])"
   ]
  },
  {
   "cell_type": "markdown",
   "id": "fe98db25",
   "metadata": {},
   "source": [
    "Here we compute both a and b at the same time."
   ]
  },
  {
   "cell_type": "code",
   "execution_count": 20,
   "id": "3c8d5a9b",
   "metadata": {},
   "outputs": [],
   "source": [
    "LIMIT     = 32\n",
    "BIT_LIMIT = 1<<LIMIT\n",
    "def seq(n):\n",
    "    A = 1\n",
    "    B = n.bit_length() - 1\n",
    "    j = n - 1\n",
    "    if not (n == (1<<B)):\n",
    "        k = (BIT_LIMIT - (BIT_LIMIT % n)) - 1\n",
    "        B   = 1\n",
    "        B2  = 1<<B\n",
    "        while B2 <= (k * (j - ((B2 - 1) % n))):\n",
    "            B += 1\n",
    "            B2 = B2<<1\n",
    "        A = (B2 + j - ((B2 - 1) % n)) // n\n",
    "    return (A, B)"
   ]
  },
  {
   "cell_type": "code",
   "execution_count": 19,
   "id": "25410933",
   "metadata": {},
   "outputs": [
    {
     "name": "stdout",
     "output_type": "stream",
     "text": [
      "[(1, 0), (1, 1), (2863311531, 33), (1, 2), (3435973837, 34), (2863311531, 34), (4908534053, 35), (1, 3), (954437177, 33), (3435973837, 35), (3123612579, 35), (2863311531, 35), (1321528399, 34), (4908534053, 36), (2290649225, 35), (1, 4), (4042322161, 36), (954437177, 34), (7233629131, 37), (3435973837, 36), (6544712071, 37), (3123612579, 36), (2987803337, 36), (2863311531, 36), (1374389535, 35)]\n"
     ]
    }
   ],
   "source": [
    "print([seq(n) for n in range(1, 26)])"
   ]
  },
  {
   "cell_type": "markdown",
   "id": "99c8d66f",
   "metadata": {
    "heading_collapsed": true
   },
   "source": [
    "### For our usecase, we would like to operate on numbers much larger than 32 or even 64 bits.  \n",
    "### Luckily there is another way to compute these \"magic numbers\"."
   ]
  },
  {
   "cell_type": "markdown",
   "id": "82c8236b",
   "metadata": {
    "hidden": true
   },
   "source": [
    "Source:  \n",
    "Hacker's delight page 218 (chapter 10–15 Simple Code in Python)"
   ]
  },
  {
   "cell_type": "code",
   "execution_count": 23,
   "id": "de7e8060",
   "metadata": {
    "hidden": true
   },
   "outputs": [],
   "source": [
    "def magicgu_slow(nmax, d):\n",
    "    dminus1      = d - 1\n",
    "    nc           = (nmax // d) * dminus1\n",
    "    search_range = 1 + (2 * nmax.bit_length())\n",
    "    for p in range(0, search_range):\n",
    "        q         = 1<<p\n",
    "        qminus1   = q - 1\n",
    "        remainder = (qminus1 % d)\n",
    "        if q > (nc * (dminus1 - remainder)):\n",
    "            m = ((q + dminus1) - remainder) // d\n",
    "            return (m, p)\n",
    "    raise Exception('Couldn\\'t find a solution, something is wrong.')"
   ]
  },
  {
   "cell_type": "markdown",
   "id": "6fdb6a33",
   "metadata": {
    "hidden": true
   },
   "source": [
    "Optimization:  \n",
    "Switching from a linear search to a binary search reduces the runtime for inputs `m, p = magicgu(1<<1_000_000, 10**399)` from 40 minutes to 0.08 seconds, taking just 24 iterations to converge on the correct value."
   ]
  },
  {
   "cell_type": "code",
   "execution_count": 24,
   "id": "807d4b7c",
   "metadata": {
    "hidden": true
   },
   "outputs": [],
   "source": [
    "def magicgu(nmax, d):\n",
    "    \"\"\"\n",
    "    Given the maximum value of the dividend nmax and the divisor d, returns a pair of integers:\n",
    "        the magic number m and a shift amount p.\n",
    "    To divide a dividend x by d, one multiplies x by m and then shifts the (full length) product right p bits.\n",
    "    This works because m / p will be very close to 1 / d, and p will be a power of two, making the divide a simple bit shift.\n",
    "    \"\"\"\n",
    "    dminus1 = d - 1\n",
    "    nc      = (nmax // d) * dminus1\n",
    "    lowest  = 0\n",
    "    highest = 1 + (2 * nmax.bit_length())\n",
    "    while lowest < highest:\n",
    "        p         = (highest + lowest) // 2\n",
    "        q         = 1<<p\n",
    "        qminus1   = q - 1\n",
    "        remainder = (qminus1 % d)\n",
    "        if q > (nc * (dminus1 - remainder)):\n",
    "            highest = p\n",
    "        else:\n",
    "            lowest  = p + 1\n",
    "    p         = (highest + lowest) // 2\n",
    "    q         = 1<<p\n",
    "    qminus1   = q - 1\n",
    "    remainder = (qminus1 % d)\n",
    "    m         = ((q + dminus1) - remainder) // d\n",
    "    return (m, p)"
   ]
  },
  {
   "cell_type": "markdown",
   "id": "4695c3be",
   "metadata": {
    "heading_collapsed": true,
    "hidden": true
   },
   "source": [
    "#### Example 1"
   ]
  },
  {
   "cell_type": "code",
   "execution_count": 42,
   "id": "c20e6c3e",
   "metadata": {
    "hidden": true
   },
   "outputs": [],
   "source": [
    "nmax = 1<<1_000_000\n",
    "d    = 10**399"
   ]
  },
  {
   "cell_type": "code",
   "execution_count": 44,
   "id": "fcf24f0c",
   "metadata": {
    "hidden": true
   },
   "outputs": [],
   "source": [
    "m, p = magicgu(nmax, d)"
   ]
  },
  {
   "cell_type": "code",
   "execution_count": 45,
   "id": "19f86f3f",
   "metadata": {
    "hidden": true
   },
   "outputs": [],
   "source": [
    "x = 1<<999_900"
   ]
  },
  {
   "cell_type": "code",
   "execution_count": 46,
   "id": "b51f9bb6",
   "metadata": {
    "hidden": true
   },
   "outputs": [],
   "source": [
    "assert x < nmax"
   ]
  },
  {
   "cell_type": "code",
   "execution_count": 47,
   "id": "14c2b2b0",
   "metadata": {
    "hidden": true
   },
   "outputs": [
    {
     "name": "stdout",
     "output_type": "stream",
     "text": [
      "4.37 ms ± 149 µs per loop (mean ± std. dev. of 7 runs, 100 loops each)\n"
     ]
    }
   ],
   "source": [
    "%%timeit\n",
    "(x * m) >> p"
   ]
  },
  {
   "cell_type": "code",
   "execution_count": 48,
   "id": "ed063154",
   "metadata": {
    "hidden": true
   },
   "outputs": [
    {
     "name": "stdout",
     "output_type": "stream",
     "text": [
      "3.02 ms ± 186 µs per loop (mean ± std. dev. of 7 runs, 100 loops each)\n"
     ]
    }
   ],
   "source": [
    "%%timeit\n",
    "x // d"
   ]
  },
  {
   "cell_type": "markdown",
   "id": "bd4d0fcf",
   "metadata": {
    "heading_collapsed": true,
    "hidden": true
   },
   "source": [
    "#### Example 2"
   ]
  },
  {
   "cell_type": "code",
   "execution_count": 36,
   "id": "4975078b",
   "metadata": {
    "hidden": true
   },
   "outputs": [],
   "source": [
    "nmax = 10**399\n",
    "d    = 10"
   ]
  },
  {
   "cell_type": "code",
   "execution_count": 37,
   "id": "03ae181a",
   "metadata": {
    "hidden": true
   },
   "outputs": [
    {
     "data": {
      "text/plain": [
       "(292957247209924852137075224890370171032692958681326960826984919130001827539839214697757948051204538105646676347303848625162902618953473698102408269423433879425259310757283275210972425883538122452847336119254634643499505917091533837488298906776482947295647220679792987618467923311462718229513113755678107850012507556042175979861246759917806100226846569645613245309343003296469005736181778637822676173,\n",
       " 1327)"
      ]
     },
     "execution_count": 37,
     "metadata": {},
     "output_type": "execute_result"
    }
   ],
   "source": [
    "m, p = magicgu(nmax, d); m, p"
   ]
  },
  {
   "cell_type": "code",
   "execution_count": 38,
   "id": "34f6e710",
   "metadata": {
    "hidden": true
   },
   "outputs": [],
   "source": [
    "# An example number we've come across in the algorithm we're trying to optimize.\n",
    "x = 675498068352129731964884062763533329144415921218630285019127698639680940044270154133162810213979906631608629547659877222303938885553947675194806514177810321278967470122934933377995913130368225534489724572693654861728928532250033597205506631158056720564410536312378792296760105033917922985829102352323964365789020903947560236392997251191841134769795404868939332473278193403660671793915429281166670196"
   ]
  },
  {
   "cell_type": "code",
   "execution_count": 39,
   "id": "dd8e6a41",
   "metadata": {
    "hidden": true
   },
   "outputs": [],
   "source": [
    "assert x < nmax"
   ]
  },
  {
   "cell_type": "code",
   "execution_count": 40,
   "id": "f59e8645",
   "metadata": {
    "hidden": true
   },
   "outputs": [
    {
     "name": "stdout",
     "output_type": "stream",
     "text": [
      "3.32 µs ± 105 ns per loop (mean ± std. dev. of 7 runs, 100,000 loops each)\n"
     ]
    }
   ],
   "source": [
    "%%timeit\n",
    "(x * m) >> p"
   ]
  },
  {
   "cell_type": "code",
   "execution_count": 41,
   "id": "53d2b896",
   "metadata": {
    "hidden": true
   },
   "outputs": [
    {
     "name": "stdout",
     "output_type": "stream",
     "text": [
      "268 ns ± 11.4 ns per loop (mean ± std. dev. of 7 runs, 1,000,000 loops each)\n"
     ]
    }
   ],
   "source": [
    "%%timeit\n",
    "x // 10"
   ]
  },
  {
   "cell_type": "markdown",
   "id": "7ac1bfab",
   "metadata": {
    "hidden": true
   },
   "source": [
    "#### Result"
   ]
  },
  {
   "cell_type": "markdown",
   "id": "327dd445",
   "metadata": {
    "hidden": true
   },
   "source": [
    "This works, but sadly it's not really faster than the usual division, even when the number we're dividing is close to the maximum (which makes the difference between the mult and shift version and the division version the smallest)."
   ]
  },
  {
   "cell_type": "markdown",
   "id": "453920a4",
   "metadata": {
    "heading_collapsed": true
   },
   "source": [
    "### If the divisor and the maximum size are fixed (which they are in our case), we can go another approach which even gets rid of the multiply instruction and instead does a bunch of adds and shifts  \n",
    "### Sadly this implementation again only works for 32 bit integers"
   ]
  },
  {
   "cell_type": "markdown",
   "id": "088b4a97",
   "metadata": {
    "hidden": true
   },
   "source": [
    "Source:  \n",
    "Hackers Delight (see above)"
   ]
  },
  {
   "cell_type": "code",
   "execution_count": 50,
   "id": "0783b428",
   "metadata": {
    "hidden": true
   },
   "outputs": [
    {
     "data": {
      "text/plain": [
       "(2, 11)"
      ]
     },
     "execution_count": 50,
     "metadata": {},
     "output_type": "execute_result"
    }
   ],
   "source": [
    "def divu10(n):\n",
    "    q  = (n >> 1) + (n >> 2)\n",
    "    q += (q >> 4)\n",
    "    q += (q >> 8)\n",
    "    q += (q >> 16)\n",
    "    q  = (q >> 3)\n",
    "    r  = n - (((q << 2) + q) << 1)\n",
    "    return q + (r > 9), r\n",
    "divu10(21)"
   ]
  },
  {
   "cell_type": "code",
   "execution_count": 51,
   "id": "f7ec5a29",
   "metadata": {
    "hidden": true
   },
   "outputs": [
    {
     "data": {
      "text/plain": [
       "2"
      ]
     },
     "execution_count": 51,
     "metadata": {},
     "output_type": "execute_result"
    }
   ],
   "source": [
    "def divu100(n):\n",
    "    q = (n >> 1) + (n >> 3) + (n >> 6) - (n >> 10) + (n >> 12) + (n >> 13) - (n >> 16)\n",
    "    q = q + (q >> 20)\n",
    "    q = q >> 6\n",
    "    r = n - q*100\n",
    "    return q + ((r + 28) >> 7)\n",
    "    # // return q + (r > 99)\n",
    "divu100(240)"
   ]
  },
  {
   "cell_type": "code",
   "execution_count": 52,
   "id": "edafdf85",
   "metadata": {
    "hidden": true
   },
   "outputs": [
    {
     "data": {
      "text/plain": [
       "3"
      ]
     },
     "execution_count": 52,
     "metadata": {},
     "output_type": "execute_result"
    }
   ],
   "source": [
    "def divu1000(n):\n",
    "    t = (n >> 7) + (n >> 8) + (n >> 12)\n",
    "    q = (n >> 1) + t + (n >> 15) + (t >> 11) + (t >> 14)\n",
    "    q = q >> 9\n",
    "    r = n - q*1000\n",
    "    return q + ((r + 24) >> 10)\n",
    "    # // return q + (r > 999)\n",
    "divu1000(3600)"
   ]
  },
  {
   "cell_type": "markdown",
   "id": "8390a034",
   "metadata": {
    "hidden": true
   },
   "source": [
    "This would need to be adapter to larger numbers, and could then be faster, but definitely wont be in python. Maybe try this when we have an implementation in C."
   ]
  },
  {
   "cell_type": "code",
   "execution_count": null,
   "id": "4e8f3663",
   "metadata": {
    "hidden": true
   },
   "outputs": [],
   "source": []
  },
  {
   "cell_type": "markdown",
   "id": "ada0373a",
   "metadata": {
    "heading_collapsed": true
   },
   "source": [
    "## Speed up modulo by using remainder instead of entire number"
   ]
  },
  {
   "cell_type": "markdown",
   "id": "df42531c",
   "metadata": {
    "hidden": true
   },
   "source": [
    "Testing if we can use the remainder of a division with a large multiple of 10 to speed up the computation of modulo 10."
   ]
  },
  {
   "cell_type": "markdown",
   "id": "530d31a0",
   "metadata": {
    "hidden": true
   },
   "source": [
    "NOTE: There seems to be something fishy going on with the last digit, depending on which exponent we choose. All exponents of two ending in 0 seem to be ending in 6 once calculated. All with 1 end with 2, all with 2 end with 4 and so on. Check this out later!"
   ]
  },
  {
   "cell_type": "code",
   "execution_count": 11,
   "id": "3d737f75",
   "metadata": {
    "hidden": true
   },
   "outputs": [],
   "source": [
    "N = 1<<1001"
   ]
  },
  {
   "cell_type": "code",
   "execution_count": 12,
   "id": "3695635f",
   "metadata": {
    "hidden": true
   },
   "outputs": [],
   "source": [
    "one = N % 10**1"
   ]
  },
  {
   "cell_type": "code",
   "execution_count": 13,
   "id": "e819cc58",
   "metadata": {
    "hidden": true
   },
   "outputs": [],
   "source": [
    "two = N % 10**2"
   ]
  },
  {
   "cell_type": "code",
   "execution_count": 14,
   "id": "08aaf4b4",
   "metadata": {
    "hidden": true
   },
   "outputs": [],
   "source": [
    "three = N % 10**3"
   ]
  },
  {
   "cell_type": "code",
   "execution_count": 15,
   "id": "ee519a91",
   "metadata": {
    "hidden": true
   },
   "outputs": [],
   "source": [
    "four = N % 10**4"
   ]
  },
  {
   "cell_type": "code",
   "execution_count": 16,
   "id": "e64f8371",
   "metadata": {
    "hidden": true
   },
   "outputs": [],
   "source": [
    "five = N % 10**5"
   ]
  },
  {
   "cell_type": "code",
   "execution_count": 17,
   "id": "f937ff4f",
   "metadata": {
    "hidden": true
   },
   "outputs": [],
   "source": [
    "six = N % 10**6"
   ]
  },
  {
   "cell_type": "code",
   "execution_count": 18,
   "id": "a3327e1f",
   "metadata": {
    "hidden": true
   },
   "outputs": [],
   "source": [
    "seven = N % 10**7"
   ]
  },
  {
   "cell_type": "code",
   "execution_count": 19,
   "id": "8c2bdcc1",
   "metadata": {
    "hidden": true
   },
   "outputs": [],
   "source": [
    "eight = N % 10**8"
   ]
  },
  {
   "cell_type": "code",
   "execution_count": 20,
   "id": "939505a9",
   "metadata": {
    "hidden": true
   },
   "outputs": [
    {
     "data": {
      "text/plain": [
       "(2, 52, 752, 8752, 38752, 138752, 6138752, 36138752)"
      ]
     },
     "execution_count": 20,
     "metadata": {},
     "output_type": "execute_result"
    }
   ],
   "source": [
    "one, two, three, four, five, six, seven, eight"
   ]
  },
  {
   "cell_type": "code",
   "execution_count": 122,
   "id": "2482e73d",
   "metadata": {
    "hidden": true
   },
   "outputs": [
    {
     "data": {
      "text/plain": [
       "42860344287450692837937001962400072422456192468221344297750015534814042044997444899727935152627834325103786916702125873007485811427692561743938310298794299215738271099296923941684298420249484567511816728612185899934327765069595070236662175784308251658284785910746168670641719326610497547348822672277504"
      ]
     },
     "execution_count": 122,
     "metadata": {},
     "output_type": "execute_result"
    }
   ],
   "source": [
    "N"
   ]
  },
  {
   "cell_type": "code",
   "execution_count": 123,
   "id": "4b39e776",
   "metadata": {
    "hidden": true
   },
   "outputs": [
    {
     "data": {
      "text/plain": [
       "42860344287450692837937001962400072422456192468221344297750015534814042044997444899727935152627834325103786916702125873007485811427692561743938310298794299215738271099296923941684298420249484567511816728612185899934327765069595070236662175784308251658284785910746168670641719326610497547348822672277504"
      ]
     },
     "execution_count": 123,
     "metadata": {},
     "output_type": "execute_result"
    }
   ],
   "source": [
    "N % 10**399"
   ]
  },
  {
   "cell_type": "markdown",
   "id": "d345f2eb",
   "metadata": {
    "hidden": true
   },
   "source": [
    "It seems like any time we do a `n mod 10**k`, we're really grabbing about the last k decimal digits of the number n. So if we then do a mod 10 afterwards on that value, we will get the result of n mod 10, without having to do the whole computation again.  \n",
    "With this realisation it's obvious that we can just take the modulo of the remainder instead of the entire number, saving massively on computation."
   ]
  },
  {
   "cell_type": "code",
   "execution_count": 209,
   "id": "c05c92fc",
   "metadata": {
    "hidden": true
   },
   "outputs": [],
   "source": [
    "profiler = LineProfiler()\n",
    "@profiler\n",
    "def count_sixes(N, D, Cache):\n",
    "    SixCounter    = 0\n",
    "    SixCounterMax = 0\n",
    "    j = 0\n",
    "    while N > 0:\n",
    "        # TODO: use continued division for this as well? Or can we just use the remainder instead of the number?\n",
    "        Digit = N % 10\n",
    "        if Digit == 6:\n",
    "            SixCounter   += 1\n",
    "            SixCounterMax = max(SixCounterMax, SixCounter)\n",
    "        else:\n",
    "            SixCounter = 0\n",
    "        try:\n",
    "            Q, R = Cache[j]\n",
    "            R    = (R << 1) | (N & 1)\n",
    "            if R >= D:\n",
    "                R = R - D\n",
    "                N = (Q << 1) | 1\n",
    "            else:\n",
    "                N = (Q << 1)\n",
    "        except KeyError:\n",
    "            R = N  % D\n",
    "            N = N // D\n",
    "        Cache[j] = N, R\n",
    "        j += 1\n",
    "    return SixCounterMax"
   ]
  },
  {
   "cell_type": "code",
   "execution_count": 213,
   "id": "a73ced89",
   "metadata": {
    "hidden": true
   },
   "outputs": [],
   "source": [
    "# This is the new version\n",
    "profiler = LineProfiler()\n",
    "@profiler\n",
    "def count_sixes(N, D, Cache):\n",
    "    SixCounter    = 0\n",
    "    SixCounterMax = 0\n",
    "    j = 0\n",
    "    while N > 0:\n",
    "        try:\n",
    "            Q, R = Cache[j]\n",
    "            R    = (R << 1) | (N & 1)\n",
    "            if R >= D:\n",
    "                R = R - D\n",
    "                N = (Q << 1) | 1\n",
    "            else:\n",
    "                N = (Q << 1)\n",
    "        except KeyError:\n",
    "            R = N  % D\n",
    "            N = N // D\n",
    "        Cache[j] = N, R\n",
    "        j += 1\n",
    "        \n",
    "        Digit = R % 10\n",
    "        if Digit == 6:\n",
    "            SixCounter   += 1\n",
    "            SixCounterMax = max(SixCounterMax, SixCounter)\n",
    "        else:\n",
    "            SixCounter = 0\n",
    "        \n",
    "    return SixCounterMax"
   ]
  },
  {
   "cell_type": "code",
   "execution_count": 214,
   "id": "116297e6",
   "metadata": {
    "hidden": true
   },
   "outputs": [
    {
     "name": "stdout",
     "output_type": "stream",
     "text": [
      "Building Cache...\n",
      "Done!\n",
      "CPU times: total: 31.2 ms\n",
      "Wall time: 18 ms\n"
     ]
    }
   ],
   "source": [
    "%%time\n",
    "i        = 100_000\n",
    "Number   = 1<<(i - 1)\n",
    "print('Building Cache...')\n",
    "Divisor = 10**399\n",
    "Cache   = {}\n",
    "count_sixes(Number, Divisor, Cache)\n",
    "Number = Number << 1\n",
    "print('Done!')"
   ]
  },
  {
   "cell_type": "code",
   "execution_count": 211,
   "id": "c4b40a2d",
   "metadata": {
    "hidden": true
   },
   "outputs": [
    {
     "name": "stdout",
     "output_type": "stream",
     "text": [
      "[2, 1, 2, 2, 1, 1, 2, 2, 2, 1, 2, 1, 2, 1, 2, 2, 1, 1, 2, 2, 2, 1, 2, 1, 3, 2, 1, 1, 2, 2, 1, 2, 1, 2, 1, 2, 2, 2, 1, 2, 1, 1, 1, 1, 2, 1, 2, 1, 2, 2, 2, 2, 2, 3, 1, 1, 1, 1, 1, 1, 2, 2, 3, 2, 3, 1, 2, 2, 2, 2, 2, 2, 2, 1, 2, 2, 2, 1, 6, 2, 2, 2, 2, 2, 1, 1, 2, 1, 1, 1, 3, 2, 2, 2, 1, 2, 2, 1, 1, 2, 1, 1, 2, 1, 2, 1, 1, 1, 1, 3, 1, 2, 1, 1, 2, 2, 2, 1, 1, 2, 2, 1, 1, 1, 2, 2, 2, 1, 2, 2, 3, 1, 1, 3, 2, 1, 2, 1, 1, 3, 2, 1, 2, 1, 2, 2, 1, 1, 2, 2, 2, 2, 2, 2, 2, 1, 2, 3, 2, 2, 1, 2, 3, 2, 2, 2, 1, 2, 1, 2, 2, 1, 1, 1, 3, 2, 1, 2, 1, 2, 2, 1, 3, 1, 1, 2, 2, 1, 2, 1, 3, 1, 1, 1, 1, 2, 2, 1, 2, 1, 1, 2, 2, 2, 1, 1, 2, 1, 2, 2, 1, 1, 1, 2, 1, 1, 2, 3, 2, 1, 2, 1, 1, 1, 1, 1, 2, 2, 2, 2, 2, 2, 2, 2, 1, 2, 2, 3, 2, 1, 1, 1, 2, 2, 2, 2, 1, 1, 2, 1, 2, 2, 1, 1, 1, 1, 2, 1, 2, 1, 2, 1, 2, 1, 1, 2, 3, 1, 1, 2, 2, 2, 1, 2, 2, 2, 1, 2, 2, 2, 1, 1, 2, 2, 1, 1, 1, 2, 2, 2, 2, 2, 1, 1, 2, 2, 3, 1, 1, 1, 3, 1, 2, 1, 2, 1, 2, 2, 1, 1, 1, 2, 2, 2, 2, 1, 1, 2, 4, 1, 1, 3, 1, 2, 1, 1, 1, 1, 3, 2, 1, 2, 2, 1, 1, 1, 2, 1, 2, 1, 2, 2, 3, 2, 3, 4, 1, 1, 1, 2, 1, 2, 1, 1, 2, 2, 1, 1, 1, 2, 1, 3, 1, 1, 2, 2, 1, 1, 2, 1, 1, 1, 1, 2, 1, 2, 2, 2, 2, 2, 1, 1, 1, 1, 1, 1, 2, 2, 2, 1, 2, 3, 2, 1, 2, 2, 2, 1, 1, 1, 2, 2, 2, 3, 2, 1, 1, 2, 2, 2, 1, 1, 1, 1, 2, 1, 1, 2, 2, 2, 2, 2, 1, 1, 2, 1, 1, 2, 1, 1, 2, 1, 1, 2, 2, 1, 2, 1, 2, 1, 2, 1, 1, 1, 2, 2, 1, 2, 1, 1, 1, 3, 2, 2, 1, 2, 1, 2, 2, 2, 1, 2, 1, 1, 2, 2, 2, 1, 1, 2, 2, 1, 3, 2, 3, 2, 2, 1, 2, 2, 1, 2, 1, 2, 2, 1, 2, 1, 1, 2, 1, 1, 1, 2, 1, 1, 1, 1, 3, 1, 3, 1, 1, 2, 1, 1, 1, 2, 4, 1, 2, 2, 2, 1, 2, 1, 2, 1, 1, 2, 2, 2, 1, 1, 1, 1, 2, 1, 1, 2, 1, 3, 1, 1, 2, 2, 1, 1, 1, 2, 2, 2, 2, 2, 2, 1, 2, 2, 2, 1, 1, 2, 2, 2, 2, 2, 1, 1, 1, 1, 2, 1, 1, 1, 2, 1, 2, 2, 1, 1, 2, 2, 1, 2, 1, 2, 3, 2, 1, 2, 2, 2, 1, 1, 2, 2, 2, 1, 1, 1, 1, 1, 2, 2, 2, 1, 1, 2, 1, 2, 2, 1, 3, 2, 1, 1, 2, 1, 1, 1, 1, 1, 2, 1, 1, 1, 1, 2, 2, 1, 1, 3, 1, 2, 1, 1, 1, 4, 3, 1, 1, 2, 2, 1, 3, 1, 1, 1, 1, 2, 3, 2, 2, 2, 2, 2, 2, 1, 1, 2, 1, 1, 2, 1, 2, 2, 3, 1, 1, 2, 1, 2, 2, 2, 2, 2, 2, 3, 2, 2, 1, 1, 1, 2, 1, 1, 1, 2, 1, 3, 2, 2, 1, 2, 2, 2, 2, 2, 2, 2, 1, 1, 1, 2, 2, 2, 1, 1, 2, 1, 3, 1, 1, 1, 2, 1, 1, 2, 2, 2, 2, 1, 2, 2, 2, 1, 1, 4, 2, 1, 2, 2, 2, 2, 1, 1, 1, 2, 2, 2, 1, 2, 1, 2, 2, 2, 2, 1, 2, 2, 1, 3, 2, 1, 2, 2, 2, 1, 1, 2, 2, 2, 2, 1, 3, 2, 3, 1, 1, 1, 1, 2, 3, 1, 3, 2, 2, 1, 2, 1, 2, 1, 2, 2, 1, 1, 1, 2, 1, 2, 2, 1, 1, 2, 2, 2, 3, 1, 2, 2, 2, 3, 1, 2, 2, 1, 2, 1, 2, 1, 2, 1, 1, 2, 2, 2, 2, 2, 2, 1, 2, 1, 2, 2, 2, 1, 3, 1, 1, 2, 1, 2, 1, 1, 2, 1, 1, 1, 1, 1, 2, 1, 2, 1, 2, 2, 2, 2, 1, 2, 1, 2, 1, 2, 2, 2, 1, 1, 2, 1, 2, 1, 2, 1, 1, 1, 1, 2, 1, 1, 2, 1, 2, 1, 1, 1, 2, 1, 1, 1, 1, 1, 3, 1, 1, 1, 1, 2, 1, 2, 1, 2, 2, 1, 1, 2, 3, 1, 1, 1, 2, 3, 1, 1, 1, 3, 3, 2, 1, 2, 2, 2, 2, 1, 2, 2, 1, 3, 1, 1, 1, 1, 1, 2, 1, 1, 1, 2, 1, 2, 3, 1, 2, 2, 2, 3, 1, 3, 1, 3, 2, 2, 2, 2, 2, 1, 1, 1, 1, 2, 2, 1, 2, 1, 3, 1, 1, 2, 2, 1, 2, 2, 1, 2, 1, 2, 2, 2, 2, 2, 3, 2, 2, 1, 2, 2, 2, 1, 2, 2, 1, 2, 1, 1, 1, 1, 3, 1, 2, 3, 2, 1, 1, 1, 2, 1, 2, 2, 2, 2, 1, 2, 1, 1, 1, 1, 2, 1, 1, 2]\n",
      "CPU times: total: 938 ms\n",
      "Wall time: 927 ms\n"
     ]
    }
   ],
   "source": [
    "%%time\n",
    "output = []\n",
    "for _ in range(1000):\n",
    "    output.append(count_sixes(Number, Divisor, Cache))\n",
    "    i      += 1\n",
    "    Number  = Number<<1\n",
    "print(output)"
   ]
  },
  {
   "cell_type": "code",
   "execution_count": 215,
   "id": "d01f1a7e",
   "metadata": {
    "hidden": true
   },
   "outputs": [
    {
     "name": "stdout",
     "output_type": "stream",
     "text": [
      "[2, 1, 2, 2, 1, 1, 2, 2, 2, 1, 2, 1, 2, 1, 2, 2, 1, 1, 2, 2, 2, 1, 2, 1, 3, 2, 1, 1, 2, 2, 1, 2, 1, 2, 1, 2, 2, 2, 1, 2, 1, 1, 1, 1, 2, 1, 2, 1, 2, 2, 2, 2, 2, 3, 1, 1, 1, 1, 1, 1, 2, 2, 3, 2, 3, 1, 2, 2, 2, 2, 2, 2, 2, 1, 2, 2, 2, 1, 6, 2, 2, 2, 2, 2, 1, 1, 2, 1, 1, 1, 3, 2, 2, 2, 1, 2, 2, 1, 1, 2, 1, 1, 2, 1, 2, 1, 1, 1, 1, 3, 1, 2, 1, 1, 2, 2, 2, 1, 1, 2, 2, 1, 1, 1, 2, 2, 2, 1, 2, 2, 3, 1, 1, 3, 2, 1, 2, 1, 1, 3, 2, 1, 2, 1, 2, 2, 1, 1, 2, 2, 2, 2, 2, 2, 2, 1, 2, 3, 2, 2, 1, 2, 3, 2, 2, 2, 1, 2, 1, 2, 2, 1, 1, 1, 3, 2, 1, 2, 1, 2, 2, 1, 3, 1, 1, 2, 2, 1, 2, 1, 3, 1, 1, 1, 1, 2, 2, 1, 2, 1, 1, 2, 2, 2, 1, 1, 2, 1, 2, 2, 1, 1, 1, 2, 1, 1, 2, 3, 2, 1, 2, 1, 1, 1, 1, 1, 2, 2, 2, 2, 2, 2, 2, 2, 1, 2, 2, 3, 2, 1, 1, 1, 2, 2, 2, 2, 1, 1, 2, 1, 2, 2, 1, 1, 1, 1, 2, 1, 2, 1, 2, 1, 2, 1, 1, 2, 3, 1, 1, 2, 2, 2, 1, 2, 2, 2, 1, 2, 2, 2, 1, 1, 2, 2, 1, 1, 1, 2, 2, 2, 2, 2, 1, 1, 2, 2, 3, 1, 1, 1, 3, 1, 2, 1, 2, 1, 2, 2, 1, 1, 1, 2, 2, 2, 2, 1, 1, 2, 4, 1, 1, 3, 1, 2, 1, 1, 1, 1, 3, 2, 1, 2, 2, 1, 1, 1, 2, 1, 2, 1, 2, 2, 3, 2, 3, 4, 1, 1, 1, 2, 1, 2, 1, 1, 2, 2, 1, 1, 1, 2, 1, 3, 1, 1, 2, 2, 1, 1, 2, 1, 1, 1, 1, 2, 1, 2, 2, 2, 2, 2, 1, 1, 1, 1, 1, 1, 2, 2, 2, 1, 2, 3, 2, 1, 2, 2, 2, 1, 1, 1, 2, 2, 2, 3, 2, 1, 1, 2, 2, 2, 1, 1, 1, 1, 2, 1, 1, 2, 2, 2, 2, 2, 1, 1, 2, 1, 1, 2, 1, 1, 2, 1, 1, 2, 2, 1, 2, 1, 2, 1, 2, 1, 1, 1, 2, 2, 1, 2, 1, 1, 1, 3, 2, 2, 1, 2, 1, 2, 2, 2, 1, 2, 1, 1, 2, 2, 2, 1, 1, 2, 2, 1, 3, 2, 3, 2, 2, 1, 2, 2, 1, 2, 1, 2, 2, 1, 2, 1, 1, 2, 1, 1, 1, 2, 1, 1, 1, 1, 3, 1, 3, 1, 1, 2, 1, 1, 1, 2, 4, 1, 2, 2, 2, 1, 2, 1, 2, 1, 1, 2, 2, 2, 1, 1, 1, 1, 2, 1, 1, 2, 1, 3, 1, 1, 2, 2, 1, 1, 1, 2, 2, 2, 2, 2, 2, 1, 2, 2, 2, 1, 1, 2, 2, 2, 2, 2, 1, 1, 1, 1, 2, 1, 1, 1, 2, 1, 2, 2, 1, 1, 2, 2, 1, 2, 1, 2, 3, 2, 1, 2, 2, 2, 1, 1, 2, 2, 2, 1, 1, 1, 1, 1, 2, 2, 2, 1, 1, 2, 1, 2, 2, 1, 3, 2, 1, 1, 2, 1, 1, 1, 1, 1, 2, 1, 1, 1, 1, 2, 2, 1, 1, 3, 1, 2, 1, 1, 1, 4, 3, 1, 1, 2, 2, 1, 3, 1, 1, 1, 1, 2, 3, 2, 2, 2, 2, 2, 2, 1, 1, 2, 1, 1, 2, 1, 2, 2, 3, 1, 1, 2, 1, 2, 2, 2, 2, 2, 2, 3, 2, 2, 1, 1, 1, 2, 1, 1, 1, 2, 1, 3, 2, 2, 1, 2, 2, 2, 2, 2, 2, 2, 1, 1, 1, 2, 2, 2, 1, 1, 2, 1, 3, 1, 1, 1, 2, 1, 1, 2, 2, 2, 2, 1, 2, 2, 2, 1, 1, 4, 2, 1, 2, 2, 2, 2, 1, 1, 1, 2, 2, 2, 1, 2, 1, 2, 2, 2, 2, 1, 2, 2, 1, 3, 2, 1, 2, 2, 2, 1, 1, 2, 2, 2, 2, 1, 3, 2, 3, 1, 1, 1, 1, 2, 3, 1, 3, 2, 2, 1, 2, 1, 2, 1, 2, 2, 1, 1, 1, 2, 1, 2, 2, 1, 1, 2, 2, 2, 3, 1, 2, 2, 2, 3, 1, 2, 2, 1, 2, 1, 2, 1, 2, 1, 1, 2, 2, 2, 2, 2, 2, 1, 2, 1, 2, 2, 2, 1, 3, 1, 1, 2, 1, 2, 1, 1, 2, 1, 1, 1, 1, 1, 2, 1, 2, 1, 2, 2, 2, 2, 1, 2, 1, 2, 1, 2, 2, 2, 1, 1, 2, 1, 2, 1, 2, 1, 1, 1, 1, 2, 1, 1, 2, 1, 2, 1, 1, 1, 2, 1, 1, 1, 1, 1, 3, 1, 1, 1, 1, 2, 1, 2, 1, 2, 2, 1, 1, 2, 3, 1, 1, 1, 2, 3, 1, 1, 1, 3, 3, 2, 1, 2, 2, 2, 2, 1, 2, 2, 1, 3, 1, 1, 1, 1, 1, 2, 1, 1, 1, 2, 1, 2, 3, 1, 2, 2, 2, 3, 1, 3, 1, 3, 2, 2, 2, 2, 2, 1, 1, 1, 1, 2, 2, 1, 2, 1, 3, 1, 1, 2, 2, 1, 2, 2, 1, 2, 1, 2, 2, 2, 2, 2, 3, 2, 2, 1, 2, 2, 2, 1, 2, 2, 1, 2, 1, 1, 1, 1, 3, 1, 2, 3, 2, 1, 1, 1, 2, 1, 2, 2, 2, 2, 1, 2, 1, 1, 1, 1, 2, 1, 1, 2]\n",
      "CPU times: total: 531 ms\n",
      "Wall time: 531 ms\n"
     ]
    }
   ],
   "source": [
    "%%time\n",
    "output = []\n",
    "for _ in range(1000):\n",
    "    output.append(count_sixes(Number, Divisor, Cache))\n",
    "    i      += 1\n",
    "    Number  = Number<<1\n",
    "print(output)"
   ]
  },
  {
   "cell_type": "code",
   "execution_count": null,
   "id": "aeb98f46",
   "metadata": {
    "hidden": true
   },
   "outputs": [],
   "source": []
  },
  {
   "cell_type": "code",
   "execution_count": 207,
   "id": "30fa451b",
   "metadata": {
    "hidden": true
   },
   "outputs": [
    {
     "data": {
      "text/plain": [
       "True"
      ]
     },
     "execution_count": 207,
     "metadata": {},
     "output_type": "execute_result"
    }
   ],
   "source": [
    "[2, 1, 2, 2, 1, 1, 2, 2, 2, 1, 2, 1, 2, 1, 2, 2, 1, 1, 2, 2, 2, 1, 2, 1, 3, 2, 1, 1, 2, 2, 1, 2, 1, 2, 1, 2, 2, 2, 1, 2, 1, 1, 1, 1, 2, 1, 2, 1, 2, 2, 2, 2, 2, 3, 1, 1, 1, 1, 1, 1, 2, 2, 3, 2, 3, 1, 2, 2, 2, 2, 2, 2, 2, 1, 2, 2, 2, 1, 6, 2, 2, 2, 2, 2, 1, 1, 2, 1, 1, 1, 3, 2, 2, 2, 1, 2, 2, 1, 1, 2, 1, 1, 2, 1, 2, 1, 1, 1, 1, 3, 1, 2, 1, 1, 2, 2, 2, 1, 1, 2, 2, 1, 1, 1, 2, 2, 2, 1, 2, 2, 3, 1, 1, 3, 2, 1, 2, 1, 1, 3, 2, 1, 2, 1, 2, 2, 1, 1, 2, 2, 2, 2, 2, 2, 2, 1, 2, 3, 2, 2, 1, 2, 3, 2, 2, 2, 1, 2, 1, 2, 2, 1, 1, 1, 3, 2, 1, 2, 1, 2, 2, 1, 3, 1, 1, 2, 2, 1, 2, 1, 3, 1, 1, 1, 1, 2, 2, 1, 2, 1, 1, 2, 2, 2, 1, 1, 2, 1, 2, 2, 1, 1, 1, 2, 1, 1, 2, 3, 2, 1, 2, 1, 1, 1, 1, 1, 2, 2, 2, 2, 2, 2, 2, 2, 1, 2, 2, 3, 2, 1, 1, 1, 2, 2, 2, 2, 1, 1, 2, 1, 2, 2, 1, 1, 1, 1, 2, 1, 2, 1, 2, 1, 2, 1, 1, 2, 3, 1, 1, 2, 2, 2, 1, 2, 2, 2, 1, 2, 2, 2, 1, 1, 2, 2, 1, 1, 1, 2, 2, 2, 2, 2, 1, 1, 2, 2, 3, 1, 1, 1, 3, 1, 2, 1, 2, 1, 2, 2, 1, 1, 1, 2, 2, 2, 2, 1, 1, 2, 4, 1, 1, 3, 1, 2, 1, 1, 1, 1, 3, 2, 1, 2, 2, 1, 1, 1, 2, 1, 2, 1, 2, 2, 3, 2, 3, 4, 1, 1, 1, 2, 1, 2, 1, 1, 2, 2, 1, 1, 1, 2, 1, 3, 1, 1, 2, 2, 1, 1, 2, 1, 1, 1, 1, 2, 1, 2, 2, 2, 2, 2, 1, 1, 1, 1, 1, 1, 2, 2, 2, 1, 2, 3, 2, 1, 2, 2, 2, 1, 1, 1, 2, 2, 2, 3, 2, 1, 1, 2, 2, 2, 1, 1, 1, 1, 2, 1, 1, 2, 2, 2, 2, 2, 1, 1, 2, 1, 1, 2, 1, 1, 2, 1, 1, 2, 2, 1, 2, 1, 2, 1, 2, 1, 1, 1, 2, 2, 1, 2, 1, 1, 1, 3, 2, 2, 1, 2, 1, 2, 2, 2, 1, 2, 1, 1, 2, 2, 2, 1, 1, 2, 2, 1, 3, 2, 3, 2, 2, 1, 2, 2, 1, 2, 1, 2, 2, 1, 2, 1, 1, 2, 1, 1, 1, 2, 1, 1, 1, 1, 3, 1, 3, 1, 1, 2, 1, 1, 1, 2, 4, 1, 2, 2, 2, 1, 2, 1, 2, 1, 1, 2, 2, 2, 1, 1, 1, 1, 2, 1, 1, 2, 1, 3, 1, 1, 2, 2, 1, 1, 1, 2, 2, 2, 2, 2, 2, 1, 2, 2, 2, 1, 1, 2, 2, 2, 2, 2, 1, 1, 1, 1, 2, 1, 1, 1, 2, 1, 2, 2, 1, 1, 2, 2, 1, 2, 1, 2, 3, 2, 1, 2, 2, 2, 1, 1, 2, 2, 2, 1, 1, 1, 1, 1, 2, 2, 2, 1, 1, 2, 1, 2, 2, 1, 3, 2, 1, 1, 2, 1, 1, 1, 1, 1, 2, 1, 1, 1, 1, 2, 2, 1, 1, 3, 1, 2, 1, 1, 1, 4, 3, 1, 1, 2, 2, 1, 3, 1, 1, 1, 1, 2, 3, 2, 2, 2, 2, 2, 2, 1, 1, 2, 1, 1, 2, 1, 2, 2, 3, 1, 1, 2, 1, 2, 2, 2, 2, 2, 2, 3, 2, 2, 1, 1, 1, 2, 1, 1, 1, 2, 1, 3, 2, 2, 1, 2, 2, 2, 2, 2, 2, 2, 1, 1, 1, 2, 2, 2, 1, 1, 2, 1, 3, 1, 1, 1, 2, 1, 1, 2, 2, 2, 2, 1, 2, 2, 2, 1, 1, 4, 2, 1, 2, 2, 2, 2, 1, 1, 1, 2, 2, 2, 1, 2, 1, 2, 2, 2, 2, 1, 2, 2, 1, 3, 2, 1, 2, 2, 2, 1, 1, 2, 2, 2, 2, 1, 3, 2, 3, 1, 1, 1, 1, 2, 3, 1, 3, 2, 2, 1, 2, 1, 2, 1, 2, 2, 1, 1, 1, 2, 1, 2, 2, 1, 1, 2, 2, 2, 3, 1, 2, 2, 2, 3, 1, 2, 2, 1, 2, 1, 2, 1, 2, 1, 1, 2, 2, 2, 2, 2, 2, 1, 2, 1, 2, 2, 2, 1, 3, 1, 1, 2, 1, 2, 1, 1, 2, 1, 1, 1, 1, 1, 2, 1, 2, 1, 2, 2, 2, 2, 1, 2, 1, 2, 1, 2, 2, 2, 1, 1, 2, 1, 2, 1, 2, 1, 1, 1, 1, 2, 1, 1, 2, 1, 2, 1, 1, 1, 2, 1, 1, 1, 1, 1, 3, 1, 1, 1, 1, 2, 1, 2, 1, 2, 2, 1, 1, 2, 3, 1, 1, 1, 2, 3, 1, 1, 1, 3, 3, 2, 1, 2, 2, 2, 2, 1, 2, 2, 1, 3, 1, 1, 1, 1, 1, 2, 1, 1, 1, 2, 1, 2, 3, 1, 2, 2, 2, 3, 1, 3, 1, 3, 2, 2, 2, 2, 2, 1, 1, 1, 1, 2, 2, 1, 2, 1, 3, 1, 1, 2, 2, 1, 2, 2, 1, 2, 1, 2, 2, 2, 2, 2, 3, 2, 2, 1, 2, 2, 2, 1, 2, 2, 1, 2, 1, 1, 1, 1, 3, 1, 2, 3, 2, 1, 1, 1, 2, 1, 2, 2, 2, 2, 1, 2, 1, 1, 1, 1, 2, 1, 1, 2] == [2, 1, 2, 2, 1, 1, 2, 2, 2, 1, 2, 1, 2, 1, 2, 2, 1, 1, 2, 2, 2, 1, 2, 1, 3, 2, 1, 1, 2, 2, 1, 2, 1, 2, 1, 2, 2, 2, 1, 2, 1, 1, 1, 1, 2, 1, 2, 1, 2, 2, 2, 2, 2, 3, 1, 1, 1, 1, 1, 1, 2, 2, 3, 2, 3, 1, 2, 2, 2, 2, 2, 2, 2, 1, 2, 2, 2, 1, 6, 2, 2, 2, 2, 2, 1, 1, 2, 1, 1, 1, 3, 2, 2, 2, 1, 2, 2, 1, 1, 2, 1, 1, 2, 1, 2, 1, 1, 1, 1, 3, 1, 2, 1, 1, 2, 2, 2, 1, 1, 2, 2, 1, 1, 1, 2, 2, 2, 1, 2, 2, 3, 1, 1, 3, 2, 1, 2, 1, 1, 3, 2, 1, 2, 1, 2, 2, 1, 1, 2, 2, 2, 2, 2, 2, 2, 1, 2, 3, 2, 2, 1, 2, 3, 2, 2, 2, 1, 2, 1, 2, 2, 1, 1, 1, 3, 2, 1, 2, 1, 2, 2, 1, 3, 1, 1, 2, 2, 1, 2, 1, 3, 1, 1, 1, 1, 2, 2, 1, 2, 1, 1, 2, 2, 2, 1, 1, 2, 1, 2, 2, 1, 1, 1, 2, 1, 1, 2, 3, 2, 1, 2, 1, 1, 1, 1, 1, 2, 2, 2, 2, 2, 2, 2, 2, 1, 2, 2, 3, 2, 1, 1, 1, 2, 2, 2, 2, 1, 1, 2, 1, 2, 2, 1, 1, 1, 1, 2, 1, 2, 1, 2, 1, 2, 1, 1, 2, 3, 1, 1, 2, 2, 2, 1, 2, 2, 2, 1, 2, 2, 2, 1, 1, 2, 2, 1, 1, 1, 2, 2, 2, 2, 2, 1, 1, 2, 2, 3, 1, 1, 1, 3, 1, 2, 1, 2, 1, 2, 2, 1, 1, 1, 2, 2, 2, 2, 1, 1, 2, 4, 1, 1, 3, 1, 2, 1, 1, 1, 1, 3, 2, 1, 2, 2, 1, 1, 1, 2, 1, 2, 1, 2, 2, 3, 2, 3, 4, 1, 1, 1, 2, 1, 2, 1, 1, 2, 2, 1, 1, 1, 2, 1, 3, 1, 1, 2, 2, 1, 1, 2, 1, 1, 1, 1, 2, 1, 2, 2, 2, 2, 2, 1, 1, 1, 1, 1, 1, 2, 2, 2, 1, 2, 3, 2, 1, 2, 2, 2, 1, 1, 1, 2, 2, 2, 3, 2, 1, 1, 2, 2, 2, 1, 1, 1, 1, 2, 1, 1, 2, 2, 2, 2, 2, 1, 1, 2, 1, 1, 2, 1, 1, 2, 1, 1, 2, 2, 1, 2, 1, 2, 1, 2, 1, 1, 1, 2, 2, 1, 2, 1, 1, 1, 3, 2, 2, 1, 2, 1, 2, 2, 2, 1, 2, 1, 1, 2, 2, 2, 1, 1, 2, 2, 1, 3, 2, 3, 2, 2, 1, 2, 2, 1, 2, 1, 2, 2, 1, 2, 1, 1, 2, 1, 1, 1, 2, 1, 1, 1, 1, 3, 1, 3, 1, 1, 2, 1, 1, 1, 2, 4, 1, 2, 2, 2, 1, 2, 1, 2, 1, 1, 2, 2, 2, 1, 1, 1, 1, 2, 1, 1, 2, 1, 3, 1, 1, 2, 2, 1, 1, 1, 2, 2, 2, 2, 2, 2, 1, 2, 2, 2, 1, 1, 2, 2, 2, 2, 2, 1, 1, 1, 1, 2, 1, 1, 1, 2, 1, 2, 2, 1, 1, 2, 2, 1, 2, 1, 2, 3, 2, 1, 2, 2, 2, 1, 1, 2, 2, 2, 1, 1, 1, 1, 1, 2, 2, 2, 1, 1, 2, 1, 2, 2, 1, 3, 2, 1, 1, 2, 1, 1, 1, 1, 1, 2, 1, 1, 1, 1, 2, 2, 1, 1, 3, 1, 2, 1, 1, 1, 4, 3, 1, 1, 2, 2, 1, 3, 1, 1, 1, 1, 2, 3, 2, 2, 2, 2, 2, 2, 1, 1, 2, 1, 1, 2, 1, 2, 2, 3, 1, 1, 2, 1, 2, 2, 2, 2, 2, 2, 3, 2, 2, 1, 1, 1, 2, 1, 1, 1, 2, 1, 3, 2, 2, 1, 2, 2, 2, 2, 2, 2, 2, 1, 1, 1, 2, 2, 2, 1, 1, 2, 1, 3, 1, 1, 1, 2, 1, 1, 2, 2, 2, 2, 1, 2, 2, 2, 1, 1, 4, 2, 1, 2, 2, 2, 2, 1, 1, 1, 2, 2, 2, 1, 2, 1, 2, 2, 2, 2, 1, 2, 2, 1, 3, 2, 1, 2, 2, 2, 1, 1, 2, 2, 2, 2, 1, 3, 2, 3, 1, 1, 1, 1, 2, 3, 1, 3, 2, 2, 1, 2, 1, 2, 1, 2, 2, 1, 1, 1, 2, 1, 2, 2, 1, 1, 2, 2, 2, 3, 1, 2, 2, 2, 3, 1, 2, 2, 1, 2, 1, 2, 1, 2, 1, 1, 2, 2, 2, 2, 2, 2, 1, 2, 1, 2, 2, 2, 1, 3, 1, 1, 2, 1, 2, 1, 1, 2, 1, 1, 1, 1, 1, 2, 1, 2, 1, 2, 2, 2, 2, 1, 2, 1, 2, 1, 2, 2, 2, 1, 1, 2, 1, 2, 1, 2, 1, 1, 1, 1, 2, 1, 1, 2, 1, 2, 1, 1, 1, 2, 1, 1, 1, 1, 1, 3, 1, 1, 1, 1, 2, 1, 2, 1, 2, 2, 1, 1, 2, 3, 1, 1, 1, 2, 3, 1, 1, 1, 3, 3, 2, 1, 2, 2, 2, 2, 1, 2, 2, 1, 3, 1, 1, 1, 1, 1, 2, 1, 1, 1, 2, 1, 2, 3, 1, 2, 2, 2, 3, 1, 3, 1, 3, 2, 2, 2, 2, 2, 1, 1, 1, 1, 2, 2, 1, 2, 1, 3, 1, 1, 2, 2, 1, 2, 2, 1, 2, 1, 2, 2, 2, 2, 2, 3, 2, 2, 1, 2, 2, 2, 1, 2, 2, 1, 2, 1, 1, 1, 1, 3, 1, 2, 3, 2, 1, 1, 1, 2, 1, 2, 2, 2, 2, 1, 2, 1, 1, 1, 1, 2, 1, 1, 2]"
   ]
  },
  {
   "cell_type": "code",
   "execution_count": null,
   "id": "6fc469c9",
   "metadata": {
    "hidden": true
   },
   "outputs": [],
   "source": []
  },
  {
   "cell_type": "code",
   "execution_count": 212,
   "id": "46781e27",
   "metadata": {
    "hidden": true
   },
   "outputs": [
    {
     "name": "stdout",
     "output_type": "stream",
     "text": [
      "Timer unit: 1e-07 s\n",
      "\n",
      "Total time: 0.7823 s\n",
      "File: C:\\Users\\Florian\\AppData\\Local\\Temp\\ipykernel_16104\\356962432.py\n",
      "Function: count_sixes at line 2\n",
      "\n",
      "Line #      Hits         Time  Per Hit   % Time  Line Contents\n",
      "==============================================================\n",
      "     2                                           @profiler\n",
      "     3                                           def count_sixes(N, D, Cache):\n",
      "     4      1001       2489.0      2.5      0.0      SixCounter    = 0\n",
      "     5      1001       2437.0      2.4      0.0      SixCounterMax = 0\n",
      "     6      1001       2445.0      2.4      0.0      j = 0\n",
      "     7     77342     190859.0      2.5      2.4      while N > 0:\n",
      "     8                                                   # TODO: use continued division for this as well? Or can we just use the remainder instead of the number?\n",
      "     9     76341    4213638.0     55.2     53.9          Digit = N % 10\n",
      "    10     76341     188286.0      2.5      2.4          if Digit == 6:\n",
      "    11      7925      21975.0      2.8      0.3              SixCounter   += 1\n",
      "    12      7925      35430.0      4.5      0.5              SixCounterMax = max(SixCounterMax, SixCounter)\n",
      "    13                                                   else:\n",
      "    14     68416     151814.0      2.2      1.9              SixCounter = 0\n",
      "    15     76341     181691.0      2.4      2.3          try:\n",
      "    16     76341     277656.0      3.6      3.5              Q, R = Cache[j]\n",
      "    17     76264     328502.0      4.3      4.2              R    = (R << 1) | (N & 1)\n",
      "    18     76264     203579.0      2.7      2.6              if R >= D:\n",
      "    19     37555     127724.0      3.4      1.6                  R = R - D\n",
      "    20     37555     682596.0     18.2      8.7                  N = (Q << 1) | 1\n",
      "    21                                                       else:\n",
      "    22     38709     568181.0     14.7      7.3                  N = (Q << 1)\n",
      "    23        77        556.0      7.2      0.0          except KeyError:\n",
      "    24        77      86757.0   1126.7      1.1              R = N  % D\n",
      "    25        77      81299.0   1055.8      1.0              N = N // D\n",
      "    26     76341     285985.0      3.7      3.7          Cache[j] = N, R\n",
      "    27     76341     186402.0      2.4      2.4          j += 1\n",
      "    28      1001       2698.0      2.7      0.0      return SixCounterMax\n",
      "\n"
     ]
    }
   ],
   "source": [
    "profiler.print_stats()"
   ]
  },
  {
   "cell_type": "code",
   "execution_count": 216,
   "id": "f25b2ecf",
   "metadata": {
    "hidden": true
   },
   "outputs": [
    {
     "name": "stdout",
     "output_type": "stream",
     "text": [
      "Timer unit: 1e-07 s\n",
      "\n",
      "Total time: 0.388465 s\n",
      "File: C:\\Users\\Florian\\AppData\\Local\\Temp\\ipykernel_16104\\3149308276.py\n",
      "Function: count_sixes at line 2\n",
      "\n",
      "Line #      Hits         Time  Per Hit   % Time  Line Contents\n",
      "==============================================================\n",
      "     2                                           @profiler\n",
      "     3                                           def count_sixes(N, D, Cache):\n",
      "     4      1001       2521.0      2.5      0.1      SixCounter    = 0\n",
      "     5      1001       2312.0      2.3      0.1      SixCounterMax = 0\n",
      "     6      1001       2215.0      2.2      0.1      j = 0\n",
      "     7     77342     194824.0      2.5      5.0      while N > 0:\n",
      "     8     76341     157660.0      2.1      4.1          try:\n",
      "     9     76341     265909.0      3.5      6.8              Q, R = Cache[j]\n",
      "    10     76264     315681.0      4.1      8.1              R    = (R << 1) | (N & 1)\n",
      "    11     76264     196525.0      2.6      5.1              if R >= D:\n",
      "    12     37555     124209.0      3.3      3.2                  R = R - D\n",
      "    13     37555     677981.0     18.1     17.5                  N = (Q << 1) | 1\n",
      "    14                                                       else:\n",
      "    15     38709     567920.0     14.7     14.6                  N = (Q << 1)\n",
      "    16        77        388.0      5.0      0.0          except KeyError:\n",
      "    17        77      87816.0   1140.5      2.3              R = N  % D\n",
      "    18        77      83535.0   1084.9      2.2              N = N // D\n",
      "    19     76341     277401.0      3.6      7.1          Cache[j] = N, R\n",
      "    20     76341     201734.0      2.6      5.2          j += 1\n",
      "    21                                                   \n",
      "    22     76341     314715.0      4.1      8.1          Digit = R % 10\n",
      "    23     76341     202558.0      2.7      5.2          if Digit == 6:\n",
      "    24      7925      22448.0      2.8      0.6              SixCounter   += 1\n",
      "    25      7925      34297.0      4.3      0.9              SixCounterMax = max(SixCounterMax, SixCounter)\n",
      "    26                                                   else:\n",
      "    27     68416     149130.0      2.2      3.8              SixCounter = 0\n",
      "    28                                                   \n",
      "    29      1001       2871.0      2.9      0.1      return SixCounterMax\n",
      "\n"
     ]
    }
   ],
   "source": [
    "profiler.print_stats()"
   ]
  },
  {
   "cell_type": "markdown",
   "id": "2eb32ae7",
   "metadata": {
    "heading_collapsed": true
   },
   "source": [
    "## Improve Candidate selection"
   ]
  },
  {
   "cell_type": "markdown",
   "id": "24e084ce",
   "metadata": {
    "hidden": true
   },
   "source": [
    "So far we're checking every 399th digit of the number for a six, and if we find five such sixes in a row anywhere in the number, we declare the number a candidate for more thorough checking. This works very good and has given us a massive speedup already. However since the numbers are growing bigger and bigger, the chance of finding a candidate in this way also go up. At the start the probability was about 0.3%, but now it's become over 2%. This is not ideal since the thorough check is very expensive, and we want to do as little of them as possible.  \n",
    "To reduce the likelyhood of detecting a candidate, we can simply check more digits. The more digits we check, the slower we progress however.  \n",
    "What we've done here is to check more digits, but only if we've already detected 5 sixes in the usual way. On the fast pass this is only a single branch more whenever we hit a six, and on the slow pass, we now just start checking k digits between the 4th and 5th segment where we have already found the sixes at the start and end. All of these digits need to be sixes in order to be a goliath number, so a single non six immediately stops our search, and we condinue with taking large strides through the digits of the number."
   ]
  },
  {
   "cell_type": "code",
   "execution_count": 149,
   "id": "113cccd1",
   "metadata": {
    "hidden": true
   },
   "outputs": [],
   "source": [
    "def count_sixes_old(N, D, Cache):\n",
    "    SixCounter    = 0\n",
    "    SixCounterMax = 0\n",
    "    j = 0\n",
    "    while N > 0:\n",
    "        try:\n",
    "            Q, R = Cache[j]\n",
    "            R    = (R << 1) | (N & 1)\n",
    "            if R >= D:\n",
    "                R = R - D\n",
    "                N = (Q << 1) | 1\n",
    "            else:\n",
    "                N = (Q << 1)\n",
    "        except KeyError:\n",
    "            R = N  % D\n",
    "            N = N // D\n",
    "        Cache[j] = N, R\n",
    "        j += 1\n",
    "        \n",
    "        Digit = R % 10\n",
    "        if Digit == 6:\n",
    "            SixCounter   += 1\n",
    "            SixCounterMax = max(SixCounterMax, SixCounter)\n",
    "        else:\n",
    "            SixCounter = 0\n",
    "        \n",
    "    return SixCounterMax"
   ]
  },
  {
   "cell_type": "code",
   "execution_count": 151,
   "id": "cca01995",
   "metadata": {
    "hidden": true
   },
   "outputs": [],
   "source": [
    "profiler = LineProfiler()\n",
    "@profiler\n",
    "def count_sixes(N, D, Cache, k=1):\n",
    "    SixCounter    = 0\n",
    "    SixCounterMax = 0\n",
    "    j = 0\n",
    "    while N > 0:\n",
    "        try:\n",
    "            Q, R = Cache[j]\n",
    "            R    = (R << 1) | (N & 1)\n",
    "            if R >= D:\n",
    "                R = R - D\n",
    "                N = (Q << 1) | 1\n",
    "            else:\n",
    "                N = (Q << 1)\n",
    "        except KeyError:\n",
    "            R = N  % D\n",
    "            N = N // D\n",
    "        Cache[j] = N, R\n",
    "        \n",
    "        Digit = R % 10\n",
    "        if Digit == 6:\n",
    "            SixCounter += 1\n",
    "            if SixCounter == 5:\n",
    "                # Go back and run a more expensive check to reduce likelyhood of selecting (wrong) candidates.\n",
    "                # If this is a goliath number, then this needs to now be all sixes.\n",
    "                R = (Cache[j-1][1]) // 10 # We already know the last digit is a six, so skip it.\n",
    "                for _ in range(k):\n",
    "                    Digit = R % 10\n",
    "                    if Digit == 6:\n",
    "                        R = R // 10\n",
    "                    else:\n",
    "                        SixCounter = 1 # Set to one because the digit here at j is actually a 6.\n",
    "                        break\n",
    "            SixCounterMax = max(SixCounterMax, SixCounter) # This is not in the else block to support k = 0\n",
    "        else:\n",
    "            SixCounter = 0\n",
    "        j += 1\n",
    "    return SixCounterMax"
   ]
  },
  {
   "cell_type": "code",
   "execution_count": 54,
   "id": "f75b0a77",
   "metadata": {
    "hidden": true
   },
   "outputs": [
    {
     "name": "stdout",
     "output_type": "stream",
     "text": [
      "Building Cache...\n",
      "1\n",
      "Done!\n",
      "CPU times: total: 15.6 ms\n",
      "Wall time: 17.1 ms\n"
     ]
    }
   ],
   "source": [
    "%%time\n",
    "i        = 100_000\n",
    "Divisor = 10**399"
   ]
  },
  {
   "cell_type": "code",
   "execution_count": 66,
   "id": "a6b22fb4",
   "metadata": {
    "hidden": true
   },
   "outputs": [],
   "source": [
    "G = int('666'*666)"
   ]
  },
  {
   "cell_type": "code",
   "execution_count": 153,
   "id": "1ddb0a67",
   "metadata": {
    "hidden": true
   },
   "outputs": [
    {
     "name": "stdout",
     "output_type": "stream",
     "text": [
      "CPU times: total: 3.3 s\n",
      "Wall time: 3.3 s\n"
     ]
    },
    {
     "data": {
      "text/plain": [
       "4"
      ]
     },
     "execution_count": 153,
     "metadata": {},
     "output_type": "execute_result"
    }
   ],
   "source": [
    "%%time\n",
    "i      = 1_400_052\n",
    "Number = 1<<(i)\n",
    "count_sixes(Number, Divisor, {}, k=2)"
   ]
  },
  {
   "cell_type": "code",
   "execution_count": 154,
   "id": "b61428ee",
   "metadata": {
    "hidden": true
   },
   "outputs": [
    {
     "data": {
      "text/plain": [
       "5"
      ]
     },
     "execution_count": 154,
     "metadata": {},
     "output_type": "execute_result"
    }
   ],
   "source": [
    "count_sixes_old(Number, Divisor, {})"
   ]
  },
  {
   "cell_type": "markdown",
   "id": "4c9f6877",
   "metadata": {
    "heading_collapsed": true
   },
   "source": [
    "## Only store the last bit of each number, and the remainder?"
   ]
  },
  {
   "cell_type": "markdown",
   "id": "fa97a964",
   "metadata": {
    "hidden": true
   },
   "source": [
    "Currently, for each step we take through the 399 size chunks of the number, we're storing the entire number left at that point, as well as the remainder. This is already a red flag, since if our cache is p segments long, that means that the very last segment (the very beginning of the number) is stored p times. The p-1th segment is stored p-1 times and so on, essentially creating a huge triangle if we were to visualise the data.  \n",
    "When we look at the algorithm, we really only need the remainder and the last bit of the previous number. Even when we miss the cache, we have a pretty good idea of what the next number should be. Do some more testing, but a new segment added to the cache should always be a zero at first, and some remainder. "
   ]
  },
  {
   "cell_type": "code",
   "execution_count": 423,
   "id": "4942d1c7",
   "metadata": {
    "hidden": true
   },
   "outputs": [],
   "source": [
    "def count_sixes_old(N, D, Cache, k=1):\n",
    "    SixCounter    = 0\n",
    "    SixCounterMax = 0\n",
    "    j = 0\n",
    "    while N > 0:\n",
    "        try:\n",
    "            Q, R = Cache[j]\n",
    "            R    = (R << 1) | (N & 1)\n",
    "            if R >= D:\n",
    "                R = R - D\n",
    "                N = (Q << 1) | 1\n",
    "            else:\n",
    "                N = (Q << 1)\n",
    "        except KeyError:\n",
    "            R = N  % D\n",
    "            N = N // D\n",
    "        Cache[j] = N, R\n",
    "        \n",
    "        Digit = R % 10\n",
    "        if Digit == 6:\n",
    "            SixCounter += 1\n",
    "            if SixCounter == 5:\n",
    "                R = (Cache[j-1][1]) // 10\n",
    "                for _ in range(k):\n",
    "                    Digit = R % 10\n",
    "                    if Digit == 6:\n",
    "                        R = R // 10\n",
    "                    else:\n",
    "                        SixCounter = 1\n",
    "                        break\n",
    "            SixCounterMax = max(SixCounterMax, SixCounter)\n",
    "        else:\n",
    "            SixCounter = 0\n",
    "        j += 1\n",
    "    return SixCounterMax"
   ]
  },
  {
   "cell_type": "code",
   "execution_count": 424,
   "id": "02c1b6fe",
   "metadata": {
    "hidden": true
   },
   "outputs": [],
   "source": [
    "def RebuildCacheOld(LastNumber):\n",
    "    \"\"\"If the cache gets corrupted, use this to rebuild it.\n",
    "    Be warned, this can take multiple seconds!\"\"\"\n",
    "    Cache = {}\n",
    "    i      = LastNumber\n",
    "    Number = 1<<(i - 1)\n",
    "    N = Number\n",
    "    D = 10**399\n",
    "    j = 0\n",
    "    while N > 0:\n",
    "        R = N  % D\n",
    "        N = N // D\n",
    "        Cache[j] = N, R\n",
    "        j += 1\n",
    "    return i, (Number<<1), D, Cache"
   ]
  },
  {
   "cell_type": "code",
   "execution_count": 425,
   "id": "6030bbf7",
   "metadata": {
    "hidden": true
   },
   "outputs": [],
   "source": [
    "def VerifyCacheOld(i, Number, Divisor, Cache):\n",
    "    'If all of these checks pass, then it should be fine to use these values to continue the search.'\n",
    "    assert Number  == 1<<i\n",
    "    assert Divisor == 10**399\n",
    "    assert (Number>>1) // Divisor == Cache[0][0]\n",
    "    assert (Number>>1)  % Divisor == Cache[0][1]\n",
    "    j            = len(Cache) - 1\n",
    "    j0thDivision = (Number>>1) // (10**(399*(j  )))\n",
    "    j1thDivision = (Number>>1) // (10**(399*(j+1)))\n",
    "    assert j0thDivision != 0\n",
    "    assert j0thDivision           == Cache[j-1][0]\n",
    "    assert j1thDivision           == Cache[j][0] == 0\n",
    "    assert j0thDivision % Divisor == Cache[j][1]\n",
    "    assert j+1 not in Cache"
   ]
  },
  {
   "cell_type": "code",
   "execution_count": 428,
   "id": "c7b8afdd",
   "metadata": {
    "hidden": true
   },
   "outputs": [],
   "source": [
    "def RebuildCache(LastNumber):\n",
    "    \"\"\"If the cache gets corrupted, use this to rebuild it.\n",
    "    Be warned, this can take multiple seconds!\"\"\"\n",
    "    i = LastNumber\n",
    "    N = 1<<(i - 1)\n",
    "    D = 10**399\n",
    "    # j = 0\n",
    "    Cache = []\n",
    "    while N > 0:\n",
    "        R = N  % D\n",
    "        N = N // D\n",
    "        Cache.append(R)\n",
    "        # Cache[j] = R\n",
    "        # j += 1\n",
    "    return i, D, Cache"
   ]
  },
  {
   "cell_type": "code",
   "execution_count": 429,
   "id": "4cc1a5c8",
   "metadata": {
    "hidden": true
   },
   "outputs": [],
   "source": [
    "def VerifyCache(i, Divisor, Cache):\n",
    "    'If all of these checks pass, then it should be fine to use these values to continue the search.'\n",
    "    Number = 1<<(i - 1)\n",
    "    assert Divisor == 10**399\n",
    "    assert Number % Divisor == Cache[0]\n",
    "    j            = len(Cache) - 1\n",
    "    j0thDivision = Number // (10**(399*(j  )))\n",
    "    j1thDivision = Number // (10**(399*(j+1)))\n",
    "    assert j0thDivision != 0\n",
    "    assert j1thDivision == 0\n",
    "    assert j0thDivision % Divisor == Cache[j]\n",
    "    assert Cache[-1] != 0"
   ]
  },
  {
   "cell_type": "markdown",
   "id": "44602d89",
   "metadata": {
    "hidden": true
   },
   "source": [
    "We iterate until N is no longer larger than 0, which means that at the last step, N will have to have been 0 for the loop to end.  \n",
    "Let's say it is, then it can either be already in the cache, or it can be missing from the cache. In the case where we have a cache hit, we will increase R as usual and then check if it's become larger than D or not. If it hasn't, then N doesn't change. Shifting a zero to the left doesn't change the number, so it's still a zero, and the loop ends.  \n",
    "If R has become larger than D, then we decrease R again, again shift the zero to the left, but now also \"and\" it with one. This means N is now 1, which means that the loop will continue.  \n",
    "We will now enter the case where we have a cache miss.  \n",
    "The new N and R are calculated by dividing the previous N, and taking the modulo of N respectively, each with the given Divisor. But we already know that the previous N must be a 1. Since D is larger than one, a floor division between 1 and D will always give 0 as the answer. Similarly, 1 % D will always give 1 as the answer.  \n",
    "This means the new N will be 0, and the new R will be 1, no matter what happened in the iteration before."
   ]
  },
  {
   "cell_type": "code",
   "execution_count": 437,
   "id": "9eccaff2",
   "metadata": {
    "hidden": true
   },
   "outputs": [],
   "source": [
    "# profiler = LineProfiler()\n",
    "# @profiler\n",
    "def count_sixes(D, Cache, k=1):\n",
    "    SixCounter    = 0\n",
    "    SixCounterMax = 0\n",
    "    N = 0\n",
    "    J = len(Cache)\n",
    "    for j in range(J):\n",
    "        R = (Cache[j] << 1) | N\n",
    "        if R >= D:\n",
    "            R = R - D\n",
    "            N = 1\n",
    "        else:\n",
    "            N = 0\n",
    "        Cache[j] = R\n",
    "        \n",
    "        Digit = R % 10\n",
    "        if Digit == 6:\n",
    "            SixCounter += 1\n",
    "            if SixCounter == 5:\n",
    "                R = (Cache[j-1]) // 10\n",
    "                for _ in range(k):\n",
    "                    Digit = R % 10\n",
    "                    if Digit == 6:\n",
    "                        R = R // 10\n",
    "                    else:\n",
    "                        SixCounter = 1\n",
    "                        break\n",
    "            SixCounterMax = max(SixCounterMax, SixCounter)\n",
    "        else:\n",
    "            SixCounter = 0\n",
    "    if N > 0:\n",
    "        # print('hi')\n",
    "        # Cache[J] = 1\n",
    "        Cache.append(1)\n",
    "    return SixCounterMax"
   ]
  },
  {
   "cell_type": "code",
   "execution_count": 447,
   "id": "4f3b4555",
   "metadata": {
    "hidden": true,
    "scrolled": true
   },
   "outputs": [
    {
     "name": "stdout",
     "output_type": "stream",
     "text": [
      "CPU times: total: 1.64 s\n",
      "Wall time: 1.64 s\n"
     ]
    }
   ],
   "source": [
    "%%time\n",
    "i, Number, Divisor, Cache = RebuildCacheOld(1_000_000)\n",
    "VerifyCacheOld(i, Number, Divisor, Cache)"
   ]
  },
  {
   "cell_type": "code",
   "execution_count": 448,
   "id": "cccf9c08",
   "metadata": {
    "hidden": true
   },
   "outputs": [
    {
     "name": "stdout",
     "output_type": "stream",
     "text": [
      "CPU times: total: 9.94 s\n",
      "Wall time: 9.96 s\n"
     ]
    }
   ],
   "source": [
    "%%time\n",
    "output = []\n",
    "for _ in range(1000):\n",
    "    output.append(count_sixes_old(Number, Divisor, Cache))\n",
    "    i      += 1\n",
    "    Number  = Number<<1"
   ]
  },
  {
   "cell_type": "code",
   "execution_count": null,
   "id": "6f8b086f",
   "metadata": {
    "hidden": true
   },
   "outputs": [],
   "source": [
    "# New"
   ]
  },
  {
   "cell_type": "code",
   "execution_count": 449,
   "id": "8a6c70fe",
   "metadata": {
    "hidden": true,
    "scrolled": true
   },
   "outputs": [
    {
     "name": "stdout",
     "output_type": "stream",
     "text": [
      "CPU times: total: 1.62 s\n",
      "Wall time: 1.64 s\n"
     ]
    }
   ],
   "source": [
    "%%time\n",
    "i, Divisor, Cache = RebuildCache(1_000_000)\n",
    "VerifyCache(i, Divisor, Cache)"
   ]
  },
  {
   "cell_type": "code",
   "execution_count": 450,
   "id": "cac0d378",
   "metadata": {
    "hidden": true
   },
   "outputs": [
    {
     "name": "stdout",
     "output_type": "stream",
     "text": [
      "CPU times: total: 297 ms\n",
      "Wall time: 305 ms\n"
     ]
    }
   ],
   "source": [
    "%%time\n",
    "output2 = []\n",
    "for _ in range(1_000):\n",
    "    output2.append(count_sixes(Divisor, Cache))\n",
    "    i      += 1"
   ]
  },
  {
   "cell_type": "code",
   "execution_count": 451,
   "id": "1c574ec1",
   "metadata": {
    "hidden": true
   },
   "outputs": [
    {
     "data": {
      "text/plain": [
       "True"
      ]
     },
     "execution_count": 451,
     "metadata": {},
     "output_type": "execute_result"
    }
   ],
   "source": [
    "output == output2"
   ]
  },
  {
   "cell_type": "code",
   "execution_count": 455,
   "id": "50fef198",
   "metadata": {
    "hidden": true
   },
   "outputs": [],
   "source": [
    "VerifyCache(i, Divisor, Cache)"
   ]
  },
  {
   "cell_type": "markdown",
   "id": "e8dbd2ee",
   "metadata": {
    "hidden": true
   },
   "source": [
    "Crushing defeat!!!  \n",
    "\n",
    "The new version is at least 5x faster than the old one."
   ]
  },
  {
   "cell_type": "code",
   "execution_count": 418,
   "id": "890f0304",
   "metadata": {
    "hidden": true
   },
   "outputs": [
    {
     "name": "stdout",
     "output_type": "stream",
     "text": [
      "Timer unit: 1e-07 s\n",
      "\n",
      "Total time: 7.88987 s\n",
      "File: C:\\Users\\Florian\\AppData\\Local\\Temp\\ipykernel_20112\\3990742229.py\n",
      "Function: count_sixes at line 2\n",
      "\n",
      "Line #      Hits         Time  Per Hit   % Time  Line Contents\n",
      "==============================================================\n",
      "     2                                           @profiler\n",
      "     3                                           def count_sixes(D, Cache, k=1):\n",
      "     4      1000       4742.0      4.7      0.0      SixCounter    = 0\n",
      "     5      1000       3561.0      3.6      0.0      SixCounterMax = 0\n",
      "     6      1000       2571.0      2.6      0.0      N = 0\n",
      "     7      1000       8541.0      8.5      0.0      J = len(Cache)\n",
      "     8   3019792    7982991.0      2.6     10.1      for j in range(J):\n",
      "     9   3018792   12152451.0      4.0     15.4          R = (Cache[j] << 1) | N\n",
      "    10   3018792    7493703.0      2.5      9.5          if R >= D:\n",
      "    11   1508042    4779038.0      3.2      6.1              R = R - D\n",
      "    12   1508042    3723418.0      2.5      4.7              N = 1\n",
      "    13                                                   else:\n",
      "    14   1510750    3595728.0      2.4      4.6              N = 0\n",
      "    15   3018792    8496332.0      2.8     10.8          Cache[j] = R\n",
      "    16                                                   \n",
      "    17   3018792   12835236.0      4.3     16.3          Digit = R % 10\n",
      "    18   3018792    8465612.0      2.8     10.7          if Digit == 6:\n",
      "    19    302429     892148.0      2.9      1.1              SixCounter += 1\n",
      "    20    302429     876200.0      2.9      1.1              if SixCounter == 5:\n",
      "    21        25        236.0      9.4      0.0                  R = (Cache[j-1]) // 10\n",
      "    22        26        402.0     15.5      0.0                  for _ in range(k):\n",
      "    23        25        133.0      5.3      0.0                      Digit = R % 10\n",
      "    24        25         77.0      3.1      0.0                      if Digit == 6:\n",
      "    25         1          6.0      6.0      0.0                          R = R // 10\n",
      "    26                                                               else:\n",
      "    27        24         62.0      2.6      0.0                          SixCounter = 1\n",
      "    28        24         84.0      3.5      0.0                          break\n",
      "    29    302429    1501853.0      5.0      1.9              SixCounterMax = max(SixCounterMax, SixCounter)\n",
      "    30                                                   else:\n",
      "    31   2716363    6075336.0      2.2      7.7              SixCounter = 0\n",
      "    32      1000       3500.0      3.5      0.0      if N > 0:\n",
      "    33                                                   # print('hi')\n",
      "    34                                                   # Cache[J] = 1\n",
      "    35         1         16.0     16.0      0.0          Cache.append(1)\n",
      "    36      1000       4713.0      4.7      0.0      return SixCounterMax\n",
      "\n"
     ]
    }
   ],
   "source": [
    "profiler.print_stats()"
   ]
  },
  {
   "cell_type": "code",
   "execution_count": null,
   "id": "f6478bc7",
   "metadata": {
    "hidden": true
   },
   "outputs": [],
   "source": []
  },
  {
   "cell_type": "markdown",
   "id": "6243e751",
   "metadata": {},
   "source": [
    "## Implementation Optimization"
   ]
  },
  {
   "cell_type": "code",
   "execution_count": 4,
   "id": "0ddccc99",
   "metadata": {},
   "outputs": [],
   "source": [
    "Cache = [10**399] * 4000"
   ]
  },
  {
   "cell_type": "code",
   "execution_count": 14,
   "id": "ebc785ca",
   "metadata": {},
   "outputs": [
    {
     "name": "stdout",
     "output_type": "stream",
     "text": [
      "217 µs ± 1.22 µs per loop (mean ± std. dev. of 7 runs, 1,000 loops each)\n"
     ]
    }
   ],
   "source": [
    "%%timeit\n",
    "J = len(Cache)\n",
    "for j in range(J):\n",
    "    R = Cache[j]\n",
    "    # Do stuff with R\n",
    "    Cache[j] = R"
   ]
  },
  {
   "cell_type": "code",
   "execution_count": 15,
   "id": "e25390c8",
   "metadata": {},
   "outputs": [
    {
     "name": "stdout",
     "output_type": "stream",
     "text": [
      "216 µs ± 913 ns per loop (mean ± std. dev. of 7 runs, 1,000 loops each)\n"
     ]
    }
   ],
   "source": [
    "%%timeit\n",
    "for j in range(len(Cache)):\n",
    "    R = Cache[j]\n",
    "    # Do stuff with R\n",
    "    Cache[j] = R"
   ]
  },
  {
   "cell_type": "code",
   "execution_count": 16,
   "id": "11b7a210",
   "metadata": {},
   "outputs": [
    {
     "name": "stdout",
     "output_type": "stream",
     "text": [
      "181 µs ± 646 ns per loop (mean ± std. dev. of 7 runs, 10,000 loops each)\n"
     ]
    }
   ],
   "source": [
    "%%timeit\n",
    "for (j, R) in enumerate(Cache):\n",
    "    # Do stuff with R\n",
    "    Cache[j] = R"
   ]
  },
  {
   "cell_type": "code",
   "execution_count": null,
   "id": "525c099a",
   "metadata": {},
   "outputs": [],
   "source": []
  },
  {
   "cell_type": "code",
   "execution_count": null,
   "id": "519fbafa",
   "metadata": {},
   "outputs": [],
   "source": []
  },
  {
   "cell_type": "code",
   "execution_count": null,
   "id": "c8605bbb",
   "metadata": {},
   "outputs": [],
   "source": []
  },
  {
   "cell_type": "code",
   "execution_count": null,
   "id": "9e05c115",
   "metadata": {},
   "outputs": [],
   "source": []
  },
  {
   "cell_type": "code",
   "execution_count": null,
   "id": "c109172a",
   "metadata": {},
   "outputs": [],
   "source": []
  },
  {
   "cell_type": "code",
   "execution_count": null,
   "id": "0b2c70c6",
   "metadata": {},
   "outputs": [],
   "source": []
  },
  {
   "cell_type": "code",
   "execution_count": null,
   "id": "eeebc5cb",
   "metadata": {},
   "outputs": [],
   "source": []
  },
  {
   "cell_type": "code",
   "execution_count": null,
   "id": "c37ad45b",
   "metadata": {},
   "outputs": [],
   "source": []
  }
 ],
 "metadata": {
  "kernelspec": {
   "display_name": "Python 3 (ipykernel)",
   "language": "python",
   "name": "python3"
  },
  "language_info": {
   "codemirror_mode": {
    "name": "ipython",
    "version": 3
   },
   "file_extension": ".py",
   "mimetype": "text/x-python",
   "name": "python",
   "nbconvert_exporter": "python",
   "pygments_lexer": "ipython3",
   "version": "3.9.7"
  }
 },
 "nbformat": 4,
 "nbformat_minor": 5
}
