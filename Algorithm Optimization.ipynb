{
 "cells": [
  {
   "cell_type": "code",
   "execution_count": 78,
   "id": "e7041222",
   "metadata": {},
   "outputs": [],
   "source": [
    "from math import log\n",
    "from matplotlib import pyplot as plt\n",
    "from line_profiler import LineProfiler"
   ]
  },
  {
   "cell_type": "code",
   "execution_count": 79,
   "id": "4d3be9c0",
   "metadata": {},
   "outputs": [],
   "source": [
    "%load_ext line_profiler"
   ]
  },
  {
   "cell_type": "markdown",
   "id": "f4380002",
   "metadata": {
    "heading_collapsed": true
   },
   "source": [
    "## Naive initial implementation"
   ]
  },
  {
   "cell_type": "markdown",
   "id": "928f2861",
   "metadata": {
    "hidden": true
   },
   "source": [
    "Source:  \n",
    "https://stackoverflow.com/questions/1686004/fastest-way-to-convert-binary-to-decimal"
   ]
  },
  {
   "cell_type": "markdown",
   "id": "0ec31cab",
   "metadata": {
    "hidden": true
   },
   "source": [
    "We're interested in a pattern in the digits of the base 10 representation of numbers of the form $N = 2^i$  \n",
    "To calculate these digits from a binary (base 2) number, we can alternate between calculating the last digit by taking the number modulo 10, and moving the next highest digit into the lowest place by doing an integer divide by 10."
   ]
  },
  {
   "cell_type": "code",
   "execution_count": 62,
   "id": "40202053",
   "metadata": {
    "hidden": true
   },
   "outputs": [
    {
     "data": {
      "text/plain": [
       "([6, 5, 2], 256)"
      ]
     },
     "execution_count": 62,
     "metadata": {},
     "output_type": "execute_result"
    }
   ],
   "source": [
    "def CalculateDigits(Number):\n",
    "    Digits = []\n",
    "    while Number > 0:\n",
    "        Digit  = Number % 10\n",
    "        Number = Number // 10\n",
    "        Digits.append(Digit)\n",
    "    return Digits\n",
    "CalculateDigits(1<<8), 1<<8"
   ]
  },
  {
   "cell_type": "markdown",
   "id": "32cdff68",
   "metadata": {
    "hidden": true
   },
   "source": [
    "We can now iterate over the digits and check for our pattern."
   ]
  },
  {
   "cell_type": "markdown",
   "id": "2434320c",
   "metadata": {
    "hidden": true
   },
   "source": [
    "Alternatively, we can use a built-in python function, which is way faster than doing this manualy."
   ]
  },
  {
   "cell_type": "code",
   "execution_count": 30,
   "id": "80ba8062",
   "metadata": {
    "hidden": true
   },
   "outputs": [],
   "source": [
    "Goliath = '666'*666"
   ]
  },
  {
   "cell_type": "code",
   "execution_count": 37,
   "id": "023188f7",
   "metadata": {
    "hidden": true
   },
   "outputs": [],
   "source": [
    "Number = 1<<10_000_000"
   ]
  },
  {
   "cell_type": "code",
   "execution_count": 38,
   "id": "bc06388c",
   "metadata": {
    "hidden": true
   },
   "outputs": [
    {
     "name": "stdout",
     "output_type": "stream",
     "text": [
      "2min 10s ± 1.72 s per loop (mean ± std. dev. of 7 runs, 1 loop each)\n"
     ]
    }
   ],
   "source": [
    "%%timeit\n",
    "Goliath in str(Number)"
   ]
  },
  {
   "cell_type": "markdown",
   "id": "d1d905b7",
   "metadata": {
    "hidden": true
   },
   "source": [
    "Sadly, this still scales very badly. for every 10x in the number, the required time goes up by 100x.  \n",
    "We probably wont get rid of exponential scaling, but we can definitely reduce the constant factor."
   ]
  },
  {
   "cell_type": "code",
   "execution_count": 74,
   "id": "ca30aaec",
   "metadata": {
    "hidden": true
   },
   "outputs": [],
   "source": [
    "Steps   = [10_000, 100_000, 1_000_000, 10_000_000]\n",
    "NaiveMs = [ 0.133,    12.9,      1290,     130000]"
   ]
  },
  {
   "cell_type": "code",
   "execution_count": 76,
   "id": "a4d10bdb",
   "metadata": {
    "hidden": true
   },
   "outputs": [
    {
     "data": {
      "image/png": "[encoded data removed]",
      "text/plain": [
       "<Figure size 1200x500 with 1 Axes>"
      ]
     },
     "metadata": {},
     "output_type": "display_data"
    }
   ],
   "source": [
    "fig, ax = plt.subplots(1, 1, sharex=True, figsize=(12, 5))\n",
    "\n",
    "ax.scatter(Steps, NaiveMs, label='Naive Implementation', color='orange')\n",
    "ax.set_xscale('log')\n",
    "ax.set_xlabel('log Steps')\n",
    "ax.set_ylabel('Milliseconds')\n",
    "ax.legend()\n",
    "plt.show()"
   ]
  },
  {
   "cell_type": "markdown",
   "id": "cbe1d756",
   "metadata": {
    "heading_collapsed": true
   },
   "source": [
    "## Check every n'th digit"
   ]
  },
  {
   "cell_type": "markdown",
   "id": "1b437992",
   "metadata": {
    "hidden": true
   },
   "source": [
    "The pattern we're looking for is 666 repetitions of the digits 666 in a row. That is 1998 sixes back to back.  \n",
    "Because this is a pretty long pattern, and it's the same everywhere, we can just check every n'th digits to collect evidence for the pattern, and reject the possibility of the pattern being present any time we don't see a six.  \n",
    "If we assume that the base 10 expansion of powers of two have an even distribution of digits 0-9, then just a few checks will already make it massively unlikely to find a \"candidate\".  \n",
    "Let's check for convenient divisors, and make the length of pattern we want to verify a little smaller than the actual pattern so we don't land exactly on the edge."
   ]
  },
  {
   "cell_type": "code",
   "execution_count": 50,
   "id": "e760ce9f",
   "metadata": {
    "hidden": true
   },
   "outputs": [
    {
     "data": {
      "text/plain": [
       "1998"
      ]
     },
     "execution_count": 50,
     "metadata": {},
     "output_type": "execute_result"
    }
   ],
   "source": [
    "len('666' * 666)"
   ]
  },
  {
   "cell_type": "code",
   "execution_count": 51,
   "id": "56478550",
   "metadata": {
    "hidden": true
   },
   "outputs": [
    {
     "data": {
      "text/plain": [
       "[(1, 1995.0),\n",
       " (2, 997.5),\n",
       " (3, 665.0),\n",
       " (4, 498.75),\n",
       " (5, 399.0),\n",
       " (6, 332.5),\n",
       " (7, 285.0),\n",
       " (8, 249.375),\n",
       " (9, 221.66666666666666)]"
      ]
     },
     "execution_count": 51,
     "metadata": {},
     "output_type": "execute_result"
    }
   ],
   "source": [
    "[(x, 1995 / x) for x in range(1, 10)]"
   ]
  },
  {
   "cell_type": "markdown",
   "id": "00787f67",
   "metadata": {
    "hidden": true
   },
   "source": [
    "3, 5 and 7 look like good candidates for number of checks, but the chance of getting three sixes in a row is actually a bit high, and checking 7 times means more computation, so we'll pick 5 checks per pattern length.  \n",
    "This means that if we see five sixed in a row, each 399 digits apart, then our pattern could be present in that range, and we need to do a more thorough check.  \n",
    "Any time we see any other digit, we know for sure that our pattern can't be in that range."
   ]
  },
  {
   "cell_type": "code",
   "execution_count": 166,
   "id": "d10c5c68",
   "metadata": {
    "hidden": true
   },
   "outputs": [],
   "source": [
    "def count_sixes(number, divisor):\n",
    "    six_counter     = 0\n",
    "    six_counter_max = 0\n",
    "    while number > 0:\n",
    "        digit    = number % 10\n",
    "        number //= divisor\n",
    "        if digit == 6:\n",
    "            six_counter    += 1\n",
    "            six_counter_max = max(six_counter_max, six_counter)\n",
    "        else:\n",
    "            six_counter = 0\n",
    "    return six_counter_max"
   ]
  },
  {
   "cell_type": "code",
   "execution_count": 57,
   "id": "280e8725",
   "metadata": {
    "hidden": true
   },
   "outputs": [],
   "source": [
    "Goliath            = '666'*666\n",
    "GoliathAmount      = len(Goliath)\n",
    "FatDivisor         = 10**399\n",
    "CandidateThreshold = 5\n",
    "Number             = 1<<8"
   ]
  },
  {
   "cell_type": "code",
   "execution_count": 58,
   "id": "b4c98176",
   "metadata": {
    "hidden": true
   },
   "outputs": [
    {
     "name": "stdout",
     "output_type": "stream",
     "text": [
      "Not enough consecutive sixes.\n"
     ]
    }
   ],
   "source": [
    "Sixes = count_sixes(Number, FatDivisor)\n",
    "if Sixes >= CandidateThreshold:\n",
    "    print('Found a candidate!')\n",
    "    if Goliath in str(Number):\n",
    "        print(f'Found a goliath number!')\n",
    "    else:\n",
    "        print('The expensive check shows this isn\\'t a goliath number after all.')\n",
    "else:\n",
    "    print('Not enough consecutive sixes.')"
   ]
  },
  {
   "cell_type": "code",
   "execution_count": 65,
   "id": "4c046eae",
   "metadata": {
    "hidden": true
   },
   "outputs": [],
   "source": [
    "Number = 1<<10_000_000"
   ]
  },
  {
   "cell_type": "code",
   "execution_count": 66,
   "id": "65393089",
   "metadata": {
    "hidden": true
   },
   "outputs": [
    {
     "name": "stdout",
     "output_type": "stream",
     "text": [
      "1min 28s ± 683 ms per loop (mean ± std. dev. of 7 runs, 1 loop each)\n"
     ]
    }
   ],
   "source": [
    "%%timeit\n",
    "Sixes = count_sixes(Number, FatDivisor)"
   ]
  },
  {
   "cell_type": "markdown",
   "id": "da2a1db3",
   "metadata": {
    "hidden": true
   },
   "source": [
    "This massively reduces the amount of work we need to do (theoretically about 400x compared to the naive version, though the divisor is now much larger), but means we're now in python land, so we don't get such a big speedup in practice.  \n",
    "Still, the naive implementation has a 100x increase in the runtime for a 10x in increase in the number,  \n",
    "we now only have a 10x increase in the runtime for the same increase in the number, which is already a huge win."
   ]
  },
  {
   "cell_type": "code",
   "execution_count": 68,
   "id": "2520e38a",
   "metadata": {
    "hidden": true
   },
   "outputs": [],
   "source": [
    "Steps        = [10_000, 100_000, 1_000_000, 10_000_000]\n",
    "SkipDigitsMs = [ 0.077,    8.39,       845,      88000]"
   ]
  },
  {
   "cell_type": "code",
   "execution_count": 77,
   "id": "7eb702d3",
   "metadata": {
    "hidden": true
   },
   "outputs": [
    {
     "data": {
      "image/png": "[encoded data removed]",
      "text/plain": [
       "<Figure size 1200x500 with 1 Axes>"
      ]
     },
     "metadata": {},
     "output_type": "display_data"
    }
   ],
   "source": [
    "fig, ax = plt.subplots(1, 1, sharex=True, figsize=(12, 5))\n",
    "\n",
    "ax.scatter(Steps, SkipDigitsMs, label='Skip Digits', color='orange')\n",
    "ax.set_xscale('log')\n",
    "ax.set_xlabel('log Steps')\n",
    "ax.set_ylabel('Milliseconds')\n",
    "ax.legend()\n",
    "plt.show()"
   ]
  },
  {
   "cell_type": "markdown",
   "id": "d58b1183",
   "metadata": {
    "heading_collapsed": true
   },
   "source": [
    "## Software Division - Continued Division"
   ]
  },
  {
   "cell_type": "markdown",
   "id": "44ad1b40",
   "metadata": {
    "hidden": true
   },
   "source": [
    "A profiler will show that we're spending the vast majority (about 95%) of the time doing the division operation.  \n",
    "In order to get an idea about how to optimize this, we'll look at how binary division works when done in software."
   ]
  },
  {
   "cell_type": "markdown",
   "id": "7b80c714",
   "metadata": {
    "hidden": true
   },
   "source": [
    "Source:  \n",
    "http://bearcave.com/software/divide.htm  \n",
    "[Binary long division youtube video](https://www.youtube.com/watch?v=VKemv9u40gc)"
   ]
  },
  {
   "cell_type": "markdown",
   "id": "99c605e8",
   "metadata": {
    "hidden": true
   },
   "source": [
    "(Quote from Ian Kaplan)  \n",
    "Division is the process of repeated subtraction. Like the long division we learned in grade school, a binary division algorithm works from the high order digits to the low order digits and generates a quotient (division result) with each step. The division algorithm is divided into two steps:  \n",
    "1. Shift the upper bits of the dividend (numerator) (the number we are dividing into) into the remainder.\n",
    "2. Subtract the divisor from the value in the remainder. The high order bit of the result become a bit of the quotient (division result).  "
   ]
  },
  {
   "cell_type": "markdown",
   "id": "44d5120e",
   "metadata": {
    "hidden": true
   },
   "source": [
    "/*\n",
    "   Copyright stuff\n",
    "\n",
    "   Use of this program, for any purpose, is granted the author,\n",
    "   Ian Kaplan, as long as this copyright notice is included in\n",
    "   the source code or any source code derived from this program.\n",
    "   The user assumes all responsibility for using this code.\n",
    "\n",
    "   Ian Kaplan, October 1996\n",
    "*/"
   ]
  },
  {
   "cell_type": "code",
   "execution_count": 95,
   "id": "58eda1fe",
   "metadata": {
    "hidden": true
   },
   "outputs": [],
   "source": [
    "def unsigned_divide(numerator: 'uint', divisor: 'uint') -> ('uint', 'uint'):\n",
    "    t = q = restore = bit = None # uint\n",
    "    remainder = quotient = 0 # uint\n",
    "    if   (divisor == 0        ): pass\n",
    "    elif (divisor  > numerator): remainder = numerator\n",
    "    elif (divisor == numerator): quotient  = 1\n",
    "    else:\n",
    "        num_bits:'uint' = 32\n",
    "        while (remainder < divisor):\n",
    "            bit       = (numerator & 0x80000000) >> 31 # grab the 32th bit in numerator\n",
    "            remainder = (remainder << 1) | bit         # shift up remained and move bit into lowest position\n",
    "            restore   = numerator                      # store for later\n",
    "            numerator = (numerator << 1) & 0xFFFFFFFF  # shift up numerator, putting the next highest bit in 32th position *1\n",
    "            num_bits -= 1                              # count down the number of bits remaining in numerator\n",
    "        # The loop, above, always goes one iteration too far.\n",
    "        # To avoid inserting an \"if\" statement inside the loop, the last iteration is simply reversed.\n",
    "        numerator = restore        # restore numerator to previous value\n",
    "        remainder = remainder >> 1 # shift remainder back down, erasing the previously lowest bit\n",
    "        num_bits += 1              # undo the last counter update\n",
    "        for i in range(num_bits):\n",
    "            bit       = (numerator & 0x80000000) >> 31\n",
    "            remainder = (remainder << 1) | bit\n",
    "            t         = remainder - divisor\n",
    "            q         = not ((t & 0x80000000) >> 31)\n",
    "            numerator = numerator << 1\n",
    "            quotient  = (quotient << 1) | q\n",
    "            if (q): remainder = t\n",
    "    return quotient, remainder"
   ]
  },
  {
   "cell_type": "markdown",
   "id": "7cbeaf51",
   "metadata": {
    "heading_collapsed": true,
    "hidden": true
   },
   "source": [
    "#### Signed divide (this doesn't interest us)"
   ]
  },
  {
   "cell_type": "code",
   "execution_count": 96,
   "id": "4cb4083f",
   "metadata": {
    "hidden": true
   },
   "outputs": [
    {
     "data": {
      "text/plain": [
       "(-2, 0)"
      ]
     },
     "execution_count": 96,
     "metadata": {},
     "output_type": "execute_result"
    }
   ],
   "source": [
    "def signed_divide(dividend: 'int', divisor: 'int') -> ('int', 'int'):\n",
    "    dend: 'uint' = abs(dividend)\n",
    "    dor : 'uint' = abs(divisor)\n",
    "    q   : 'uint' = None\n",
    "    r   : 'uint' = None\n",
    "    remainder : 'int' = 0\n",
    "    quotient  : 'int' = 0\n",
    "    q, r = unsigned_divide(dend, dor)\n",
    "    # The sign of the remainder is the same as the sign of the dividend\n",
    "    # and the quotient is negated if the signs of the operands are opposite\n",
    "    quotient = q\n",
    "    if (dividend < 0):\n",
    "        remainder = -r;\n",
    "        if (divisor > 0):\n",
    "            quotient = -q;\n",
    "    else: # /* positive dividend */\n",
    "        remainder = r;\n",
    "        if (divisor < 0):\n",
    "            quotient = -q;\n",
    "    return quotient, remainder\n",
    "signed_divide(-4, 2)"
   ]
  },
  {
   "cell_type": "markdown",
   "id": "03398dfc",
   "metadata": {
    "heading_collapsed": true,
    "hidden": true
   },
   "source": [
    "#### We care about the last part of the unsigned division algorithm"
   ]
  },
  {
   "cell_type": "markdown",
   "id": "ce7c4997",
   "metadata": {
    "hidden": true
   },
   "source": [
    "The first part is just wrangling some bit representations around. It's not relevant to our understanding of how to optimize the division instruction."
   ]
  },
  {
   "cell_type": "code",
   "execution_count": 105,
   "id": "15416560",
   "metadata": {
    "hidden": true
   },
   "outputs": [],
   "source": [
    "def FirstPart(numerator: 'uint', divisor: 'uint', LastPart:'function') -> ('uint', 'uint'):\n",
    "    remainder: 'uint' = 0\n",
    "    quotient : 'uint' = 0\n",
    "    if   (divisor == 0        ): raise ZeroDivisionError\n",
    "    elif (divisor  > numerator): remainder = numerator\n",
    "    elif (divisor == numerator): quotient  = 1\n",
    "    else:\n",
    "        num_bits:'uint' = 32\n",
    "        while (remainder < divisor):\n",
    "            bit       = (numerator & 0x80000000) >> 31\n",
    "            remainder = (remainder << 1) | bit\n",
    "            restore   = numerator\n",
    "            numerator = (numerator << 1) & 0xFFFFFFFF\n",
    "            num_bits -= 1\n",
    "        numerator = restore\n",
    "        remainder = remainder >> 1\n",
    "        num_bits += 1\n",
    "        # print(bin(numerator), bin(divisor), bin(remainder))\n",
    "        quotient, remainder = LastPart(num_bits, numerator, divisor, remainder)\n",
    "    return quotient, remainder"
   ]
  },
  {
   "cell_type": "markdown",
   "id": "c7dc0ef9",
   "metadata": {
    "hidden": true
   },
   "source": [
    "Here are a few variants of the last part which all do exactly the same thing, but are programmed slightly different"
   ]
  },
  {
   "cell_type": "code",
   "execution_count": 110,
   "id": "c43bf269",
   "metadata": {
    "hidden": true
   },
   "outputs": [],
   "source": [
    "def LastPartV1(num_bits, numerator, divisor, remainder):\n",
    "    quotient = 0\n",
    "    for i in range(num_bits):\n",
    "        bit       = (numerator & 0x80000000) >> 31\n",
    "        remainder = (remainder << 1) | bit\n",
    "        t         = remainder - divisor\n",
    "        q         = not ((t & 0x80000000) >> 31)\n",
    "        numerator = numerator << 1\n",
    "        quotient  = (quotient << 1) | q\n",
    "        if (q): remainder = t\n",
    "    return quotient, remainder"
   ]
  },
  {
   "cell_type": "code",
   "execution_count": 111,
   "id": "0505fa5c",
   "metadata": {
    "hidden": true
   },
   "outputs": [],
   "source": [
    "def LastPartV2(num_bits, numerator, divisor, remainder):\n",
    "    quotient = 0\n",
    "    for i in range(num_bits):\n",
    "        bit       = (numerator & 0x80000000) >> 31 # see above\n",
    "        numerator = (numerator << 1) & 0xFFFFFFFF  # see above *1\n",
    "        remainder = (remainder << 1) | bit         # see above\n",
    "        t         = remainder - divisor            # remainder is larger than divisor, so get positive difference\n",
    "        q         = t >= 0                         # check if result of subtraction has gone below zero *2\n",
    "        quotient  = (quotient << 1) | q            # shift up quotient and store negated highest bit of previous division\n",
    "        # print(i, bin(remainder),'-', bin(divisor),'=', t, f'({bin(t)})', q)\n",
    "        # print(bin(numerator), bin(quotient))\n",
    "        if (q): remainder = t                      # if remainder >= divisor: remainder = t\n",
    "    return quotient, remainder"
   ]
  },
  {
   "cell_type": "code",
   "execution_count": 112,
   "id": "3d9063ac",
   "metadata": {
    "hidden": true
   },
   "outputs": [],
   "source": [
    "def LastPartV3(num_bits, numerator, divisor, remainder):\n",
    "    quotient = 0\n",
    "    for i in range(num_bits):\n",
    "        bit       = (numerator & 0x80000000) >> 31 # see above\n",
    "        numerator = (numerator << 1) & 0xFFFFFFFF  # see above *1\n",
    "        remainder = (remainder << 1) | bit         # see above\n",
    "        if remainder >= divisor:                   #\n",
    "            # print(i, bin(remainder),'-', bin(divisor),'=', bin(remainder - divisor))\n",
    "            remainder = remainder - divisor        # \n",
    "            quotient  = (quotient << 1) | 1        # shift in a 1\n",
    "        else:                                      #\n",
    "            # print(i, )\n",
    "            quotient  = (quotient << 1)            # shift in a zero\n",
    "        # print(bin(numerator), bin(quotient))\n",
    "    return quotient, remainder"
   ]
  },
  {
   "cell_type": "code",
   "execution_count": 114,
   "id": "69dc3f77",
   "metadata": {
    "hidden": true
   },
   "outputs": [
    {
     "data": {
      "text/plain": [
       "(37, 2)"
      ]
     },
     "execution_count": 114,
     "metadata": {},
     "output_type": "execute_result"
    }
   ],
   "source": [
    "FirstPart(150, 4, LastPartV3)"
   ]
  },
  {
   "cell_type": "code",
   "execution_count": 101,
   "id": "f8b6b362",
   "metadata": {
    "hidden": true
   },
   "outputs": [
    {
     "data": {
      "text/plain": [
       "(37, 2)"
      ]
     },
     "execution_count": 101,
     "metadata": {},
     "output_type": "execute_result"
    }
   ],
   "source": [
    "150 // 4, 150 % 4"
   ]
  },
  {
   "cell_type": "markdown",
   "id": "81388beb",
   "metadata": {
    "hidden": true
   },
   "source": [
    "*1 Python support arbitrary sized integers, so shifting up doesn't actually remove the highest bit, but instead just moves in a 0 at the right, effectively doubling the number. Since we're grabbing the 32th bit every time this doesn't really matter, but should we want this algorithm to work with arbitrary sized integers instead of fixed 32 bit, then this need to be changed. To \"fix this we could replace `numerator << 1` with `(numerator << 1) & 0xFFFFFFFF`.\n",
    "\n",
    "---\n",
    "\n",
    "*2 In a C program, we would be working with unsigned numbers here, which wrap around to max int when going below zero. So when we're testing the highest bit for 0 or 1, we're really asking if we've wrapped around, or in other words, gone negative. So since we're working with signed integers in python, `not ((t & 0x80000000) >> 31)` really is equivalent to `t >= 0`, which in turn is equivalent to checking if `remainder >= divisor`.\n",
    "\n",
    "---\n",
    "\n"
   ]
  },
  {
   "cell_type": "markdown",
   "id": "c3f31899",
   "metadata": {
    "heading_collapsed": true,
    "hidden": true
   },
   "source": [
    "#### The insight"
   ]
  },
  {
   "cell_type": "markdown",
   "id": "fcd6a41c",
   "metadata": {
    "hidden": true
   },
   "source": [
    "This version is really interesting, because it shows more clearly what is going on."
   ]
  },
  {
   "cell_type": "code",
   "execution_count": 115,
   "id": "6f92bbc1",
   "metadata": {
    "hidden": true
   },
   "outputs": [],
   "source": [
    "def LastPartV3(num_bits, numerator, divisor, remainder):\n",
    "    quotient = 0\n",
    "    for i in range(num_bits):\n",
    "        bit       = (numerator & 0x80000000) >> 31\n",
    "        numerator = (numerator << 1) & 0xFFFFFFFF\n",
    "        remainder = (remainder << 1) | bit\n",
    "        if remainder >= divisor:\n",
    "            remainder = remainder - divisor\n",
    "            quotient  = (quotient << 1) | 1\n",
    "        else:\n",
    "            quotient  = (quotient << 1)\n",
    "    return quotient, remainder"
   ]
  },
  {
   "cell_type": "markdown",
   "id": "80de4274",
   "metadata": {
    "hidden": true
   },
   "source": [
    "Producing the result of a binary long division is an iterative process, which processes the bits of the numerator one after the other from most to least significant bit (from left to right).  \n",
    "On each iteration, the current bit is shifted into the least significant bit of the remainder.  \n",
    "The remainder is then compared to the divisor, and depending on the result, a one or a zero is shifted into the quotient, while the remainder is reduced back down below the divisor by subtraction.  \n",
    "__The insight__ we can use is that we only need a single (least significant) bit from the numerator for each next iteration, and in our algorithm we just so happen to shift the numerator up by one bit each time we go on to check the next power of two.  \n",
    "In other words, on each iteration of our algorithm, we have a new zero in the least significant bit of the numerator. With this new least significant bit, we can do one iteration of binary long division.  \n",
    "We can thus use the result of the $2^{i-1}$ long division and do a single shift-compare-update iteration, and we have the result of the $2^i$ long division."
   ]
  },
  {
   "cell_type": "code",
   "execution_count": 1,
   "id": "f9104920",
   "metadata": {
    "hidden": true
   },
   "outputs": [],
   "source": [
    "def ContinueDivision(Quotient, Remainder, Divisor):\n",
    "    Remainder = (Remainder << 1) # Shift in a zero, since we know that the last bit of 2^i will always be a zero.\n",
    "    if Remainder >= Divisor:\n",
    "        Remainder = Remainder - Divisor\n",
    "        Quotient  = (Quotient << 1) | 1\n",
    "    else:\n",
    "        Quotient  = (Quotient << 1)\n",
    "    return Quotient, Remainder"
   ]
  },
  {
   "cell_type": "code",
   "execution_count": 10,
   "id": "632bced3",
   "metadata": {
    "hidden": true
   },
   "outputs": [],
   "source": [
    "NumberA    = 1<<1_000_000_000\n",
    "Divisor    = 10**399\n",
    "\n",
    "QuotientA  = NumberA // Divisor\n",
    "RemainderA = NumberA % Divisor\n",
    "\n",
    "NumberB    = NumberA << 1\n",
    "QuotientB  = NumberB // Divisor\n",
    "RemainderB = NumberB % Divisor"
   ]
  },
  {
   "cell_type": "code",
   "execution_count": 16,
   "id": "2d6c1b47",
   "metadata": {
    "hidden": true
   },
   "outputs": [],
   "source": [
    "assert ContinueDivision(QuotientA, RemainderA, Divisor) == (QuotientB, RemainderB)"
   ]
  },
  {
   "cell_type": "code",
   "execution_count": null,
   "id": "c08411ab",
   "metadata": {
    "hidden": true
   },
   "outputs": [],
   "source": [
    "%%timeit\n",
    "Q, R = NumberB // Divisor, NumberB % Divisor"
   ]
  },
  {
   "cell_type": "code",
   "execution_count": null,
   "id": "c887226a",
   "metadata": {
    "hidden": true
   },
   "outputs": [],
   "source": [
    "%%timeit\n",
    "Q, R = ContinueDivision(QuotientA, RemainderA, Divisor)"
   ]
  },
  {
   "cell_type": "markdown",
   "id": "e84b52bf",
   "metadata": {
    "hidden": true
   },
   "source": [
    "We can see that while the two algorithms scale the same, the continued division is about 60x - 120x faster.  "
   ]
  },
  {
   "cell_type": "code",
   "execution_count": 17,
   "id": "08d4fa43",
   "metadata": {
    "hidden": true
   },
   "outputs": [],
   "source": [
    "Steps               = [10_000, 100_000, 1_000_000, 10_000_000, 100_000_000]\n",
    "FullDivisionMs      = [0.057 ,   0.646,      6.27,       67.3,         664]\n",
    "ContinuedDivisionMs = [0.001 ,   0.005,     0.045,       1.26,        12.3]"
   ]
  },
  {
   "cell_type": "code",
   "execution_count": 18,
   "id": "939fd930",
   "metadata": {
    "hidden": true
   },
   "outputs": [
    {
     "data": {
      "image/png": "[encoded data removed]",
      "text/plain": [
       "<Figure size 1200x1000 with 2 Axes>"
      ]
     },
     "metadata": {},
     "output_type": "display_data"
    }
   ],
   "source": [
    "fig, (ax1, ax2) = plt.subplots(2, 1, sharex=True, figsize=(12, 10))\n",
    "\n",
    "ax1.scatter(Steps, FullDivisionMs, label='Full Division')\n",
    "ax1.set_ylabel('Milliseconds')\n",
    "ax1.legend()\n",
    "\n",
    "ax2.scatter(Steps, ContinuedDivisionMs, label='Continued Division', color='orange')\n",
    "ax2.set_xscale('log')\n",
    "ax2.set_xlabel('log steps')\n",
    "ax2.set_ylabel('Milliseconds')\n",
    "ax2.legend()\n",
    "plt.show()"
   ]
  },
  {
   "cell_type": "markdown",
   "id": "e8bd762b",
   "metadata": {
    "heading_collapsed": true,
    "hidden": true
   },
   "source": [
    "#### Apply this to our problem in praxis"
   ]
  },
  {
   "cell_type": "markdown",
   "id": "6c978a9b",
   "metadata": {
    "hidden": true
   },
   "source": [
    "So far, we know that we could use this algorithm on the first step of our division.  \n",
    "But we actually divide any $2^i$ number many times in a row in order to get its digits.  \n",
    "And while we can calculate any subsequent division result $2^i_j$ by changing the divisor, that requires us to store the intermediate results, as well as the divisors for every step. It's still faster than doing the full division, but very memory intensive, and wastefull. Still let's try this first, since we already know that it will work.  "
   ]
  },
  {
   "cell_type": "code",
   "execution_count": 167,
   "id": "635df991",
   "metadata": {
    "hidden": true
   },
   "outputs": [],
   "source": [
    "def count_sixes(Number, Divisors, Cache):\n",
    "    SixCounter    = 0\n",
    "    SixCounterMax = 0\n",
    "    j = 0\n",
    "    N = Number\n",
    "    while N > 0:\n",
    "        Digit = N % 10\n",
    "        if Digit == 6:\n",
    "            SixCounter   += 1\n",
    "            SixCounterMax = max(SixCounterMax, SixCounter)\n",
    "        else:\n",
    "            SixCounter = 0\n",
    "        try: # try to retrieve previous calculations from the caches.\n",
    "            D    = Divisors[j]\n",
    "            N, R = Cache[j]\n",
    "            # This is the continued divison code from above\n",
    "            R = (R << 1)\n",
    "            if R >= D:\n",
    "                R = R - D\n",
    "                N = (N << 1) | 1\n",
    "            else:\n",
    "                N = (N << 1)\n",
    "        except KeyError:\n",
    "            # the cache misses get expensive. we need to calculate the j'th divisor,\n",
    "            # as well as do a divide and a modulo on the full number. All of these numbers grow over iterations.\n",
    "            D = 10**(399*(j+1))\n",
    "            N = Number // D\n",
    "            R = Number  % D\n",
    "            Divisors[j] = D\n",
    "        Cache[j] = N, R\n",
    "        j += 1\n",
    "    return SixCounterMax"
   ]
  },
  {
   "cell_type": "code",
   "execution_count": 179,
   "id": "388e57f2",
   "metadata": {
    "hidden": true
   },
   "outputs": [
    {
     "name": "stdout",
     "output_type": "stream",
     "text": [
      "Building Caches...\n",
      "Done!\n",
      "CPU times: total: 5min 32s\n",
      "Wall time: 5min 33s\n"
     ]
    }
   ],
   "source": [
    "%%time\n",
    "i        = 1_000_000\n",
    "Number   = 1<<(i - 1)\n",
    "print('Building Caches...')\n",
    "Divisors = {}\n",
    "Cache    = {}\n",
    "count_sixes(Number, Divisors, Cache)\n",
    "Number = Number << 1\n",
    "print('Done!')"
   ]
  },
  {
   "cell_type": "code",
   "execution_count": 181,
   "id": "84fbcda0",
   "metadata": {
    "hidden": true
   },
   "outputs": [
    {
     "name": "stdout",
     "output_type": "stream",
     "text": [
      "CPU times: total: 6.81 s\n",
      "Wall time: 6.81 s\n"
     ]
    }
   ],
   "source": [
    "%%time\n",
    "for _ in range(100):\n",
    "    count_sixes(Number, Divisors, Cache)\n",
    "    i      += 1\n",
    "    Number  = Number<<1"
   ]
  },
  {
   "cell_type": "code",
   "execution_count": 22,
   "id": "699bcc44",
   "metadata": {
    "hidden": true
   },
   "outputs": [],
   "source": [
    "# Verify cache\n",
    "assert Number == 1<<i\n",
    "assert len(Divisors) == len(Cache)\n",
    "assert Divisors[0] == 10**399\n",
    "assert (Number>>1) // Divisors[0] == Cache[0][0]\n",
    "assert (Number>>1)  % Divisors[0] == Cache[0][1]\n",
    "j = len(Cache) - 1\n",
    "assert (Number>>1) // Divisors[j] == Cache[j][0] == 0\n",
    "assert (Number>>1)  % Divisors[j] == Cache[j][1]\n",
    "assert j+1 not in Cache\n",
    "del j"
   ]
  },
  {
   "cell_type": "markdown",
   "id": "118f9104",
   "metadata": {
    "hidden": true
   },
   "source": [
    "This works, but it's painfully slow to build the cache for larger numbers. Obviously this only has to be done once, but it still means significant time is spent on cache misses.  \n",
    "These are values for 100 iterations, so it's much better than previous by about a factor 10x."
   ]
  },
  {
   "cell_type": "code",
   "execution_count": 68,
   "id": "7c60066b",
   "metadata": {
    "hidden": true
   },
   "outputs": [],
   "source": [
    "Steps        = [10_000, 100_000, 1_000_000, 10_000_000]\n",
    "BuildCacheMs = [ 0.455,   342.0,    333000,       None]\n",
    "SkipDigitsMs = [ 0.997,    69.8,      6810,       None]"
   ]
  },
  {
   "cell_type": "markdown",
   "id": "d90578d1",
   "metadata": {
    "hidden": true
   },
   "source": [
    "It would be much better if we could make every step $j$ of the process for calculating the digits a continued division.  \n",
    "Turns out that works as well, and we can scrap the different divisors.  "
   ]
  },
  {
   "cell_type": "code",
   "execution_count": 182,
   "id": "024d421d",
   "metadata": {
    "hidden": true
   },
   "outputs": [],
   "source": [
    "def count_sixes(N, D, Cache):\n",
    "    SixCounter    = 0\n",
    "    SixCounterMax = 0\n",
    "    j = 0\n",
    "    while N > 0:\n",
    "        Digit = N % 10\n",
    "        if Digit == 6:\n",
    "            SixCounter   += 1\n",
    "            SixCounterMax = max(SixCounterMax, SixCounter)\n",
    "        else:\n",
    "            SixCounter = 0\n",
    "        try:\n",
    "            # take last bit from previous result of the current i (N), not current result of the previous i (Q),\n",
    "            Q, R = Cache[j]\n",
    "            R    = (R << 1) | (N & 1)\n",
    "            if R >= D:\n",
    "                R = R - D\n",
    "                N = (Q << 1) | 1\n",
    "            else:\n",
    "                N = (Q << 1)\n",
    "        except KeyError:\n",
    "            R = N  % D\n",
    "            N = N // D\n",
    "        Cache[j] = N, R\n",
    "        j += 1\n",
    "    return SixCounterMax"
   ]
  },
  {
   "cell_type": "code",
   "execution_count": 191,
   "id": "7f1d4d02",
   "metadata": {
    "hidden": true
   },
   "outputs": [
    {
     "name": "stdout",
     "output_type": "stream",
     "text": [
      "Building Cache...\n",
      "Done!\n",
      "CPU times: total: 2min 56s\n",
      "Wall time: 2min 58s\n"
     ]
    }
   ],
   "source": [
    "%%time\n",
    "i        = 10_000_000\n",
    "Number   = 1<<(i - 1)\n",
    "print('Building Cache...')\n",
    "Divisor = 10**399\n",
    "Cache2   = {}\n",
    "count_sixes(Number, Divisor, Cache2)\n",
    "Number = Number << 1\n",
    "print('Done!')"
   ]
  },
  {
   "cell_type": "code",
   "execution_count": 193,
   "id": "2027152b",
   "metadata": {
    "hidden": true
   },
   "outputs": [
    {
     "name": "stdout",
     "output_type": "stream",
     "text": [
      "CPU times: total: 10min 11s\n",
      "Wall time: 10min 15s\n"
     ]
    }
   ],
   "source": [
    "%%time\n",
    "for _ in range(100):\n",
    "    count_sixes(Number, Divisor, Cache2)\n",
    "    i      += 1\n",
    "    Number  = Number<<1"
   ]
  },
  {
   "cell_type": "code",
   "execution_count": 27,
   "id": "148f6e54",
   "metadata": {
    "hidden": true
   },
   "outputs": [],
   "source": [
    "# Verify cache\n",
    "assert Number  == 1<<i\n",
    "assert Divisor == 10**399\n",
    "assert (Number>>1) // Divisor == Cache2[0][0]\n",
    "assert (Number>>1)  % Divisor == Cache2[0][1]\n",
    "j            = len(Cache2) - 1\n",
    "j0thDivision = (Number>>1) // (10**(399*(j  )))\n",
    "j1thDivision = (Number>>1) // (10**(399*(j+1)))\n",
    "assert j0thDivision != 0\n",
    "assert j1thDivision           == Cache2[j][0] == 0\n",
    "assert j0thDivision % Divisor == Cache2[j][1]\n",
    "assert j+1 not in Cache\n",
    "del j, j0thDivision, j1thDivision"
   ]
  },
  {
   "cell_type": "code",
   "execution_count": 201,
   "id": "c60c34a3",
   "metadata": {
    "hidden": true
   },
   "outputs": [
    {
     "data": {
      "text/plain": [
       "16.86626746506986"
      ]
     },
     "execution_count": 201,
     "metadata": {},
     "output_type": "execute_result"
    }
   ],
   "source": [
    "(845 * 100) / 5010"
   ]
  },
  {
   "cell_type": "markdown",
   "id": "e4664883",
   "metadata": {
    "hidden": true
   },
   "source": [
    "And suddenly, the cache building is much faster!  "
   ]
  },
  {
   "cell_type": "code",
   "execution_count": 68,
   "id": "d4483c47",
   "metadata": {
    "hidden": true
   },
   "outputs": [],
   "source": [
    "Steps        = [10_000, 100_000, 1_000_000, 10_000_000]\n",
    "BuildCacheMs = [ 0.998,    16.0,      1700,     125800]\n",
    "SkipDigitsMs = [  1.99,    54.9,      5010,     615000]"
   ]
  },
  {
   "cell_type": "code",
   "execution_count": null,
   "id": "5e0c22b5",
   "metadata": {
    "hidden": true
   },
   "outputs": [],
   "source": []
  },
  {
   "cell_type": "code",
   "execution_count": null,
   "id": "b1222b3a",
   "metadata": {
    "hidden": true
   },
   "outputs": [],
   "source": []
  },
  {
   "cell_type": "code",
   "execution_count": null,
   "id": "56e2eb6f",
   "metadata": {
    "hidden": true
   },
   "outputs": [],
   "source": []
  },
  {
   "cell_type": "code",
   "execution_count": null,
   "id": "a4482e28",
   "metadata": {
    "hidden": true
   },
   "outputs": [],
   "source": []
  },
  {
   "cell_type": "markdown",
   "id": "ada0373a",
   "metadata": {
    "heading_collapsed": true
   },
   "source": [
    "## Speed up modulo by using remainder instead of entire number"
   ]
  },
  {
   "cell_type": "markdown",
   "id": "df42531c",
   "metadata": {
    "hidden": true
   },
   "source": [
    "Testing if we can use the remainder of a division with a large multiple of 10 to speed up the computation of modulo 10."
   ]
  },
  {
   "cell_type": "code",
   "execution_count": 11,
   "id": "3d737f75",
   "metadata": {
    "hidden": true
   },
   "outputs": [],
   "source": [
    "N = 1<<1001"
   ]
  },
  {
   "cell_type": "code",
   "execution_count": 12,
   "id": "3695635f",
   "metadata": {
    "hidden": true
   },
   "outputs": [],
   "source": [
    "one = N % 10**1"
   ]
  },
  {
   "cell_type": "code",
   "execution_count": 13,
   "id": "e819cc58",
   "metadata": {
    "hidden": true
   },
   "outputs": [],
   "source": [
    "two = N % 10**2"
   ]
  },
  {
   "cell_type": "code",
   "execution_count": 14,
   "id": "08aaf4b4",
   "metadata": {
    "hidden": true
   },
   "outputs": [],
   "source": [
    "three = N % 10**3"
   ]
  },
  {
   "cell_type": "code",
   "execution_count": 15,
   "id": "ee519a91",
   "metadata": {
    "hidden": true
   },
   "outputs": [],
   "source": [
    "four = N % 10**4"
   ]
  },
  {
   "cell_type": "code",
   "execution_count": 16,
   "id": "e64f8371",
   "metadata": {
    "hidden": true
   },
   "outputs": [],
   "source": [
    "five = N % 10**5"
   ]
  },
  {
   "cell_type": "code",
   "execution_count": 17,
   "id": "f937ff4f",
   "metadata": {
    "hidden": true
   },
   "outputs": [],
   "source": [
    "six = N % 10**6"
   ]
  },
  {
   "cell_type": "code",
   "execution_count": 18,
   "id": "a3327e1f",
   "metadata": {
    "hidden": true
   },
   "outputs": [],
   "source": [
    "seven = N % 10**7"
   ]
  },
  {
   "cell_type": "code",
   "execution_count": 19,
   "id": "8c2bdcc1",
   "metadata": {
    "hidden": true
   },
   "outputs": [],
   "source": [
    "eight = N % 10**8"
   ]
  },
  {
   "cell_type": "code",
   "execution_count": 20,
   "id": "939505a9",
   "metadata": {
    "hidden": true
   },
   "outputs": [
    {
     "data": {
      "text/plain": [
       "(2, 52, 752, 8752, 38752, 138752, 6138752, 36138752)"
      ]
     },
     "execution_count": 20,
     "metadata": {},
     "output_type": "execute_result"
    }
   ],
   "source": [
    "one, two, three, four, five, six, seven, eight"
   ]
  },
  {
   "cell_type": "code",
   "execution_count": 122,
   "id": "2482e73d",
   "metadata": {
    "hidden": true
   },
   "outputs": [
    {
     "data": {
      "text/plain": [
       "42860344287450692837937001962400072422456192468221344297750015534814042044997444899727935152627834325103786916702125873007485811427692561743938310298794299215738271099296923941684298420249484567511816728612185899934327765069595070236662175784308251658284785910746168670641719326610497547348822672277504"
      ]
     },
     "execution_count": 122,
     "metadata": {},
     "output_type": "execute_result"
    }
   ],
   "source": [
    "N"
   ]
  },
  {
   "cell_type": "code",
   "execution_count": 123,
   "id": "4b39e776",
   "metadata": {
    "hidden": true
   },
   "outputs": [
    {
     "data": {
      "text/plain": [
       "42860344287450692837937001962400072422456192468221344297750015534814042044997444899727935152627834325103786916702125873007485811427692561743938310298794299215738271099296923941684298420249484567511816728612185899934327765069595070236662175784308251658284785910746168670641719326610497547348822672277504"
      ]
     },
     "execution_count": 123,
     "metadata": {},
     "output_type": "execute_result"
    }
   ],
   "source": [
    "N % 10**399"
   ]
  },
  {
   "cell_type": "markdown",
   "id": "d345f2eb",
   "metadata": {
    "hidden": true
   },
   "source": [
    "It seems like any time we do a `n mod 10**k`, we're really grabbing about the last k decimal digits of the number n. So if we then do a mod 10 afterwards on that value, we will get the result of n mod 10, without having to do the whole computation again.  \n",
    "With this realisation it's obvious that we can just take the modulo of the remainder instead of the entire number, saving massively on computation."
   ]
  },
  {
   "cell_type": "code",
   "execution_count": 209,
   "id": "c05c92fc",
   "metadata": {
    "hidden": true
   },
   "outputs": [],
   "source": [
    "profiler = LineProfiler()\n",
    "@profiler\n",
    "def count_sixes(N, D, Cache):\n",
    "    SixCounter    = 0\n",
    "    SixCounterMax = 0\n",
    "    j = 0\n",
    "    while N > 0:\n",
    "        # TODO: use continued division for this as well? Or can we just use the remainder instead of the number?\n",
    "        Digit = N % 10\n",
    "        if Digit == 6:\n",
    "            SixCounter   += 1\n",
    "            SixCounterMax = max(SixCounterMax, SixCounter)\n",
    "        else:\n",
    "            SixCounter = 0\n",
    "        try:\n",
    "            Q, R = Cache[j]\n",
    "            R    = (R << 1) | (N & 1)\n",
    "            if R >= D:\n",
    "                R = R - D\n",
    "                N = (Q << 1) | 1\n",
    "            else:\n",
    "                N = (Q << 1)\n",
    "        except KeyError:\n",
    "            R = N  % D\n",
    "            N = N // D\n",
    "        Cache[j] = N, R\n",
    "        j += 1\n",
    "    return SixCounterMax"
   ]
  },
  {
   "cell_type": "code",
   "execution_count": 213,
   "id": "a73ced89",
   "metadata": {
    "hidden": true
   },
   "outputs": [],
   "source": [
    "# This is the new version\n",
    "profiler = LineProfiler()\n",
    "@profiler\n",
    "def count_sixes(N, D, Cache):\n",
    "    SixCounter    = 0\n",
    "    SixCounterMax = 0\n",
    "    j = 0\n",
    "    while N > 0:\n",
    "        try:\n",
    "            Q, R = Cache[j]\n",
    "            R    = (R << 1) | (N & 1)\n",
    "            if R >= D:\n",
    "                R = R - D\n",
    "                N = (Q << 1) | 1\n",
    "            else:\n",
    "                N = (Q << 1)\n",
    "        except KeyError:\n",
    "            R = N  % D\n",
    "            N = N // D\n",
    "        Cache[j] = N, R\n",
    "        j += 1\n",
    "        \n",
    "        Digit = R % 10\n",
    "        if Digit == 6:\n",
    "            SixCounter   += 1\n",
    "            SixCounterMax = max(SixCounterMax, SixCounter)\n",
    "        else:\n",
    "            SixCounter = 0\n",
    "        \n",
    "    return SixCounterMax"
   ]
  },
  {
   "cell_type": "code",
   "execution_count": 214,
   "id": "116297e6",
   "metadata": {
    "hidden": true
   },
   "outputs": [
    {
     "name": "stdout",
     "output_type": "stream",
     "text": [
      "Building Cache...\n",
      "Done!\n",
      "CPU times: total: 31.2 ms\n",
      "Wall time: 18 ms\n"
     ]
    }
   ],
   "source": [
    "%%time\n",
    "i        = 100_000\n",
    "Number   = 1<<(i - 1)\n",
    "print('Building Cache...')\n",
    "Divisor = 10**399\n",
    "Cache   = {}\n",
    "count_sixes(Number, Divisor, Cache)\n",
    "Number = Number << 1\n",
    "print('Done!')"
   ]
  },
  {
   "cell_type": "code",
   "execution_count": 211,
   "id": "c4b40a2d",
   "metadata": {
    "hidden": true
   },
   "outputs": [
    {
     "name": "stdout",
     "output_type": "stream",
     "text": [
      "[2, 1, 2, 2, 1, 1, 2, 2, 2, 1, 2, 1, 2, 1, 2, 2, 1, 1, 2, 2, 2, 1, 2, 1, 3, 2, 1, 1, 2, 2, 1, 2, 1, 2, 1, 2, 2, 2, 1, 2, 1, 1, 1, 1, 2, 1, 2, 1, 2, 2, 2, 2, 2, 3, 1, 1, 1, 1, 1, 1, 2, 2, 3, 2, 3, 1, 2, 2, 2, 2, 2, 2, 2, 1, 2, 2, 2, 1, 6, 2, 2, 2, 2, 2, 1, 1, 2, 1, 1, 1, 3, 2, 2, 2, 1, 2, 2, 1, 1, 2, 1, 1, 2, 1, 2, 1, 1, 1, 1, 3, 1, 2, 1, 1, 2, 2, 2, 1, 1, 2, 2, 1, 1, 1, 2, 2, 2, 1, 2, 2, 3, 1, 1, 3, 2, 1, 2, 1, 1, 3, 2, 1, 2, 1, 2, 2, 1, 1, 2, 2, 2, 2, 2, 2, 2, 1, 2, 3, 2, 2, 1, 2, 3, 2, 2, 2, 1, 2, 1, 2, 2, 1, 1, 1, 3, 2, 1, 2, 1, 2, 2, 1, 3, 1, 1, 2, 2, 1, 2, 1, 3, 1, 1, 1, 1, 2, 2, 1, 2, 1, 1, 2, 2, 2, 1, 1, 2, 1, 2, 2, 1, 1, 1, 2, 1, 1, 2, 3, 2, 1, 2, 1, 1, 1, 1, 1, 2, 2, 2, 2, 2, 2, 2, 2, 1, 2, 2, 3, 2, 1, 1, 1, 2, 2, 2, 2, 1, 1, 2, 1, 2, 2, 1, 1, 1, 1, 2, 1, 2, 1, 2, 1, 2, 1, 1, 2, 3, 1, 1, 2, 2, 2, 1, 2, 2, 2, 1, 2, 2, 2, 1, 1, 2, 2, 1, 1, 1, 2, 2, 2, 2, 2, 1, 1, 2, 2, 3, 1, 1, 1, 3, 1, 2, 1, 2, 1, 2, 2, 1, 1, 1, 2, 2, 2, 2, 1, 1, 2, 4, 1, 1, 3, 1, 2, 1, 1, 1, 1, 3, 2, 1, 2, 2, 1, 1, 1, 2, 1, 2, 1, 2, 2, 3, 2, 3, 4, 1, 1, 1, 2, 1, 2, 1, 1, 2, 2, 1, 1, 1, 2, 1, 3, 1, 1, 2, 2, 1, 1, 2, 1, 1, 1, 1, 2, 1, 2, 2, 2, 2, 2, 1, 1, 1, 1, 1, 1, 2, 2, 2, 1, 2, 3, 2, 1, 2, 2, 2, 1, 1, 1, 2, 2, 2, 3, 2, 1, 1, 2, 2, 2, 1, 1, 1, 1, 2, 1, 1, 2, 2, 2, 2, 2, 1, 1, 2, 1, 1, 2, 1, 1, 2, 1, 1, 2, 2, 1, 2, 1, 2, 1, 2, 1, 1, 1, 2, 2, 1, 2, 1, 1, 1, 3, 2, 2, 1, 2, 1, 2, 2, 2, 1, 2, 1, 1, 2, 2, 2, 1, 1, 2, 2, 1, 3, 2, 3, 2, 2, 1, 2, 2, 1, 2, 1, 2, 2, 1, 2, 1, 1, 2, 1, 1, 1, 2, 1, 1, 1, 1, 3, 1, 3, 1, 1, 2, 1, 1, 1, 2, 4, 1, 2, 2, 2, 1, 2, 1, 2, 1, 1, 2, 2, 2, 1, 1, 1, 1, 2, 1, 1, 2, 1, 3, 1, 1, 2, 2, 1, 1, 1, 2, 2, 2, 2, 2, 2, 1, 2, 2, 2, 1, 1, 2, 2, 2, 2, 2, 1, 1, 1, 1, 2, 1, 1, 1, 2, 1, 2, 2, 1, 1, 2, 2, 1, 2, 1, 2, 3, 2, 1, 2, 2, 2, 1, 1, 2, 2, 2, 1, 1, 1, 1, 1, 2, 2, 2, 1, 1, 2, 1, 2, 2, 1, 3, 2, 1, 1, 2, 1, 1, 1, 1, 1, 2, 1, 1, 1, 1, 2, 2, 1, 1, 3, 1, 2, 1, 1, 1, 4, 3, 1, 1, 2, 2, 1, 3, 1, 1, 1, 1, 2, 3, 2, 2, 2, 2, 2, 2, 1, 1, 2, 1, 1, 2, 1, 2, 2, 3, 1, 1, 2, 1, 2, 2, 2, 2, 2, 2, 3, 2, 2, 1, 1, 1, 2, 1, 1, 1, 2, 1, 3, 2, 2, 1, 2, 2, 2, 2, 2, 2, 2, 1, 1, 1, 2, 2, 2, 1, 1, 2, 1, 3, 1, 1, 1, 2, 1, 1, 2, 2, 2, 2, 1, 2, 2, 2, 1, 1, 4, 2, 1, 2, 2, 2, 2, 1, 1, 1, 2, 2, 2, 1, 2, 1, 2, 2, 2, 2, 1, 2, 2, 1, 3, 2, 1, 2, 2, 2, 1, 1, 2, 2, 2, 2, 1, 3, 2, 3, 1, 1, 1, 1, 2, 3, 1, 3, 2, 2, 1, 2, 1, 2, 1, 2, 2, 1, 1, 1, 2, 1, 2, 2, 1, 1, 2, 2, 2, 3, 1, 2, 2, 2, 3, 1, 2, 2, 1, 2, 1, 2, 1, 2, 1, 1, 2, 2, 2, 2, 2, 2, 1, 2, 1, 2, 2, 2, 1, 3, 1, 1, 2, 1, 2, 1, 1, 2, 1, 1, 1, 1, 1, 2, 1, 2, 1, 2, 2, 2, 2, 1, 2, 1, 2, 1, 2, 2, 2, 1, 1, 2, 1, 2, 1, 2, 1, 1, 1, 1, 2, 1, 1, 2, 1, 2, 1, 1, 1, 2, 1, 1, 1, 1, 1, 3, 1, 1, 1, 1, 2, 1, 2, 1, 2, 2, 1, 1, 2, 3, 1, 1, 1, 2, 3, 1, 1, 1, 3, 3, 2, 1, 2, 2, 2, 2, 1, 2, 2, 1, 3, 1, 1, 1, 1, 1, 2, 1, 1, 1, 2, 1, 2, 3, 1, 2, 2, 2, 3, 1, 3, 1, 3, 2, 2, 2, 2, 2, 1, 1, 1, 1, 2, 2, 1, 2, 1, 3, 1, 1, 2, 2, 1, 2, 2, 1, 2, 1, 2, 2, 2, 2, 2, 3, 2, 2, 1, 2, 2, 2, 1, 2, 2, 1, 2, 1, 1, 1, 1, 3, 1, 2, 3, 2, 1, 1, 1, 2, 1, 2, 2, 2, 2, 1, 2, 1, 1, 1, 1, 2, 1, 1, 2]\n",
      "CPU times: total: 938 ms\n",
      "Wall time: 927 ms\n"
     ]
    }
   ],
   "source": [
    "%%time\n",
    "output = []\n",
    "for _ in range(1000):\n",
    "    output.append(count_sixes(Number, Divisor, Cache))\n",
    "    i      += 1\n",
    "    Number  = Number<<1\n",
    "print(output)"
   ]
  },
  {
   "cell_type": "code",
   "execution_count": 215,
   "id": "d01f1a7e",
   "metadata": {
    "hidden": true
   },
   "outputs": [
    {
     "name": "stdout",
     "output_type": "stream",
     "text": [
      "[2, 1, 2, 2, 1, 1, 2, 2, 2, 1, 2, 1, 2, 1, 2, 2, 1, 1, 2, 2, 2, 1, 2, 1, 3, 2, 1, 1, 2, 2, 1, 2, 1, 2, 1, 2, 2, 2, 1, 2, 1, 1, 1, 1, 2, 1, 2, 1, 2, 2, 2, 2, 2, 3, 1, 1, 1, 1, 1, 1, 2, 2, 3, 2, 3, 1, 2, 2, 2, 2, 2, 2, 2, 1, 2, 2, 2, 1, 6, 2, 2, 2, 2, 2, 1, 1, 2, 1, 1, 1, 3, 2, 2, 2, 1, 2, 2, 1, 1, 2, 1, 1, 2, 1, 2, 1, 1, 1, 1, 3, 1, 2, 1, 1, 2, 2, 2, 1, 1, 2, 2, 1, 1, 1, 2, 2, 2, 1, 2, 2, 3, 1, 1, 3, 2, 1, 2, 1, 1, 3, 2, 1, 2, 1, 2, 2, 1, 1, 2, 2, 2, 2, 2, 2, 2, 1, 2, 3, 2, 2, 1, 2, 3, 2, 2, 2, 1, 2, 1, 2, 2, 1, 1, 1, 3, 2, 1, 2, 1, 2, 2, 1, 3, 1, 1, 2, 2, 1, 2, 1, 3, 1, 1, 1, 1, 2, 2, 1, 2, 1, 1, 2, 2, 2, 1, 1, 2, 1, 2, 2, 1, 1, 1, 2, 1, 1, 2, 3, 2, 1, 2, 1, 1, 1, 1, 1, 2, 2, 2, 2, 2, 2, 2, 2, 1, 2, 2, 3, 2, 1, 1, 1, 2, 2, 2, 2, 1, 1, 2, 1, 2, 2, 1, 1, 1, 1, 2, 1, 2, 1, 2, 1, 2, 1, 1, 2, 3, 1, 1, 2, 2, 2, 1, 2, 2, 2, 1, 2, 2, 2, 1, 1, 2, 2, 1, 1, 1, 2, 2, 2, 2, 2, 1, 1, 2, 2, 3, 1, 1, 1, 3, 1, 2, 1, 2, 1, 2, 2, 1, 1, 1, 2, 2, 2, 2, 1, 1, 2, 4, 1, 1, 3, 1, 2, 1, 1, 1, 1, 3, 2, 1, 2, 2, 1, 1, 1, 2, 1, 2, 1, 2, 2, 3, 2, 3, 4, 1, 1, 1, 2, 1, 2, 1, 1, 2, 2, 1, 1, 1, 2, 1, 3, 1, 1, 2, 2, 1, 1, 2, 1, 1, 1, 1, 2, 1, 2, 2, 2, 2, 2, 1, 1, 1, 1, 1, 1, 2, 2, 2, 1, 2, 3, 2, 1, 2, 2, 2, 1, 1, 1, 2, 2, 2, 3, 2, 1, 1, 2, 2, 2, 1, 1, 1, 1, 2, 1, 1, 2, 2, 2, 2, 2, 1, 1, 2, 1, 1, 2, 1, 1, 2, 1, 1, 2, 2, 1, 2, 1, 2, 1, 2, 1, 1, 1, 2, 2, 1, 2, 1, 1, 1, 3, 2, 2, 1, 2, 1, 2, 2, 2, 1, 2, 1, 1, 2, 2, 2, 1, 1, 2, 2, 1, 3, 2, 3, 2, 2, 1, 2, 2, 1, 2, 1, 2, 2, 1, 2, 1, 1, 2, 1, 1, 1, 2, 1, 1, 1, 1, 3, 1, 3, 1, 1, 2, 1, 1, 1, 2, 4, 1, 2, 2, 2, 1, 2, 1, 2, 1, 1, 2, 2, 2, 1, 1, 1, 1, 2, 1, 1, 2, 1, 3, 1, 1, 2, 2, 1, 1, 1, 2, 2, 2, 2, 2, 2, 1, 2, 2, 2, 1, 1, 2, 2, 2, 2, 2, 1, 1, 1, 1, 2, 1, 1, 1, 2, 1, 2, 2, 1, 1, 2, 2, 1, 2, 1, 2, 3, 2, 1, 2, 2, 2, 1, 1, 2, 2, 2, 1, 1, 1, 1, 1, 2, 2, 2, 1, 1, 2, 1, 2, 2, 1, 3, 2, 1, 1, 2, 1, 1, 1, 1, 1, 2, 1, 1, 1, 1, 2, 2, 1, 1, 3, 1, 2, 1, 1, 1, 4, 3, 1, 1, 2, 2, 1, 3, 1, 1, 1, 1, 2, 3, 2, 2, 2, 2, 2, 2, 1, 1, 2, 1, 1, 2, 1, 2, 2, 3, 1, 1, 2, 1, 2, 2, 2, 2, 2, 2, 3, 2, 2, 1, 1, 1, 2, 1, 1, 1, 2, 1, 3, 2, 2, 1, 2, 2, 2, 2, 2, 2, 2, 1, 1, 1, 2, 2, 2, 1, 1, 2, 1, 3, 1, 1, 1, 2, 1, 1, 2, 2, 2, 2, 1, 2, 2, 2, 1, 1, 4, 2, 1, 2, 2, 2, 2, 1, 1, 1, 2, 2, 2, 1, 2, 1, 2, 2, 2, 2, 1, 2, 2, 1, 3, 2, 1, 2, 2, 2, 1, 1, 2, 2, 2, 2, 1, 3, 2, 3, 1, 1, 1, 1, 2, 3, 1, 3, 2, 2, 1, 2, 1, 2, 1, 2, 2, 1, 1, 1, 2, 1, 2, 2, 1, 1, 2, 2, 2, 3, 1, 2, 2, 2, 3, 1, 2, 2, 1, 2, 1, 2, 1, 2, 1, 1, 2, 2, 2, 2, 2, 2, 1, 2, 1, 2, 2, 2, 1, 3, 1, 1, 2, 1, 2, 1, 1, 2, 1, 1, 1, 1, 1, 2, 1, 2, 1, 2, 2, 2, 2, 1, 2, 1, 2, 1, 2, 2, 2, 1, 1, 2, 1, 2, 1, 2, 1, 1, 1, 1, 2, 1, 1, 2, 1, 2, 1, 1, 1, 2, 1, 1, 1, 1, 1, 3, 1, 1, 1, 1, 2, 1, 2, 1, 2, 2, 1, 1, 2, 3, 1, 1, 1, 2, 3, 1, 1, 1, 3, 3, 2, 1, 2, 2, 2, 2, 1, 2, 2, 1, 3, 1, 1, 1, 1, 1, 2, 1, 1, 1, 2, 1, 2, 3, 1, 2, 2, 2, 3, 1, 3, 1, 3, 2, 2, 2, 2, 2, 1, 1, 1, 1, 2, 2, 1, 2, 1, 3, 1, 1, 2, 2, 1, 2, 2, 1, 2, 1, 2, 2, 2, 2, 2, 3, 2, 2, 1, 2, 2, 2, 1, 2, 2, 1, 2, 1, 1, 1, 1, 3, 1, 2, 3, 2, 1, 1, 1, 2, 1, 2, 2, 2, 2, 1, 2, 1, 1, 1, 1, 2, 1, 1, 2]\n",
      "CPU times: total: 531 ms\n",
      "Wall time: 531 ms\n"
     ]
    }
   ],
   "source": [
    "%%time\n",
    "output = []\n",
    "for _ in range(1000):\n",
    "    output.append(count_sixes(Number, Divisor, Cache))\n",
    "    i      += 1\n",
    "    Number  = Number<<1\n",
    "print(output)"
   ]
  },
  {
   "cell_type": "code",
   "execution_count": null,
   "id": "aeb98f46",
   "metadata": {
    "hidden": true
   },
   "outputs": [],
   "source": []
  },
  {
   "cell_type": "code",
   "execution_count": 207,
   "id": "30fa451b",
   "metadata": {
    "hidden": true
   },
   "outputs": [
    {
     "data": {
      "text/plain": [
       "True"
      ]
     },
     "execution_count": 207,
     "metadata": {},
     "output_type": "execute_result"
    }
   ],
   "source": [
    "[2, 1, 2, 2, 1, 1, 2, 2, 2, 1, 2, 1, 2, 1, 2, 2, 1, 1, 2, 2, 2, 1, 2, 1, 3, 2, 1, 1, 2, 2, 1, 2, 1, 2, 1, 2, 2, 2, 1, 2, 1, 1, 1, 1, 2, 1, 2, 1, 2, 2, 2, 2, 2, 3, 1, 1, 1, 1, 1, 1, 2, 2, 3, 2, 3, 1, 2, 2, 2, 2, 2, 2, 2, 1, 2, 2, 2, 1, 6, 2, 2, 2, 2, 2, 1, 1, 2, 1, 1, 1, 3, 2, 2, 2, 1, 2, 2, 1, 1, 2, 1, 1, 2, 1, 2, 1, 1, 1, 1, 3, 1, 2, 1, 1, 2, 2, 2, 1, 1, 2, 2, 1, 1, 1, 2, 2, 2, 1, 2, 2, 3, 1, 1, 3, 2, 1, 2, 1, 1, 3, 2, 1, 2, 1, 2, 2, 1, 1, 2, 2, 2, 2, 2, 2, 2, 1, 2, 3, 2, 2, 1, 2, 3, 2, 2, 2, 1, 2, 1, 2, 2, 1, 1, 1, 3, 2, 1, 2, 1, 2, 2, 1, 3, 1, 1, 2, 2, 1, 2, 1, 3, 1, 1, 1, 1, 2, 2, 1, 2, 1, 1, 2, 2, 2, 1, 1, 2, 1, 2, 2, 1, 1, 1, 2, 1, 1, 2, 3, 2, 1, 2, 1, 1, 1, 1, 1, 2, 2, 2, 2, 2, 2, 2, 2, 1, 2, 2, 3, 2, 1, 1, 1, 2, 2, 2, 2, 1, 1, 2, 1, 2, 2, 1, 1, 1, 1, 2, 1, 2, 1, 2, 1, 2, 1, 1, 2, 3, 1, 1, 2, 2, 2, 1, 2, 2, 2, 1, 2, 2, 2, 1, 1, 2, 2, 1, 1, 1, 2, 2, 2, 2, 2, 1, 1, 2, 2, 3, 1, 1, 1, 3, 1, 2, 1, 2, 1, 2, 2, 1, 1, 1, 2, 2, 2, 2, 1, 1, 2, 4, 1, 1, 3, 1, 2, 1, 1, 1, 1, 3, 2, 1, 2, 2, 1, 1, 1, 2, 1, 2, 1, 2, 2, 3, 2, 3, 4, 1, 1, 1, 2, 1, 2, 1, 1, 2, 2, 1, 1, 1, 2, 1, 3, 1, 1, 2, 2, 1, 1, 2, 1, 1, 1, 1, 2, 1, 2, 2, 2, 2, 2, 1, 1, 1, 1, 1, 1, 2, 2, 2, 1, 2, 3, 2, 1, 2, 2, 2, 1, 1, 1, 2, 2, 2, 3, 2, 1, 1, 2, 2, 2, 1, 1, 1, 1, 2, 1, 1, 2, 2, 2, 2, 2, 1, 1, 2, 1, 1, 2, 1, 1, 2, 1, 1, 2, 2, 1, 2, 1, 2, 1, 2, 1, 1, 1, 2, 2, 1, 2, 1, 1, 1, 3, 2, 2, 1, 2, 1, 2, 2, 2, 1, 2, 1, 1, 2, 2, 2, 1, 1, 2, 2, 1, 3, 2, 3, 2, 2, 1, 2, 2, 1, 2, 1, 2, 2, 1, 2, 1, 1, 2, 1, 1, 1, 2, 1, 1, 1, 1, 3, 1, 3, 1, 1, 2, 1, 1, 1, 2, 4, 1, 2, 2, 2, 1, 2, 1, 2, 1, 1, 2, 2, 2, 1, 1, 1, 1, 2, 1, 1, 2, 1, 3, 1, 1, 2, 2, 1, 1, 1, 2, 2, 2, 2, 2, 2, 1, 2, 2, 2, 1, 1, 2, 2, 2, 2, 2, 1, 1, 1, 1, 2, 1, 1, 1, 2, 1, 2, 2, 1, 1, 2, 2, 1, 2, 1, 2, 3, 2, 1, 2, 2, 2, 1, 1, 2, 2, 2, 1, 1, 1, 1, 1, 2, 2, 2, 1, 1, 2, 1, 2, 2, 1, 3, 2, 1, 1, 2, 1, 1, 1, 1, 1, 2, 1, 1, 1, 1, 2, 2, 1, 1, 3, 1, 2, 1, 1, 1, 4, 3, 1, 1, 2, 2, 1, 3, 1, 1, 1, 1, 2, 3, 2, 2, 2, 2, 2, 2, 1, 1, 2, 1, 1, 2, 1, 2, 2, 3, 1, 1, 2, 1, 2, 2, 2, 2, 2, 2, 3, 2, 2, 1, 1, 1, 2, 1, 1, 1, 2, 1, 3, 2, 2, 1, 2, 2, 2, 2, 2, 2, 2, 1, 1, 1, 2, 2, 2, 1, 1, 2, 1, 3, 1, 1, 1, 2, 1, 1, 2, 2, 2, 2, 1, 2, 2, 2, 1, 1, 4, 2, 1, 2, 2, 2, 2, 1, 1, 1, 2, 2, 2, 1, 2, 1, 2, 2, 2, 2, 1, 2, 2, 1, 3, 2, 1, 2, 2, 2, 1, 1, 2, 2, 2, 2, 1, 3, 2, 3, 1, 1, 1, 1, 2, 3, 1, 3, 2, 2, 1, 2, 1, 2, 1, 2, 2, 1, 1, 1, 2, 1, 2, 2, 1, 1, 2, 2, 2, 3, 1, 2, 2, 2, 3, 1, 2, 2, 1, 2, 1, 2, 1, 2, 1, 1, 2, 2, 2, 2, 2, 2, 1, 2, 1, 2, 2, 2, 1, 3, 1, 1, 2, 1, 2, 1, 1, 2, 1, 1, 1, 1, 1, 2, 1, 2, 1, 2, 2, 2, 2, 1, 2, 1, 2, 1, 2, 2, 2, 1, 1, 2, 1, 2, 1, 2, 1, 1, 1, 1, 2, 1, 1, 2, 1, 2, 1, 1, 1, 2, 1, 1, 1, 1, 1, 3, 1, 1, 1, 1, 2, 1, 2, 1, 2, 2, 1, 1, 2, 3, 1, 1, 1, 2, 3, 1, 1, 1, 3, 3, 2, 1, 2, 2, 2, 2, 1, 2, 2, 1, 3, 1, 1, 1, 1, 1, 2, 1, 1, 1, 2, 1, 2, 3, 1, 2, 2, 2, 3, 1, 3, 1, 3, 2, 2, 2, 2, 2, 1, 1, 1, 1, 2, 2, 1, 2, 1, 3, 1, 1, 2, 2, 1, 2, 2, 1, 2, 1, 2, 2, 2, 2, 2, 3, 2, 2, 1, 2, 2, 2, 1, 2, 2, 1, 2, 1, 1, 1, 1, 3, 1, 2, 3, 2, 1, 1, 1, 2, 1, 2, 2, 2, 2, 1, 2, 1, 1, 1, 1, 2, 1, 1, 2] == [2, 1, 2, 2, 1, 1, 2, 2, 2, 1, 2, 1, 2, 1, 2, 2, 1, 1, 2, 2, 2, 1, 2, 1, 3, 2, 1, 1, 2, 2, 1, 2, 1, 2, 1, 2, 2, 2, 1, 2, 1, 1, 1, 1, 2, 1, 2, 1, 2, 2, 2, 2, 2, 3, 1, 1, 1, 1, 1, 1, 2, 2, 3, 2, 3, 1, 2, 2, 2, 2, 2, 2, 2, 1, 2, 2, 2, 1, 6, 2, 2, 2, 2, 2, 1, 1, 2, 1, 1, 1, 3, 2, 2, 2, 1, 2, 2, 1, 1, 2, 1, 1, 2, 1, 2, 1, 1, 1, 1, 3, 1, 2, 1, 1, 2, 2, 2, 1, 1, 2, 2, 1, 1, 1, 2, 2, 2, 1, 2, 2, 3, 1, 1, 3, 2, 1, 2, 1, 1, 3, 2, 1, 2, 1, 2, 2, 1, 1, 2, 2, 2, 2, 2, 2, 2, 1, 2, 3, 2, 2, 1, 2, 3, 2, 2, 2, 1, 2, 1, 2, 2, 1, 1, 1, 3, 2, 1, 2, 1, 2, 2, 1, 3, 1, 1, 2, 2, 1, 2, 1, 3, 1, 1, 1, 1, 2, 2, 1, 2, 1, 1, 2, 2, 2, 1, 1, 2, 1, 2, 2, 1, 1, 1, 2, 1, 1, 2, 3, 2, 1, 2, 1, 1, 1, 1, 1, 2, 2, 2, 2, 2, 2, 2, 2, 1, 2, 2, 3, 2, 1, 1, 1, 2, 2, 2, 2, 1, 1, 2, 1, 2, 2, 1, 1, 1, 1, 2, 1, 2, 1, 2, 1, 2, 1, 1, 2, 3, 1, 1, 2, 2, 2, 1, 2, 2, 2, 1, 2, 2, 2, 1, 1, 2, 2, 1, 1, 1, 2, 2, 2, 2, 2, 1, 1, 2, 2, 3, 1, 1, 1, 3, 1, 2, 1, 2, 1, 2, 2, 1, 1, 1, 2, 2, 2, 2, 1, 1, 2, 4, 1, 1, 3, 1, 2, 1, 1, 1, 1, 3, 2, 1, 2, 2, 1, 1, 1, 2, 1, 2, 1, 2, 2, 3, 2, 3, 4, 1, 1, 1, 2, 1, 2, 1, 1, 2, 2, 1, 1, 1, 2, 1, 3, 1, 1, 2, 2, 1, 1, 2, 1, 1, 1, 1, 2, 1, 2, 2, 2, 2, 2, 1, 1, 1, 1, 1, 1, 2, 2, 2, 1, 2, 3, 2, 1, 2, 2, 2, 1, 1, 1, 2, 2, 2, 3, 2, 1, 1, 2, 2, 2, 1, 1, 1, 1, 2, 1, 1, 2, 2, 2, 2, 2, 1, 1, 2, 1, 1, 2, 1, 1, 2, 1, 1, 2, 2, 1, 2, 1, 2, 1, 2, 1, 1, 1, 2, 2, 1, 2, 1, 1, 1, 3, 2, 2, 1, 2, 1, 2, 2, 2, 1, 2, 1, 1, 2, 2, 2, 1, 1, 2, 2, 1, 3, 2, 3, 2, 2, 1, 2, 2, 1, 2, 1, 2, 2, 1, 2, 1, 1, 2, 1, 1, 1, 2, 1, 1, 1, 1, 3, 1, 3, 1, 1, 2, 1, 1, 1, 2, 4, 1, 2, 2, 2, 1, 2, 1, 2, 1, 1, 2, 2, 2, 1, 1, 1, 1, 2, 1, 1, 2, 1, 3, 1, 1, 2, 2, 1, 1, 1, 2, 2, 2, 2, 2, 2, 1, 2, 2, 2, 1, 1, 2, 2, 2, 2, 2, 1, 1, 1, 1, 2, 1, 1, 1, 2, 1, 2, 2, 1, 1, 2, 2, 1, 2, 1, 2, 3, 2, 1, 2, 2, 2, 1, 1, 2, 2, 2, 1, 1, 1, 1, 1, 2, 2, 2, 1, 1, 2, 1, 2, 2, 1, 3, 2, 1, 1, 2, 1, 1, 1, 1, 1, 2, 1, 1, 1, 1, 2, 2, 1, 1, 3, 1, 2, 1, 1, 1, 4, 3, 1, 1, 2, 2, 1, 3, 1, 1, 1, 1, 2, 3, 2, 2, 2, 2, 2, 2, 1, 1, 2, 1, 1, 2, 1, 2, 2, 3, 1, 1, 2, 1, 2, 2, 2, 2, 2, 2, 3, 2, 2, 1, 1, 1, 2, 1, 1, 1, 2, 1, 3, 2, 2, 1, 2, 2, 2, 2, 2, 2, 2, 1, 1, 1, 2, 2, 2, 1, 1, 2, 1, 3, 1, 1, 1, 2, 1, 1, 2, 2, 2, 2, 1, 2, 2, 2, 1, 1, 4, 2, 1, 2, 2, 2, 2, 1, 1, 1, 2, 2, 2, 1, 2, 1, 2, 2, 2, 2, 1, 2, 2, 1, 3, 2, 1, 2, 2, 2, 1, 1, 2, 2, 2, 2, 1, 3, 2, 3, 1, 1, 1, 1, 2, 3, 1, 3, 2, 2, 1, 2, 1, 2, 1, 2, 2, 1, 1, 1, 2, 1, 2, 2, 1, 1, 2, 2, 2, 3, 1, 2, 2, 2, 3, 1, 2, 2, 1, 2, 1, 2, 1, 2, 1, 1, 2, 2, 2, 2, 2, 2, 1, 2, 1, 2, 2, 2, 1, 3, 1, 1, 2, 1, 2, 1, 1, 2, 1, 1, 1, 1, 1, 2, 1, 2, 1, 2, 2, 2, 2, 1, 2, 1, 2, 1, 2, 2, 2, 1, 1, 2, 1, 2, 1, 2, 1, 1, 1, 1, 2, 1, 1, 2, 1, 2, 1, 1, 1, 2, 1, 1, 1, 1, 1, 3, 1, 1, 1, 1, 2, 1, 2, 1, 2, 2, 1, 1, 2, 3, 1, 1, 1, 2, 3, 1, 1, 1, 3, 3, 2, 1, 2, 2, 2, 2, 1, 2, 2, 1, 3, 1, 1, 1, 1, 1, 2, 1, 1, 1, 2, 1, 2, 3, 1, 2, 2, 2, 3, 1, 3, 1, 3, 2, 2, 2, 2, 2, 1, 1, 1, 1, 2, 2, 1, 2, 1, 3, 1, 1, 2, 2, 1, 2, 2, 1, 2, 1, 2, 2, 2, 2, 2, 3, 2, 2, 1, 2, 2, 2, 1, 2, 2, 1, 2, 1, 1, 1, 1, 3, 1, 2, 3, 2, 1, 1, 1, 2, 1, 2, 2, 2, 2, 1, 2, 1, 1, 1, 1, 2, 1, 1, 2]"
   ]
  },
  {
   "cell_type": "code",
   "execution_count": null,
   "id": "6fc469c9",
   "metadata": {
    "hidden": true
   },
   "outputs": [],
   "source": []
  },
  {
   "cell_type": "code",
   "execution_count": 212,
   "id": "46781e27",
   "metadata": {
    "hidden": true
   },
   "outputs": [
    {
     "name": "stdout",
     "output_type": "stream",
     "text": [
      "Timer unit: 1e-07 s\n",
      "\n",
      "Total time: 0.7823 s\n",
      "File: C:\\Users\\Florian\\AppData\\Local\\Temp\\ipykernel_16104\\356962432.py\n",
      "Function: count_sixes at line 2\n",
      "\n",
      "Line #      Hits         Time  Per Hit   % Time  Line Contents\n",
      "==============================================================\n",
      "     2                                           @profiler\n",
      "     3                                           def count_sixes(N, D, Cache):\n",
      "     4      1001       2489.0      2.5      0.0      SixCounter    = 0\n",
      "     5      1001       2437.0      2.4      0.0      SixCounterMax = 0\n",
      "     6      1001       2445.0      2.4      0.0      j = 0\n",
      "     7     77342     190859.0      2.5      2.4      while N > 0:\n",
      "     8                                                   # TODO: use continued division for this as well? Or can we just use the remainder instead of the number?\n",
      "     9     76341    4213638.0     55.2     53.9          Digit = N % 10\n",
      "    10     76341     188286.0      2.5      2.4          if Digit == 6:\n",
      "    11      7925      21975.0      2.8      0.3              SixCounter   += 1\n",
      "    12      7925      35430.0      4.5      0.5              SixCounterMax = max(SixCounterMax, SixCounter)\n",
      "    13                                                   else:\n",
      "    14     68416     151814.0      2.2      1.9              SixCounter = 0\n",
      "    15     76341     181691.0      2.4      2.3          try:\n",
      "    16     76341     277656.0      3.6      3.5              Q, R = Cache[j]\n",
      "    17     76264     328502.0      4.3      4.2              R    = (R << 1) | (N & 1)\n",
      "    18     76264     203579.0      2.7      2.6              if R >= D:\n",
      "    19     37555     127724.0      3.4      1.6                  R = R - D\n",
      "    20     37555     682596.0     18.2      8.7                  N = (Q << 1) | 1\n",
      "    21                                                       else:\n",
      "    22     38709     568181.0     14.7      7.3                  N = (Q << 1)\n",
      "    23        77        556.0      7.2      0.0          except KeyError:\n",
      "    24        77      86757.0   1126.7      1.1              R = N  % D\n",
      "    25        77      81299.0   1055.8      1.0              N = N // D\n",
      "    26     76341     285985.0      3.7      3.7          Cache[j] = N, R\n",
      "    27     76341     186402.0      2.4      2.4          j += 1\n",
      "    28      1001       2698.0      2.7      0.0      return SixCounterMax\n",
      "\n"
     ]
    }
   ],
   "source": [
    "profiler.print_stats()"
   ]
  },
  {
   "cell_type": "code",
   "execution_count": 216,
   "id": "f25b2ecf",
   "metadata": {
    "hidden": true
   },
   "outputs": [
    {
     "name": "stdout",
     "output_type": "stream",
     "text": [
      "Timer unit: 1e-07 s\n",
      "\n",
      "Total time: 0.388465 s\n",
      "File: C:\\Users\\Florian\\AppData\\Local\\Temp\\ipykernel_16104\\3149308276.py\n",
      "Function: count_sixes at line 2\n",
      "\n",
      "Line #      Hits         Time  Per Hit   % Time  Line Contents\n",
      "==============================================================\n",
      "     2                                           @profiler\n",
      "     3                                           def count_sixes(N, D, Cache):\n",
      "     4      1001       2521.0      2.5      0.1      SixCounter    = 0\n",
      "     5      1001       2312.0      2.3      0.1      SixCounterMax = 0\n",
      "     6      1001       2215.0      2.2      0.1      j = 0\n",
      "     7     77342     194824.0      2.5      5.0      while N > 0:\n",
      "     8     76341     157660.0      2.1      4.1          try:\n",
      "     9     76341     265909.0      3.5      6.8              Q, R = Cache[j]\n",
      "    10     76264     315681.0      4.1      8.1              R    = (R << 1) | (N & 1)\n",
      "    11     76264     196525.0      2.6      5.1              if R >= D:\n",
      "    12     37555     124209.0      3.3      3.2                  R = R - D\n",
      "    13     37555     677981.0     18.1     17.5                  N = (Q << 1) | 1\n",
      "    14                                                       else:\n",
      "    15     38709     567920.0     14.7     14.6                  N = (Q << 1)\n",
      "    16        77        388.0      5.0      0.0          except KeyError:\n",
      "    17        77      87816.0   1140.5      2.3              R = N  % D\n",
      "    18        77      83535.0   1084.9      2.2              N = N // D\n",
      "    19     76341     277401.0      3.6      7.1          Cache[j] = N, R\n",
      "    20     76341     201734.0      2.6      5.2          j += 1\n",
      "    21                                                   \n",
      "    22     76341     314715.0      4.1      8.1          Digit = R % 10\n",
      "    23     76341     202558.0      2.7      5.2          if Digit == 6:\n",
      "    24      7925      22448.0      2.8      0.6              SixCounter   += 1\n",
      "    25      7925      34297.0      4.3      0.9              SixCounterMax = max(SixCounterMax, SixCounter)\n",
      "    26                                                   else:\n",
      "    27     68416     149130.0      2.2      3.8              SixCounter = 0\n",
      "    28                                                   \n",
      "    29      1001       2871.0      2.9      0.1      return SixCounterMax\n",
      "\n"
     ]
    }
   ],
   "source": [
    "profiler.print_stats()"
   ]
  },
  {
   "cell_type": "markdown",
   "id": "2eb32ae7",
   "metadata": {
    "heading_collapsed": true
   },
   "source": [
    "## Improve Candidate selection"
   ]
  },
  {
   "cell_type": "markdown",
   "id": "24e084ce",
   "metadata": {
    "hidden": true
   },
   "source": [
    "So far we're checking every 399th digit of the number for a six, and if we find five such sixes in a row anywhere in the number, we declare the number a candidate for more thorough checking. This works very good and has given us a massive speedup already. However since the numbers are growing bigger and bigger, the chance of finding a candidate in this way also go up. At the start the probability was about 0.3%, but now it's become over 2%. This is not ideal since the thorough check is very expensive, and we want to do as little of them as possible.  \n",
    "To reduce the likelyhood of detecting a candidate, we can simply check more digits. The more digits we check, the slower we progress however.  \n",
    "What we've done here is to check more digits, but only if we've already detected 5 sixes in the usual way. On the fast pass this is only a single if statement more whenever we hit a six, and on the slow pass, we now just start checking k digits between the 4th and 5th segment where we have already found the sixes at the start and end. All of these digits need to be sixes in order to be a goliath number, so a single non six immediately stops our search, and we continue with taking large strides through the digits of the number."
   ]
  },
  {
   "cell_type": "code",
   "execution_count": 149,
   "id": "113cccd1",
   "metadata": {
    "hidden": true
   },
   "outputs": [],
   "source": [
    "def count_sixes_old(N, D, Cache):\n",
    "    SixCounter    = 0\n",
    "    SixCounterMax = 0\n",
    "    j = 0\n",
    "    while N > 0:\n",
    "        try:\n",
    "            Q, R = Cache[j]\n",
    "            R    = (R << 1) | (N & 1)\n",
    "            if R >= D:\n",
    "                R = R - D\n",
    "                N = (Q << 1) | 1\n",
    "            else:\n",
    "                N = (Q << 1)\n",
    "        except KeyError:\n",
    "            R = N  % D\n",
    "            N = N // D\n",
    "        Cache[j] = N, R\n",
    "        j += 1\n",
    "        \n",
    "        Digit = R % 10\n",
    "        if Digit == 6:\n",
    "            SixCounter   += 1\n",
    "            SixCounterMax = max(SixCounterMax, SixCounter)\n",
    "        else:\n",
    "            SixCounter = 0\n",
    "        \n",
    "    return SixCounterMax"
   ]
  },
  {
   "cell_type": "code",
   "execution_count": 151,
   "id": "cca01995",
   "metadata": {
    "hidden": true
   },
   "outputs": [],
   "source": [
    "profiler = LineProfiler()\n",
    "@profiler\n",
    "def count_sixes(N, D, Cache, k=1):\n",
    "    SixCounter    = 0\n",
    "    SixCounterMax = 0\n",
    "    j = 0\n",
    "    while N > 0:\n",
    "        try:\n",
    "            Q, R = Cache[j]\n",
    "            R    = (R << 1) | (N & 1)\n",
    "            if R >= D:\n",
    "                R = R - D\n",
    "                N = (Q << 1) | 1\n",
    "            else:\n",
    "                N = (Q << 1)\n",
    "        except KeyError:\n",
    "            R = N  % D\n",
    "            N = N // D\n",
    "        Cache[j] = N, R\n",
    "        \n",
    "        Digit = R % 10\n",
    "        if Digit == 6:\n",
    "            SixCounter += 1\n",
    "            if SixCounter == 5:\n",
    "                # Go back and run a more expensive check to reduce likelyhood of selecting (wrong) candidates.\n",
    "                # If this is a goliath number, then this needs to now be all sixes.\n",
    "                R = (Cache[j-1][1]) // 10 # We already know the last digit is a six, so skip it.\n",
    "                for _ in range(k):\n",
    "                    Digit = R % 10\n",
    "                    if Digit == 6:\n",
    "                        R = R // 10\n",
    "                    else:\n",
    "                        SixCounter = 1 # Set to one because the digit here at j is actually a 6.\n",
    "                        break\n",
    "            SixCounterMax = max(SixCounterMax, SixCounter) # This is not in the else block to support k = 0\n",
    "        else:\n",
    "            SixCounter = 0\n",
    "        j += 1\n",
    "    return SixCounterMax"
   ]
  },
  {
   "cell_type": "code",
   "execution_count": 54,
   "id": "f75b0a77",
   "metadata": {
    "hidden": true
   },
   "outputs": [
    {
     "name": "stdout",
     "output_type": "stream",
     "text": [
      "Building Cache...\n",
      "1\n",
      "Done!\n",
      "CPU times: total: 15.6 ms\n",
      "Wall time: 17.1 ms\n"
     ]
    }
   ],
   "source": [
    "%%time\n",
    "i        = 100_000\n",
    "Divisor = 10**399"
   ]
  },
  {
   "cell_type": "code",
   "execution_count": 66,
   "id": "a6b22fb4",
   "metadata": {
    "hidden": true
   },
   "outputs": [],
   "source": [
    "G = int('666'*666)"
   ]
  },
  {
   "cell_type": "code",
   "execution_count": 153,
   "id": "1ddb0a67",
   "metadata": {
    "hidden": true
   },
   "outputs": [
    {
     "name": "stdout",
     "output_type": "stream",
     "text": [
      "CPU times: total: 3.3 s\n",
      "Wall time: 3.3 s\n"
     ]
    },
    {
     "data": {
      "text/plain": [
       "4"
      ]
     },
     "execution_count": 153,
     "metadata": {},
     "output_type": "execute_result"
    }
   ],
   "source": [
    "%%time\n",
    "i      = 1_400_052\n",
    "Number = 1<<(i)\n",
    "count_sixes(Number, Divisor, {}, k=2)"
   ]
  },
  {
   "cell_type": "code",
   "execution_count": 154,
   "id": "b61428ee",
   "metadata": {
    "hidden": true
   },
   "outputs": [
    {
     "data": {
      "text/plain": [
       "5"
      ]
     },
     "execution_count": 154,
     "metadata": {},
     "output_type": "execute_result"
    }
   ],
   "source": [
    "count_sixes_old(Number, Divisor, {})"
   ]
  },
  {
   "cell_type": "markdown",
   "id": "4c9f6877",
   "metadata": {
    "heading_collapsed": true
   },
   "source": [
    "## Only store the last bit of each number, and the remainder?"
   ]
  },
  {
   "cell_type": "markdown",
   "id": "fa97a964",
   "metadata": {
    "hidden": true
   },
   "source": [
    "Currently, for each step we take through the 399 size chunks of the number, we're storing the entire number left at that point, as well as the remainder. This is already a red flag, since if our cache is p segments long, that means that the very last segment (the very beginning of the number) is stored p times. The p-1 th segment is stored p-1 times and so on, essentially creating a huge triangle if we were to visualise the data.  \n",
    "When we look at the algorithm, we really only need the remainder and the last bit of the previous number. Even when we miss the cache, we have a pretty good idea of what the next number should be. Do some more testing, but a new segment added to the cache should always be a zero at first, and some remainder. "
   ]
  },
  {
   "cell_type": "code",
   "execution_count": 423,
   "id": "4942d1c7",
   "metadata": {
    "hidden": true
   },
   "outputs": [],
   "source": [
    "def count_sixes_old(N, D, Cache, k=1):\n",
    "    SixCounter    = 0\n",
    "    SixCounterMax = 0\n",
    "    j = 0\n",
    "    while N > 0:\n",
    "        try:\n",
    "            Q, R = Cache[j]\n",
    "            R    = (R << 1) | (N & 1)\n",
    "            if R >= D:\n",
    "                R = R - D\n",
    "                N = (Q << 1) | 1\n",
    "            else:\n",
    "                N = (Q << 1)\n",
    "        except KeyError:\n",
    "            R = N  % D\n",
    "            N = N // D\n",
    "        Cache[j] = N, R\n",
    "        \n",
    "        Digit = R % 10\n",
    "        if Digit == 6:\n",
    "            SixCounter += 1\n",
    "            if SixCounter == 5:\n",
    "                R = (Cache[j-1][1]) // 10\n",
    "                for _ in range(k):\n",
    "                    Digit = R % 10\n",
    "                    if Digit == 6:\n",
    "                        R = R // 10\n",
    "                    else:\n",
    "                        SixCounter = 1\n",
    "                        break\n",
    "            SixCounterMax = max(SixCounterMax, SixCounter)\n",
    "        else:\n",
    "            SixCounter = 0\n",
    "        j += 1\n",
    "    return SixCounterMax"
   ]
  },
  {
   "cell_type": "code",
   "execution_count": 424,
   "id": "02c1b6fe",
   "metadata": {
    "hidden": true
   },
   "outputs": [],
   "source": [
    "def RebuildCacheOld(LastNumber):\n",
    "    \"\"\"If the cache gets corrupted, use this to rebuild it.\n",
    "    Be warned, this can take multiple seconds!\"\"\"\n",
    "    Cache = {}\n",
    "    i      = LastNumber\n",
    "    Number = 1<<(i - 1)\n",
    "    N = Number\n",
    "    D = 10**399\n",
    "    j = 0\n",
    "    while N > 0:\n",
    "        R = N  % D\n",
    "        N = N // D\n",
    "        Cache[j] = N, R\n",
    "        j += 1\n",
    "    return i, (Number<<1), D, Cache"
   ]
  },
  {
   "cell_type": "code",
   "execution_count": 425,
   "id": "6030bbf7",
   "metadata": {
    "hidden": true
   },
   "outputs": [],
   "source": [
    "def VerifyCacheOld(i, Number, Divisor, Cache):\n",
    "    'If all of these checks pass, then it should be fine to use these values to continue the search.'\n",
    "    assert Number  == 1<<i\n",
    "    assert Divisor == 10**399\n",
    "    assert (Number>>1) // Divisor == Cache[0][0]\n",
    "    assert (Number>>1)  % Divisor == Cache[0][1]\n",
    "    j            = len(Cache) - 1\n",
    "    j0thDivision = (Number>>1) // (10**(399*(j  )))\n",
    "    j1thDivision = (Number>>1) // (10**(399*(j+1)))\n",
    "    assert j0thDivision != 0\n",
    "    assert j0thDivision           == Cache[j-1][0]\n",
    "    assert j1thDivision           == Cache[j][0] == 0\n",
    "    assert j0thDivision % Divisor == Cache[j][1]\n",
    "    assert j+1 not in Cache"
   ]
  },
  {
   "cell_type": "code",
   "execution_count": 428,
   "id": "c7b8afdd",
   "metadata": {
    "hidden": true
   },
   "outputs": [],
   "source": [
    "def RebuildCache(LastNumber):\n",
    "    \"\"\"If the cache gets corrupted, use this to rebuild it.\n",
    "    Be warned, this can take multiple seconds!\"\"\"\n",
    "    i = LastNumber\n",
    "    N = 1<<(i - 1)\n",
    "    D = 10**399\n",
    "    Cache = []\n",
    "    while N > 0:\n",
    "        R = N  % D\n",
    "        N = N // D\n",
    "        Cache.append(R)\n",
    "    return i, D, Cache"
   ]
  },
  {
   "cell_type": "code",
   "execution_count": 429,
   "id": "4cc1a5c8",
   "metadata": {
    "hidden": true
   },
   "outputs": [],
   "source": [
    "def VerifyCache(i, Divisor, Cache):\n",
    "    'If all of these checks pass, then it should be fine to use these values to continue the search.'\n",
    "    Number = 1<<(i - 1)\n",
    "    assert Divisor == 10**399\n",
    "    assert Number % Divisor == Cache[0]\n",
    "    j            = len(Cache) - 1\n",
    "    j0thDivision = Number // (10**(399*(j  )))\n",
    "    j1thDivision = Number // (10**(399*(j+1)))\n",
    "    assert j0thDivision != 0\n",
    "    assert j1thDivision == 0\n",
    "    assert j0thDivision % Divisor == Cache[j]\n",
    "    assert Cache[-1] != 0"
   ]
  },
  {
   "cell_type": "markdown",
   "id": "44602d89",
   "metadata": {
    "hidden": true
   },
   "source": [
    "We iterate until N is no longer larger than 0, which means that at the last step, N will have to have been 0 for the loop to end.  \n",
    "Let's say it is, then it can either be already in the cache, or it can be missing from the cache. In the case where we have a cache hit, we will increase R as usual and then check if it's become larger than D or not. If it hasn't, then N doesn't change. Shifting a zero to the left doesn't change the number, so it's still a zero, and the loop ends.  \n",
    "If R has become larger than D, then we decrease R again, again shift the zero to the left, but now also \"and\" it with one. This means N is now 1, which means that the loop will continue.  \n",
    "We will now enter the case where we have a cache miss.  \n",
    "The new N and R are calculated by dividing the previous N, and taking the modulo of N respectively, each with the given Divisor. But we already know that the previous N must be a 1. Since D is larger than one, a floor division between 1 and D will always give 0 as the answer. Similarly, 1 mod D will always give 1 as the answer.  \n",
    "This means the new N will be 0, and the new R will be 1, no matter what happened in the iteration before."
   ]
  },
  {
   "cell_type": "code",
   "execution_count": 437,
   "id": "9eccaff2",
   "metadata": {
    "hidden": true
   },
   "outputs": [],
   "source": [
    "# profiler = LineProfiler()\n",
    "# @profiler\n",
    "def count_sixes(D, Cache, k=1):\n",
    "    SixCounter    = 0\n",
    "    SixCounterMax = 0\n",
    "    N = 0\n",
    "    J = len(Cache)\n",
    "    for j in range(J):\n",
    "        R = (Cache[j] << 1) | N\n",
    "        if R >= D:\n",
    "            R = R - D\n",
    "            N = 1\n",
    "        else:\n",
    "            N = 0\n",
    "        Cache[j] = R\n",
    "        \n",
    "        Digit = R % 10\n",
    "        if Digit == 6:\n",
    "            SixCounter += 1\n",
    "            if SixCounter == 5:\n",
    "                R = (Cache[j-1]) // 10\n",
    "                for _ in range(k):\n",
    "                    Digit = R % 10\n",
    "                    if Digit == 6:\n",
    "                        R = R // 10\n",
    "                    else:\n",
    "                        SixCounter = 1\n",
    "                        break\n",
    "            SixCounterMax = max(SixCounterMax, SixCounter)\n",
    "        else:\n",
    "            SixCounter = 0\n",
    "    if N > 0:\n",
    "        # print('hi')\n",
    "        # Cache[J] = 1\n",
    "        Cache.append(1)\n",
    "    return SixCounterMax"
   ]
  },
  {
   "cell_type": "code",
   "execution_count": 447,
   "id": "4f3b4555",
   "metadata": {
    "hidden": true,
    "scrolled": true
   },
   "outputs": [
    {
     "name": "stdout",
     "output_type": "stream",
     "text": [
      "CPU times: total: 1.64 s\n",
      "Wall time: 1.64 s\n"
     ]
    }
   ],
   "source": [
    "%%time\n",
    "i, Number, Divisor, Cache = RebuildCacheOld(1_000_000)\n",
    "VerifyCacheOld(i, Number, Divisor, Cache)"
   ]
  },
  {
   "cell_type": "code",
   "execution_count": 448,
   "id": "cccf9c08",
   "metadata": {
    "hidden": true
   },
   "outputs": [
    {
     "name": "stdout",
     "output_type": "stream",
     "text": [
      "CPU times: total: 9.94 s\n",
      "Wall time: 9.96 s\n"
     ]
    }
   ],
   "source": [
    "%%time\n",
    "output = []\n",
    "for _ in range(1000):\n",
    "    output.append(count_sixes_old(Number, Divisor, Cache))\n",
    "    i      += 1\n",
    "    Number  = Number<<1"
   ]
  },
  {
   "cell_type": "code",
   "execution_count": null,
   "id": "6f8b086f",
   "metadata": {
    "hidden": true
   },
   "outputs": [],
   "source": [
    "# New"
   ]
  },
  {
   "cell_type": "code",
   "execution_count": 449,
   "id": "8a6c70fe",
   "metadata": {
    "hidden": true,
    "scrolled": true
   },
   "outputs": [
    {
     "name": "stdout",
     "output_type": "stream",
     "text": [
      "CPU times: total: 1.62 s\n",
      "Wall time: 1.64 s\n"
     ]
    }
   ],
   "source": [
    "%%time\n",
    "i, Divisor, Cache = RebuildCache(1_000_000)\n",
    "VerifyCache(i, Divisor, Cache)"
   ]
  },
  {
   "cell_type": "code",
   "execution_count": 450,
   "id": "cac0d378",
   "metadata": {
    "hidden": true
   },
   "outputs": [
    {
     "name": "stdout",
     "output_type": "stream",
     "text": [
      "CPU times: total: 297 ms\n",
      "Wall time: 305 ms\n"
     ]
    }
   ],
   "source": [
    "%%time\n",
    "output2 = []\n",
    "for _ in range(1_000):\n",
    "    output2.append(count_sixes(Divisor, Cache))\n",
    "    i      += 1"
   ]
  },
  {
   "cell_type": "code",
   "execution_count": 451,
   "id": "1c574ec1",
   "metadata": {
    "hidden": true
   },
   "outputs": [
    {
     "data": {
      "text/plain": [
       "True"
      ]
     },
     "execution_count": 451,
     "metadata": {},
     "output_type": "execute_result"
    }
   ],
   "source": [
    "output == output2"
   ]
  },
  {
   "cell_type": "code",
   "execution_count": 455,
   "id": "50fef198",
   "metadata": {
    "hidden": true
   },
   "outputs": [],
   "source": [
    "VerifyCache(i, Divisor, Cache)"
   ]
  },
  {
   "cell_type": "markdown",
   "id": "e8dbd2ee",
   "metadata": {
    "hidden": true
   },
   "source": [
    "Crushing defeat!!!  \n",
    "\n",
    "The new version is at least 5x faster than the old one."
   ]
  },
  {
   "cell_type": "code",
   "execution_count": 418,
   "id": "890f0304",
   "metadata": {
    "hidden": true
   },
   "outputs": [
    {
     "name": "stdout",
     "output_type": "stream",
     "text": [
      "Timer unit: 1e-07 s\n",
      "\n",
      "Total time: 7.88987 s\n",
      "File: C:\\Users\\Florian\\AppData\\Local\\Temp\\ipykernel_20112\\3990742229.py\n",
      "Function: count_sixes at line 2\n",
      "\n",
      "Line #      Hits         Time  Per Hit   % Time  Line Contents\n",
      "==============================================================\n",
      "     2                                           @profiler\n",
      "     3                                           def count_sixes(D, Cache, k=1):\n",
      "     4      1000       4742.0      4.7      0.0      SixCounter    = 0\n",
      "     5      1000       3561.0      3.6      0.0      SixCounterMax = 0\n",
      "     6      1000       2571.0      2.6      0.0      N = 0\n",
      "     7      1000       8541.0      8.5      0.0      J = len(Cache)\n",
      "     8   3019792    7982991.0      2.6     10.1      for j in range(J):\n",
      "     9   3018792   12152451.0      4.0     15.4          R = (Cache[j] << 1) | N\n",
      "    10   3018792    7493703.0      2.5      9.5          if R >= D:\n",
      "    11   1508042    4779038.0      3.2      6.1              R = R - D\n",
      "    12   1508042    3723418.0      2.5      4.7              N = 1\n",
      "    13                                                   else:\n",
      "    14   1510750    3595728.0      2.4      4.6              N = 0\n",
      "    15   3018792    8496332.0      2.8     10.8          Cache[j] = R\n",
      "    16                                                   \n",
      "    17   3018792   12835236.0      4.3     16.3          Digit = R % 10\n",
      "    18   3018792    8465612.0      2.8     10.7          if Digit == 6:\n",
      "    19    302429     892148.0      2.9      1.1              SixCounter += 1\n",
      "    20    302429     876200.0      2.9      1.1              if SixCounter == 5:\n",
      "    21        25        236.0      9.4      0.0                  R = (Cache[j-1]) // 10\n",
      "    22        26        402.0     15.5      0.0                  for _ in range(k):\n",
      "    23        25        133.0      5.3      0.0                      Digit = R % 10\n",
      "    24        25         77.0      3.1      0.0                      if Digit == 6:\n",
      "    25         1          6.0      6.0      0.0                          R = R // 10\n",
      "    26                                                               else:\n",
      "    27        24         62.0      2.6      0.0                          SixCounter = 1\n",
      "    28        24         84.0      3.5      0.0                          break\n",
      "    29    302429    1501853.0      5.0      1.9              SixCounterMax = max(SixCounterMax, SixCounter)\n",
      "    30                                                   else:\n",
      "    31   2716363    6075336.0      2.2      7.7              SixCounter = 0\n",
      "    32      1000       3500.0      3.5      0.0      if N > 0:\n",
      "    33                                                   # print('hi')\n",
      "    34                                                   # Cache[J] = 1\n",
      "    35         1         16.0     16.0      0.0          Cache.append(1)\n",
      "    36      1000       4713.0      4.7      0.0      return SixCounterMax\n",
      "\n"
     ]
    }
   ],
   "source": [
    "profiler.print_stats()"
   ]
  },
  {
   "cell_type": "code",
   "execution_count": null,
   "id": "f6478bc7",
   "metadata": {
    "hidden": true
   },
   "outputs": [],
   "source": []
  },
  {
   "cell_type": "markdown",
   "id": "6243e751",
   "metadata": {
    "heading_collapsed": true
   },
   "source": [
    "## Which python loop is fastest"
   ]
  },
  {
   "cell_type": "code",
   "execution_count": 4,
   "id": "0ddccc99",
   "metadata": {
    "hidden": true
   },
   "outputs": [],
   "source": [
    "Cache = [10**399] * 4000"
   ]
  },
  {
   "cell_type": "code",
   "execution_count": 14,
   "id": "ebc785ca",
   "metadata": {
    "hidden": true
   },
   "outputs": [
    {
     "name": "stdout",
     "output_type": "stream",
     "text": [
      "217 µs ± 1.22 µs per loop (mean ± std. dev. of 7 runs, 1,000 loops each)\n"
     ]
    }
   ],
   "source": [
    "%%timeit\n",
    "J = len(Cache)\n",
    "for j in range(J):\n",
    "    R = Cache[j]\n",
    "    # Do stuff with R\n",
    "    Cache[j] = R"
   ]
  },
  {
   "cell_type": "code",
   "execution_count": 15,
   "id": "e25390c8",
   "metadata": {
    "hidden": true
   },
   "outputs": [
    {
     "name": "stdout",
     "output_type": "stream",
     "text": [
      "216 µs ± 913 ns per loop (mean ± std. dev. of 7 runs, 1,000 loops each)\n"
     ]
    }
   ],
   "source": [
    "%%timeit\n",
    "for j in range(len(Cache)):\n",
    "    R = Cache[j]\n",
    "    # Do stuff with R\n",
    "    Cache[j] = R"
   ]
  },
  {
   "cell_type": "code",
   "execution_count": 16,
   "id": "11b7a210",
   "metadata": {
    "hidden": true
   },
   "outputs": [
    {
     "name": "stdout",
     "output_type": "stream",
     "text": [
      "181 µs ± 646 ns per loop (mean ± std. dev. of 7 runs, 10,000 loops each)\n"
     ]
    }
   ],
   "source": [
    "%%timeit\n",
    "for (j, R) in enumerate(Cache):\n",
    "    # Do stuff with R\n",
    "    Cache[j] = R"
   ]
  },
  {
   "cell_type": "code",
   "execution_count": null,
   "id": "525c099a",
   "metadata": {
    "hidden": true
   },
   "outputs": [],
   "source": []
  },
  {
   "cell_type": "markdown",
   "id": "73b54494",
   "metadata": {
    "heading_collapsed": true
   },
   "source": [
    "# Future Opmizitations"
   ]
  },
  {
   "cell_type": "markdown",
   "id": "bddaa769",
   "metadata": {
    "hidden": true
   },
   "source": [
    "## Replace the divide instruction by multiply and shift, or adds and shifts"
   ]
  },
  {
   "cell_type": "markdown",
   "id": "5285f344",
   "metadata": {
    "hidden": true
   },
   "source": [
    "Source:  \n",
    "https://en.m.wikipedia.org/wiki/Division_algorithm#Division_by_a_constant    \n",
    "https://stackoverflow.com/questions/5558492/divide-by-10-using-bit-shifts  \n",
    "OEIS"
   ]
  },
  {
   "cell_type": "markdown",
   "id": "01f87541",
   "metadata": {
    "hidden": true
   },
   "source": [
    "The OEIS sequences [A346495](https://oeis.org/A346495) and [A346496](https://oeis.org/A346496) are used for replacing division with multiplication via an approximation of the inverse of the divisor, if the computer supports multiplying two 32-bit numbers for a 64-bit result.  \n",
    "This is usually much faster than a division instruction because integer division is a very slow operation on most computers."
   ]
  },
  {
   "cell_type": "markdown",
   "id": "c3039f81",
   "metadata": {
    "hidden": true
   },
   "source": [
    "Smallest a(n) so that division by n can be performed by $$\\left\\lfloor\\frac{x}{n}\\right\\rfloor = \\frac{\\lfloor(x*a(n)\\rfloor}{2^{b(n)}}$$ for all $0 <= x < 2^{32}$. "
   ]
  },
  {
   "cell_type": "code",
   "execution_count": 1,
   "id": "ce8ce0cc",
   "metadata": {
    "hidden": true
   },
   "outputs": [],
   "source": [
    "def power_of_two(n):\n",
    "    return n == (1<<(n.bit_length()-1))"
   ]
  },
  {
   "cell_type": "code",
   "execution_count": 2,
   "id": "71ddd0da",
   "metadata": {
    "hidden": true
   },
   "outputs": [],
   "source": [
    "def a(n):\n",
    "    Result = 1\n",
    "    if not power_of_two(n):\n",
    "        n_c = ((1<<32) - ((1<<32) % n)) - 1\n",
    "        b   = 1\n",
    "        while (1<<b) <= (n_c * ((n - 1) - (((1<<b) - 1) % n))):\n",
    "            b += 1\n",
    "        Result = ((1<<b) + (n - 1) - (((1<<b) - 1) % n)) // n\n",
    "    return Result"
   ]
  },
  {
   "cell_type": "code",
   "execution_count": 4,
   "id": "d2d636fb",
   "metadata": {
    "hidden": true
   },
   "outputs": [],
   "source": [
    "def b(n):\n",
    "    Result = None\n",
    "    if power_of_two(n):\n",
    "        Result = n.bit_length() - 1\n",
    "    else:\n",
    "        n_c = ((1<<32) - ((1<<32) % n)) - 1\n",
    "        b   = 1\n",
    "        while (1<<b) <= (n_c * ((n - 1) - (((1<<b) - 1) % n))):\n",
    "            b += 1\n",
    "        Result = b\n",
    "    return Result"
   ]
  },
  {
   "cell_type": "code",
   "execution_count": 3,
   "id": "c950823a",
   "metadata": {
    "hidden": true
   },
   "outputs": [
    {
     "name": "stdout",
     "output_type": "stream",
     "text": [
      "[1, 1, 2863311531, 1, 3435973837, 2863311531, 4908534053, 1, 954437177, 3435973837, 3123612579, 2863311531, 1321528399, 4908534053, 2290649225, 1, 4042322161, 954437177, 7233629131, 3435973837, 6544712071, 3123612579, 2987803337, 2863311531, 1374389535]\n"
     ]
    }
   ],
   "source": [
    "print([a(n) for n in range(1, 26)])"
   ]
  },
  {
   "cell_type": "code",
   "execution_count": 15,
   "id": "304f368b",
   "metadata": {
    "hidden": true
   },
   "outputs": [
    {
     "name": "stdout",
     "output_type": "stream",
     "text": [
      "[0, 1, 33, 2, 34, 34, 35, 3, 33, 35, 35, 35, 34, 36, 35, 4, 36, 34, 37, 36, 37, 36, 36, 36, 35]\n"
     ]
    }
   ],
   "source": [
    "print([b(n) for n in range(1, 26)])"
   ]
  },
  {
   "cell_type": "markdown",
   "id": "ca2db2c7",
   "metadata": {
    "hidden": true
   },
   "source": [
    "Here we compute both a and b at the same time."
   ]
  },
  {
   "cell_type": "code",
   "execution_count": 20,
   "id": "b8942fb3",
   "metadata": {
    "hidden": true
   },
   "outputs": [],
   "source": [
    "LIMIT     = 32\n",
    "BIT_LIMIT = 1<<LIMIT\n",
    "def seq(n):\n",
    "    A = 1\n",
    "    B = n.bit_length() - 1\n",
    "    j = n - 1\n",
    "    if not (n == (1<<B)):\n",
    "        k = (BIT_LIMIT - (BIT_LIMIT % n)) - 1\n",
    "        B   = 1\n",
    "        B2  = 1<<B\n",
    "        while B2 <= (k * (j - ((B2 - 1) % n))):\n",
    "            B += 1\n",
    "            B2 = B2<<1\n",
    "        A = (B2 + j - ((B2 - 1) % n)) // n\n",
    "    return (A, B)"
   ]
  },
  {
   "cell_type": "code",
   "execution_count": 19,
   "id": "9426f756",
   "metadata": {
    "hidden": true
   },
   "outputs": [
    {
     "name": "stdout",
     "output_type": "stream",
     "text": [
      "[(1, 0), (1, 1), (2863311531, 33), (1, 2), (3435973837, 34), (2863311531, 34), (4908534053, 35), (1, 3), (954437177, 33), (3435973837, 35), (3123612579, 35), (2863311531, 35), (1321528399, 34), (4908534053, 36), (2290649225, 35), (1, 4), (4042322161, 36), (954437177, 34), (7233629131, 37), (3435973837, 36), (6544712071, 37), (3123612579, 36), (2987803337, 36), (2863311531, 36), (1374389535, 35)]\n"
     ]
    }
   ],
   "source": [
    "print([seq(n) for n in range(1, 26)])"
   ]
  },
  {
   "cell_type": "markdown",
   "id": "cf34f9a0",
   "metadata": {
    "hidden": true
   },
   "source": [
    "For our usecase, we would like to operate on numbers much larger than 32 or even 64 bits.  \n",
    "Luckily there is another way to compute these \"magic numbers\"."
   ]
  },
  {
   "cell_type": "markdown",
   "id": "ab495263",
   "metadata": {
    "hidden": true
   },
   "source": [
    "Source:  \n",
    "Hacker's delight page 218 (chapter 10–15 Simple Code in Python)"
   ]
  },
  {
   "cell_type": "code",
   "execution_count": 23,
   "id": "23f8598f",
   "metadata": {
    "hidden": true
   },
   "outputs": [],
   "source": [
    "def magicgu_slow(nmax, d):\n",
    "    dminus1      = d - 1\n",
    "    nc           = (nmax // d) * dminus1\n",
    "    search_range = 1 + (2 * nmax.bit_length())\n",
    "    for p in range(0, search_range):\n",
    "        q         = 1<<p\n",
    "        qminus1   = q - 1\n",
    "        remainder = (qminus1 % d)\n",
    "        if q > (nc * (dminus1 - remainder)):\n",
    "            m = ((q + dminus1) - remainder) // d\n",
    "            return (m, p)\n",
    "    raise Exception('Couldn\\'t find a solution, something is wrong.')"
   ]
  },
  {
   "cell_type": "markdown",
   "id": "d6212c88",
   "metadata": {
    "hidden": true
   },
   "source": [
    "Optimization:  \n",
    "Switching from a linear search to a binary search reduces the runtime for inputs `m, p = magicgu(1<<1_000_000, 10**399)` from 40 minutes to 0.08 seconds, taking just 24 iterations to converge on the correct value."
   ]
  },
  {
   "cell_type": "code",
   "execution_count": 24,
   "id": "6fb3e8a3",
   "metadata": {
    "hidden": true
   },
   "outputs": [],
   "source": [
    "def magicgu(nmax, d):\n",
    "    \"\"\"\n",
    "    Given the maximum value of the dividend nmax and the divisor d, returns a pair of integers:\n",
    "        the magic number m and a shift amount p.\n",
    "    To divide a dividend x by d, one multiplies x by m and then shifts the (full length) product right p bits.\n",
    "    This works because m / p will be very close to 1 / d, and p will be a power of two, making the divide a simple bit shift.\n",
    "    \"\"\"\n",
    "    dminus1 = d - 1\n",
    "    nc      = (nmax // d) * dminus1\n",
    "    lowest  = 0\n",
    "    highest = 1 + (2 * nmax.bit_length())\n",
    "    while lowest < highest:\n",
    "        p         = (highest + lowest) // 2\n",
    "        q         = 1<<p\n",
    "        qminus1   = q - 1\n",
    "        remainder = (qminus1 % d)\n",
    "        if q > (nc * (dminus1 - remainder)):\n",
    "            highest = p\n",
    "        else:\n",
    "            lowest  = p + 1\n",
    "    p         = (highest + lowest) // 2\n",
    "    q         = 1<<p\n",
    "    qminus1   = q - 1\n",
    "    remainder = (qminus1 % d)\n",
    "    m         = ((q + dminus1) - remainder) // d\n",
    "    return (m, p)"
   ]
  },
  {
   "cell_type": "markdown",
   "id": "23336b40",
   "metadata": {
    "hidden": true
   },
   "source": [
    "Example 1"
   ]
  },
  {
   "cell_type": "code",
   "execution_count": 42,
   "id": "f9521f54",
   "metadata": {
    "hidden": true
   },
   "outputs": [],
   "source": [
    "nmax = 1<<1_000_000\n",
    "d    = 10**399"
   ]
  },
  {
   "cell_type": "code",
   "execution_count": 44,
   "id": "38ad95c0",
   "metadata": {
    "hidden": true
   },
   "outputs": [],
   "source": [
    "m, p = magicgu(nmax, d)"
   ]
  },
  {
   "cell_type": "code",
   "execution_count": 45,
   "id": "1991f7dc",
   "metadata": {
    "hidden": true
   },
   "outputs": [],
   "source": [
    "x = 1<<999_900"
   ]
  },
  {
   "cell_type": "code",
   "execution_count": 46,
   "id": "45de75e4",
   "metadata": {
    "hidden": true
   },
   "outputs": [],
   "source": [
    "assert x < nmax"
   ]
  },
  {
   "cell_type": "code",
   "execution_count": 47,
   "id": "64bfe8b4",
   "metadata": {
    "hidden": true
   },
   "outputs": [
    {
     "name": "stdout",
     "output_type": "stream",
     "text": [
      "4.37 ms ± 149 µs per loop (mean ± std. dev. of 7 runs, 100 loops each)\n"
     ]
    }
   ],
   "source": [
    "%%timeit\n",
    "(x * m) >> p"
   ]
  },
  {
   "cell_type": "code",
   "execution_count": 48,
   "id": "c9d578c1",
   "metadata": {
    "hidden": true
   },
   "outputs": [
    {
     "name": "stdout",
     "output_type": "stream",
     "text": [
      "3.02 ms ± 186 µs per loop (mean ± std. dev. of 7 runs, 100 loops each)\n"
     ]
    }
   ],
   "source": [
    "%%timeit\n",
    "x // d"
   ]
  },
  {
   "cell_type": "markdown",
   "id": "2858d23d",
   "metadata": {
    "hidden": true
   },
   "source": [
    "Example 2"
   ]
  },
  {
   "cell_type": "code",
   "execution_count": 36,
   "id": "2e90c389",
   "metadata": {
    "hidden": true
   },
   "outputs": [],
   "source": [
    "nmax = 10**399\n",
    "d    = 10"
   ]
  },
  {
   "cell_type": "code",
   "execution_count": 37,
   "id": "5c9af769",
   "metadata": {
    "hidden": true
   },
   "outputs": [
    {
     "data": {
      "text/plain": [
       "(292957247209924852137075224890370171032692958681326960826984919130001827539839214697757948051204538105646676347303848625162902618953473698102408269423433879425259310757283275210972425883538122452847336119254634643499505917091533837488298906776482947295647220679792987618467923311462718229513113755678107850012507556042175979861246759917806100226846569645613245309343003296469005736181778637822676173,\n",
       " 1327)"
      ]
     },
     "execution_count": 37,
     "metadata": {},
     "output_type": "execute_result"
    }
   ],
   "source": [
    "m, p = magicgu(nmax, d); m, p"
   ]
  },
  {
   "cell_type": "code",
   "execution_count": 38,
   "id": "94592ac2",
   "metadata": {
    "hidden": true
   },
   "outputs": [],
   "source": [
    "# An example number we've come across in the algorithm we're trying to optimize.\n",
    "x = 675498068352129731964884062763533329144415921218630285019127698639680940044270154133162810213979906631608629547659877222303938885553947675194806514177810321278967470122934933377995913130368225534489724572693654861728928532250033597205506631158056720564410536312378792296760105033917922985829102352323964365789020903947560236392997251191841134769795404868939332473278193403660671793915429281166670196"
   ]
  },
  {
   "cell_type": "code",
   "execution_count": 39,
   "id": "1e947917",
   "metadata": {
    "hidden": true
   },
   "outputs": [],
   "source": [
    "assert x < nmax"
   ]
  },
  {
   "cell_type": "code",
   "execution_count": 40,
   "id": "eec28c40",
   "metadata": {
    "hidden": true
   },
   "outputs": [
    {
     "name": "stdout",
     "output_type": "stream",
     "text": [
      "3.32 µs ± 105 ns per loop (mean ± std. dev. of 7 runs, 100,000 loops each)\n"
     ]
    }
   ],
   "source": [
    "%%timeit\n",
    "(x * m) >> p"
   ]
  },
  {
   "cell_type": "code",
   "execution_count": 41,
   "id": "3e11e1f7",
   "metadata": {
    "hidden": true
   },
   "outputs": [
    {
     "name": "stdout",
     "output_type": "stream",
     "text": [
      "268 ns ± 11.4 ns per loop (mean ± std. dev. of 7 runs, 1,000,000 loops each)\n"
     ]
    }
   ],
   "source": [
    "%%timeit\n",
    "x // 10"
   ]
  },
  {
   "cell_type": "markdown",
   "id": "84cd6334",
   "metadata": {
    "hidden": true
   },
   "source": [
    "This works, but sadly it's not really faster than the usual division, even when the number we're dividing is close to the maximum (which makes the difference between the mult and shift version and the division version the smallest)."
   ]
  },
  {
   "cell_type": "markdown",
   "id": "2154e871",
   "metadata": {
    "hidden": true
   },
   "source": [
    "If the divisor and the maximum size are fixed (which they are in our case), we can go another approach which even gets rid of the multiply instruction and instead does a bunch of adds and shifts.  \n",
    "Sadly this implementation again only works for 32 bit integers"
   ]
  },
  {
   "cell_type": "markdown",
   "id": "f5d1303d",
   "metadata": {
    "hidden": true
   },
   "source": [
    "Source:  \n",
    "Hackers Delight (see above)"
   ]
  },
  {
   "cell_type": "code",
   "execution_count": 50,
   "id": "edf20e19",
   "metadata": {
    "hidden": true
   },
   "outputs": [
    {
     "data": {
      "text/plain": [
       "(2, 11)"
      ]
     },
     "execution_count": 50,
     "metadata": {},
     "output_type": "execute_result"
    }
   ],
   "source": [
    "def divu10(n):\n",
    "    q  = (n >> 1) + (n >> 2)\n",
    "    q += (q >> 4)\n",
    "    q += (q >> 8)\n",
    "    q += (q >> 16)\n",
    "    q  = (q >> 3)\n",
    "    r  = n - (((q << 2) + q) << 1)\n",
    "    return q + (r > 9), r\n",
    "divu10(21)"
   ]
  },
  {
   "cell_type": "code",
   "execution_count": 51,
   "id": "3d293581",
   "metadata": {
    "hidden": true
   },
   "outputs": [
    {
     "data": {
      "text/plain": [
       "2"
      ]
     },
     "execution_count": 51,
     "metadata": {},
     "output_type": "execute_result"
    }
   ],
   "source": [
    "def divu100(n):\n",
    "    q = (n >> 1) + (n >> 3) + (n >> 6) - (n >> 10) + (n >> 12) + (n >> 13) - (n >> 16)\n",
    "    q = q + (q >> 20)\n",
    "    q = q >> 6\n",
    "    r = n - q*100\n",
    "    return q + ((r + 28) >> 7)\n",
    "    # // return q + (r > 99)\n",
    "divu100(240)"
   ]
  },
  {
   "cell_type": "code",
   "execution_count": 52,
   "id": "1b0ca801",
   "metadata": {
    "hidden": true
   },
   "outputs": [
    {
     "data": {
      "text/plain": [
       "3"
      ]
     },
     "execution_count": 52,
     "metadata": {},
     "output_type": "execute_result"
    }
   ],
   "source": [
    "def divu1000(n):\n",
    "    t = (n >> 7) + (n >> 8) + (n >> 12)\n",
    "    q = (n >> 1) + t + (n >> 15) + (t >> 11) + (t >> 14)\n",
    "    q = q >> 9\n",
    "    r = n - q*1000\n",
    "    return q + ((r + 24) >> 10)\n",
    "    # // return q + (r > 999)\n",
    "divu1000(3600)"
   ]
  },
  {
   "cell_type": "markdown",
   "id": "bd734a8d",
   "metadata": {
    "hidden": true
   },
   "source": [
    "This would need to be adapter to larger numbers, and could then be faster, but definitely wont be in python. Maybe try this when we have an implementation in C."
   ]
  },
  {
   "cell_type": "code",
   "execution_count": null,
   "id": "30998554",
   "metadata": {
    "hidden": true
   },
   "outputs": [],
   "source": []
  },
  {
   "cell_type": "code",
   "execution_count": null,
   "id": "c109172a",
   "metadata": {
    "hidden": true
   },
   "outputs": [],
   "source": []
  },
  {
   "cell_type": "code",
   "execution_count": null,
   "id": "0b2c70c6",
   "metadata": {
    "hidden": true
   },
   "outputs": [],
   "source": []
  },
  {
   "cell_type": "code",
   "execution_count": null,
   "id": "eeebc5cb",
   "metadata": {
    "hidden": true
   },
   "outputs": [],
   "source": []
  },
  {
   "cell_type": "code",
   "execution_count": null,
   "id": "c37ad45b",
   "metadata": {
    "hidden": true
   },
   "outputs": [],
   "source": []
  }
 ],
 "metadata": {
  "kernelspec": {
   "display_name": "Python 3 (ipykernel)",
   "language": "python",
   "name": "python3"
  },
  "language_info": {
   "codemirror_mode": {
    "name": "ipython",
    "version": 3
   },
   "file_extension": ".py",
   "mimetype": "text/x-python",
   "name": "python",
   "nbconvert_exporter": "python",
   "pygments_lexer": "ipython3",
   "version": "3.9.7"
  }
 },
 "nbformat": 4,
 "nbformat_minor": 5
}
