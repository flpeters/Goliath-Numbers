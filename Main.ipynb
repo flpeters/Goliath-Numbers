{
 "cells": [
  {
   "cell_type": "code",
   "execution_count": 1,
   "id": "35c4428c",
   "metadata": {},
   "outputs": [],
   "source": [
    "from itertools import count\n",
    "from IPython.display import clear_output\n",
    "from pathlib import Path\n",
    "from time import time\n",
    "from line_profiler import LineProfiler\n",
    "import pickle"
   ]
  },
  {
   "cell_type": "code",
   "execution_count": 2,
   "id": "91cf53bd",
   "metadata": {},
   "outputs": [],
   "source": [
    "%load_ext line_profiler"
   ]
  },
  {
   "cell_type": "code",
   "execution_count": 3,
   "id": "038bf78e",
   "metadata": {},
   "outputs": [],
   "source": [
    "PATH = Path('./data/last_number.txt')"
   ]
  },
  {
   "cell_type": "code",
   "execution_count": 4,
   "id": "bbd02be3",
   "metadata": {},
   "outputs": [],
   "source": [
    "PATH_DIVISORS = Path('./data/Divisors.pkl')"
   ]
  },
  {
   "cell_type": "code",
   "execution_count": 5,
   "id": "2452031e",
   "metadata": {},
   "outputs": [],
   "source": [
    "PATH_CACHE = Path('./data/Cache.pkl')"
   ]
  },
  {
   "cell_type": "markdown",
   "id": "e9f2d296",
   "metadata": {
    "heading_collapsed": true
   },
   "source": [
    "## Version 1"
   ]
  },
  {
   "cell_type": "code",
   "execution_count": 3,
   "id": "7d67ec98",
   "metadata": {
    "hidden": true
   },
   "outputs": [],
   "source": [
    "def print_digits(number):\n",
    "    while number > 0:\n",
    "        digit  = number % 10\n",
    "        number = number // 10\n",
    "        print(digit)"
   ]
  },
  {
   "cell_type": "code",
   "execution_count": 5,
   "id": "36ba09ca",
   "metadata": {
    "hidden": true
   },
   "outputs": [],
   "source": [
    "# Sadly, this approach of going backwards in the digits to check further is too slow.\n",
    "# Mostly (probably) because we need to allocate and track a bunch of additional data.\n",
    "# And we can't just check two or three digits, since that happens way too often.\n",
    "def soft_check_goliath(number):\n",
    "    interval = goliath_amount // 2\n",
    "    divisor  = 10**interval\n",
    "    original_number = number\n",
    "    prev_was_six    = False\n",
    "    prev_location   = -interval\n",
    "    while number > 0:\n",
    "        digit  = number % 10\n",
    "        number = number // divisor\n",
    "        if digit == 6:\n",
    "            if prev_was_six:\n",
    "                return True\n",
    "                # candidate found, check more intensely\n",
    "                tmp_number = original_number // 10**(prev_location + 1)\n",
    "                digit      = tmp_number % 10\n",
    "                if digit == 6:\n",
    "                    tmp_number = tmp_number // 10\n",
    "                    digit      = tmp_number % 10\n",
    "                    if digit == 6:\n",
    "                        tmp_number = tmp_number // 10\n",
    "                        digit      = tmp_number % 10\n",
    "                        if digit == 6:\n",
    "                            tmp_number = tmp_number // 10\n",
    "                            digit      = tmp_number % 10\n",
    "                            if digit == 6:\n",
    "                                # we now know of six sixes, which we take as enough evidence to trigger an even more expensive check.\n",
    "                                return True\n",
    "            prev_was_six = True\n",
    "        else:\n",
    "            prev_was_six = False\n",
    "        prev_location += interval\n",
    "    return False"
   ]
  },
  {
   "cell_type": "code",
   "execution_count": 35,
   "id": "32095134",
   "metadata": {
    "hidden": true
   },
   "outputs": [],
   "source": [
    "profiler = LineProfiler()\n",
    "@profiler\n",
    "def count_sixes_naive(number, divisor):\n",
    "    six_counter     = 0\n",
    "    six_counter_max = 0\n",
    "    while number > 0:\n",
    "        digit    = number % 10\n",
    "        number //= divisor\n",
    "        if digit == 6:\n",
    "            six_counter    += 1\n",
    "            six_counter_max = max(six_counter_max, six_counter)\n",
    "        else:\n",
    "            six_counter = 0\n",
    "    return six_counter_max"
   ]
  },
  {
   "cell_type": "markdown",
   "id": "f5f6fb34",
   "metadata": {
    "hidden": true
   },
   "source": [
    "https://stackoverflow.com/questions/1686004/fastest-way-to-convert-binary-to-decimal"
   ]
  },
  {
   "cell_type": "code",
   "execution_count": 6,
   "id": "423da87a",
   "metadata": {
    "hidden": true
   },
   "outputs": [
    {
     "data": {
      "text/plain": [
       "570123"
      ]
     },
     "execution_count": 6,
     "metadata": {},
     "output_type": "execute_result"
    }
   ],
   "source": [
    "LastNumber = int(PATH.read_text()); LastNumber"
   ]
  },
  {
   "cell_type": "code",
   "execution_count": 7,
   "id": "9bb5a7b0",
   "metadata": {
    "hidden": true
   },
   "outputs": [],
   "source": [
    "goliath = 666*'666'\n",
    "goliath_amount = len(goliath)"
   ]
  },
  {
   "cell_type": "code",
   "execution_count": 8,
   "id": "0cafcfc3",
   "metadata": {
    "hidden": true
   },
   "outputs": [
    {
     "data": {
      "text/plain": [
       "1998"
      ]
     },
     "execution_count": 8,
     "metadata": {},
     "output_type": "execute_result"
    }
   ],
   "source": [
    "goliath_amount"
   ]
  },
  {
   "cell_type": "markdown",
   "id": "0a3c1ff7",
   "metadata": {
    "hidden": true
   },
   "source": [
    "These divisors are let us only check if ever nth digit is a 6, where n is the exponent $10^n$. The threshold is how many 6s we would expect to see if the number we're checking were to contain a goliath amount of 6s in a row.  "
   ]
  },
  {
   "cell_type": "code",
   "execution_count": 54,
   "id": "75e91ca0",
   "metadata": {
    "hidden": true
   },
   "outputs": [],
   "source": [
    "# 1995 / 3 = 665\n",
    "fat_divisor = 10**665\n",
    "candidate_treshold = 3"
   ]
  },
  {
   "cell_type": "code",
   "execution_count": 20,
   "id": "a68c9742",
   "metadata": {
    "hidden": true
   },
   "outputs": [],
   "source": [
    "# 1995 / 5 = 399 <-------------- This makes about 0.33% of numbers trigger an expensive check\n",
    "fat_divisor = 10**399\n",
    "candidate_treshold = 5"
   ]
  },
  {
   "cell_type": "code",
   "execution_count": 34,
   "id": "f8860072",
   "metadata": {
    "hidden": true
   },
   "outputs": [],
   "source": [
    "# 1995 / 7 = 285\n",
    "fat_divisor = 10**285\n",
    "candidate_treshold = 7"
   ]
  },
  {
   "cell_type": "code",
   "execution_count": 37,
   "id": "35949afa",
   "metadata": {
    "hidden": true
   },
   "outputs": [
    {
     "name": "stdout",
     "output_type": "stream",
     "text": [
      "570124\n",
      "#Expensive checks : 123 (0.36%)\n",
      "Total Duration    : 0.2803 seconds\n",
      "Cheap Duration    : 0.2793 seconds\n",
      "Expensive Duration: 0.4039 seconds\n"
     ]
    },
    {
     "ename": "KeyboardInterrupt",
     "evalue": "",
     "output_type": "error",
     "traceback": [
      "\u001b[1;31m---------------------------------------------------------------------------\u001b[0m",
      "\u001b[1;31mKeyboardInterrupt\u001b[0m                         Traceback (most recent call last)",
      "Input \u001b[1;32mIn [37]\u001b[0m, in \u001b[0;36m<cell line: 7>\u001b[1;34m()\u001b[0m\n\u001b[0;32m      6\u001b[0m \u001b[38;5;28;01mwhile\u001b[39;00m \u001b[38;5;28;01mTrue\u001b[39;00m:\n\u001b[0;32m      7\u001b[0m     t1 \u001b[38;5;241m=\u001b[39m time()\n\u001b[1;32m----> 8\u001b[0m     sixes \u001b[38;5;241m=\u001b[39m \u001b[43mcount_sixes\u001b[49m\u001b[43m(\u001b[49m\u001b[43mv\u001b[49m\u001b[43m,\u001b[49m\u001b[43m \u001b[49m\u001b[43mfat_divisor\u001b[49m\u001b[43m)\u001b[49m\n\u001b[0;32m      9\u001b[0m     t2 \u001b[38;5;241m=\u001b[39m time()\n\u001b[0;32m     10\u001b[0m     \u001b[38;5;28;01mif\u001b[39;00m sixes \u001b[38;5;241m>\u001b[39m\u001b[38;5;241m=\u001b[39m candidate_treshold:\n",
      "File \u001b[1;32m~\\Anaconda\\envs\\torch\\lib\\site-packages\\line_profiler\\line_profiler.py:150\u001b[0m, in \u001b[0;36mLineProfiler.wrap_function.<locals>.wrapper\u001b[1;34m(*args, **kwds)\u001b[0m\n\u001b[0;32m    148\u001b[0m \u001b[38;5;28mself\u001b[39m\u001b[38;5;241m.\u001b[39menable_by_count()\n\u001b[0;32m    149\u001b[0m \u001b[38;5;28;01mtry\u001b[39;00m:\n\u001b[1;32m--> 150\u001b[0m     result \u001b[38;5;241m=\u001b[39m func(\u001b[38;5;241m*\u001b[39margs, \u001b[38;5;241m*\u001b[39m\u001b[38;5;241m*\u001b[39mkwds)\n\u001b[0;32m    151\u001b[0m \u001b[38;5;28;01mfinally\u001b[39;00m:\n\u001b[0;32m    152\u001b[0m     \u001b[38;5;28mself\u001b[39m\u001b[38;5;241m.\u001b[39mdisable_by_count()\n",
      "Input \u001b[1;32mIn [35]\u001b[0m, in \u001b[0;36mcount_sixes\u001b[1;34m(number, divisor)\u001b[0m\n\u001b[0;32m     11\u001b[0m         six_counter_max \u001b[38;5;241m=\u001b[39m \u001b[38;5;28mmax\u001b[39m(six_counter_max, six_counter)\n\u001b[0;32m     12\u001b[0m     \u001b[38;5;28;01melse\u001b[39;00m:\n\u001b[1;32m---> 13\u001b[0m         six_counter \u001b[38;5;241m=\u001b[39m \u001b[38;5;241m0\u001b[39m\n\u001b[0;32m     14\u001b[0m \u001b[38;5;28;01mreturn\u001b[39;00m six_counter_max\n",
      "\u001b[1;31mKeyboardInterrupt\u001b[0m: "
     ]
    }
   ],
   "source": [
    "i = LastNumber\n",
    "Number = 1<<i\n",
    "tStart = time()\n",
    "tExpensiveDuration = 0\n",
    "ExpensiveChecks    = 0\n",
    "while True:\n",
    "    t1 = time()\n",
    "    sixes = count_sixes(Number, fat_divisor)\n",
    "    t2 = time()\n",
    "    if sixes >= candidate_treshold:\n",
    "        ExpensiveChecks += 1\n",
    "        t3 = time()\n",
    "        if goliath in str(Number):\n",
    "            print(f'Found one: {i}')\n",
    "            break\n",
    "        t4 = time()\n",
    "    Number = Number<<1\n",
    "    i += 1\n",
    "    \n",
    "    tEnd = time()\n",
    "    clear_output(wait=True)\n",
    "    print(i)\n",
    "    print(f'#Expensive checks : {ExpensiveChecks} ({round(100* ExpensiveChecks / (i - LastNumber), 2)}%)')\n",
    "    print(f'Total Duration    : {round(tEnd - tStart, 4)} seconds')\n",
    "    print(f'Cheap Duration    : {round(t2 - t1, 4)} seconds')\n",
    "    print(f'Expensive Duration: {round(t4 - t3, 4)} seconds')\n",
    "    # if (i - LastNumber) > 100: break\n",
    "    tStart = tEnd"
   ]
  },
  {
   "cell_type": "code",
   "execution_count": 1,
   "id": "c09999e9",
   "metadata": {
    "hidden": true
   },
   "outputs": [
    {
     "data": {
      "text/plain": [
       "570124"
      ]
     },
     "execution_count": 1,
     "metadata": {},
     "output_type": "execute_result"
    }
   ],
   "source": [
    "i"
   ]
  },
  {
   "cell_type": "code",
   "execution_count": 25,
   "id": "a2173c16",
   "metadata": {
    "hidden": true
   },
   "outputs": [],
   "source": [
    "PATH.write_text(f'{i-1}');"
   ]
  },
  {
   "cell_type": "code",
   "execution_count": 13,
   "id": "0faae1fd",
   "metadata": {
    "hidden": true,
    "scrolled": false
   },
   "outputs": [
    {
     "name": "stdout",
     "output_type": "stream",
     "text": [
      "Timer unit: 1e-07 s\n",
      "\n",
      "Total time: 21.1059 s\n",
      "File: C:\\Users\\Florian\\AppData\\Local\\Temp\\ipykernel_2900\\4117333934.py\n",
      "Function: count_sixes at line 2\n",
      "\n",
      "Line #      Hits         Time  Per Hit   % Time  Line Contents\n",
      "==============================================================\n",
      "     2                                           @profiler\n",
      "     3                                           def count_sixes(number, divisor):\n",
      "     4       101        696.0      6.9      0.0      six_counter     = 0\n",
      "     5       101        329.0      3.3      0.0      six_counter_max = 0\n",
      "     6     38279     111773.0      2.9      0.1      while number > 0:\n",
      "     7     38178    9941772.0    260.4      4.7          digit  = number % 10\n",
      "     8     38178  200726980.0   5257.7     95.1          number = number // divisor\n",
      "     9     38178     128177.0      3.4      0.1          if digit == 6:\n",
      "    10      3793      15622.0      4.1      0.0              six_counter    += 1\n",
      "    11      3793      43681.0     11.5      0.0              six_counter_max = max(six_counter_max, six_counter)\n",
      "    12                                                   else:\n",
      "    13     34385      89481.0      2.6      0.0              six_counter = 0\n",
      "    14       101        453.0      4.5      0.0      return six_counter_max\n",
      "\n"
     ]
    }
   ],
   "source": [
    "profiler.print_stats()"
   ]
  },
  {
   "cell_type": "code",
   "execution_count": null,
   "id": "e3e82600",
   "metadata": {
    "hidden": true
   },
   "outputs": [],
   "source": []
  },
  {
   "cell_type": "code",
   "execution_count": null,
   "id": "82c6a556",
   "metadata": {
    "hidden": true
   },
   "outputs": [],
   "source": []
  },
  {
   "cell_type": "code",
   "execution_count": null,
   "id": "f592f46e",
   "metadata": {
    "hidden": true
   },
   "outputs": [],
   "source": []
  },
  {
   "cell_type": "code",
   "execution_count": null,
   "id": "5fc9088c",
   "metadata": {
    "hidden": true
   },
   "outputs": [],
   "source": []
  },
  {
   "cell_type": "markdown",
   "id": "7017d610",
   "metadata": {},
   "source": [
    "## Version 2"
   ]
  },
  {
   "cell_type": "code",
   "execution_count": 18,
   "id": "f558516c",
   "metadata": {},
   "outputs": [],
   "source": [
    "def ContinueDivision(Quotient, Remainder, Divisor):\n",
    "    Remainder = (Remainder << 1) # Shift in a zero, since we know that the last bit of 2^x will always be a zero.\n",
    "    if Remainder >= Divisor:\n",
    "        Remainder = Remainder - Divisor\n",
    "        Quotient  = (Quotient << 1) | 1\n",
    "    else:\n",
    "        Quotient  = (Quotient << 1)\n",
    "    return Quotient, Remainder"
   ]
  },
  {
   "cell_type": "code",
   "execution_count": 53,
   "id": "5a6b37b8",
   "metadata": {},
   "outputs": [],
   "source": [
    "profiler = LineProfiler()\n",
    "@profiler\n",
    "def count_sixes(Number, Divisors, Cache):\n",
    "    SixCounter    = 0\n",
    "    SixCounterMax = 0\n",
    "    j = 0\n",
    "    N = Number\n",
    "    while N > 0:\n",
    "        Digit = N % 10\n",
    "        if Digit == 6:\n",
    "            SixCounter   += 1\n",
    "            SixCounterMax = max(SixCounterMax, SixCounter)\n",
    "        else:\n",
    "            SixCounter = 0\n",
    "        try:\n",
    "            D    = Divisors[j]\n",
    "            N, R = Cache[j]\n",
    "            # N, R = ContinueDivision(Q, R, D) # inline\n",
    "            R = (R << 1)\n",
    "            if R >= D:\n",
    "                R = R - D\n",
    "                N = (N << 1) | 1\n",
    "            else:\n",
    "                N = (N << 1)\n",
    "        except KeyError:\n",
    "            D = 10**(399*(j+1))\n",
    "            N = Number // D\n",
    "            R = Number  % D\n",
    "            Divisors[j] = D\n",
    "        Cache[j] = N, R\n",
    "        j += 1\n",
    "    return SixCounterMax"
   ]
  },
  {
   "cell_type": "code",
   "execution_count": 90,
   "id": "f3542bd0",
   "metadata": {},
   "outputs": [],
   "source": [
    "Divisors2 = {k+1:v for k, v in Divisors.items()}"
   ]
  },
  {
   "cell_type": "code",
   "execution_count": 97,
   "id": "ce9542e2",
   "metadata": {},
   "outputs": [],
   "source": [
    "Cache2 = {k+1:v for k, v in Cache.items()}"
   ]
  },
  {
   "cell_type": "code",
   "execution_count": null,
   "id": "4c8f2f32",
   "metadata": {},
   "outputs": [],
   "source": []
  },
  {
   "cell_type": "code",
   "execution_count": 91,
   "id": "6bd0af87",
   "metadata": {},
   "outputs": [
    {
     "data": {
      "text/plain": [
       "1057"
      ]
     },
     "execution_count": 91,
     "metadata": {},
     "output_type": "execute_result"
    }
   ],
   "source": [
    "len(Divisors2)"
   ]
  },
  {
   "cell_type": "code",
   "execution_count": 98,
   "id": "6aa4f57c",
   "metadata": {},
   "outputs": [
    {
     "data": {
      "text/plain": [
       "1057"
      ]
     },
     "execution_count": 98,
     "metadata": {},
     "output_type": "execute_result"
    }
   ],
   "source": [
    "len(Cache2)"
   ]
  },
  {
   "cell_type": "code",
   "execution_count": 21,
   "id": "8969bce9",
   "metadata": {},
   "outputs": [],
   "source": [
    "PATH = Path('./last_number.txt')"
   ]
  },
  {
   "cell_type": "code",
   "execution_count": 22,
   "id": "922f9c7a",
   "metadata": {},
   "outputs": [
    {
     "data": {
      "text/plain": [
       "1191654"
      ]
     },
     "execution_count": 22,
     "metadata": {},
     "output_type": "execute_result"
    }
   ],
   "source": [
    "LastNumber = int(PATH.read_text()); LastNumber"
   ]
  },
  {
   "cell_type": "code",
   "execution_count": 8,
   "id": "5456d660",
   "metadata": {},
   "outputs": [
    {
     "data": {
      "text/plain": [
       "1998"
      ]
     },
     "execution_count": 8,
     "metadata": {},
     "output_type": "execute_result"
    }
   ],
   "source": [
    "goliath = 666*'666'\n",
    "goliath_amount = len(goliath); goliath_amount"
   ]
  },
  {
   "cell_type": "code",
   "execution_count": 9,
   "id": "ae543b19",
   "metadata": {},
   "outputs": [],
   "source": [
    "# 1995 / 5 = 399 <-------------- This makes about 0.33% of numbers trigger an expensive check\n",
    "# Exponent    = 399\n",
    "# fat_divisor = 10**Exponent\n",
    "candidate_treshold = 5"
   ]
  },
  {
   "cell_type": "code",
   "execution_count": null,
   "id": "03ff74c9",
   "metadata": {},
   "outputs": [],
   "source": [
    "i      = LastNumber\n",
    "Number = 1<<i"
   ]
  },
  {
   "cell_type": "code",
   "execution_count": 119,
   "id": "1c804307",
   "metadata": {},
   "outputs": [],
   "source": [
    "with PATH_DIVISORS.open(mode='rb') as f:\n",
    "    Divisors = pickle.load(f)"
   ]
  },
  {
   "cell_type": "code",
   "execution_count": 121,
   "id": "6f392ea4",
   "metadata": {},
   "outputs": [],
   "source": [
    "with PATH_CACHE.open(mode='rb') as f:\n",
    "    Cache = pickle.load(f)"
   ]
  },
  {
   "cell_type": "code",
   "execution_count": 10,
   "id": "eb99ab54",
   "metadata": {},
   "outputs": [
    {
     "name": "stdout",
     "output_type": "stream",
     "text": [
      "Building Caches...\n",
      "Divisors Done!\n",
      "Intermediates Done!\n",
      "CPU times: total: 9min 1s\n",
      "Wall time: 9min 1s\n"
     ]
    }
   ],
   "source": [
    "# If the caches get corrupted, use this to rebuild them.\n",
    "# Be warned, this can take multiple minutes!\n",
    "%%time\n",
    "if 0:\n",
    "    i        = LastNumber\n",
    "    Number   = 1<<(i - 1)\n",
    "    print('Building Caches...')\n",
    "    Divisors = {}\n",
    "    Cache    = {}\n",
    "    count_sixes(Number, Divisors, Cache)\n",
    "    Number = Number << 1\n",
    "    print('Done!')"
   ]
  },
  {
   "cell_type": "code",
   "execution_count": 89,
   "id": "984ceae7",
   "metadata": {},
   "outputs": [
    {
     "data": {
      "text/plain": [
       "1000000000000000000000000000000000000000000000000000000000000000000000000000000000000000000000000000000000000000000000000000000000000000000000000000000000000000000000000000000000000000000000000000000000000000000000000000000000000000000000000000000000000000000000000000000000000000000000000000000000000000000000000000000000000000000000000000000000000000000000000000000000000000000000000000000000000000"
      ]
     },
     "execution_count": 89,
     "metadata": {},
     "output_type": "execute_result"
    }
   ],
   "source": [
    "Divisors[0]"
   ]
  },
  {
   "cell_type": "code",
   "execution_count": 85,
   "id": "40094cbd",
   "metadata": {},
   "outputs": [
    {
     "data": {
      "text/plain": [
       "(1057, 1057)"
      ]
     },
     "execution_count": 85,
     "metadata": {},
     "output_type": "execute_result"
    }
   ],
   "source": [
    "len(Divisors), len(Cache)"
   ]
  },
  {
   "cell_type": "code",
   "execution_count": 11,
   "id": "ee83e008",
   "metadata": {
    "scrolled": true
   },
   "outputs": [
    {
     "name": "stdout",
     "output_type": "stream",
     "text": [
      "Timer unit: 1e-07 s\n",
      "\n",
      "Total time: 59.265 s\n",
      "File: C:\\Users\\Florian\\AppData\\Local\\Temp\\ipykernel_1796\\3027381636.py\n",
      "Function: count_sixes at line 2\n",
      "\n",
      "Line #      Hits         Time  Per Hit   % Time  Line Contents\n",
      "==============================================================\n",
      "     2                                           @profiler\n",
      "     3                                           def count_sixes(Number, Divisors, Cache):\n",
      "     4         1          7.0      7.0      0.0      SixCounter    = 0\n",
      "     5         1          4.0      4.0      0.0      SixCounterMax = 0\n",
      "     6         1          2.0      2.0      0.0      i = 0\n",
      "     7         1          3.0      3.0      0.0      N = Number\n",
      "     8       432       2474.0      5.7      0.0      while N > 0:\n",
      "     9       431     133442.0    309.6      0.0          Digit    = N % 10\n",
      "    10       431   17865094.0  41450.3      3.0          Divisor  = Divisors[i]\n",
      "    11       431       2530.0      5.9      0.0          if i in Cache:\n",
      "    12                                                       Q, R = Cache[i]\n",
      "    13                                                       N, R = ContinueDivision(Q, R, Divisor)\n",
      "    14                                                   else:\n",
      "    15       431  287516127.0 667090.8     48.5              N = Number // Divisor\n",
      "    16       431  287111174.0 666151.2     48.4              R = Number  % Divisor\n",
      "    17       431       8358.0     19.4      0.0          Cache[i] = N, R\n",
      "    18       431       2854.0      6.6      0.0          if Digit == 6:\n",
      "    19        51        436.0      8.5      0.0              SixCounter   += 1\n",
      "    20        51       1975.0     38.7      0.0              SixCounterMax = max(SixCounterMax, SixCounter)\n",
      "    21                                                   else:\n",
      "    22       380       1981.0      5.2      0.0              SixCounter = 0\n",
      "    23       431       3494.0      8.1      0.0          i += 1\n",
      "    24         1          3.0      3.0      0.0      return SixCounterMax\n",
      "\n"
     ]
    }
   ],
   "source": [
    "profiler.print_stats()"
   ]
  },
  {
   "cell_type": "code",
   "execution_count": 54,
   "id": "ea366218",
   "metadata": {},
   "outputs": [],
   "source": [
    "assert Number == 1<<i\n",
    "assert len(Divisors) == len(Cache)\n",
    "assert (Number>>1) // Divisors[0] == Cache[0][0]\n",
    "assert (Number>>1)  % Divisors[0] == Cache[0][1]\n",
    "j = len(Cache) - 1\n",
    "assert (Number>>1) // Divisors[j] == Cache[j][0]\n",
    "assert (Number>>1)  % Divisors[j] == Cache[j][1]"
   ]
  },
  {
   "cell_type": "code",
   "execution_count": 80,
   "id": "ec35de2e",
   "metadata": {},
   "outputs": [
    {
     "name": "stdout",
     "output_type": "stream",
     "text": [
      "1400001\n",
      "#Expensive checks : 908 (0.44%)\n",
      "Cheap Duration    : 0.1297 seconds\n",
      "Expensive Duration: 2.3517 seconds\n",
      "Total Duration    : 239.6597 minutes\n"
     ]
    }
   ],
   "source": [
    "## WARNING!!!\n",
    "## This cell can NOT be restarted after a keyboard interrupt due to inconsistent caches!\n",
    "t0 = time()\n",
    "tt = 1 / 60\n",
    "t3 = 0\n",
    "t4 = 0\n",
    "ExpensiveChecks = 0\n",
    "while True:\n",
    "    for _ in range(100_000):\n",
    "        t1 = time()\n",
    "        sixes = count_sixes(Number, Divisors, Cache)\n",
    "        t2 = time()\n",
    "        if sixes >= candidate_treshold:\n",
    "            ExpensiveChecks += 1\n",
    "            t3 = time()\n",
    "            if goliath in str(Number):\n",
    "                print(f'Found one: {i}')\n",
    "                break\n",
    "            t4 = time()\n",
    "        Number = Number<<1\n",
    "        i += 1\n",
    "        clear_output(wait=True)\n",
    "        print(i)\n",
    "        print(f'#Expensive checks : {ExpensiveChecks} ({round(100* ExpensiveChecks / (i - LastNumber), 2)}%)')\n",
    "        print(f'Cheap Duration    : {round(t2 - t1, 4)} seconds')\n",
    "        print(f'Expensive Duration: {round(t4 - t3, 4)} seconds')\n",
    "        print(f'Total Duration    : {round(tt * (t1 - t0), 4)} minutes')\n",
    "    break"
   ]
  },
  {
   "cell_type": "code",
   "execution_count": 82,
   "id": "0e8973ee",
   "metadata": {},
   "outputs": [
    {
     "data": {
      "text/plain": [
       "1400001"
      ]
     },
     "execution_count": 82,
     "metadata": {},
     "output_type": "execute_result"
    }
   ],
   "source": [
    "i"
   ]
  },
  {
   "cell_type": "code",
   "execution_count": 81,
   "id": "d7be6d53",
   "metadata": {},
   "outputs": [],
   "source": [
    "assert Number == 1<<i\n",
    "assert len(Divisors) == len(Cache)\n",
    "assert (Number>>1) // Divisors[0] == Cache[0][0]\n",
    "assert (Number>>1)  % Divisors[0] == Cache[0][1]\n",
    "j = len(Cache) - 1\n",
    "assert (Number>>1) // Divisors[j] == Cache[j][0]\n",
    "assert (Number>>1)  % Divisors[j] == Cache[j][1]"
   ]
  },
  {
   "cell_type": "code",
   "execution_count": 83,
   "id": "d69387ee",
   "metadata": {},
   "outputs": [],
   "source": [
    "PATH.write_text(f'{i-1}');"
   ]
  },
  {
   "cell_type": "code",
   "execution_count": 116,
   "id": "5f145aea",
   "metadata": {},
   "outputs": [],
   "source": [
    "with PATH_DIVISORS.open(mode='wb') as f:\n",
    "    pickle.dump(Divisors, f)"
   ]
  },
  {
   "cell_type": "code",
   "execution_count": 118,
   "id": "61e7d2ed",
   "metadata": {},
   "outputs": [],
   "source": [
    "with PATH_CACHE.open(mode='wb') as f:\n",
    "    pickle.dump(Cache, f)"
   ]
  },
  {
   "cell_type": "code",
   "execution_count": null,
   "id": "621df98c",
   "metadata": {},
   "outputs": [],
   "source": []
  },
  {
   "cell_type": "code",
   "execution_count": 84,
   "id": "b987dfb7",
   "metadata": {},
   "outputs": [
    {
     "name": "stdout",
     "output_type": "stream",
     "text": [
      "Timer unit: 1e-07 s\n",
      "\n",
      "Total time: 22106.9 s\n",
      "File: C:\\Users\\Florian\\AppData\\Local\\Temp\\ipykernel_12220\\4211618779.py\n",
      "Function: count_sixes at line 2\n",
      "\n",
      "Line #      Hits         Time  Per Hit   % Time  Line Contents\n",
      "==============================================================\n",
      "     2                                           @profiler\n",
      "     3                                           def count_sixes(Number, Divisors, Cache):\n",
      "     4    195347    1271589.0      6.5      0.0      SixCounter    = 0\n",
      "     5    195347     629752.0      3.2      0.0      SixCounterMax = 0\n",
      "     6    195347     448973.0      2.3      0.0      i = 0\n",
      "     7    195347     554875.0      2.8      0.0      N = Number\n",
      "     8 192232259  547501112.0      2.8      0.2      while N > 0:\n",
      "     9 192036912        1e+11    672.5     58.4          Digit = N % 10\n",
      "    10 192036912  528765814.0      2.8      0.2          if Digit == 6:\n",
      "    11  19237145   59780868.0      3.1      0.0              SixCounter   += 1\n",
      "    12  19237145  139016938.0      7.2      0.1              SixCounterMax = max(SixCounterMax, SixCounter)\n",
      "    13                                                   else:\n",
      "    14 172799767  412497744.0      2.4      0.2              SixCounter = 0\n",
      "    15 192036912  522259123.0      2.7      0.2          try:\n",
      "    16 192036912  804869410.0      4.2      0.4              D    = Divisors[i]\n",
      "    17 192036764  898644299.0      4.7      0.4              N, R = Cache[i]\n",
      "    18                                                       # N, R = ContinueDivision(Q, R, D) # inline\n",
      "    19 192036764        3e+10    158.3     13.8              R = (R << 1)\n",
      "    20 192036764  747298088.0      3.9      0.3              if R >= D:\n",
      "    21  95916216        2e+10    188.1      8.2                  R = R - D\n",
      "    22  95916216        2e+10    200.7      8.7                  N = (N << 1) | 1\n",
      "    23                                                       else:\n",
      "    24  96120548        2e+10    157.6      6.9                  N = (N << 1)\n",
      "    25       148       2225.0     15.0      0.0          except KeyError:\n",
      "    26       148   55208162.0 373028.1      0.0              D = 10**(399*(i+1))\n",
      "    27       148       2381.0     16.1      0.0              N = Number // D\n",
      "    28       148       1177.0      8.0      0.0              R = Number  % D\n",
      "    29       148       2909.0     19.7      0.0              Divisors[i] = D\n",
      "    30 192036912 3763679163.0     19.6      1.7          Cache[i] = N, R\n",
      "    31 192036912  582308188.0      3.0      0.3          i += 1\n",
      "    32    195347     991457.0      5.1      0.0      return SixCounterMax\n",
      "\n"
     ]
    }
   ],
   "source": [
    "profiler.print_stats()"
   ]
  },
  {
   "cell_type": "code",
   "execution_count": 43,
   "id": "0e66f354",
   "metadata": {},
   "outputs": [
    {
     "name": "stdout",
     "output_type": "stream",
     "text": [
      "Timer unit: 1e-07 s\n",
      "\n",
      "Total time: 94.5 s\n",
      "File: C:\\Users\\Florian\\AppData\\Local\\Temp\\ipykernel_12220\\4211618779.py\n",
      "Function: count_sixes at line 2\n",
      "\n",
      "Line #      Hits         Time  Per Hit   % Time  Line Contents\n",
      "==============================================================\n",
      "     2                                           @profiler\n",
      "     3                                           def count_sixes(Number, Divisors, Cache):\n",
      "     4      1000       6186.0      6.2      0.0      SixCounter    = 0\n",
      "     5      1000       2747.0      2.7      0.0      SixCounterMax = 0\n",
      "     6      1000       2364.0      2.4      0.0      i = 0\n",
      "     7      1000       3094.0      3.1      0.0      N = Number\n",
      "     8    902424    2429788.0      2.7      0.3      while N > 0:\n",
      "     9    901424  553922105.0    614.5     58.6          Digit = N % 10\n",
      "    10    901424    2409905.0      2.7      0.3          if Digit == 6:\n",
      "    11     90467     277185.0      3.1      0.0              SixCounter   += 1\n",
      "    12     90467     679282.0      7.5      0.1              SixCounterMax = max(SixCounterMax, SixCounter)\n",
      "    13                                                   else:\n",
      "    14    810957    1856124.0      2.3      0.2              SixCounter = 0\n",
      "    15    901424    2428726.0      2.7      0.3          try:\n",
      "    16    901424    3679296.0      4.1      0.4              D    = Divisors[i]\n",
      "    17    901423    4075133.0      4.5      0.4              N, R = Cache[i]\n",
      "    18                                                       # N, R = ContinueDivision(Q, R, D) # inline\n",
      "    19    901423  129336891.0    143.5     13.7              R = (R << 1)\n",
      "    20    901423    3430924.0      3.8      0.4              if R >= D:\n",
      "    21    450098   75951162.0    168.7      8.0                  R = R - D\n",
      "    22    450098   81635921.0    181.4      8.6                  N = (N << 1) | 1\n",
      "    23                                                       else:\n",
      "    24    451325   64525975.0    143.0      6.8                  N = (N << 1)\n",
      "    25         1          9.0      9.0      0.0          except KeyError:\n",
      "    26         1     324396.0 324396.0      0.0              D = 10**(399*(i+1))\n",
      "    27         1         13.0     13.0      0.0              N = Number // D\n",
      "    28         1          7.0      7.0      0.0              R = Number  % D\n",
      "    29         1         15.0     15.0      0.0              Divisors[i] = D\n",
      "    30    901424   15312798.0     17.0      1.6          Cache[i] = N, R\n",
      "    31    901424    2704672.0      3.0      0.3          i += 1\n",
      "    32      1000       4909.0      4.9      0.0      return SixCounterMax\n",
      "\n"
     ]
    }
   ],
   "source": [
    "profiler.print_stats()"
   ]
  },
  {
   "cell_type": "code",
   "execution_count": 33,
   "id": "971086fc",
   "metadata": {},
   "outputs": [
    {
     "name": "stdout",
     "output_type": "stream",
     "text": [
      "Timer unit: 1e-07 s\n",
      "\n",
      "Total time: 95.9172 s\n",
      "File: C:\\Users\\Florian\\AppData\\Local\\Temp\\ipykernel_12220\\3907487493.py\n",
      "Function: count_sixes at line 2\n",
      "\n",
      "Line #      Hits         Time  Per Hit   % Time  Line Contents\n",
      "==============================================================\n",
      "     2                                           @profiler\n",
      "     3                                           def count_sixes(Number, Divisors, Cache):\n",
      "     4      1000       7890.0      7.9      0.0      SixCounter    = 0\n",
      "     5      1000       3153.0      3.2      0.0      SixCounterMax = 0\n",
      "     6      1000       2561.0      2.6      0.0      i = 0\n",
      "     7      1000       2442.0      2.4      0.0      N = Number\n",
      "     8    901749    2333698.0      2.6      0.2      while N > 0:\n",
      "     9    900749  557088560.0    618.5     58.1          Digit = N % 10\n",
      "    10    900749    2485078.0      2.8      0.3          if Digit == 6:\n",
      "    11     90253     288829.0      3.2      0.0              SixCounter   += 1\n",
      "    12     90253     715613.0      7.9      0.1              SixCounterMax = max(SixCounterMax, SixCounter)\n",
      "    13                                                   else:\n",
      "    14    810496    1852130.0      2.3      0.2              SixCounter = 0\n",
      "    15    900749    2462459.0      2.7      0.3          try:\n",
      "    16    900749    3528406.0      3.9      0.4              D    = Divisors[i]\n",
      "    17    900748    9466650.0     10.5      1.0              Q, R = Cache[i]\n",
      "    18    900748  365107054.0    405.3     38.1              N, R = ContinueDivision(Q, R, D)\n",
      "    19         1         11.0     11.0      0.0          except KeyError:\n",
      "    20         1     311960.0 311960.0      0.0              D = 10**(399*(i+1))\n",
      "    21         1         13.0     13.0      0.0              N = Number // D\n",
      "    22         1          7.0      7.0      0.0              R = Number  % D\n",
      "    23         1         24.0     24.0      0.0              Divisors[i] = D\n",
      "    24    900749   10847705.0     12.0      1.1          Cache[i] = N, R\n",
      "    25    900749    2665435.0      3.0      0.3          i += 1\n",
      "    26      1000       2483.0      2.5      0.0      return SixCounterMax\n",
      "\n"
     ]
    }
   ],
   "source": [
    "profiler.print_stats()"
   ]
  },
  {
   "cell_type": "code",
   "execution_count": 15,
   "id": "b94deb9f",
   "metadata": {},
   "outputs": [
    {
     "name": "stdout",
     "output_type": "stream",
     "text": [
      "Timer unit: 1e-07 s\n",
      "\n",
      "Total time: 2697.76 s\n",
      "File: C:\\Users\\Florian\\AppData\\Local\\Temp\\ipykernel_1796\\3027381636.py\n",
      "Function: count_sixes at line 2\n",
      "\n",
      "Line #      Hits         Time  Per Hit   % Time  Line Contents\n",
      "==============================================================\n",
      "     2                                           @profiler\n",
      "     3                                           def count_sixes(Number, Divisors, Cache):\n",
      "     4     94909     681102.0      7.2      0.0      SixCounter    = 0\n",
      "     5     94909     338009.0      3.6      0.0      SixCounterMax = 0\n",
      "     6     94909     249670.0      2.6      0.0      i = 0\n",
      "     7     94909     301435.0      3.2      0.0      N = Number\n",
      "     8  44363833  118510216.0      2.7      0.4      while N > 0:\n",
      "     9  44268925        1e+10    329.3     54.0          Digit    = N % 10\n",
      "    10  44268925  665760860.0     15.0      2.5          Divisor  = Divisors[i]\n",
      "    11  44268925  122325401.0      2.8      0.5          if i in Cache:\n",
      "    12  44268423  317412938.0      7.2      1.2              Q, R = Cache[i]\n",
      "    13  44268423 9844022284.0    222.4     36.5              N, R = ContinueDivision(Q, R, Divisor)\n",
      "    14                                                   else:\n",
      "    15       502  287516781.0 572742.6      1.1              N = Number // Divisor\n",
      "    16       502  287111707.0 571935.7      1.1              R = Number  % Divisor\n",
      "    17  44268924  336508027.0      7.6      1.2          Cache[i] = N, R\n",
      "    18  44268924  130265081.0      2.9      0.5          if Digit == 6:\n",
      "    19   4440586   15833464.0      3.6      0.1              SixCounter   += 1\n",
      "    20   4440586   27677586.0      6.2      0.1              SixCounterMax = max(SixCounterMax, SixCounter)\n",
      "    21                                                   else:\n",
      "    22  39828338  100146138.0      2.5      0.4              SixCounter = 0\n",
      "    23  44268924  145256739.0      3.3      0.5          i += 1\n",
      "    24     94908     264214.0      2.8      0.0      return SixCounterMax\n",
      "\n"
     ]
    }
   ],
   "source": [
    "profiler.print_stats()"
   ]
  },
  {
   "cell_type": "code",
   "execution_count": null,
   "id": "e2d0db42",
   "metadata": {},
   "outputs": [],
   "source": []
  },
  {
   "cell_type": "code",
   "execution_count": null,
   "id": "88a43394",
   "metadata": {},
   "outputs": [],
   "source": []
  },
  {
   "cell_type": "code",
   "execution_count": null,
   "id": "bad4f75f",
   "metadata": {},
   "outputs": [],
   "source": []
  },
  {
   "cell_type": "code",
   "execution_count": null,
   "id": "f7c7de05",
   "metadata": {},
   "outputs": [],
   "source": []
  },
  {
   "cell_type": "code",
   "execution_count": null,
   "id": "48aa0a2d",
   "metadata": {},
   "outputs": [],
   "source": []
  }
 ],
 "metadata": {
  "kernelspec": {
   "display_name": "Python 3 (ipykernel)",
   "language": "python",
   "name": "python3"
  },
  "language_info": {
   "codemirror_mode": {
    "name": "ipython",
    "version": 3
   },
   "file_extension": ".py",
   "mimetype": "text/x-python",
   "name": "python",
   "nbconvert_exporter": "python",
   "pygments_lexer": "ipython3",
   "version": "3.9.7"
  }
 },
 "nbformat": 4,
 "nbformat_minor": 5
}
