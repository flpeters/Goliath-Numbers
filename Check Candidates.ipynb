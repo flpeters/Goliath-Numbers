{
 "cells": [
  {
   "cell_type": "code",
   "execution_count": 1,
   "id": "e5bc50df",
   "metadata": {},
   "outputs": [],
   "source": [
    "from multiprocessing import Process, Queue"
   ]
  },
  {
   "cell_type": "code",
   "execution_count": 2,
   "id": "8637ce6e",
   "metadata": {},
   "outputs": [],
   "source": [
    "from offsite import f"
   ]
  },
  {
   "cell_type": "code",
   "execution_count": 3,
   "id": "00a8c241",
   "metadata": {},
   "outputs": [],
   "source": [
    "q = Queue()\n",
    "p = Process(target=f, args=(q,))\n",
    "p.start()"
   ]
  },
  {
   "cell_type": "code",
   "execution_count": 5,
   "id": "eba67c9e",
   "metadata": {},
   "outputs": [],
   "source": [
    "q.put(2)"
   ]
  },
  {
   "cell_type": "code",
   "execution_count": 7,
   "id": "2446d281",
   "metadata": {},
   "outputs": [
    {
     "name": "stdout",
     "output_type": "stream",
     "text": [
      "Cheap!\n",
      "Expensive!\n",
      "Cheap!\n",
      "Cheap!\n",
      "Cheap!\n",
      "Expensive!\n",
      "Cheap!\n",
      "Cheap!\n",
      "Cheap!\n",
      "Expensive!\n",
      "Cheap!\n",
      "Cheap!\n",
      "Cheap!\n",
      "Expensive!\n"
     ]
    }
   ],
   "source": [
    "for i in range(10):\n",
    "    print('Cheap!')\n",
    "    if i % 3 == 0:\n",
    "        ExpensiveGoliathCheck(i)\n",
    "        print('Expensive!')"
   ]
  },
  {
   "cell_type": "code",
   "execution_count": 5,
   "id": "45903485",
   "metadata": {},
   "outputs": [
    {
     "name": "stdout",
     "output_type": "stream",
     "text": [
      "[42, None, 'hello']\n"
     ]
    }
   ],
   "source": [
    "print(q.get())    # prints \"[42, None, 'hello']\""
   ]
  },
  {
   "cell_type": "code",
   "execution_count": null,
   "id": "c2a3b697",
   "metadata": {},
   "outputs": [],
   "source": [
    "p.join()"
   ]
  },
  {
   "cell_type": "code",
   "execution_count": null,
   "id": "1429ddc1",
   "metadata": {},
   "outputs": [],
   "source": []
  },
  {
   "cell_type": "code",
   "execution_count": null,
   "id": "5dfa8090",
   "metadata": {},
   "outputs": [],
   "source": []
  },
  {
   "cell_type": "code",
   "execution_count": 1,
   "id": "cb9b0710",
   "metadata": {},
   "outputs": [],
   "source": [
    "from pathlib import Path\n",
    "from time import time, sleep\n",
    "from IPython.display import clear_output"
   ]
  },
  {
   "cell_type": "code",
   "execution_count": 2,
   "id": "bb56aba3",
   "metadata": {},
   "outputs": [],
   "source": [
    "Goliath        = 666*'666'\n",
    "GoliathAmount = len(Goliath)\n",
    "\n",
    "def ExpensiveGoliathCheck(i):\n",
    "    Number          = (1<<i)\n",
    "    ContainsGoliath = Goliath in str(Number)\n",
    "    return ContainsGoliath"
   ]
  },
  {
   "cell_type": "code",
   "execution_count": 3,
   "id": "8fe10aad",
   "metadata": {},
   "outputs": [],
   "source": [
    "DUDS = Path('./candidate_duds.txt')"
   ]
  },
  {
   "cell_type": "code",
   "execution_count": 4,
   "id": "89d78740",
   "metadata": {},
   "outputs": [
    {
     "name": "stdout",
     "output_type": "stream",
     "text": [
      "22\n",
      "Checking i=3667197\n",
      "Iteration Duration: 17.3544 seconds\n",
      "Total Duration    : 5.4458 minutes\n",
      "Result: False\n"
     ]
    }
   ],
   "source": [
    "t0 = time()\n",
    "t1 = time()\n",
    "tt = 1 / 60\n",
    "Candidates = Path('./candidates').glob('*')\n",
    "with DUDS.open(mode='a') as f:\n",
    "    for j, C in enumerate(Candidates):\n",
    "        t2 = time()\n",
    "        td = t2 - t1\n",
    "        t1 = t2\n",
    "        i  = C.name\n",
    "        clear_output(wait=True)\n",
    "        print(f'{j}\\nChecking i={i}')\n",
    "        print(f'Iteration Duration: {round(td, 4)} seconds')\n",
    "        print(f'Total Duration    : {round(tt * (t1 - t0), 4)} minutes')\n",
    "        if ExpensiveGoliathCheck(int(i)):\n",
    "            print('Result: True')\n",
    "            break\n",
    "        else:\n",
    "            print('Result: False')\n",
    "            f.write(f'{i}\\n')\n",
    "            f.flush()\n",
    "            C.unlink()"
   ]
  },
  {
   "cell_type": "code",
   "execution_count": null,
   "id": "42129cba",
   "metadata": {},
   "outputs": [],
   "source": []
  },
  {
   "cell_type": "code",
   "execution_count": null,
   "id": "1cf17b99",
   "metadata": {},
   "outputs": [],
   "source": []
  },
  {
   "cell_type": "code",
   "execution_count": null,
   "id": "67c20cba",
   "metadata": {},
   "outputs": [],
   "source": []
  },
  {
   "cell_type": "code",
   "execution_count": null,
   "id": "0aee4d80",
   "metadata": {},
   "outputs": [],
   "source": []
  },
  {
   "cell_type": "code",
   "execution_count": null,
   "id": "5fb3431e",
   "metadata": {},
   "outputs": [],
   "source": []
  },
  {
   "cell_type": "code",
   "execution_count": null,
   "id": "35bd3fb8",
   "metadata": {},
   "outputs": [],
   "source": []
  },
  {
   "cell_type": "code",
   "execution_count": null,
   "id": "038288f1",
   "metadata": {},
   "outputs": [],
   "source": []
  },
  {
   "cell_type": "code",
   "execution_count": null,
   "id": "2ca6b233",
   "metadata": {},
   "outputs": [],
   "source": []
  },
  {
   "cell_type": "code",
   "execution_count": null,
   "id": "bbd3c874",
   "metadata": {},
   "outputs": [],
   "source": []
  }
 ],
 "metadata": {
  "kernelspec": {
   "display_name": "Python 3 (ipykernel)",
   "language": "python",
   "name": "python3"
  },
  "language_info": {
   "codemirror_mode": {
    "name": "ipython",
    "version": 3
   },
   "file_extension": ".py",
   "mimetype": "text/x-python",
   "name": "python",
   "nbconvert_exporter": "python",
   "pygments_lexer": "ipython3",
   "version": "3.9.7"
  }
 },
 "nbformat": 4,
 "nbformat_minor": 5
}
