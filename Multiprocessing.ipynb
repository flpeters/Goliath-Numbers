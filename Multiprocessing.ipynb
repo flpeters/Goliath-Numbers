{
 "cells": [
  {
   "cell_type": "code",
   "execution_count": 1,
   "id": "e5bc50df",
   "metadata": {},
   "outputs": [],
   "source": [
    "from multiprocessing import Process, Queue"
   ]
  },
  {
   "cell_type": "code",
   "execution_count": 2,
   "id": "8637ce6e",
   "metadata": {},
   "outputs": [],
   "source": [
    "from offsite import f"
   ]
  },
  {
   "cell_type": "code",
   "execution_count": 3,
   "id": "00a8c241",
   "metadata": {},
   "outputs": [],
   "source": [
    "q = Queue()\n",
    "p = Process(target=f, args=(q,))\n",
    "p.start()"
   ]
  },
  {
   "cell_type": "code",
   "execution_count": 4,
   "id": "c1429eef",
   "metadata": {},
   "outputs": [],
   "source": []
  },
  {
   "cell_type": "code",
   "execution_count": 5,
   "id": "eba67c9e",
   "metadata": {},
   "outputs": [],
   "source": [
    "q.put(2)"
   ]
  },
  {
   "cell_type": "code",
   "execution_count": null,
   "id": "698cca3d",
   "metadata": {},
   "outputs": [],
   "source": []
  },
  {
   "cell_type": "code",
   "execution_count": null,
   "id": "cbb74cf2",
   "metadata": {},
   "outputs": [],
   "source": []
  },
  {
   "cell_type": "code",
   "execution_count": 7,
   "id": "2446d281",
   "metadata": {},
   "outputs": [
    {
     "name": "stdout",
     "output_type": "stream",
     "text": [
      "Cheap!\n",
      "Expensive!\n",
      "Cheap!\n",
      "Cheap!\n",
      "Cheap!\n",
      "Expensive!\n",
      "Cheap!\n",
      "Cheap!\n",
      "Cheap!\n",
      "Expensive!\n",
      "Cheap!\n",
      "Cheap!\n",
      "Cheap!\n",
      "Expensive!\n"
     ]
    }
   ],
   "source": [
    "for i in range(10):\n",
    "    print('Cheap!')\n",
    "    if i % 3 == 0:\n",
    "        ExpensiveGoliathCheck(i)\n",
    "        print('Expensive!')"
   ]
  },
  {
   "cell_type": "code",
   "execution_count": 5,
   "id": "45903485",
   "metadata": {},
   "outputs": [
    {
     "name": "stdout",
     "output_type": "stream",
     "text": [
      "[42, None, 'hello']\n"
     ]
    }
   ],
   "source": [
    "print(q.get())    # prints \"[42, None, 'hello']\""
   ]
  },
  {
   "cell_type": "code",
   "execution_count": null,
   "id": "c2a3b697",
   "metadata": {},
   "outputs": [],
   "source": [
    "p.join()"
   ]
  }
 ],
 "metadata": {
  "kernelspec": {
   "display_name": "Python 3 (ipykernel)",
   "language": "python",
   "name": "python3"
  },
  "language_info": {
   "codemirror_mode": {
    "name": "ipython",
    "version": 3
   },
   "file_extension": ".py",
   "mimetype": "text/x-python",
   "name": "python",
   "nbconvert_exporter": "python",
   "pygments_lexer": "ipython3",
   "version": "3.9.7"
  }
 },
 "nbformat": 4,
 "nbformat_minor": 5
}
