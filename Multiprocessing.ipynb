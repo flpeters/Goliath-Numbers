{
 "cells": [
  {
   "cell_type": "code",
   "execution_count": null,
   "id": "46a561e4",
   "metadata": {},
   "outputs": [],
   "source": []
  },
  {
   "cell_type": "code",
   "execution_count": 1,
   "id": "e5bc50df",
   "metadata": {},
   "outputs": [],
   "source": [
    "from multiprocessing import Process, Queue"
   ]
  },
  {
   "cell_type": "code",
   "execution_count": 2,
   "id": "8637ce6e",
   "metadata": {},
   "outputs": [],
   "source": [
    "from offsite import f"
   ]
  },
  {
   "cell_type": "code",
   "execution_count": 3,
   "id": "00a8c241",
   "metadata": {},
   "outputs": [],
   "source": [
    "q = Queue()\n",
    "p = Process(target=f, args=(q,))\n",
    "p.start()"
   ]
  },
  {
   "cell_type": "code",
   "execution_count": 5,
   "id": "eba67c9e",
   "metadata": {},
   "outputs": [],
   "source": [
    "q.put(2)"
   ]
  },
  {
   "cell_type": "code",
   "execution_count": 7,
   "id": "2446d281",
   "metadata": {},
   "outputs": [
    {
     "name": "stdout",
     "output_type": "stream",
     "text": [
      "Cheap!\n",
      "Expensive!\n",
      "Cheap!\n",
      "Cheap!\n",
      "Cheap!\n",
      "Expensive!\n",
      "Cheap!\n",
      "Cheap!\n",
      "Cheap!\n",
      "Expensive!\n",
      "Cheap!\n",
      "Cheap!\n",
      "Cheap!\n",
      "Expensive!\n"
     ]
    }
   ],
   "source": [
    "for i in range(10):\n",
    "    print('Cheap!')\n",
    "    if i % 3 == 0:\n",
    "        ExpensiveGoliathCheck(i)\n",
    "        print('Expensive!')"
   ]
  },
  {
   "cell_type": "code",
   "execution_count": 5,
   "id": "45903485",
   "metadata": {},
   "outputs": [
    {
     "name": "stdout",
     "output_type": "stream",
     "text": [
      "[42, None, 'hello']\n"
     ]
    }
   ],
   "source": [
    "print(q.get())    # prints \"[42, None, 'hello']\""
   ]
  },
  {
   "cell_type": "code",
   "execution_count": null,
   "id": "c2a3b697",
   "metadata": {},
   "outputs": [],
   "source": [
    "p.join()"
   ]
  },
  {
   "cell_type": "code",
   "execution_count": null,
   "id": "0c85df5a",
   "metadata": {},
   "outputs": [],
   "source": []
  },
  {
   "cell_type": "code",
   "execution_count": null,
   "id": "d61be7f5",
   "metadata": {},
   "outputs": [],
   "source": []
  },
  {
   "cell_type": "code",
   "execution_count": 46,
   "id": "f3d3d04a",
   "metadata": {},
   "outputs": [],
   "source": [
    "from pathlib import Path\n",
    "from time import time, sleep\n",
    "from IPython.display import clear_output"
   ]
  },
  {
   "cell_type": "code",
   "execution_count": 20,
   "id": "c31a69f5",
   "metadata": {},
   "outputs": [],
   "source": [
    "Goliath        = 666*'666'\n",
    "GoliathAmount = len(Goliath)\n",
    "\n",
    "def ExpensiveGoliathCheck(i):\n",
    "    Number          = (1<<i)\n",
    "    ContainsGoliath = Goliath in str(Number)\n",
    "    return ContainsGoliath"
   ]
  },
  {
   "cell_type": "code",
   "execution_count": 39,
   "id": "252db012",
   "metadata": {},
   "outputs": [],
   "source": [
    "DUDS = Path('./candidate_duds.txt')"
   ]
  },
  {
   "cell_type": "code",
   "execution_count": 59,
   "id": "e98c1d55",
   "metadata": {},
   "outputs": [
    {
     "name": "stdout",
     "output_type": "stream",
     "text": [
      "5994\n",
      "Checking i=1937770\n",
      "Iteration Duration: 4.6616 seconds\n",
      "Total Duration    : 361.3876 minutes\n"
     ]
    },
    {
     "ename": "KeyboardInterrupt",
     "evalue": "",
     "output_type": "error",
     "traceback": [
      "\u001b[1;31m---------------------------------------------------------------------------\u001b[0m",
      "\u001b[1;31mKeyboardInterrupt\u001b[0m                         Traceback (most recent call last)",
      "Input \u001b[1;32mIn [59]\u001b[0m, in \u001b[0;36m<cell line: 5>\u001b[1;34m()\u001b[0m\n\u001b[0;32m     13\u001b[0m \u001b[38;5;28mprint\u001b[39m(\u001b[38;5;124mf\u001b[39m\u001b[38;5;124m'\u001b[39m\u001b[38;5;124mIteration Duration: \u001b[39m\u001b[38;5;132;01m{\u001b[39;00m\u001b[38;5;28mround\u001b[39m(td, \u001b[38;5;241m4\u001b[39m)\u001b[38;5;132;01m}\u001b[39;00m\u001b[38;5;124m seconds\u001b[39m\u001b[38;5;124m'\u001b[39m)\n\u001b[0;32m     14\u001b[0m \u001b[38;5;28mprint\u001b[39m(\u001b[38;5;124mf\u001b[39m\u001b[38;5;124m'\u001b[39m\u001b[38;5;124mTotal Duration    : \u001b[39m\u001b[38;5;132;01m{\u001b[39;00m\u001b[38;5;28mround\u001b[39m(tt \u001b[38;5;241m*\u001b[39m (t1 \u001b[38;5;241m-\u001b[39m t0), \u001b[38;5;241m4\u001b[39m)\u001b[38;5;132;01m}\u001b[39;00m\u001b[38;5;124m minutes\u001b[39m\u001b[38;5;124m'\u001b[39m)\n\u001b[1;32m---> 15\u001b[0m \u001b[38;5;28;01mif\u001b[39;00m \u001b[43mExpensiveGoliathCheck\u001b[49m\u001b[43m(\u001b[49m\u001b[38;5;28;43mint\u001b[39;49m\u001b[43m(\u001b[49m\u001b[43mi\u001b[49m\u001b[43m)\u001b[49m\u001b[43m)\u001b[49m:\n\u001b[0;32m     16\u001b[0m     \u001b[38;5;28mprint\u001b[39m(\u001b[38;5;124m'\u001b[39m\u001b[38;5;124mResult: True\u001b[39m\u001b[38;5;124m'\u001b[39m)\n\u001b[0;32m     17\u001b[0m     \u001b[38;5;28;01mbreak\u001b[39;00m\n",
      "\u001b[1;31mKeyboardInterrupt\u001b[0m: "
     ]
    }
   ],
   "source": [
    "t0 = time()\n",
    "t1 = time()\n",
    "tt = 1 / 60\n",
    "Candidates = Path('./candidates').glob('*')\n",
    "with DUDS.open(mode='a') as f:\n",
    "    for j, C in enumerate(Candidates):\n",
    "        t2 = time()\n",
    "        td = t2 - t1\n",
    "        t1 = t2\n",
    "        i  = C.name\n",
    "        clear_output(wait=True)\n",
    "        print(f'{j}\\nChecking i={i}')\n",
    "        print(f'Iteration Duration: {round(td, 4)} seconds')\n",
    "        print(f'Total Duration    : {round(tt * (t1 - t0), 4)} minutes')\n",
    "        if ExpensiveGoliathCheck(int(i)):\n",
    "            print('Result: True')\n",
    "            break\n",
    "        else:\n",
    "            print('Result: False')\n",
    "            f.write(f'{i}\\n')\n",
    "            f.flush()\n",
    "            C.unlink()"
   ]
  },
  {
   "cell_type": "code",
   "execution_count": null,
   "id": "6f7c9d7e",
   "metadata": {},
   "outputs": [],
   "source": []
  },
  {
   "cell_type": "code",
   "execution_count": null,
   "id": "6add60e4",
   "metadata": {},
   "outputs": [],
   "source": []
  },
  {
   "cell_type": "code",
   "execution_count": null,
   "id": "828edf0e",
   "metadata": {},
   "outputs": [],
   "source": []
  },
  {
   "cell_type": "code",
   "execution_count": null,
   "id": "c6634207",
   "metadata": {},
   "outputs": [],
   "source": []
  },
  {
   "cell_type": "code",
   "execution_count": null,
   "id": "7f5d7382",
   "metadata": {},
   "outputs": [],
   "source": []
  },
  {
   "cell_type": "code",
   "execution_count": null,
   "id": "c90df800",
   "metadata": {},
   "outputs": [],
   "source": []
  },
  {
   "cell_type": "code",
   "execution_count": null,
   "id": "300f2b1c",
   "metadata": {},
   "outputs": [],
   "source": []
  },
  {
   "cell_type": "code",
   "execution_count": null,
   "id": "281f6114",
   "metadata": {},
   "outputs": [],
   "source": []
  },
  {
   "cell_type": "code",
   "execution_count": null,
   "id": "d49114a4",
   "metadata": {},
   "outputs": [],
   "source": []
  }
 ],
 "metadata": {
  "kernelspec": {
   "display_name": "Python 3 (ipykernel)",
   "language": "python",
   "name": "python3"
  },
  "language_info": {
   "codemirror_mode": {
    "name": "ipython",
    "version": 3
   },
   "file_extension": ".py",
   "mimetype": "text/x-python",
   "name": "python",
   "nbconvert_exporter": "python",
   "pygments_lexer": "ipython3",
   "version": "3.9.7"
  }
 },
 "nbformat": 4,
 "nbformat_minor": 5
}
