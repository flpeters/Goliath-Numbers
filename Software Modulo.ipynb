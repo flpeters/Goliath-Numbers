{
 "cells": [
  {
   "cell_type": "code",
   "execution_count": 345,
   "id": "dd81ebee",
   "metadata": {},
   "outputs": [],
   "source": [
    "from line_profiler import LineProfiler"
   ]
  },
  {
   "cell_type": "code",
   "execution_count": 346,
   "id": "fdfd0384",
   "metadata": {},
   "outputs": [],
   "source": [
    "%load_ext line_profiler"
   ]
  },
  {
   "cell_type": "markdown",
   "id": "ada0373a",
   "metadata": {
    "heading_collapsed": true
   },
   "source": [
    "## Speed up modulo by using remainder instead of entire number"
   ]
  },
  {
   "cell_type": "markdown",
   "id": "df42531c",
   "metadata": {
    "hidden": true
   },
   "source": [
    "Testing if we can use the remainder of a division with a large multiple of 10 to speed up the computation of modulo 10."
   ]
  },
  {
   "cell_type": "markdown",
   "id": "530d31a0",
   "metadata": {
    "hidden": true
   },
   "source": [
    "NOTE: There seems to be something fishy going on with the last digit, depending on which exponent we choose. All exponents of two ending in 0 seem to be ending in 6 once calculated. All with 1 end with 2, all with 2 end with 4 and so on. Check this out later!"
   ]
  },
  {
   "cell_type": "code",
   "execution_count": 11,
   "id": "3d737f75",
   "metadata": {
    "hidden": true
   },
   "outputs": [],
   "source": [
    "N = 1<<1001"
   ]
  },
  {
   "cell_type": "code",
   "execution_count": 12,
   "id": "3695635f",
   "metadata": {
    "hidden": true
   },
   "outputs": [],
   "source": [
    "one = N % 10**1"
   ]
  },
  {
   "cell_type": "code",
   "execution_count": 13,
   "id": "e819cc58",
   "metadata": {
    "hidden": true
   },
   "outputs": [],
   "source": [
    "two = N % 10**2"
   ]
  },
  {
   "cell_type": "code",
   "execution_count": 14,
   "id": "08aaf4b4",
   "metadata": {
    "hidden": true
   },
   "outputs": [],
   "source": [
    "three = N % 10**3"
   ]
  },
  {
   "cell_type": "code",
   "execution_count": 15,
   "id": "ee519a91",
   "metadata": {
    "hidden": true
   },
   "outputs": [],
   "source": [
    "four = N % 10**4"
   ]
  },
  {
   "cell_type": "code",
   "execution_count": 16,
   "id": "e64f8371",
   "metadata": {
    "hidden": true
   },
   "outputs": [],
   "source": [
    "five = N % 10**5"
   ]
  },
  {
   "cell_type": "code",
   "execution_count": 17,
   "id": "f937ff4f",
   "metadata": {
    "hidden": true
   },
   "outputs": [],
   "source": [
    "six = N % 10**6"
   ]
  },
  {
   "cell_type": "code",
   "execution_count": 18,
   "id": "a3327e1f",
   "metadata": {
    "hidden": true
   },
   "outputs": [],
   "source": [
    "seven = N % 10**7"
   ]
  },
  {
   "cell_type": "code",
   "execution_count": 19,
   "id": "8c2bdcc1",
   "metadata": {
    "hidden": true
   },
   "outputs": [],
   "source": [
    "eight = N % 10**8"
   ]
  },
  {
   "cell_type": "code",
   "execution_count": 20,
   "id": "939505a9",
   "metadata": {
    "hidden": true
   },
   "outputs": [
    {
     "data": {
      "text/plain": [
       "(2, 52, 752, 8752, 38752, 138752, 6138752, 36138752)"
      ]
     },
     "execution_count": 20,
     "metadata": {},
     "output_type": "execute_result"
    }
   ],
   "source": [
    "one, two, three, four, five, six, seven, eight"
   ]
  },
  {
   "cell_type": "code",
   "execution_count": 122,
   "id": "2482e73d",
   "metadata": {
    "hidden": true
   },
   "outputs": [
    {
     "data": {
      "text/plain": [
       "42860344287450692837937001962400072422456192468221344297750015534814042044997444899727935152627834325103786916702125873007485811427692561743938310298794299215738271099296923941684298420249484567511816728612185899934327765069595070236662175784308251658284785910746168670641719326610497547348822672277504"
      ]
     },
     "execution_count": 122,
     "metadata": {},
     "output_type": "execute_result"
    }
   ],
   "source": [
    "N"
   ]
  },
  {
   "cell_type": "code",
   "execution_count": 123,
   "id": "4b39e776",
   "metadata": {
    "hidden": true
   },
   "outputs": [
    {
     "data": {
      "text/plain": [
       "42860344287450692837937001962400072422456192468221344297750015534814042044997444899727935152627834325103786916702125873007485811427692561743938310298794299215738271099296923941684298420249484567511816728612185899934327765069595070236662175784308251658284785910746168670641719326610497547348822672277504"
      ]
     },
     "execution_count": 123,
     "metadata": {},
     "output_type": "execute_result"
    }
   ],
   "source": [
    "N % 10**399"
   ]
  },
  {
   "cell_type": "markdown",
   "id": "d345f2eb",
   "metadata": {
    "hidden": true
   },
   "source": [
    "It seems like any time we do a `n mod 10**k`, we're really grabbing about the last k decimal digits of the number n. So if we then do a mod 10 afterwards on that value, we will get the result of n mod 10, without having to do the whole computation again.  \n",
    "With this realisation it's obvious that we can just take the modulo of the remainder instead of the entire number, saving massively on computation."
   ]
  },
  {
   "cell_type": "code",
   "execution_count": 209,
   "id": "c05c92fc",
   "metadata": {
    "hidden": true
   },
   "outputs": [],
   "source": [
    "profiler = LineProfiler()\n",
    "@profiler\n",
    "def count_sixes(N, D, Cache):\n",
    "    SixCounter    = 0\n",
    "    SixCounterMax = 0\n",
    "    j = 0\n",
    "    while N > 0:\n",
    "        # TODO: use continued division for this as well? Or can we just use the remainder instead of the number?\n",
    "        Digit = N % 10\n",
    "        if Digit == 6:\n",
    "            SixCounter   += 1\n",
    "            SixCounterMax = max(SixCounterMax, SixCounter)\n",
    "        else:\n",
    "            SixCounter = 0\n",
    "        try:\n",
    "            Q, R = Cache[j]\n",
    "            R    = (R << 1) | (N & 1)\n",
    "            if R >= D:\n",
    "                R = R - D\n",
    "                N = (Q << 1) | 1\n",
    "            else:\n",
    "                N = (Q << 1)\n",
    "        except KeyError:\n",
    "            R = N  % D\n",
    "            N = N // D\n",
    "        Cache[j] = N, R\n",
    "        j += 1\n",
    "    return SixCounterMax"
   ]
  },
  {
   "cell_type": "code",
   "execution_count": 213,
   "id": "a73ced89",
   "metadata": {
    "hidden": true
   },
   "outputs": [],
   "source": [
    "# This is the new version\n",
    "profiler = LineProfiler()\n",
    "@profiler\n",
    "def count_sixes(N, D, Cache):\n",
    "    SixCounter    = 0\n",
    "    SixCounterMax = 0\n",
    "    j = 0\n",
    "    while N > 0:\n",
    "        try:\n",
    "            Q, R = Cache[j]\n",
    "            R    = (R << 1) | (N & 1)\n",
    "            if R >= D:\n",
    "                R = R - D\n",
    "                N = (Q << 1) | 1\n",
    "            else:\n",
    "                N = (Q << 1)\n",
    "        except KeyError:\n",
    "            R = N  % D\n",
    "            N = N // D\n",
    "        Cache[j] = N, R\n",
    "        j += 1\n",
    "        \n",
    "        Digit = R % 10\n",
    "        if Digit == 6:\n",
    "            SixCounter   += 1\n",
    "            SixCounterMax = max(SixCounterMax, SixCounter)\n",
    "        else:\n",
    "            SixCounter = 0\n",
    "        \n",
    "    return SixCounterMax"
   ]
  },
  {
   "cell_type": "code",
   "execution_count": 214,
   "id": "116297e6",
   "metadata": {
    "hidden": true
   },
   "outputs": [
    {
     "name": "stdout",
     "output_type": "stream",
     "text": [
      "Building Cache...\n",
      "Done!\n",
      "CPU times: total: 31.2 ms\n",
      "Wall time: 18 ms\n"
     ]
    }
   ],
   "source": [
    "%%time\n",
    "i        = 100_000\n",
    "Number   = 1<<(i - 1)\n",
    "print('Building Cache...')\n",
    "Divisor = 10**399\n",
    "Cache   = {}\n",
    "count_sixes(Number, Divisor, Cache)\n",
    "Number = Number << 1\n",
    "print('Done!')"
   ]
  },
  {
   "cell_type": "code",
   "execution_count": 211,
   "id": "c4b40a2d",
   "metadata": {
    "hidden": true
   },
   "outputs": [
    {
     "name": "stdout",
     "output_type": "stream",
     "text": [
      "[2, 1, 2, 2, 1, 1, 2, 2, 2, 1, 2, 1, 2, 1, 2, 2, 1, 1, 2, 2, 2, 1, 2, 1, 3, 2, 1, 1, 2, 2, 1, 2, 1, 2, 1, 2, 2, 2, 1, 2, 1, 1, 1, 1, 2, 1, 2, 1, 2, 2, 2, 2, 2, 3, 1, 1, 1, 1, 1, 1, 2, 2, 3, 2, 3, 1, 2, 2, 2, 2, 2, 2, 2, 1, 2, 2, 2, 1, 6, 2, 2, 2, 2, 2, 1, 1, 2, 1, 1, 1, 3, 2, 2, 2, 1, 2, 2, 1, 1, 2, 1, 1, 2, 1, 2, 1, 1, 1, 1, 3, 1, 2, 1, 1, 2, 2, 2, 1, 1, 2, 2, 1, 1, 1, 2, 2, 2, 1, 2, 2, 3, 1, 1, 3, 2, 1, 2, 1, 1, 3, 2, 1, 2, 1, 2, 2, 1, 1, 2, 2, 2, 2, 2, 2, 2, 1, 2, 3, 2, 2, 1, 2, 3, 2, 2, 2, 1, 2, 1, 2, 2, 1, 1, 1, 3, 2, 1, 2, 1, 2, 2, 1, 3, 1, 1, 2, 2, 1, 2, 1, 3, 1, 1, 1, 1, 2, 2, 1, 2, 1, 1, 2, 2, 2, 1, 1, 2, 1, 2, 2, 1, 1, 1, 2, 1, 1, 2, 3, 2, 1, 2, 1, 1, 1, 1, 1, 2, 2, 2, 2, 2, 2, 2, 2, 1, 2, 2, 3, 2, 1, 1, 1, 2, 2, 2, 2, 1, 1, 2, 1, 2, 2, 1, 1, 1, 1, 2, 1, 2, 1, 2, 1, 2, 1, 1, 2, 3, 1, 1, 2, 2, 2, 1, 2, 2, 2, 1, 2, 2, 2, 1, 1, 2, 2, 1, 1, 1, 2, 2, 2, 2, 2, 1, 1, 2, 2, 3, 1, 1, 1, 3, 1, 2, 1, 2, 1, 2, 2, 1, 1, 1, 2, 2, 2, 2, 1, 1, 2, 4, 1, 1, 3, 1, 2, 1, 1, 1, 1, 3, 2, 1, 2, 2, 1, 1, 1, 2, 1, 2, 1, 2, 2, 3, 2, 3, 4, 1, 1, 1, 2, 1, 2, 1, 1, 2, 2, 1, 1, 1, 2, 1, 3, 1, 1, 2, 2, 1, 1, 2, 1, 1, 1, 1, 2, 1, 2, 2, 2, 2, 2, 1, 1, 1, 1, 1, 1, 2, 2, 2, 1, 2, 3, 2, 1, 2, 2, 2, 1, 1, 1, 2, 2, 2, 3, 2, 1, 1, 2, 2, 2, 1, 1, 1, 1, 2, 1, 1, 2, 2, 2, 2, 2, 1, 1, 2, 1, 1, 2, 1, 1, 2, 1, 1, 2, 2, 1, 2, 1, 2, 1, 2, 1, 1, 1, 2, 2, 1, 2, 1, 1, 1, 3, 2, 2, 1, 2, 1, 2, 2, 2, 1, 2, 1, 1, 2, 2, 2, 1, 1, 2, 2, 1, 3, 2, 3, 2, 2, 1, 2, 2, 1, 2, 1, 2, 2, 1, 2, 1, 1, 2, 1, 1, 1, 2, 1, 1, 1, 1, 3, 1, 3, 1, 1, 2, 1, 1, 1, 2, 4, 1, 2, 2, 2, 1, 2, 1, 2, 1, 1, 2, 2, 2, 1, 1, 1, 1, 2, 1, 1, 2, 1, 3, 1, 1, 2, 2, 1, 1, 1, 2, 2, 2, 2, 2, 2, 1, 2, 2, 2, 1, 1, 2, 2, 2, 2, 2, 1, 1, 1, 1, 2, 1, 1, 1, 2, 1, 2, 2, 1, 1, 2, 2, 1, 2, 1, 2, 3, 2, 1, 2, 2, 2, 1, 1, 2, 2, 2, 1, 1, 1, 1, 1, 2, 2, 2, 1, 1, 2, 1, 2, 2, 1, 3, 2, 1, 1, 2, 1, 1, 1, 1, 1, 2, 1, 1, 1, 1, 2, 2, 1, 1, 3, 1, 2, 1, 1, 1, 4, 3, 1, 1, 2, 2, 1, 3, 1, 1, 1, 1, 2, 3, 2, 2, 2, 2, 2, 2, 1, 1, 2, 1, 1, 2, 1, 2, 2, 3, 1, 1, 2, 1, 2, 2, 2, 2, 2, 2, 3, 2, 2, 1, 1, 1, 2, 1, 1, 1, 2, 1, 3, 2, 2, 1, 2, 2, 2, 2, 2, 2, 2, 1, 1, 1, 2, 2, 2, 1, 1, 2, 1, 3, 1, 1, 1, 2, 1, 1, 2, 2, 2, 2, 1, 2, 2, 2, 1, 1, 4, 2, 1, 2, 2, 2, 2, 1, 1, 1, 2, 2, 2, 1, 2, 1, 2, 2, 2, 2, 1, 2, 2, 1, 3, 2, 1, 2, 2, 2, 1, 1, 2, 2, 2, 2, 1, 3, 2, 3, 1, 1, 1, 1, 2, 3, 1, 3, 2, 2, 1, 2, 1, 2, 1, 2, 2, 1, 1, 1, 2, 1, 2, 2, 1, 1, 2, 2, 2, 3, 1, 2, 2, 2, 3, 1, 2, 2, 1, 2, 1, 2, 1, 2, 1, 1, 2, 2, 2, 2, 2, 2, 1, 2, 1, 2, 2, 2, 1, 3, 1, 1, 2, 1, 2, 1, 1, 2, 1, 1, 1, 1, 1, 2, 1, 2, 1, 2, 2, 2, 2, 1, 2, 1, 2, 1, 2, 2, 2, 1, 1, 2, 1, 2, 1, 2, 1, 1, 1, 1, 2, 1, 1, 2, 1, 2, 1, 1, 1, 2, 1, 1, 1, 1, 1, 3, 1, 1, 1, 1, 2, 1, 2, 1, 2, 2, 1, 1, 2, 3, 1, 1, 1, 2, 3, 1, 1, 1, 3, 3, 2, 1, 2, 2, 2, 2, 1, 2, 2, 1, 3, 1, 1, 1, 1, 1, 2, 1, 1, 1, 2, 1, 2, 3, 1, 2, 2, 2, 3, 1, 3, 1, 3, 2, 2, 2, 2, 2, 1, 1, 1, 1, 2, 2, 1, 2, 1, 3, 1, 1, 2, 2, 1, 2, 2, 1, 2, 1, 2, 2, 2, 2, 2, 3, 2, 2, 1, 2, 2, 2, 1, 2, 2, 1, 2, 1, 1, 1, 1, 3, 1, 2, 3, 2, 1, 1, 1, 2, 1, 2, 2, 2, 2, 1, 2, 1, 1, 1, 1, 2, 1, 1, 2]\n",
      "CPU times: total: 938 ms\n",
      "Wall time: 927 ms\n"
     ]
    }
   ],
   "source": [
    "%%time\n",
    "output = []\n",
    "for _ in range(1000):\n",
    "    output.append(count_sixes(Number, Divisor, Cache))\n",
    "    i      += 1\n",
    "    Number  = Number<<1\n",
    "print(output)"
   ]
  },
  {
   "cell_type": "code",
   "execution_count": 215,
   "id": "d01f1a7e",
   "metadata": {
    "hidden": true
   },
   "outputs": [
    {
     "name": "stdout",
     "output_type": "stream",
     "text": [
      "[2, 1, 2, 2, 1, 1, 2, 2, 2, 1, 2, 1, 2, 1, 2, 2, 1, 1, 2, 2, 2, 1, 2, 1, 3, 2, 1, 1, 2, 2, 1, 2, 1, 2, 1, 2, 2, 2, 1, 2, 1, 1, 1, 1, 2, 1, 2, 1, 2, 2, 2, 2, 2, 3, 1, 1, 1, 1, 1, 1, 2, 2, 3, 2, 3, 1, 2, 2, 2, 2, 2, 2, 2, 1, 2, 2, 2, 1, 6, 2, 2, 2, 2, 2, 1, 1, 2, 1, 1, 1, 3, 2, 2, 2, 1, 2, 2, 1, 1, 2, 1, 1, 2, 1, 2, 1, 1, 1, 1, 3, 1, 2, 1, 1, 2, 2, 2, 1, 1, 2, 2, 1, 1, 1, 2, 2, 2, 1, 2, 2, 3, 1, 1, 3, 2, 1, 2, 1, 1, 3, 2, 1, 2, 1, 2, 2, 1, 1, 2, 2, 2, 2, 2, 2, 2, 1, 2, 3, 2, 2, 1, 2, 3, 2, 2, 2, 1, 2, 1, 2, 2, 1, 1, 1, 3, 2, 1, 2, 1, 2, 2, 1, 3, 1, 1, 2, 2, 1, 2, 1, 3, 1, 1, 1, 1, 2, 2, 1, 2, 1, 1, 2, 2, 2, 1, 1, 2, 1, 2, 2, 1, 1, 1, 2, 1, 1, 2, 3, 2, 1, 2, 1, 1, 1, 1, 1, 2, 2, 2, 2, 2, 2, 2, 2, 1, 2, 2, 3, 2, 1, 1, 1, 2, 2, 2, 2, 1, 1, 2, 1, 2, 2, 1, 1, 1, 1, 2, 1, 2, 1, 2, 1, 2, 1, 1, 2, 3, 1, 1, 2, 2, 2, 1, 2, 2, 2, 1, 2, 2, 2, 1, 1, 2, 2, 1, 1, 1, 2, 2, 2, 2, 2, 1, 1, 2, 2, 3, 1, 1, 1, 3, 1, 2, 1, 2, 1, 2, 2, 1, 1, 1, 2, 2, 2, 2, 1, 1, 2, 4, 1, 1, 3, 1, 2, 1, 1, 1, 1, 3, 2, 1, 2, 2, 1, 1, 1, 2, 1, 2, 1, 2, 2, 3, 2, 3, 4, 1, 1, 1, 2, 1, 2, 1, 1, 2, 2, 1, 1, 1, 2, 1, 3, 1, 1, 2, 2, 1, 1, 2, 1, 1, 1, 1, 2, 1, 2, 2, 2, 2, 2, 1, 1, 1, 1, 1, 1, 2, 2, 2, 1, 2, 3, 2, 1, 2, 2, 2, 1, 1, 1, 2, 2, 2, 3, 2, 1, 1, 2, 2, 2, 1, 1, 1, 1, 2, 1, 1, 2, 2, 2, 2, 2, 1, 1, 2, 1, 1, 2, 1, 1, 2, 1, 1, 2, 2, 1, 2, 1, 2, 1, 2, 1, 1, 1, 2, 2, 1, 2, 1, 1, 1, 3, 2, 2, 1, 2, 1, 2, 2, 2, 1, 2, 1, 1, 2, 2, 2, 1, 1, 2, 2, 1, 3, 2, 3, 2, 2, 1, 2, 2, 1, 2, 1, 2, 2, 1, 2, 1, 1, 2, 1, 1, 1, 2, 1, 1, 1, 1, 3, 1, 3, 1, 1, 2, 1, 1, 1, 2, 4, 1, 2, 2, 2, 1, 2, 1, 2, 1, 1, 2, 2, 2, 1, 1, 1, 1, 2, 1, 1, 2, 1, 3, 1, 1, 2, 2, 1, 1, 1, 2, 2, 2, 2, 2, 2, 1, 2, 2, 2, 1, 1, 2, 2, 2, 2, 2, 1, 1, 1, 1, 2, 1, 1, 1, 2, 1, 2, 2, 1, 1, 2, 2, 1, 2, 1, 2, 3, 2, 1, 2, 2, 2, 1, 1, 2, 2, 2, 1, 1, 1, 1, 1, 2, 2, 2, 1, 1, 2, 1, 2, 2, 1, 3, 2, 1, 1, 2, 1, 1, 1, 1, 1, 2, 1, 1, 1, 1, 2, 2, 1, 1, 3, 1, 2, 1, 1, 1, 4, 3, 1, 1, 2, 2, 1, 3, 1, 1, 1, 1, 2, 3, 2, 2, 2, 2, 2, 2, 1, 1, 2, 1, 1, 2, 1, 2, 2, 3, 1, 1, 2, 1, 2, 2, 2, 2, 2, 2, 3, 2, 2, 1, 1, 1, 2, 1, 1, 1, 2, 1, 3, 2, 2, 1, 2, 2, 2, 2, 2, 2, 2, 1, 1, 1, 2, 2, 2, 1, 1, 2, 1, 3, 1, 1, 1, 2, 1, 1, 2, 2, 2, 2, 1, 2, 2, 2, 1, 1, 4, 2, 1, 2, 2, 2, 2, 1, 1, 1, 2, 2, 2, 1, 2, 1, 2, 2, 2, 2, 1, 2, 2, 1, 3, 2, 1, 2, 2, 2, 1, 1, 2, 2, 2, 2, 1, 3, 2, 3, 1, 1, 1, 1, 2, 3, 1, 3, 2, 2, 1, 2, 1, 2, 1, 2, 2, 1, 1, 1, 2, 1, 2, 2, 1, 1, 2, 2, 2, 3, 1, 2, 2, 2, 3, 1, 2, 2, 1, 2, 1, 2, 1, 2, 1, 1, 2, 2, 2, 2, 2, 2, 1, 2, 1, 2, 2, 2, 1, 3, 1, 1, 2, 1, 2, 1, 1, 2, 1, 1, 1, 1, 1, 2, 1, 2, 1, 2, 2, 2, 2, 1, 2, 1, 2, 1, 2, 2, 2, 1, 1, 2, 1, 2, 1, 2, 1, 1, 1, 1, 2, 1, 1, 2, 1, 2, 1, 1, 1, 2, 1, 1, 1, 1, 1, 3, 1, 1, 1, 1, 2, 1, 2, 1, 2, 2, 1, 1, 2, 3, 1, 1, 1, 2, 3, 1, 1, 1, 3, 3, 2, 1, 2, 2, 2, 2, 1, 2, 2, 1, 3, 1, 1, 1, 1, 1, 2, 1, 1, 1, 2, 1, 2, 3, 1, 2, 2, 2, 3, 1, 3, 1, 3, 2, 2, 2, 2, 2, 1, 1, 1, 1, 2, 2, 1, 2, 1, 3, 1, 1, 2, 2, 1, 2, 2, 1, 2, 1, 2, 2, 2, 2, 2, 3, 2, 2, 1, 2, 2, 2, 1, 2, 2, 1, 2, 1, 1, 1, 1, 3, 1, 2, 3, 2, 1, 1, 1, 2, 1, 2, 2, 2, 2, 1, 2, 1, 1, 1, 1, 2, 1, 1, 2]\n",
      "CPU times: total: 531 ms\n",
      "Wall time: 531 ms\n"
     ]
    }
   ],
   "source": [
    "%%time\n",
    "output = []\n",
    "for _ in range(1000):\n",
    "    output.append(count_sixes(Number, Divisor, Cache))\n",
    "    i      += 1\n",
    "    Number  = Number<<1\n",
    "print(output)"
   ]
  },
  {
   "cell_type": "code",
   "execution_count": null,
   "id": "aeb98f46",
   "metadata": {
    "hidden": true
   },
   "outputs": [],
   "source": []
  },
  {
   "cell_type": "code",
   "execution_count": 207,
   "id": "30fa451b",
   "metadata": {
    "hidden": true
   },
   "outputs": [
    {
     "data": {
      "text/plain": [
       "True"
      ]
     },
     "execution_count": 207,
     "metadata": {},
     "output_type": "execute_result"
    }
   ],
   "source": [
    "[2, 1, 2, 2, 1, 1, 2, 2, 2, 1, 2, 1, 2, 1, 2, 2, 1, 1, 2, 2, 2, 1, 2, 1, 3, 2, 1, 1, 2, 2, 1, 2, 1, 2, 1, 2, 2, 2, 1, 2, 1, 1, 1, 1, 2, 1, 2, 1, 2, 2, 2, 2, 2, 3, 1, 1, 1, 1, 1, 1, 2, 2, 3, 2, 3, 1, 2, 2, 2, 2, 2, 2, 2, 1, 2, 2, 2, 1, 6, 2, 2, 2, 2, 2, 1, 1, 2, 1, 1, 1, 3, 2, 2, 2, 1, 2, 2, 1, 1, 2, 1, 1, 2, 1, 2, 1, 1, 1, 1, 3, 1, 2, 1, 1, 2, 2, 2, 1, 1, 2, 2, 1, 1, 1, 2, 2, 2, 1, 2, 2, 3, 1, 1, 3, 2, 1, 2, 1, 1, 3, 2, 1, 2, 1, 2, 2, 1, 1, 2, 2, 2, 2, 2, 2, 2, 1, 2, 3, 2, 2, 1, 2, 3, 2, 2, 2, 1, 2, 1, 2, 2, 1, 1, 1, 3, 2, 1, 2, 1, 2, 2, 1, 3, 1, 1, 2, 2, 1, 2, 1, 3, 1, 1, 1, 1, 2, 2, 1, 2, 1, 1, 2, 2, 2, 1, 1, 2, 1, 2, 2, 1, 1, 1, 2, 1, 1, 2, 3, 2, 1, 2, 1, 1, 1, 1, 1, 2, 2, 2, 2, 2, 2, 2, 2, 1, 2, 2, 3, 2, 1, 1, 1, 2, 2, 2, 2, 1, 1, 2, 1, 2, 2, 1, 1, 1, 1, 2, 1, 2, 1, 2, 1, 2, 1, 1, 2, 3, 1, 1, 2, 2, 2, 1, 2, 2, 2, 1, 2, 2, 2, 1, 1, 2, 2, 1, 1, 1, 2, 2, 2, 2, 2, 1, 1, 2, 2, 3, 1, 1, 1, 3, 1, 2, 1, 2, 1, 2, 2, 1, 1, 1, 2, 2, 2, 2, 1, 1, 2, 4, 1, 1, 3, 1, 2, 1, 1, 1, 1, 3, 2, 1, 2, 2, 1, 1, 1, 2, 1, 2, 1, 2, 2, 3, 2, 3, 4, 1, 1, 1, 2, 1, 2, 1, 1, 2, 2, 1, 1, 1, 2, 1, 3, 1, 1, 2, 2, 1, 1, 2, 1, 1, 1, 1, 2, 1, 2, 2, 2, 2, 2, 1, 1, 1, 1, 1, 1, 2, 2, 2, 1, 2, 3, 2, 1, 2, 2, 2, 1, 1, 1, 2, 2, 2, 3, 2, 1, 1, 2, 2, 2, 1, 1, 1, 1, 2, 1, 1, 2, 2, 2, 2, 2, 1, 1, 2, 1, 1, 2, 1, 1, 2, 1, 1, 2, 2, 1, 2, 1, 2, 1, 2, 1, 1, 1, 2, 2, 1, 2, 1, 1, 1, 3, 2, 2, 1, 2, 1, 2, 2, 2, 1, 2, 1, 1, 2, 2, 2, 1, 1, 2, 2, 1, 3, 2, 3, 2, 2, 1, 2, 2, 1, 2, 1, 2, 2, 1, 2, 1, 1, 2, 1, 1, 1, 2, 1, 1, 1, 1, 3, 1, 3, 1, 1, 2, 1, 1, 1, 2, 4, 1, 2, 2, 2, 1, 2, 1, 2, 1, 1, 2, 2, 2, 1, 1, 1, 1, 2, 1, 1, 2, 1, 3, 1, 1, 2, 2, 1, 1, 1, 2, 2, 2, 2, 2, 2, 1, 2, 2, 2, 1, 1, 2, 2, 2, 2, 2, 1, 1, 1, 1, 2, 1, 1, 1, 2, 1, 2, 2, 1, 1, 2, 2, 1, 2, 1, 2, 3, 2, 1, 2, 2, 2, 1, 1, 2, 2, 2, 1, 1, 1, 1, 1, 2, 2, 2, 1, 1, 2, 1, 2, 2, 1, 3, 2, 1, 1, 2, 1, 1, 1, 1, 1, 2, 1, 1, 1, 1, 2, 2, 1, 1, 3, 1, 2, 1, 1, 1, 4, 3, 1, 1, 2, 2, 1, 3, 1, 1, 1, 1, 2, 3, 2, 2, 2, 2, 2, 2, 1, 1, 2, 1, 1, 2, 1, 2, 2, 3, 1, 1, 2, 1, 2, 2, 2, 2, 2, 2, 3, 2, 2, 1, 1, 1, 2, 1, 1, 1, 2, 1, 3, 2, 2, 1, 2, 2, 2, 2, 2, 2, 2, 1, 1, 1, 2, 2, 2, 1, 1, 2, 1, 3, 1, 1, 1, 2, 1, 1, 2, 2, 2, 2, 1, 2, 2, 2, 1, 1, 4, 2, 1, 2, 2, 2, 2, 1, 1, 1, 2, 2, 2, 1, 2, 1, 2, 2, 2, 2, 1, 2, 2, 1, 3, 2, 1, 2, 2, 2, 1, 1, 2, 2, 2, 2, 1, 3, 2, 3, 1, 1, 1, 1, 2, 3, 1, 3, 2, 2, 1, 2, 1, 2, 1, 2, 2, 1, 1, 1, 2, 1, 2, 2, 1, 1, 2, 2, 2, 3, 1, 2, 2, 2, 3, 1, 2, 2, 1, 2, 1, 2, 1, 2, 1, 1, 2, 2, 2, 2, 2, 2, 1, 2, 1, 2, 2, 2, 1, 3, 1, 1, 2, 1, 2, 1, 1, 2, 1, 1, 1, 1, 1, 2, 1, 2, 1, 2, 2, 2, 2, 1, 2, 1, 2, 1, 2, 2, 2, 1, 1, 2, 1, 2, 1, 2, 1, 1, 1, 1, 2, 1, 1, 2, 1, 2, 1, 1, 1, 2, 1, 1, 1, 1, 1, 3, 1, 1, 1, 1, 2, 1, 2, 1, 2, 2, 1, 1, 2, 3, 1, 1, 1, 2, 3, 1, 1, 1, 3, 3, 2, 1, 2, 2, 2, 2, 1, 2, 2, 1, 3, 1, 1, 1, 1, 1, 2, 1, 1, 1, 2, 1, 2, 3, 1, 2, 2, 2, 3, 1, 3, 1, 3, 2, 2, 2, 2, 2, 1, 1, 1, 1, 2, 2, 1, 2, 1, 3, 1, 1, 2, 2, 1, 2, 2, 1, 2, 1, 2, 2, 2, 2, 2, 3, 2, 2, 1, 2, 2, 2, 1, 2, 2, 1, 2, 1, 1, 1, 1, 3, 1, 2, 3, 2, 1, 1, 1, 2, 1, 2, 2, 2, 2, 1, 2, 1, 1, 1, 1, 2, 1, 1, 2] == [2, 1, 2, 2, 1, 1, 2, 2, 2, 1, 2, 1, 2, 1, 2, 2, 1, 1, 2, 2, 2, 1, 2, 1, 3, 2, 1, 1, 2, 2, 1, 2, 1, 2, 1, 2, 2, 2, 1, 2, 1, 1, 1, 1, 2, 1, 2, 1, 2, 2, 2, 2, 2, 3, 1, 1, 1, 1, 1, 1, 2, 2, 3, 2, 3, 1, 2, 2, 2, 2, 2, 2, 2, 1, 2, 2, 2, 1, 6, 2, 2, 2, 2, 2, 1, 1, 2, 1, 1, 1, 3, 2, 2, 2, 1, 2, 2, 1, 1, 2, 1, 1, 2, 1, 2, 1, 1, 1, 1, 3, 1, 2, 1, 1, 2, 2, 2, 1, 1, 2, 2, 1, 1, 1, 2, 2, 2, 1, 2, 2, 3, 1, 1, 3, 2, 1, 2, 1, 1, 3, 2, 1, 2, 1, 2, 2, 1, 1, 2, 2, 2, 2, 2, 2, 2, 1, 2, 3, 2, 2, 1, 2, 3, 2, 2, 2, 1, 2, 1, 2, 2, 1, 1, 1, 3, 2, 1, 2, 1, 2, 2, 1, 3, 1, 1, 2, 2, 1, 2, 1, 3, 1, 1, 1, 1, 2, 2, 1, 2, 1, 1, 2, 2, 2, 1, 1, 2, 1, 2, 2, 1, 1, 1, 2, 1, 1, 2, 3, 2, 1, 2, 1, 1, 1, 1, 1, 2, 2, 2, 2, 2, 2, 2, 2, 1, 2, 2, 3, 2, 1, 1, 1, 2, 2, 2, 2, 1, 1, 2, 1, 2, 2, 1, 1, 1, 1, 2, 1, 2, 1, 2, 1, 2, 1, 1, 2, 3, 1, 1, 2, 2, 2, 1, 2, 2, 2, 1, 2, 2, 2, 1, 1, 2, 2, 1, 1, 1, 2, 2, 2, 2, 2, 1, 1, 2, 2, 3, 1, 1, 1, 3, 1, 2, 1, 2, 1, 2, 2, 1, 1, 1, 2, 2, 2, 2, 1, 1, 2, 4, 1, 1, 3, 1, 2, 1, 1, 1, 1, 3, 2, 1, 2, 2, 1, 1, 1, 2, 1, 2, 1, 2, 2, 3, 2, 3, 4, 1, 1, 1, 2, 1, 2, 1, 1, 2, 2, 1, 1, 1, 2, 1, 3, 1, 1, 2, 2, 1, 1, 2, 1, 1, 1, 1, 2, 1, 2, 2, 2, 2, 2, 1, 1, 1, 1, 1, 1, 2, 2, 2, 1, 2, 3, 2, 1, 2, 2, 2, 1, 1, 1, 2, 2, 2, 3, 2, 1, 1, 2, 2, 2, 1, 1, 1, 1, 2, 1, 1, 2, 2, 2, 2, 2, 1, 1, 2, 1, 1, 2, 1, 1, 2, 1, 1, 2, 2, 1, 2, 1, 2, 1, 2, 1, 1, 1, 2, 2, 1, 2, 1, 1, 1, 3, 2, 2, 1, 2, 1, 2, 2, 2, 1, 2, 1, 1, 2, 2, 2, 1, 1, 2, 2, 1, 3, 2, 3, 2, 2, 1, 2, 2, 1, 2, 1, 2, 2, 1, 2, 1, 1, 2, 1, 1, 1, 2, 1, 1, 1, 1, 3, 1, 3, 1, 1, 2, 1, 1, 1, 2, 4, 1, 2, 2, 2, 1, 2, 1, 2, 1, 1, 2, 2, 2, 1, 1, 1, 1, 2, 1, 1, 2, 1, 3, 1, 1, 2, 2, 1, 1, 1, 2, 2, 2, 2, 2, 2, 1, 2, 2, 2, 1, 1, 2, 2, 2, 2, 2, 1, 1, 1, 1, 2, 1, 1, 1, 2, 1, 2, 2, 1, 1, 2, 2, 1, 2, 1, 2, 3, 2, 1, 2, 2, 2, 1, 1, 2, 2, 2, 1, 1, 1, 1, 1, 2, 2, 2, 1, 1, 2, 1, 2, 2, 1, 3, 2, 1, 1, 2, 1, 1, 1, 1, 1, 2, 1, 1, 1, 1, 2, 2, 1, 1, 3, 1, 2, 1, 1, 1, 4, 3, 1, 1, 2, 2, 1, 3, 1, 1, 1, 1, 2, 3, 2, 2, 2, 2, 2, 2, 1, 1, 2, 1, 1, 2, 1, 2, 2, 3, 1, 1, 2, 1, 2, 2, 2, 2, 2, 2, 3, 2, 2, 1, 1, 1, 2, 1, 1, 1, 2, 1, 3, 2, 2, 1, 2, 2, 2, 2, 2, 2, 2, 1, 1, 1, 2, 2, 2, 1, 1, 2, 1, 3, 1, 1, 1, 2, 1, 1, 2, 2, 2, 2, 1, 2, 2, 2, 1, 1, 4, 2, 1, 2, 2, 2, 2, 1, 1, 1, 2, 2, 2, 1, 2, 1, 2, 2, 2, 2, 1, 2, 2, 1, 3, 2, 1, 2, 2, 2, 1, 1, 2, 2, 2, 2, 1, 3, 2, 3, 1, 1, 1, 1, 2, 3, 1, 3, 2, 2, 1, 2, 1, 2, 1, 2, 2, 1, 1, 1, 2, 1, 2, 2, 1, 1, 2, 2, 2, 3, 1, 2, 2, 2, 3, 1, 2, 2, 1, 2, 1, 2, 1, 2, 1, 1, 2, 2, 2, 2, 2, 2, 1, 2, 1, 2, 2, 2, 1, 3, 1, 1, 2, 1, 2, 1, 1, 2, 1, 1, 1, 1, 1, 2, 1, 2, 1, 2, 2, 2, 2, 1, 2, 1, 2, 1, 2, 2, 2, 1, 1, 2, 1, 2, 1, 2, 1, 1, 1, 1, 2, 1, 1, 2, 1, 2, 1, 1, 1, 2, 1, 1, 1, 1, 1, 3, 1, 1, 1, 1, 2, 1, 2, 1, 2, 2, 1, 1, 2, 3, 1, 1, 1, 2, 3, 1, 1, 1, 3, 3, 2, 1, 2, 2, 2, 2, 1, 2, 2, 1, 3, 1, 1, 1, 1, 1, 2, 1, 1, 1, 2, 1, 2, 3, 1, 2, 2, 2, 3, 1, 3, 1, 3, 2, 2, 2, 2, 2, 1, 1, 1, 1, 2, 2, 1, 2, 1, 3, 1, 1, 2, 2, 1, 2, 2, 1, 2, 1, 2, 2, 2, 2, 2, 3, 2, 2, 1, 2, 2, 2, 1, 2, 2, 1, 2, 1, 1, 1, 1, 3, 1, 2, 3, 2, 1, 1, 1, 2, 1, 2, 2, 2, 2, 1, 2, 1, 1, 1, 1, 2, 1, 1, 2]"
   ]
  },
  {
   "cell_type": "code",
   "execution_count": null,
   "id": "6fc469c9",
   "metadata": {
    "hidden": true
   },
   "outputs": [],
   "source": []
  },
  {
   "cell_type": "code",
   "execution_count": 212,
   "id": "46781e27",
   "metadata": {
    "hidden": true
   },
   "outputs": [
    {
     "name": "stdout",
     "output_type": "stream",
     "text": [
      "Timer unit: 1e-07 s\n",
      "\n",
      "Total time: 0.7823 s\n",
      "File: C:\\Users\\Florian\\AppData\\Local\\Temp\\ipykernel_16104\\356962432.py\n",
      "Function: count_sixes at line 2\n",
      "\n",
      "Line #      Hits         Time  Per Hit   % Time  Line Contents\n",
      "==============================================================\n",
      "     2                                           @profiler\n",
      "     3                                           def count_sixes(N, D, Cache):\n",
      "     4      1001       2489.0      2.5      0.0      SixCounter    = 0\n",
      "     5      1001       2437.0      2.4      0.0      SixCounterMax = 0\n",
      "     6      1001       2445.0      2.4      0.0      j = 0\n",
      "     7     77342     190859.0      2.5      2.4      while N > 0:\n",
      "     8                                                   # TODO: use continued division for this as well? Or can we just use the remainder instead of the number?\n",
      "     9     76341    4213638.0     55.2     53.9          Digit = N % 10\n",
      "    10     76341     188286.0      2.5      2.4          if Digit == 6:\n",
      "    11      7925      21975.0      2.8      0.3              SixCounter   += 1\n",
      "    12      7925      35430.0      4.5      0.5              SixCounterMax = max(SixCounterMax, SixCounter)\n",
      "    13                                                   else:\n",
      "    14     68416     151814.0      2.2      1.9              SixCounter = 0\n",
      "    15     76341     181691.0      2.4      2.3          try:\n",
      "    16     76341     277656.0      3.6      3.5              Q, R = Cache[j]\n",
      "    17     76264     328502.0      4.3      4.2              R    = (R << 1) | (N & 1)\n",
      "    18     76264     203579.0      2.7      2.6              if R >= D:\n",
      "    19     37555     127724.0      3.4      1.6                  R = R - D\n",
      "    20     37555     682596.0     18.2      8.7                  N = (Q << 1) | 1\n",
      "    21                                                       else:\n",
      "    22     38709     568181.0     14.7      7.3                  N = (Q << 1)\n",
      "    23        77        556.0      7.2      0.0          except KeyError:\n",
      "    24        77      86757.0   1126.7      1.1              R = N  % D\n",
      "    25        77      81299.0   1055.8      1.0              N = N // D\n",
      "    26     76341     285985.0      3.7      3.7          Cache[j] = N, R\n",
      "    27     76341     186402.0      2.4      2.4          j += 1\n",
      "    28      1001       2698.0      2.7      0.0      return SixCounterMax\n",
      "\n"
     ]
    }
   ],
   "source": [
    "profiler.print_stats()"
   ]
  },
  {
   "cell_type": "code",
   "execution_count": 216,
   "id": "f25b2ecf",
   "metadata": {
    "hidden": true
   },
   "outputs": [
    {
     "name": "stdout",
     "output_type": "stream",
     "text": [
      "Timer unit: 1e-07 s\n",
      "\n",
      "Total time: 0.388465 s\n",
      "File: C:\\Users\\Florian\\AppData\\Local\\Temp\\ipykernel_16104\\3149308276.py\n",
      "Function: count_sixes at line 2\n",
      "\n",
      "Line #      Hits         Time  Per Hit   % Time  Line Contents\n",
      "==============================================================\n",
      "     2                                           @profiler\n",
      "     3                                           def count_sixes(N, D, Cache):\n",
      "     4      1001       2521.0      2.5      0.1      SixCounter    = 0\n",
      "     5      1001       2312.0      2.3      0.1      SixCounterMax = 0\n",
      "     6      1001       2215.0      2.2      0.1      j = 0\n",
      "     7     77342     194824.0      2.5      5.0      while N > 0:\n",
      "     8     76341     157660.0      2.1      4.1          try:\n",
      "     9     76341     265909.0      3.5      6.8              Q, R = Cache[j]\n",
      "    10     76264     315681.0      4.1      8.1              R    = (R << 1) | (N & 1)\n",
      "    11     76264     196525.0      2.6      5.1              if R >= D:\n",
      "    12     37555     124209.0      3.3      3.2                  R = R - D\n",
      "    13     37555     677981.0     18.1     17.5                  N = (Q << 1) | 1\n",
      "    14                                                       else:\n",
      "    15     38709     567920.0     14.7     14.6                  N = (Q << 1)\n",
      "    16        77        388.0      5.0      0.0          except KeyError:\n",
      "    17        77      87816.0   1140.5      2.3              R = N  % D\n",
      "    18        77      83535.0   1084.9      2.2              N = N // D\n",
      "    19     76341     277401.0      3.6      7.1          Cache[j] = N, R\n",
      "    20     76341     201734.0      2.6      5.2          j += 1\n",
      "    21                                                   \n",
      "    22     76341     314715.0      4.1      8.1          Digit = R % 10\n",
      "    23     76341     202558.0      2.7      5.2          if Digit == 6:\n",
      "    24      7925      22448.0      2.8      0.6              SixCounter   += 1\n",
      "    25      7925      34297.0      4.3      0.9              SixCounterMax = max(SixCounterMax, SixCounter)\n",
      "    26                                                   else:\n",
      "    27     68416     149130.0      2.2      3.8              SixCounter = 0\n",
      "    28                                                   \n",
      "    29      1001       2871.0      2.9      0.1      return SixCounterMax\n",
      "\n"
     ]
    }
   ],
   "source": [
    "profiler.print_stats()"
   ]
  },
  {
   "cell_type": "markdown",
   "id": "2eb32ae7",
   "metadata": {
    "heading_collapsed": true
   },
   "source": [
    "## Improve Candidate selection"
   ]
  },
  {
   "cell_type": "markdown",
   "id": "4e805de9",
   "metadata": {
    "hidden": true
   },
   "source": [
    "So far we're checking every 399th digit of the number for a six, and if we find five such sixes in a row anywhere in the number, we declare the number a candidate for more thorough checking. This works very good and has given us a massive speedup already. However since the numbers are growing bigger and bigger, the chance of finding a candidate in this way also go up. At the start the probability was about 0.3%, but now it's become over 2%. This is not ideal since the thorough check is very expensive, and we want to do as little of them as possible.  \n",
    "To reduce the likelyhood of detecting a candidate, we can simply check more digits. The more digits we check, the slower we progress however.  \n",
    "What we've done here is to check more digits, but only if we've already detected 5 sixes in the usual way. On the fast pass this is only a single branch more whenever we hit a six, and on the slow pass, we now just start checking k digits between the 4th and 5th segment where we have already found the sixes at the start and end. All of these digits need to be sixes in order to be a goliath number, so a single non six immediately stops our search, and we condinue with taking large strides through the digits of the number."
   ]
  },
  {
   "cell_type": "code",
   "execution_count": 149,
   "id": "113cccd1",
   "metadata": {
    "hidden": true
   },
   "outputs": [],
   "source": [
    "def count_sixes_old(N, D, Cache):\n",
    "    SixCounter    = 0\n",
    "    SixCounterMax = 0\n",
    "    j = 0\n",
    "    while N > 0:\n",
    "        try:\n",
    "            Q, R = Cache[j]\n",
    "            R    = (R << 1) | (N & 1)\n",
    "            if R >= D:\n",
    "                R = R - D\n",
    "                N = (Q << 1) | 1\n",
    "            else:\n",
    "                N = (Q << 1)\n",
    "        except KeyError:\n",
    "            R = N  % D\n",
    "            N = N // D\n",
    "        Cache[j] = N, R\n",
    "        j += 1\n",
    "        \n",
    "        Digit = R % 10\n",
    "        if Digit == 6:\n",
    "            SixCounter   += 1\n",
    "            SixCounterMax = max(SixCounterMax, SixCounter)\n",
    "        else:\n",
    "            SixCounter = 0\n",
    "        \n",
    "    return SixCounterMax"
   ]
  },
  {
   "cell_type": "code",
   "execution_count": 151,
   "id": "cca01995",
   "metadata": {
    "hidden": true
   },
   "outputs": [],
   "source": [
    "profiler = LineProfiler()\n",
    "@profiler\n",
    "def count_sixes(N, D, Cache, k=1):\n",
    "    SixCounter    = 0\n",
    "    SixCounterMax = 0\n",
    "    j = 0\n",
    "    while N > 0:\n",
    "        try:\n",
    "            Q, R = Cache[j]\n",
    "            R    = (R << 1) | (N & 1)\n",
    "            if R >= D:\n",
    "                R = R - D\n",
    "                N = (Q << 1) | 1\n",
    "            else:\n",
    "                N = (Q << 1)\n",
    "        except KeyError:\n",
    "            R = N  % D\n",
    "            N = N // D\n",
    "        Cache[j] = N, R\n",
    "        \n",
    "        Digit = R % 10\n",
    "        if Digit == 6:\n",
    "            SixCounter += 1\n",
    "            if SixCounter == 5:\n",
    "                # Go back and run a more expensive check to reduce likelyhood of selecting (wrong) candidates.\n",
    "                # If this is a goliath number, then this needs to now be all sixes.\n",
    "                R = (Cache[j-1][1]) // 10 # We already know the last digit is a six, so skip it.\n",
    "                for _ in range(k):\n",
    "                    Digit = R % 10\n",
    "                    if Digit == 6:\n",
    "                        R = R // 10\n",
    "                    else:\n",
    "                        SixCounter = 1 # Set to one because the digit here at j is actually a 6.\n",
    "                        break\n",
    "            SixCounterMax = max(SixCounterMax, SixCounter) # This is not in the else block to support k = 0\n",
    "        else:\n",
    "            SixCounter = 0\n",
    "        j += 1\n",
    "    return SixCounterMax"
   ]
  },
  {
   "cell_type": "code",
   "execution_count": 54,
   "id": "f75b0a77",
   "metadata": {
    "hidden": true
   },
   "outputs": [
    {
     "name": "stdout",
     "output_type": "stream",
     "text": [
      "Building Cache...\n",
      "1\n",
      "Done!\n",
      "CPU times: total: 15.6 ms\n",
      "Wall time: 17.1 ms\n"
     ]
    }
   ],
   "source": [
    "%%time\n",
    "i        = 100_000\n",
    "Divisor = 10**399"
   ]
  },
  {
   "cell_type": "code",
   "execution_count": 66,
   "id": "a6b22fb4",
   "metadata": {
    "hidden": true
   },
   "outputs": [],
   "source": [
    "G = int('666'*666)"
   ]
  },
  {
   "cell_type": "code",
   "execution_count": 153,
   "id": "1ddb0a67",
   "metadata": {
    "hidden": true
   },
   "outputs": [
    {
     "name": "stdout",
     "output_type": "stream",
     "text": [
      "CPU times: total: 3.3 s\n",
      "Wall time: 3.3 s\n"
     ]
    },
    {
     "data": {
      "text/plain": [
       "4"
      ]
     },
     "execution_count": 153,
     "metadata": {},
     "output_type": "execute_result"
    }
   ],
   "source": [
    "%%time\n",
    "i      = 1_400_052\n",
    "Number = 1<<(i)\n",
    "count_sixes(Number, Divisor, {}, k=2)"
   ]
  },
  {
   "cell_type": "code",
   "execution_count": 154,
   "id": "b61428ee",
   "metadata": {
    "hidden": true
   },
   "outputs": [
    {
     "data": {
      "text/plain": [
       "5"
      ]
     },
     "execution_count": 154,
     "metadata": {},
     "output_type": "execute_result"
    }
   ],
   "source": [
    "count_sixes_old(Number, Divisor, {})"
   ]
  },
  {
   "cell_type": "markdown",
   "id": "432bc6e1",
   "metadata": {},
   "source": [
    "## Only store the last bit of each number, and the remainder?"
   ]
  },
  {
   "cell_type": "markdown",
   "id": "777e44ec",
   "metadata": {},
   "source": [
    "Currently, for each step we take through the 399 size chunks of the number, we're storing the entire number left at that point, as well as the remainder. This is already a red flag, since if our cache is p segments long, that means that the very last segment (the very beginning of the number) is stored p times. The p-1th segment is stored p-1 times and so on, essentially creating a huge triangle if we were to visualise the data.  \n",
    "When we look at the algorithm, we really only need the remainder and the last bit of the previous number. Even when we miss the cache, we have a pretty good idea of what the next number should be. Do some more testing, but a new segment added to the cache should always be a zero at first, and some remainder. "
   ]
  },
  {
   "cell_type": "code",
   "execution_count": 423,
   "id": "4942d1c7",
   "metadata": {},
   "outputs": [],
   "source": [
    "def count_sixes_old(N, D, Cache, k=1):\n",
    "    SixCounter    = 0\n",
    "    SixCounterMax = 0\n",
    "    j = 0\n",
    "    while N > 0:\n",
    "        try:\n",
    "            Q, R = Cache[j]\n",
    "            R    = (R << 1) | (N & 1)\n",
    "            if R >= D:\n",
    "                R = R - D\n",
    "                N = (Q << 1) | 1\n",
    "            else:\n",
    "                N = (Q << 1)\n",
    "        except KeyError:\n",
    "            R = N  % D\n",
    "            N = N // D\n",
    "        Cache[j] = N, R\n",
    "        \n",
    "        Digit = R % 10\n",
    "        if Digit == 6:\n",
    "            SixCounter += 1\n",
    "            if SixCounter == 5:\n",
    "                R = (Cache[j-1][1]) // 10\n",
    "                for _ in range(k):\n",
    "                    Digit = R % 10\n",
    "                    if Digit == 6:\n",
    "                        R = R // 10\n",
    "                    else:\n",
    "                        SixCounter = 1\n",
    "                        break\n",
    "            SixCounterMax = max(SixCounterMax, SixCounter)\n",
    "        else:\n",
    "            SixCounter = 0\n",
    "        j += 1\n",
    "    return SixCounterMax"
   ]
  },
  {
   "cell_type": "code",
   "execution_count": 424,
   "id": "3af282ef",
   "metadata": {},
   "outputs": [],
   "source": [
    "def RebuildCacheOld(LastNumber):\n",
    "    \"\"\"If the cache gets corrupted, use this to rebuild it.\n",
    "    Be warned, this can take multiple seconds!\"\"\"\n",
    "    Cache = {}\n",
    "    i      = LastNumber\n",
    "    Number = 1<<(i - 1)\n",
    "    N = Number\n",
    "    D = 10**399\n",
    "    j = 0\n",
    "    while N > 0:\n",
    "        R = N  % D\n",
    "        N = N // D\n",
    "        Cache[j] = N, R\n",
    "        j += 1\n",
    "    return i, (Number<<1), D, Cache"
   ]
  },
  {
   "cell_type": "code",
   "execution_count": 425,
   "id": "ace5995d",
   "metadata": {},
   "outputs": [],
   "source": [
    "def VerifyCacheOld(i, Number, Divisor, Cache):\n",
    "    'If all of these checks pass, then it should be fine to use these values to continue the search.'\n",
    "    assert Number  == 1<<i\n",
    "    assert Divisor == 10**399\n",
    "    assert (Number>>1) // Divisor == Cache[0][0]\n",
    "    assert (Number>>1)  % Divisor == Cache[0][1]\n",
    "    j            = len(Cache) - 1\n",
    "    j0thDivision = (Number>>1) // (10**(399*(j  )))\n",
    "    j1thDivision = (Number>>1) // (10**(399*(j+1)))\n",
    "    assert j0thDivision != 0\n",
    "    assert j0thDivision           == Cache[j-1][0]\n",
    "    assert j1thDivision           == Cache[j][0] == 0\n",
    "    assert j0thDivision % Divisor == Cache[j][1]\n",
    "    assert j+1 not in Cache"
   ]
  },
  {
   "cell_type": "code",
   "execution_count": 428,
   "id": "ea8dbf54",
   "metadata": {},
   "outputs": [],
   "source": [
    "def RebuildCache(LastNumber):\n",
    "    \"\"\"If the cache gets corrupted, use this to rebuild it.\n",
    "    Be warned, this can take multiple seconds!\"\"\"\n",
    "    i = LastNumber\n",
    "    N = 1<<(i - 1)\n",
    "    D = 10**399\n",
    "    # j = 0\n",
    "    Cache = []\n",
    "    while N > 0:\n",
    "        R = N  % D\n",
    "        N = N // D\n",
    "        Cache.append(R)\n",
    "        # Cache[j] = R\n",
    "        # j += 1\n",
    "    return i, D, Cache"
   ]
  },
  {
   "cell_type": "code",
   "execution_count": 429,
   "id": "efe09ecd",
   "metadata": {},
   "outputs": [],
   "source": [
    "def VerifyCache(i, Divisor, Cache):\n",
    "    'If all of these checks pass, then it should be fine to use these values to continue the search.'\n",
    "    Number = 1<<(i - 1)\n",
    "    assert Divisor == 10**399\n",
    "    assert Number % Divisor == Cache[0]\n",
    "    j            = len(Cache) - 1\n",
    "    j0thDivision = Number // (10**(399*(j  )))\n",
    "    j1thDivision = Number // (10**(399*(j+1)))\n",
    "    assert j0thDivision != 0\n",
    "    assert j1thDivision == 0\n",
    "    assert j0thDivision % Divisor == Cache[j]\n",
    "    assert Cache[-1] != 0"
   ]
  },
  {
   "cell_type": "markdown",
   "id": "cc6d4f3f",
   "metadata": {},
   "source": [
    "We iterate until N is no longer larger than 0, which means that at the last step, N will have to have been 0 for the loop to end.  \n",
    "Let's say it is, then it can either be already in the cache, or it can be missing from the cache. In the case where we have a cache hit, we will increase R as usual and then check if it's become larger than D or not. If it hasn't, then N doesn't change. Shifting a zero to the left doesn't change the number, so it's still a zero, and the loop ends.  \n",
    "If R has become larger than D, then we decrease R again, again shift the zero to the left, but now also \"and\" it with one. This means N is now 1, which means that the loop will continue.  \n",
    "We will now enter the case where we have a cache miss.  \n",
    "The new N and R are calculated by dividing the previous N, and taking the modulo of N respectively, each with the given Divisor. But we already know that the previous N must be a 1. Since D is larger than one, a floor division between 1 and D will always give 0 as the answer. Similarly, 1 % D will always give 1 as the answer.  \n",
    "This means the new N will be 0, and the new R will be 1, no matter what happened in the iteration before."
   ]
  },
  {
   "cell_type": "code",
   "execution_count": 437,
   "id": "2b1cce8d",
   "metadata": {},
   "outputs": [],
   "source": [
    "# profiler = LineProfiler()\n",
    "# @profiler\n",
    "def count_sixes(D, Cache, k=1):\n",
    "    SixCounter    = 0\n",
    "    SixCounterMax = 0\n",
    "    N = 0\n",
    "    J = len(Cache)\n",
    "    for j in range(J):\n",
    "        R = (Cache[j] << 1) | N\n",
    "        if R >= D:\n",
    "            R = R - D\n",
    "            N = 1\n",
    "        else:\n",
    "            N = 0\n",
    "        Cache[j] = R\n",
    "        \n",
    "        Digit = R % 10\n",
    "        if Digit == 6:\n",
    "            SixCounter += 1\n",
    "            if SixCounter == 5:\n",
    "                R = (Cache[j-1]) // 10\n",
    "                for _ in range(k):\n",
    "                    Digit = R % 10\n",
    "                    if Digit == 6:\n",
    "                        R = R // 10\n",
    "                    else:\n",
    "                        SixCounter = 1\n",
    "                        break\n",
    "            SixCounterMax = max(SixCounterMax, SixCounter)\n",
    "        else:\n",
    "            SixCounter = 0\n",
    "    if N > 0:\n",
    "        # print('hi')\n",
    "        # Cache[J] = 1\n",
    "        Cache.append(1)\n",
    "    return SixCounterMax"
   ]
  },
  {
   "cell_type": "code",
   "execution_count": 447,
   "id": "de7e2deb",
   "metadata": {
    "scrolled": true
   },
   "outputs": [
    {
     "name": "stdout",
     "output_type": "stream",
     "text": [
      "CPU times: total: 1.64 s\n",
      "Wall time: 1.64 s\n"
     ]
    }
   ],
   "source": [
    "%%time\n",
    "i, Number, Divisor, Cache = RebuildCacheOld(1_000_000)\n",
    "VerifyCacheOld(i, Number, Divisor, Cache)"
   ]
  },
  {
   "cell_type": "code",
   "execution_count": 448,
   "id": "9394b95a",
   "metadata": {},
   "outputs": [
    {
     "name": "stdout",
     "output_type": "stream",
     "text": [
      "CPU times: total: 9.94 s\n",
      "Wall time: 9.96 s\n"
     ]
    }
   ],
   "source": [
    "%%time\n",
    "output = []\n",
    "for _ in range(1000):\n",
    "    output.append(count_sixes_old(Number, Divisor, Cache))\n",
    "    i      += 1\n",
    "    Number  = Number<<1"
   ]
  },
  {
   "cell_type": "code",
   "execution_count": 449,
   "id": "0c354a6a",
   "metadata": {
    "scrolled": true
   },
   "outputs": [
    {
     "name": "stdout",
     "output_type": "stream",
     "text": [
      "CPU times: total: 1.62 s\n",
      "Wall time: 1.64 s\n"
     ]
    }
   ],
   "source": [
    "%%time\n",
    "i, Divisor, Cache = RebuildCache(1_000_000)\n",
    "VerifyCache(i, Divisor, Cache)"
   ]
  },
  {
   "cell_type": "code",
   "execution_count": 450,
   "id": "cf3e7b9a",
   "metadata": {},
   "outputs": [
    {
     "name": "stdout",
     "output_type": "stream",
     "text": [
      "CPU times: total: 297 ms\n",
      "Wall time: 305 ms\n"
     ]
    }
   ],
   "source": [
    "%%time\n",
    "output2 = []\n",
    "for _ in range(1_000):\n",
    "    output2.append(count_sixes(Divisor, Cache))\n",
    "    i      += 1"
   ]
  },
  {
   "cell_type": "code",
   "execution_count": 451,
   "id": "32a5de14",
   "metadata": {},
   "outputs": [
    {
     "data": {
      "text/plain": [
       "True"
      ]
     },
     "execution_count": 451,
     "metadata": {},
     "output_type": "execute_result"
    }
   ],
   "source": [
    "output == output2"
   ]
  },
  {
   "cell_type": "code",
   "execution_count": 455,
   "id": "3b7700e6",
   "metadata": {},
   "outputs": [],
   "source": [
    "VerifyCache(i, Divisor, Cache)"
   ]
  },
  {
   "cell_type": "markdown",
   "id": "1c52b395",
   "metadata": {},
   "source": [
    "Crushing defeat!!!  \n",
    "\n",
    "The new version is at least 5x faster than the old one."
   ]
  },
  {
   "cell_type": "code",
   "execution_count": 418,
   "id": "c596d3eb",
   "metadata": {},
   "outputs": [
    {
     "name": "stdout",
     "output_type": "stream",
     "text": [
      "Timer unit: 1e-07 s\n",
      "\n",
      "Total time: 7.88987 s\n",
      "File: C:\\Users\\Florian\\AppData\\Local\\Temp\\ipykernel_20112\\3990742229.py\n",
      "Function: count_sixes at line 2\n",
      "\n",
      "Line #      Hits         Time  Per Hit   % Time  Line Contents\n",
      "==============================================================\n",
      "     2                                           @profiler\n",
      "     3                                           def count_sixes(D, Cache, k=1):\n",
      "     4      1000       4742.0      4.7      0.0      SixCounter    = 0\n",
      "     5      1000       3561.0      3.6      0.0      SixCounterMax = 0\n",
      "     6      1000       2571.0      2.6      0.0      N = 0\n",
      "     7      1000       8541.0      8.5      0.0      J = len(Cache)\n",
      "     8   3019792    7982991.0      2.6     10.1      for j in range(J):\n",
      "     9   3018792   12152451.0      4.0     15.4          R = (Cache[j] << 1) | N\n",
      "    10   3018792    7493703.0      2.5      9.5          if R >= D:\n",
      "    11   1508042    4779038.0      3.2      6.1              R = R - D\n",
      "    12   1508042    3723418.0      2.5      4.7              N = 1\n",
      "    13                                                   else:\n",
      "    14   1510750    3595728.0      2.4      4.6              N = 0\n",
      "    15   3018792    8496332.0      2.8     10.8          Cache[j] = R\n",
      "    16                                                   \n",
      "    17   3018792   12835236.0      4.3     16.3          Digit = R % 10\n",
      "    18   3018792    8465612.0      2.8     10.7          if Digit == 6:\n",
      "    19    302429     892148.0      2.9      1.1              SixCounter += 1\n",
      "    20    302429     876200.0      2.9      1.1              if SixCounter == 5:\n",
      "    21        25        236.0      9.4      0.0                  R = (Cache[j-1]) // 10\n",
      "    22        26        402.0     15.5      0.0                  for _ in range(k):\n",
      "    23        25        133.0      5.3      0.0                      Digit = R % 10\n",
      "    24        25         77.0      3.1      0.0                      if Digit == 6:\n",
      "    25         1          6.0      6.0      0.0                          R = R // 10\n",
      "    26                                                               else:\n",
      "    27        24         62.0      2.6      0.0                          SixCounter = 1\n",
      "    28        24         84.0      3.5      0.0                          break\n",
      "    29    302429    1501853.0      5.0      1.9              SixCounterMax = max(SixCounterMax, SixCounter)\n",
      "    30                                                   else:\n",
      "    31   2716363    6075336.0      2.2      7.7              SixCounter = 0\n",
      "    32      1000       3500.0      3.5      0.0      if N > 0:\n",
      "    33                                                   # print('hi')\n",
      "    34                                                   # Cache[J] = 1\n",
      "    35         1         16.0     16.0      0.0          Cache.append(1)\n",
      "    36      1000       4713.0      4.7      0.0      return SixCounterMax\n",
      "\n"
     ]
    }
   ],
   "source": [
    "profiler.print_stats()"
   ]
  },
  {
   "cell_type": "code",
   "execution_count": null,
   "id": "e9620176",
   "metadata": {},
   "outputs": [],
   "source": []
  },
  {
   "cell_type": "code",
   "execution_count": null,
   "id": "763b139c",
   "metadata": {},
   "outputs": [],
   "source": []
  },
  {
   "cell_type": "code",
   "execution_count": null,
   "id": "dc86ea37",
   "metadata": {},
   "outputs": [],
   "source": []
  },
  {
   "cell_type": "code",
   "execution_count": null,
   "id": "54811de2",
   "metadata": {},
   "outputs": [],
   "source": []
  },
  {
   "cell_type": "code",
   "execution_count": null,
   "id": "d70969a9",
   "metadata": {},
   "outputs": [],
   "source": []
  }
 ],
 "metadata": {
  "kernelspec": {
   "display_name": "Python 3 (ipykernel)",
   "language": "python",
   "name": "python3"
  },
  "language_info": {
   "codemirror_mode": {
    "name": "ipython",
    "version": 3
   },
   "file_extension": ".py",
   "mimetype": "text/x-python",
   "name": "python",
   "nbconvert_exporter": "python",
   "pygments_lexer": "ipython3",
   "version": "3.9.7"
  }
 },
 "nbformat": 4,
 "nbformat_minor": 5
}
