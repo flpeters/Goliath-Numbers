{
 "cells": [
  {
   "cell_type": "markdown",
   "id": "2f722a9f",
   "metadata": {
    "heading_collapsed": true
   },
   "source": [
    "## Train a neural network to check if there is any function mapping from a subset of bits to the remainder"
   ]
  },
  {
   "cell_type": "markdown",
   "id": "7d68ff42",
   "metadata": {
    "hidden": true
   },
   "source": [
    "I tried finding a way to calculate the modulo 10 of a number just by its last 4 bits, but that doesn't work."
   ]
  },
  {
   "cell_type": "code",
   "execution_count": 4,
   "id": "6d07eb4b",
   "metadata": {
    "hidden": true
   },
   "outputs": [
    {
     "data": {
      "text/plain": [
       "'0b1010'"
      ]
     },
     "execution_count": 4,
     "metadata": {},
     "output_type": "execute_result"
    }
   ],
   "source": [
    "bin(10)"
   ]
  },
  {
   "cell_type": "code",
   "execution_count": 89,
   "id": "5aea4aaf",
   "metadata": {
    "hidden": true
   },
   "outputs": [],
   "source": [
    "def BitstringToTensor(string, dtype):\n",
    "    return tensor([int(c) for c in string], dtype=dtype)"
   ]
  },
  {
   "cell_type": "code",
   "execution_count": 92,
   "id": "d7564daf",
   "metadata": {
    "hidden": true
   },
   "outputs": [],
   "source": [
    "def LastNBits(x, n):\n",
    "    \"returns the last n bits of x as a tensor\"\n",
    "    return str.zfill(bin(x)[2:][-n:], n)"
   ]
  },
  {
   "cell_type": "code",
   "execution_count": 96,
   "id": "103f7f00",
   "metadata": {
    "hidden": true
   },
   "outputs": [],
   "source": [
    "def LastNBitsToTensor(x, n):\n",
    "    return BitstringToTensor(str.zfill(bin(x)[2:][-n:], n), dtype=torch.float32)"
   ]
  },
  {
   "cell_type": "code",
   "execution_count": 98,
   "id": "eb88244c",
   "metadata": {
    "hidden": true
   },
   "outputs": [],
   "source": [
    "def Sample(x, InputSize):\n",
    "    Input  = LastNBitsToTensor(x, InputSize)\n",
    "    Output = LastNBitsToTensor(x%10, 4)\n",
    "    return Input, Output"
   ]
  },
  {
   "cell_type": "code",
   "execution_count": 207,
   "id": "5889ea7c",
   "metadata": {
    "hidden": true
   },
   "outputs": [],
   "source": [
    "def prepend(v, T):\n",
    "    return torch.cat((tensor([v]), T))"
   ]
  },
  {
   "cell_type": "code",
   "execution_count": 226,
   "id": "6b9e99c7",
   "metadata": {
    "hidden": true
   },
   "outputs": [],
   "source": [
    "def SampleB(x, InputSize):\n",
    "    Input  = prepend(x.bit_length(), LastNBitsToTensor(x, InputSize))\n",
    "    Output = LastNBitsToTensor(x%10, 4)\n",
    "    return Input, Output"
   ]
  },
  {
   "cell_type": "code",
   "execution_count": 224,
   "id": "b09cef9d",
   "metadata": {
    "hidden": true
   },
   "outputs": [],
   "source": [
    "def random_range(start, stop):\n",
    "    R = list(range(start, stop))\n",
    "    random.shuffle(R)\n",
    "    yield from R"
   ]
  },
  {
   "cell_type": "code",
   "execution_count": null,
   "id": "52f5bea6",
   "metadata": {
    "hidden": true
   },
   "outputs": [],
   "source": []
  },
  {
   "cell_type": "code",
   "execution_count": null,
   "id": "ac0f9cdb",
   "metadata": {
    "hidden": true
   },
   "outputs": [],
   "source": []
  },
  {
   "cell_type": "code",
   "execution_count": null,
   "id": "1520fda9",
   "metadata": {
    "hidden": true
   },
   "outputs": [],
   "source": []
  },
  {
   "cell_type": "code",
   "execution_count": 261,
   "id": "e547fbb7",
   "metadata": {
    "hidden": true
   },
   "outputs": [
    {
     "data": {
      "text/plain": [
       "(tensor([1., 1., 1., 0.]), tensor([0., 1., 0., 0.]))"
      ]
     },
     "execution_count": 261,
     "metadata": {},
     "output_type": "execute_result"
    }
   ],
   "source": [
    "Sample(14, 4)"
   ]
  },
  {
   "cell_type": "code",
   "execution_count": 97,
   "id": "29482bec",
   "metadata": {
    "hidden": true
   },
   "outputs": [
    {
     "data": {
      "text/plain": [
       "tensor([1., 0., 1., 0., 0.])"
      ]
     },
     "execution_count": 97,
     "metadata": {},
     "output_type": "execute_result"
    }
   ],
   "source": [
    "LastNBitsToTensor(20, 5)"
   ]
  },
  {
   "cell_type": "code",
   "execution_count": 93,
   "id": "5495f705",
   "metadata": {
    "hidden": true
   },
   "outputs": [
    {
     "data": {
      "text/plain": [
       "'10100'"
      ]
     },
     "execution_count": 93,
     "metadata": {},
     "output_type": "execute_result"
    }
   ],
   "source": [
    "LastNBits(20, 5)"
   ]
  },
  {
   "cell_type": "code",
   "execution_count": 29,
   "id": "283040ad",
   "metadata": {
    "hidden": true
   },
   "outputs": [
    {
     "data": {
      "text/plain": [
       "'0010'"
      ]
     },
     "execution_count": 29,
     "metadata": {},
     "output_type": "execute_result"
    }
   ],
   "source": [
    "str.zfill(bin(2)[2:], 4)"
   ]
  },
  {
   "cell_type": "code",
   "execution_count": 110,
   "id": "61927579",
   "metadata": {
    "collapsed": true,
    "hidden": true
   },
   "outputs": [
    {
     "name": "stdout",
     "output_type": "stream",
     "text": [
      "--------------------\n",
      "0 0000 0000\n",
      "1 0001 0001\n",
      "2 0010 0010\n",
      "3 0011 0011\n",
      "4 0100 0100\n",
      "5 0101 0101\n",
      "6 0110 0110\n",
      "7 0111 0111\n",
      "8 1000 1000\n",
      "9 1001 1001\n",
      "--------------------\n",
      "0 1010 0000\n",
      "1 1011 0001\n",
      "2 1100 0010\n",
      "3 1101 0011\n",
      "4 1110 0100\n",
      "5 1111 0101\n",
      "6 0000 0110\n",
      "7 0001 0111\n",
      "8 0010 1000\n",
      "9 0011 1001\n",
      "--------------------\n",
      "0 0100 0000\n",
      "1 0101 0001\n",
      "2 0110 0010\n",
      "3 0111 0011\n",
      "4 1000 0100\n",
      "5 1001 0101\n",
      "6 1010 0110\n",
      "7 1011 0111\n",
      "8 1100 1000\n",
      "9 1101 1001\n",
      "--------------------\n",
      "0 1110 0000\n",
      "1 1111 0001\n",
      "2 0000 0010\n",
      "3 0001 0011\n",
      "4 0010 0100\n",
      "5 0011 0101\n",
      "6 0100 0110\n",
      "7 0101 0111\n",
      "8 0110 1000\n",
      "9 0111 1001\n",
      "--------------------\n",
      "0 1000 0000\n",
      "1 1001 0001\n",
      "2 1010 0010\n",
      "3 1011 0011\n",
      "4 1100 0100\n",
      "5 1101 0101\n",
      "6 1110 0110\n",
      "7 1111 0111\n",
      "8 0000 1000\n",
      "9 0001 1001\n",
      "--------------------\n",
      "0 0010 0000\n",
      "1 0011 0001\n",
      "2 0100 0010\n",
      "3 0101 0011\n",
      "4 0110 0100\n",
      "5 0111 0101\n",
      "6 1000 0110\n",
      "7 1001 0111\n",
      "8 1010 1000\n",
      "9 1011 1001\n",
      "--------------------\n",
      "0 1100 0000\n",
      "1 1101 0001\n",
      "2 1110 0010\n",
      "3 1111 0011\n",
      "4 0000 0100\n",
      "5 0001 0101\n",
      "6 0010 0110\n",
      "7 0011 0111\n",
      "8 0100 1000\n",
      "9 0101 1001\n",
      "--------------------\n",
      "0 0110 0000\n",
      "1 0111 0001\n",
      "2 1000 0010\n",
      "3 1001 0011\n",
      "4 1010 0100\n",
      "5 1011 0101\n",
      "6 1100 0110\n",
      "7 1101 0111\n",
      "8 1110 1000\n",
      "9 1111 1001\n",
      "--------------------\n",
      "0 0000 0000\n",
      "1 0001 0001\n",
      "2 0010 0010\n",
      "3 0011 0011\n",
      "4 0100 0100\n",
      "5 0101 0101\n",
      "6 0110 0110\n",
      "7 0111 0111\n",
      "8 1000 1000\n",
      "9 1001 1001\n",
      "--------------------\n",
      "0 1010 0000\n",
      "1 1011 0001\n",
      "2 1100 0010\n",
      "3 1101 0011\n",
      "4 1110 0100\n",
      "5 1111 0101\n",
      "6 0000 0110\n",
      "7 0001 0111\n",
      "8 0010 1000\n",
      "9 0011 1001\n"
     ]
    }
   ],
   "source": [
    "for i in range(100):\n",
    "    if i%10 == 0: print('--------------------')\n",
    "    print(i%10, LastNBits(i, 4), LastNBits(i%10, 4))"
   ]
  },
  {
   "cell_type": "markdown",
   "id": "2ac6c284",
   "metadata": {
    "heading_collapsed": true,
    "hidden": true
   },
   "source": [
    "### Train the neural network"
   ]
  },
  {
   "cell_type": "code",
   "execution_count": 13,
   "id": "58ca1577",
   "metadata": {
    "hidden": true
   },
   "outputs": [],
   "source": [
    "from fastai.vision.all import *"
   ]
  },
  {
   "cell_type": "code",
   "execution_count": 17,
   "id": "7c406b42",
   "metadata": {
    "hidden": true
   },
   "outputs": [],
   "source": [
    "def dense_network(input_size, hidden_size, output_size, num_layers, dropout_p):\n",
    "    assert num_layers >= 2, 'need at least two layers'\n",
    "    layers = [nn.Linear(input_size, hidden_size),\n",
    "              nn.Dropout(p=dropout_p),\n",
    "              nn.ReLU()]\n",
    "    for _ in range(num_layers - 2):\n",
    "        layers.append(nn.Linear(hidden_size, hidden_size))\n",
    "        layers.append(nn.Dropout(p=dropout_p))\n",
    "        layers.append(nn.ReLU())\n",
    "    return nn.Sequential(*layers,\n",
    "                         nn.Linear(hidden_size, output_size),\n",
    "                         nn.Sigmoid())"
   ]
  },
  {
   "cell_type": "code",
   "execution_count": 259,
   "id": "e57ce76a",
   "metadata": {
    "hidden": true
   },
   "outputs": [],
   "source": [
    "model = dense_network(5, 50, 4, 10, 0.1)"
   ]
  },
  {
   "cell_type": "code",
   "execution_count": 260,
   "id": "b97fcd8e",
   "metadata": {
    "hidden": true
   },
   "outputs": [],
   "source": [
    "# Define the loss function and optimizer\n",
    "criterion = nn.MSELoss()  # You can choose an appropriate loss function\n",
    "optimizer = Adam(model.parameters(), lr=0.001)  # You can adjust the learning rate"
   ]
  },
  {
   "cell_type": "code",
   "execution_count": 276,
   "id": "80da56c9",
   "metadata": {
    "hidden": true,
    "scrolled": true
   },
   "outputs": [
    {
     "name": "stdout",
     "output_type": "stream",
     "text": [
      "Epoch 50, Loss: 0.32490048557754286\n",
      "Epoch 100, Loss: 0.32534436663281796\n",
      "Epoch 150, Loss: 0.3211137062347687\n",
      "Epoch 200, Loss: 0.3212417855858803\n",
      "Epoch 250, Loss: 0.34048370730131866\n",
      "Epoch 300, Loss: 0.32041027083992957\n",
      "Epoch 350, Loss: 0.31957923568503704\n",
      "Epoch 400, Loss: 0.32067089034011587\n",
      "Epoch 450, Loss: 0.31827987428755455\n",
      "Epoch 500, Loss: 0.329678179913717\n",
      "Epoch 550, Loss: 0.321901417375718\n",
      "Epoch 600, Loss: 0.3233600011654198\n",
      "Epoch 650, Loss: 0.32718296147117143\n",
      "Epoch 700, Loss: 0.322390413103567\n",
      "Epoch 750, Loss: 0.3128943892851248\n",
      "Epoch 800, Loss: 0.3137536603220237\n",
      "Epoch 850, Loss: 0.3178575890118418\n",
      "Epoch 900, Loss: 0.3162860677218856\n",
      "Epoch 950, Loss: 0.31627465046770686\n",
      "Epoch 1000, Loss: 0.3170476002245185\n",
      "Training complete\n"
     ]
    }
   ],
   "source": [
    "# Training loop\n",
    "num_epochs = 1000  # Adjust the number of epochs as needed\n",
    "model.train()\n",
    "for epoch in range(num_epochs):\n",
    "    running_loss = 0.0\n",
    "    for i in random_range(0, 100):\n",
    "        inputs, targets = SampleB(i, 4)\n",
    "        # inputs = torch.cat((tensor([i.bit_count()]), inputs))\n",
    "        \n",
    "        # Zero the parameter gradients\n",
    "        optimizer.zero_grad()\n",
    "\n",
    "        # Forward pass\n",
    "        outputs = model(inputs)\n",
    "        \n",
    "        # Compute the loss\n",
    "        loss = criterion(outputs, targets)\n",
    "        \n",
    "        # Backpropagation\n",
    "        loss.backward()\n",
    "        \n",
    "        # Update the weights\n",
    "        optimizer.step()\n",
    "\n",
    "        # Print statistics\n",
    "        running_loss += loss.item()\n",
    "    if epoch % 50 == 49:  # Print every 10 mini-batches\n",
    "    # if 1:\n",
    "        print(f\"Epoch {epoch + 1}, Loss: {running_loss / 50}\")\n",
    "        running_loss = 0.0\n",
    "\n",
    "print(\"Training complete\")"
   ]
  },
  {
   "cell_type": "code",
   "execution_count": 286,
   "id": "32bc5bcc",
   "metadata": {
    "hidden": true
   },
   "outputs": [],
   "source": [
    "def ToBits(x):\n",
    "    return x\n",
    "    return torch.heaviside(x - 0.5, Tensor([0]))"
   ]
  },
  {
   "cell_type": "code",
   "execution_count": 306,
   "id": "66ce72c6",
   "metadata": {
    "hidden": true
   },
   "outputs": [
    {
     "name": "stdout",
     "output_type": "stream",
     "text": [
      "tensor([0.2067, 0.3970, 0.4157, 0.0030]) tensor([1., 0., 0., 0.])\n"
     ]
    }
   ],
   "source": [
    "with torch.no_grad():\n",
    "    Input, Target = SampleB(18, 4)\n",
    "    print(ToBits(model(Input)), Target)"
   ]
  },
  {
   "cell_type": "code",
   "execution_count": null,
   "id": "458bdc23",
   "metadata": {
    "hidden": true
   },
   "outputs": [],
   "source": []
  },
  {
   "cell_type": "code",
   "execution_count": null,
   "id": "8d4db9c0",
   "metadata": {
    "hidden": true
   },
   "outputs": [],
   "source": []
  },
  {
   "cell_type": "markdown",
   "id": "ada0373a",
   "metadata": {},
   "source": [
    "## Difference between divisions"
   ]
  },
  {
   "cell_type": "markdown",
   "id": "df42531c",
   "metadata": {},
   "source": [
    "Testing if we can use the remainder of a division with a large multiple of 10 to speed up the computation of modulo 10."
   ]
  },
  {
   "cell_type": "markdown",
   "id": "530d31a0",
   "metadata": {},
   "source": [
    "NOTE: There seems to be something fishy going on with the last digit, depending on which exponent we choose. All exponents of two ending in 0 seem to be ending in 6 once calculated. All with 1 end with 2, all with 2 end with 4 and so on. Check this out later!"
   ]
  },
  {
   "cell_type": "code",
   "execution_count": 11,
   "id": "3d737f75",
   "metadata": {},
   "outputs": [],
   "source": [
    "N = 1<<1001"
   ]
  },
  {
   "cell_type": "code",
   "execution_count": 12,
   "id": "3695635f",
   "metadata": {},
   "outputs": [],
   "source": [
    "one = N % 10**1"
   ]
  },
  {
   "cell_type": "code",
   "execution_count": 13,
   "id": "e819cc58",
   "metadata": {},
   "outputs": [],
   "source": [
    "two = N % 10**2"
   ]
  },
  {
   "cell_type": "code",
   "execution_count": 14,
   "id": "08aaf4b4",
   "metadata": {},
   "outputs": [],
   "source": [
    "three = N % 10**3"
   ]
  },
  {
   "cell_type": "code",
   "execution_count": 15,
   "id": "ee519a91",
   "metadata": {},
   "outputs": [],
   "source": [
    "four = N % 10**4"
   ]
  },
  {
   "cell_type": "code",
   "execution_count": 16,
   "id": "e64f8371",
   "metadata": {},
   "outputs": [],
   "source": [
    "five = N % 10**5"
   ]
  },
  {
   "cell_type": "code",
   "execution_count": 17,
   "id": "f937ff4f",
   "metadata": {},
   "outputs": [],
   "source": [
    "six = N % 10**6"
   ]
  },
  {
   "cell_type": "code",
   "execution_count": 18,
   "id": "a3327e1f",
   "metadata": {},
   "outputs": [],
   "source": [
    "seven = N % 10**7"
   ]
  },
  {
   "cell_type": "code",
   "execution_count": 19,
   "id": "8c2bdcc1",
   "metadata": {},
   "outputs": [],
   "source": [
    "eight = N % 10**8"
   ]
  },
  {
   "cell_type": "code",
   "execution_count": 20,
   "id": "939505a9",
   "metadata": {},
   "outputs": [
    {
     "data": {
      "text/plain": [
       "(2, 52, 752, 8752, 38752, 138752, 6138752, 36138752)"
      ]
     },
     "execution_count": 20,
     "metadata": {},
     "output_type": "execute_result"
    }
   ],
   "source": [
    "one, two, three, four, five, six, seven, eight"
   ]
  },
  {
   "cell_type": "code",
   "execution_count": 122,
   "id": "2482e73d",
   "metadata": {},
   "outputs": [
    {
     "data": {
      "text/plain": [
       "42860344287450692837937001962400072422456192468221344297750015534814042044997444899727935152627834325103786916702125873007485811427692561743938310298794299215738271099296923941684298420249484567511816728612185899934327765069595070236662175784308251658284785910746168670641719326610497547348822672277504"
      ]
     },
     "execution_count": 122,
     "metadata": {},
     "output_type": "execute_result"
    }
   ],
   "source": [
    "N"
   ]
  },
  {
   "cell_type": "code",
   "execution_count": 123,
   "id": "4b39e776",
   "metadata": {},
   "outputs": [
    {
     "data": {
      "text/plain": [
       "42860344287450692837937001962400072422456192468221344297750015534814042044997444899727935152627834325103786916702125873007485811427692561743938310298794299215738271099296923941684298420249484567511816728612185899934327765069595070236662175784308251658284785910746168670641719326610497547348822672277504"
      ]
     },
     "execution_count": 123,
     "metadata": {},
     "output_type": "execute_result"
    }
   ],
   "source": [
    "N % 10**399"
   ]
  },
  {
   "cell_type": "markdown",
   "id": "d345f2eb",
   "metadata": {},
   "source": [
    "It seems like any time we do a `n mod 10**k`, we're really grabbing about the last k decimal digits of the number n. So if we then do a mod 10 afterwards on that value, we will get the result of n mod 10, without having to do the whole computation again."
   ]
  },
  {
   "cell_type": "code",
   "execution_count": 208,
   "id": "0c41be67",
   "metadata": {},
   "outputs": [],
   "source": [
    "from line_profiler import LineProfiler"
   ]
  },
  {
   "cell_type": "code",
   "execution_count": 209,
   "id": "c05c92fc",
   "metadata": {},
   "outputs": [],
   "source": [
    "profiler = LineProfiler()\n",
    "@profiler\n",
    "def count_sixes(N, D, Cache):\n",
    "    SixCounter    = 0\n",
    "    SixCounterMax = 0\n",
    "    j = 0\n",
    "    while N > 0:\n",
    "        # TODO: use continued division for this as well? Or can we just use the remainder instead of the number?\n",
    "        Digit = N % 10\n",
    "        if Digit == 6:\n",
    "            SixCounter   += 1\n",
    "            SixCounterMax = max(SixCounterMax, SixCounter)\n",
    "        else:\n",
    "            SixCounter = 0\n",
    "        try:\n",
    "            Q, R = Cache[j]\n",
    "            R    = (R << 1) | (N & 1)\n",
    "            if R >= D:\n",
    "                R = R - D\n",
    "                N = (Q << 1) | 1\n",
    "            else:\n",
    "                N = (Q << 1)\n",
    "        except KeyError:\n",
    "            R = N  % D\n",
    "            N = N // D\n",
    "        Cache[j] = N, R\n",
    "        j += 1\n",
    "    return SixCounterMax"
   ]
  },
  {
   "cell_type": "code",
   "execution_count": 213,
   "id": "a73ced89",
   "metadata": {},
   "outputs": [],
   "source": [
    "profiler = LineProfiler()\n",
    "@profiler\n",
    "def count_sixes(N, D, Cache):\n",
    "    SixCounter    = 0\n",
    "    SixCounterMax = 0\n",
    "    j = 0\n",
    "    while N > 0:\n",
    "        try:\n",
    "            Q, R = Cache[j]\n",
    "            R    = (R << 1) | (N & 1)\n",
    "            if R >= D:\n",
    "                R = R - D\n",
    "                N = (Q << 1) | 1\n",
    "            else:\n",
    "                N = (Q << 1)\n",
    "        except KeyError:\n",
    "            R = N  % D\n",
    "            N = N // D\n",
    "        Cache[j] = N, R\n",
    "        j += 1\n",
    "        \n",
    "        Digit = R % 10\n",
    "        if Digit == 6:\n",
    "            SixCounter   += 1\n",
    "            SixCounterMax = max(SixCounterMax, SixCounter)\n",
    "        else:\n",
    "            SixCounter = 0\n",
    "        \n",
    "    return SixCounterMax"
   ]
  },
  {
   "cell_type": "code",
   "execution_count": 214,
   "id": "116297e6",
   "metadata": {},
   "outputs": [
    {
     "name": "stdout",
     "output_type": "stream",
     "text": [
      "Building Cache...\n",
      "Done!\n",
      "CPU times: total: 31.2 ms\n",
      "Wall time: 18 ms\n"
     ]
    }
   ],
   "source": [
    "%%time\n",
    "i        = 100_000\n",
    "Number   = 1<<(i - 1)\n",
    "print('Building Cache...')\n",
    "Divisor = 10**399\n",
    "Cache   = {}\n",
    "count_sixes(Number, Divisor, Cache)\n",
    "Number = Number << 1\n",
    "print('Done!')"
   ]
  },
  {
   "cell_type": "code",
   "execution_count": 211,
   "id": "c4b40a2d",
   "metadata": {},
   "outputs": [
    {
     "name": "stdout",
     "output_type": "stream",
     "text": [
      "[2, 1, 2, 2, 1, 1, 2, 2, 2, 1, 2, 1, 2, 1, 2, 2, 1, 1, 2, 2, 2, 1, 2, 1, 3, 2, 1, 1, 2, 2, 1, 2, 1, 2, 1, 2, 2, 2, 1, 2, 1, 1, 1, 1, 2, 1, 2, 1, 2, 2, 2, 2, 2, 3, 1, 1, 1, 1, 1, 1, 2, 2, 3, 2, 3, 1, 2, 2, 2, 2, 2, 2, 2, 1, 2, 2, 2, 1, 6, 2, 2, 2, 2, 2, 1, 1, 2, 1, 1, 1, 3, 2, 2, 2, 1, 2, 2, 1, 1, 2, 1, 1, 2, 1, 2, 1, 1, 1, 1, 3, 1, 2, 1, 1, 2, 2, 2, 1, 1, 2, 2, 1, 1, 1, 2, 2, 2, 1, 2, 2, 3, 1, 1, 3, 2, 1, 2, 1, 1, 3, 2, 1, 2, 1, 2, 2, 1, 1, 2, 2, 2, 2, 2, 2, 2, 1, 2, 3, 2, 2, 1, 2, 3, 2, 2, 2, 1, 2, 1, 2, 2, 1, 1, 1, 3, 2, 1, 2, 1, 2, 2, 1, 3, 1, 1, 2, 2, 1, 2, 1, 3, 1, 1, 1, 1, 2, 2, 1, 2, 1, 1, 2, 2, 2, 1, 1, 2, 1, 2, 2, 1, 1, 1, 2, 1, 1, 2, 3, 2, 1, 2, 1, 1, 1, 1, 1, 2, 2, 2, 2, 2, 2, 2, 2, 1, 2, 2, 3, 2, 1, 1, 1, 2, 2, 2, 2, 1, 1, 2, 1, 2, 2, 1, 1, 1, 1, 2, 1, 2, 1, 2, 1, 2, 1, 1, 2, 3, 1, 1, 2, 2, 2, 1, 2, 2, 2, 1, 2, 2, 2, 1, 1, 2, 2, 1, 1, 1, 2, 2, 2, 2, 2, 1, 1, 2, 2, 3, 1, 1, 1, 3, 1, 2, 1, 2, 1, 2, 2, 1, 1, 1, 2, 2, 2, 2, 1, 1, 2, 4, 1, 1, 3, 1, 2, 1, 1, 1, 1, 3, 2, 1, 2, 2, 1, 1, 1, 2, 1, 2, 1, 2, 2, 3, 2, 3, 4, 1, 1, 1, 2, 1, 2, 1, 1, 2, 2, 1, 1, 1, 2, 1, 3, 1, 1, 2, 2, 1, 1, 2, 1, 1, 1, 1, 2, 1, 2, 2, 2, 2, 2, 1, 1, 1, 1, 1, 1, 2, 2, 2, 1, 2, 3, 2, 1, 2, 2, 2, 1, 1, 1, 2, 2, 2, 3, 2, 1, 1, 2, 2, 2, 1, 1, 1, 1, 2, 1, 1, 2, 2, 2, 2, 2, 1, 1, 2, 1, 1, 2, 1, 1, 2, 1, 1, 2, 2, 1, 2, 1, 2, 1, 2, 1, 1, 1, 2, 2, 1, 2, 1, 1, 1, 3, 2, 2, 1, 2, 1, 2, 2, 2, 1, 2, 1, 1, 2, 2, 2, 1, 1, 2, 2, 1, 3, 2, 3, 2, 2, 1, 2, 2, 1, 2, 1, 2, 2, 1, 2, 1, 1, 2, 1, 1, 1, 2, 1, 1, 1, 1, 3, 1, 3, 1, 1, 2, 1, 1, 1, 2, 4, 1, 2, 2, 2, 1, 2, 1, 2, 1, 1, 2, 2, 2, 1, 1, 1, 1, 2, 1, 1, 2, 1, 3, 1, 1, 2, 2, 1, 1, 1, 2, 2, 2, 2, 2, 2, 1, 2, 2, 2, 1, 1, 2, 2, 2, 2, 2, 1, 1, 1, 1, 2, 1, 1, 1, 2, 1, 2, 2, 1, 1, 2, 2, 1, 2, 1, 2, 3, 2, 1, 2, 2, 2, 1, 1, 2, 2, 2, 1, 1, 1, 1, 1, 2, 2, 2, 1, 1, 2, 1, 2, 2, 1, 3, 2, 1, 1, 2, 1, 1, 1, 1, 1, 2, 1, 1, 1, 1, 2, 2, 1, 1, 3, 1, 2, 1, 1, 1, 4, 3, 1, 1, 2, 2, 1, 3, 1, 1, 1, 1, 2, 3, 2, 2, 2, 2, 2, 2, 1, 1, 2, 1, 1, 2, 1, 2, 2, 3, 1, 1, 2, 1, 2, 2, 2, 2, 2, 2, 3, 2, 2, 1, 1, 1, 2, 1, 1, 1, 2, 1, 3, 2, 2, 1, 2, 2, 2, 2, 2, 2, 2, 1, 1, 1, 2, 2, 2, 1, 1, 2, 1, 3, 1, 1, 1, 2, 1, 1, 2, 2, 2, 2, 1, 2, 2, 2, 1, 1, 4, 2, 1, 2, 2, 2, 2, 1, 1, 1, 2, 2, 2, 1, 2, 1, 2, 2, 2, 2, 1, 2, 2, 1, 3, 2, 1, 2, 2, 2, 1, 1, 2, 2, 2, 2, 1, 3, 2, 3, 1, 1, 1, 1, 2, 3, 1, 3, 2, 2, 1, 2, 1, 2, 1, 2, 2, 1, 1, 1, 2, 1, 2, 2, 1, 1, 2, 2, 2, 3, 1, 2, 2, 2, 3, 1, 2, 2, 1, 2, 1, 2, 1, 2, 1, 1, 2, 2, 2, 2, 2, 2, 1, 2, 1, 2, 2, 2, 1, 3, 1, 1, 2, 1, 2, 1, 1, 2, 1, 1, 1, 1, 1, 2, 1, 2, 1, 2, 2, 2, 2, 1, 2, 1, 2, 1, 2, 2, 2, 1, 1, 2, 1, 2, 1, 2, 1, 1, 1, 1, 2, 1, 1, 2, 1, 2, 1, 1, 1, 2, 1, 1, 1, 1, 1, 3, 1, 1, 1, 1, 2, 1, 2, 1, 2, 2, 1, 1, 2, 3, 1, 1, 1, 2, 3, 1, 1, 1, 3, 3, 2, 1, 2, 2, 2, 2, 1, 2, 2, 1, 3, 1, 1, 1, 1, 1, 2, 1, 1, 1, 2, 1, 2, 3, 1, 2, 2, 2, 3, 1, 3, 1, 3, 2, 2, 2, 2, 2, 1, 1, 1, 1, 2, 2, 1, 2, 1, 3, 1, 1, 2, 2, 1, 2, 2, 1, 2, 1, 2, 2, 2, 2, 2, 3, 2, 2, 1, 2, 2, 2, 1, 2, 2, 1, 2, 1, 1, 1, 1, 3, 1, 2, 3, 2, 1, 1, 1, 2, 1, 2, 2, 2, 2, 1, 2, 1, 1, 1, 1, 2, 1, 1, 2]\n",
      "CPU times: total: 938 ms\n",
      "Wall time: 927 ms\n"
     ]
    }
   ],
   "source": [
    "%%time\n",
    "output = []\n",
    "for _ in range(1000):\n",
    "    output.append(count_sixes(Number, Divisor, Cache))\n",
    "    i      += 1\n",
    "    Number  = Number<<1\n",
    "print(output)"
   ]
  },
  {
   "cell_type": "code",
   "execution_count": 215,
   "id": "d01f1a7e",
   "metadata": {},
   "outputs": [
    {
     "name": "stdout",
     "output_type": "stream",
     "text": [
      "[2, 1, 2, 2, 1, 1, 2, 2, 2, 1, 2, 1, 2, 1, 2, 2, 1, 1, 2, 2, 2, 1, 2, 1, 3, 2, 1, 1, 2, 2, 1, 2, 1, 2, 1, 2, 2, 2, 1, 2, 1, 1, 1, 1, 2, 1, 2, 1, 2, 2, 2, 2, 2, 3, 1, 1, 1, 1, 1, 1, 2, 2, 3, 2, 3, 1, 2, 2, 2, 2, 2, 2, 2, 1, 2, 2, 2, 1, 6, 2, 2, 2, 2, 2, 1, 1, 2, 1, 1, 1, 3, 2, 2, 2, 1, 2, 2, 1, 1, 2, 1, 1, 2, 1, 2, 1, 1, 1, 1, 3, 1, 2, 1, 1, 2, 2, 2, 1, 1, 2, 2, 1, 1, 1, 2, 2, 2, 1, 2, 2, 3, 1, 1, 3, 2, 1, 2, 1, 1, 3, 2, 1, 2, 1, 2, 2, 1, 1, 2, 2, 2, 2, 2, 2, 2, 1, 2, 3, 2, 2, 1, 2, 3, 2, 2, 2, 1, 2, 1, 2, 2, 1, 1, 1, 3, 2, 1, 2, 1, 2, 2, 1, 3, 1, 1, 2, 2, 1, 2, 1, 3, 1, 1, 1, 1, 2, 2, 1, 2, 1, 1, 2, 2, 2, 1, 1, 2, 1, 2, 2, 1, 1, 1, 2, 1, 1, 2, 3, 2, 1, 2, 1, 1, 1, 1, 1, 2, 2, 2, 2, 2, 2, 2, 2, 1, 2, 2, 3, 2, 1, 1, 1, 2, 2, 2, 2, 1, 1, 2, 1, 2, 2, 1, 1, 1, 1, 2, 1, 2, 1, 2, 1, 2, 1, 1, 2, 3, 1, 1, 2, 2, 2, 1, 2, 2, 2, 1, 2, 2, 2, 1, 1, 2, 2, 1, 1, 1, 2, 2, 2, 2, 2, 1, 1, 2, 2, 3, 1, 1, 1, 3, 1, 2, 1, 2, 1, 2, 2, 1, 1, 1, 2, 2, 2, 2, 1, 1, 2, 4, 1, 1, 3, 1, 2, 1, 1, 1, 1, 3, 2, 1, 2, 2, 1, 1, 1, 2, 1, 2, 1, 2, 2, 3, 2, 3, 4, 1, 1, 1, 2, 1, 2, 1, 1, 2, 2, 1, 1, 1, 2, 1, 3, 1, 1, 2, 2, 1, 1, 2, 1, 1, 1, 1, 2, 1, 2, 2, 2, 2, 2, 1, 1, 1, 1, 1, 1, 2, 2, 2, 1, 2, 3, 2, 1, 2, 2, 2, 1, 1, 1, 2, 2, 2, 3, 2, 1, 1, 2, 2, 2, 1, 1, 1, 1, 2, 1, 1, 2, 2, 2, 2, 2, 1, 1, 2, 1, 1, 2, 1, 1, 2, 1, 1, 2, 2, 1, 2, 1, 2, 1, 2, 1, 1, 1, 2, 2, 1, 2, 1, 1, 1, 3, 2, 2, 1, 2, 1, 2, 2, 2, 1, 2, 1, 1, 2, 2, 2, 1, 1, 2, 2, 1, 3, 2, 3, 2, 2, 1, 2, 2, 1, 2, 1, 2, 2, 1, 2, 1, 1, 2, 1, 1, 1, 2, 1, 1, 1, 1, 3, 1, 3, 1, 1, 2, 1, 1, 1, 2, 4, 1, 2, 2, 2, 1, 2, 1, 2, 1, 1, 2, 2, 2, 1, 1, 1, 1, 2, 1, 1, 2, 1, 3, 1, 1, 2, 2, 1, 1, 1, 2, 2, 2, 2, 2, 2, 1, 2, 2, 2, 1, 1, 2, 2, 2, 2, 2, 1, 1, 1, 1, 2, 1, 1, 1, 2, 1, 2, 2, 1, 1, 2, 2, 1, 2, 1, 2, 3, 2, 1, 2, 2, 2, 1, 1, 2, 2, 2, 1, 1, 1, 1, 1, 2, 2, 2, 1, 1, 2, 1, 2, 2, 1, 3, 2, 1, 1, 2, 1, 1, 1, 1, 1, 2, 1, 1, 1, 1, 2, 2, 1, 1, 3, 1, 2, 1, 1, 1, 4, 3, 1, 1, 2, 2, 1, 3, 1, 1, 1, 1, 2, 3, 2, 2, 2, 2, 2, 2, 1, 1, 2, 1, 1, 2, 1, 2, 2, 3, 1, 1, 2, 1, 2, 2, 2, 2, 2, 2, 3, 2, 2, 1, 1, 1, 2, 1, 1, 1, 2, 1, 3, 2, 2, 1, 2, 2, 2, 2, 2, 2, 2, 1, 1, 1, 2, 2, 2, 1, 1, 2, 1, 3, 1, 1, 1, 2, 1, 1, 2, 2, 2, 2, 1, 2, 2, 2, 1, 1, 4, 2, 1, 2, 2, 2, 2, 1, 1, 1, 2, 2, 2, 1, 2, 1, 2, 2, 2, 2, 1, 2, 2, 1, 3, 2, 1, 2, 2, 2, 1, 1, 2, 2, 2, 2, 1, 3, 2, 3, 1, 1, 1, 1, 2, 3, 1, 3, 2, 2, 1, 2, 1, 2, 1, 2, 2, 1, 1, 1, 2, 1, 2, 2, 1, 1, 2, 2, 2, 3, 1, 2, 2, 2, 3, 1, 2, 2, 1, 2, 1, 2, 1, 2, 1, 1, 2, 2, 2, 2, 2, 2, 1, 2, 1, 2, 2, 2, 1, 3, 1, 1, 2, 1, 2, 1, 1, 2, 1, 1, 1, 1, 1, 2, 1, 2, 1, 2, 2, 2, 2, 1, 2, 1, 2, 1, 2, 2, 2, 1, 1, 2, 1, 2, 1, 2, 1, 1, 1, 1, 2, 1, 1, 2, 1, 2, 1, 1, 1, 2, 1, 1, 1, 1, 1, 3, 1, 1, 1, 1, 2, 1, 2, 1, 2, 2, 1, 1, 2, 3, 1, 1, 1, 2, 3, 1, 1, 1, 3, 3, 2, 1, 2, 2, 2, 2, 1, 2, 2, 1, 3, 1, 1, 1, 1, 1, 2, 1, 1, 1, 2, 1, 2, 3, 1, 2, 2, 2, 3, 1, 3, 1, 3, 2, 2, 2, 2, 2, 1, 1, 1, 1, 2, 2, 1, 2, 1, 3, 1, 1, 2, 2, 1, 2, 2, 1, 2, 1, 2, 2, 2, 2, 2, 3, 2, 2, 1, 2, 2, 2, 1, 2, 2, 1, 2, 1, 1, 1, 1, 3, 1, 2, 3, 2, 1, 1, 1, 2, 1, 2, 2, 2, 2, 1, 2, 1, 1, 1, 1, 2, 1, 1, 2]\n",
      "CPU times: total: 531 ms\n",
      "Wall time: 531 ms\n"
     ]
    }
   ],
   "source": [
    "%%time\n",
    "output = []\n",
    "for _ in range(1000):\n",
    "    output.append(count_sixes(Number, Divisor, Cache))\n",
    "    i      += 1\n",
    "    Number  = Number<<1\n",
    "print(output)"
   ]
  },
  {
   "cell_type": "code",
   "execution_count": null,
   "id": "aeb98f46",
   "metadata": {},
   "outputs": [],
   "source": []
  },
  {
   "cell_type": "code",
   "execution_count": 207,
   "id": "30fa451b",
   "metadata": {},
   "outputs": [
    {
     "data": {
      "text/plain": [
       "True"
      ]
     },
     "execution_count": 207,
     "metadata": {},
     "output_type": "execute_result"
    }
   ],
   "source": [
    "[2, 1, 2, 2, 1, 1, 2, 2, 2, 1, 2, 1, 2, 1, 2, 2, 1, 1, 2, 2, 2, 1, 2, 1, 3, 2, 1, 1, 2, 2, 1, 2, 1, 2, 1, 2, 2, 2, 1, 2, 1, 1, 1, 1, 2, 1, 2, 1, 2, 2, 2, 2, 2, 3, 1, 1, 1, 1, 1, 1, 2, 2, 3, 2, 3, 1, 2, 2, 2, 2, 2, 2, 2, 1, 2, 2, 2, 1, 6, 2, 2, 2, 2, 2, 1, 1, 2, 1, 1, 1, 3, 2, 2, 2, 1, 2, 2, 1, 1, 2, 1, 1, 2, 1, 2, 1, 1, 1, 1, 3, 1, 2, 1, 1, 2, 2, 2, 1, 1, 2, 2, 1, 1, 1, 2, 2, 2, 1, 2, 2, 3, 1, 1, 3, 2, 1, 2, 1, 1, 3, 2, 1, 2, 1, 2, 2, 1, 1, 2, 2, 2, 2, 2, 2, 2, 1, 2, 3, 2, 2, 1, 2, 3, 2, 2, 2, 1, 2, 1, 2, 2, 1, 1, 1, 3, 2, 1, 2, 1, 2, 2, 1, 3, 1, 1, 2, 2, 1, 2, 1, 3, 1, 1, 1, 1, 2, 2, 1, 2, 1, 1, 2, 2, 2, 1, 1, 2, 1, 2, 2, 1, 1, 1, 2, 1, 1, 2, 3, 2, 1, 2, 1, 1, 1, 1, 1, 2, 2, 2, 2, 2, 2, 2, 2, 1, 2, 2, 3, 2, 1, 1, 1, 2, 2, 2, 2, 1, 1, 2, 1, 2, 2, 1, 1, 1, 1, 2, 1, 2, 1, 2, 1, 2, 1, 1, 2, 3, 1, 1, 2, 2, 2, 1, 2, 2, 2, 1, 2, 2, 2, 1, 1, 2, 2, 1, 1, 1, 2, 2, 2, 2, 2, 1, 1, 2, 2, 3, 1, 1, 1, 3, 1, 2, 1, 2, 1, 2, 2, 1, 1, 1, 2, 2, 2, 2, 1, 1, 2, 4, 1, 1, 3, 1, 2, 1, 1, 1, 1, 3, 2, 1, 2, 2, 1, 1, 1, 2, 1, 2, 1, 2, 2, 3, 2, 3, 4, 1, 1, 1, 2, 1, 2, 1, 1, 2, 2, 1, 1, 1, 2, 1, 3, 1, 1, 2, 2, 1, 1, 2, 1, 1, 1, 1, 2, 1, 2, 2, 2, 2, 2, 1, 1, 1, 1, 1, 1, 2, 2, 2, 1, 2, 3, 2, 1, 2, 2, 2, 1, 1, 1, 2, 2, 2, 3, 2, 1, 1, 2, 2, 2, 1, 1, 1, 1, 2, 1, 1, 2, 2, 2, 2, 2, 1, 1, 2, 1, 1, 2, 1, 1, 2, 1, 1, 2, 2, 1, 2, 1, 2, 1, 2, 1, 1, 1, 2, 2, 1, 2, 1, 1, 1, 3, 2, 2, 1, 2, 1, 2, 2, 2, 1, 2, 1, 1, 2, 2, 2, 1, 1, 2, 2, 1, 3, 2, 3, 2, 2, 1, 2, 2, 1, 2, 1, 2, 2, 1, 2, 1, 1, 2, 1, 1, 1, 2, 1, 1, 1, 1, 3, 1, 3, 1, 1, 2, 1, 1, 1, 2, 4, 1, 2, 2, 2, 1, 2, 1, 2, 1, 1, 2, 2, 2, 1, 1, 1, 1, 2, 1, 1, 2, 1, 3, 1, 1, 2, 2, 1, 1, 1, 2, 2, 2, 2, 2, 2, 1, 2, 2, 2, 1, 1, 2, 2, 2, 2, 2, 1, 1, 1, 1, 2, 1, 1, 1, 2, 1, 2, 2, 1, 1, 2, 2, 1, 2, 1, 2, 3, 2, 1, 2, 2, 2, 1, 1, 2, 2, 2, 1, 1, 1, 1, 1, 2, 2, 2, 1, 1, 2, 1, 2, 2, 1, 3, 2, 1, 1, 2, 1, 1, 1, 1, 1, 2, 1, 1, 1, 1, 2, 2, 1, 1, 3, 1, 2, 1, 1, 1, 4, 3, 1, 1, 2, 2, 1, 3, 1, 1, 1, 1, 2, 3, 2, 2, 2, 2, 2, 2, 1, 1, 2, 1, 1, 2, 1, 2, 2, 3, 1, 1, 2, 1, 2, 2, 2, 2, 2, 2, 3, 2, 2, 1, 1, 1, 2, 1, 1, 1, 2, 1, 3, 2, 2, 1, 2, 2, 2, 2, 2, 2, 2, 1, 1, 1, 2, 2, 2, 1, 1, 2, 1, 3, 1, 1, 1, 2, 1, 1, 2, 2, 2, 2, 1, 2, 2, 2, 1, 1, 4, 2, 1, 2, 2, 2, 2, 1, 1, 1, 2, 2, 2, 1, 2, 1, 2, 2, 2, 2, 1, 2, 2, 1, 3, 2, 1, 2, 2, 2, 1, 1, 2, 2, 2, 2, 1, 3, 2, 3, 1, 1, 1, 1, 2, 3, 1, 3, 2, 2, 1, 2, 1, 2, 1, 2, 2, 1, 1, 1, 2, 1, 2, 2, 1, 1, 2, 2, 2, 3, 1, 2, 2, 2, 3, 1, 2, 2, 1, 2, 1, 2, 1, 2, 1, 1, 2, 2, 2, 2, 2, 2, 1, 2, 1, 2, 2, 2, 1, 3, 1, 1, 2, 1, 2, 1, 1, 2, 1, 1, 1, 1, 1, 2, 1, 2, 1, 2, 2, 2, 2, 1, 2, 1, 2, 1, 2, 2, 2, 1, 1, 2, 1, 2, 1, 2, 1, 1, 1, 1, 2, 1, 1, 2, 1, 2, 1, 1, 1, 2, 1, 1, 1, 1, 1, 3, 1, 1, 1, 1, 2, 1, 2, 1, 2, 2, 1, 1, 2, 3, 1, 1, 1, 2, 3, 1, 1, 1, 3, 3, 2, 1, 2, 2, 2, 2, 1, 2, 2, 1, 3, 1, 1, 1, 1, 1, 2, 1, 1, 1, 2, 1, 2, 3, 1, 2, 2, 2, 3, 1, 3, 1, 3, 2, 2, 2, 2, 2, 1, 1, 1, 1, 2, 2, 1, 2, 1, 3, 1, 1, 2, 2, 1, 2, 2, 1, 2, 1, 2, 2, 2, 2, 2, 3, 2, 2, 1, 2, 2, 2, 1, 2, 2, 1, 2, 1, 1, 1, 1, 3, 1, 2, 3, 2, 1, 1, 1, 2, 1, 2, 2, 2, 2, 1, 2, 1, 1, 1, 1, 2, 1, 1, 2] == [2, 1, 2, 2, 1, 1, 2, 2, 2, 1, 2, 1, 2, 1, 2, 2, 1, 1, 2, 2, 2, 1, 2, 1, 3, 2, 1, 1, 2, 2, 1, 2, 1, 2, 1, 2, 2, 2, 1, 2, 1, 1, 1, 1, 2, 1, 2, 1, 2, 2, 2, 2, 2, 3, 1, 1, 1, 1, 1, 1, 2, 2, 3, 2, 3, 1, 2, 2, 2, 2, 2, 2, 2, 1, 2, 2, 2, 1, 6, 2, 2, 2, 2, 2, 1, 1, 2, 1, 1, 1, 3, 2, 2, 2, 1, 2, 2, 1, 1, 2, 1, 1, 2, 1, 2, 1, 1, 1, 1, 3, 1, 2, 1, 1, 2, 2, 2, 1, 1, 2, 2, 1, 1, 1, 2, 2, 2, 1, 2, 2, 3, 1, 1, 3, 2, 1, 2, 1, 1, 3, 2, 1, 2, 1, 2, 2, 1, 1, 2, 2, 2, 2, 2, 2, 2, 1, 2, 3, 2, 2, 1, 2, 3, 2, 2, 2, 1, 2, 1, 2, 2, 1, 1, 1, 3, 2, 1, 2, 1, 2, 2, 1, 3, 1, 1, 2, 2, 1, 2, 1, 3, 1, 1, 1, 1, 2, 2, 1, 2, 1, 1, 2, 2, 2, 1, 1, 2, 1, 2, 2, 1, 1, 1, 2, 1, 1, 2, 3, 2, 1, 2, 1, 1, 1, 1, 1, 2, 2, 2, 2, 2, 2, 2, 2, 1, 2, 2, 3, 2, 1, 1, 1, 2, 2, 2, 2, 1, 1, 2, 1, 2, 2, 1, 1, 1, 1, 2, 1, 2, 1, 2, 1, 2, 1, 1, 2, 3, 1, 1, 2, 2, 2, 1, 2, 2, 2, 1, 2, 2, 2, 1, 1, 2, 2, 1, 1, 1, 2, 2, 2, 2, 2, 1, 1, 2, 2, 3, 1, 1, 1, 3, 1, 2, 1, 2, 1, 2, 2, 1, 1, 1, 2, 2, 2, 2, 1, 1, 2, 4, 1, 1, 3, 1, 2, 1, 1, 1, 1, 3, 2, 1, 2, 2, 1, 1, 1, 2, 1, 2, 1, 2, 2, 3, 2, 3, 4, 1, 1, 1, 2, 1, 2, 1, 1, 2, 2, 1, 1, 1, 2, 1, 3, 1, 1, 2, 2, 1, 1, 2, 1, 1, 1, 1, 2, 1, 2, 2, 2, 2, 2, 1, 1, 1, 1, 1, 1, 2, 2, 2, 1, 2, 3, 2, 1, 2, 2, 2, 1, 1, 1, 2, 2, 2, 3, 2, 1, 1, 2, 2, 2, 1, 1, 1, 1, 2, 1, 1, 2, 2, 2, 2, 2, 1, 1, 2, 1, 1, 2, 1, 1, 2, 1, 1, 2, 2, 1, 2, 1, 2, 1, 2, 1, 1, 1, 2, 2, 1, 2, 1, 1, 1, 3, 2, 2, 1, 2, 1, 2, 2, 2, 1, 2, 1, 1, 2, 2, 2, 1, 1, 2, 2, 1, 3, 2, 3, 2, 2, 1, 2, 2, 1, 2, 1, 2, 2, 1, 2, 1, 1, 2, 1, 1, 1, 2, 1, 1, 1, 1, 3, 1, 3, 1, 1, 2, 1, 1, 1, 2, 4, 1, 2, 2, 2, 1, 2, 1, 2, 1, 1, 2, 2, 2, 1, 1, 1, 1, 2, 1, 1, 2, 1, 3, 1, 1, 2, 2, 1, 1, 1, 2, 2, 2, 2, 2, 2, 1, 2, 2, 2, 1, 1, 2, 2, 2, 2, 2, 1, 1, 1, 1, 2, 1, 1, 1, 2, 1, 2, 2, 1, 1, 2, 2, 1, 2, 1, 2, 3, 2, 1, 2, 2, 2, 1, 1, 2, 2, 2, 1, 1, 1, 1, 1, 2, 2, 2, 1, 1, 2, 1, 2, 2, 1, 3, 2, 1, 1, 2, 1, 1, 1, 1, 1, 2, 1, 1, 1, 1, 2, 2, 1, 1, 3, 1, 2, 1, 1, 1, 4, 3, 1, 1, 2, 2, 1, 3, 1, 1, 1, 1, 2, 3, 2, 2, 2, 2, 2, 2, 1, 1, 2, 1, 1, 2, 1, 2, 2, 3, 1, 1, 2, 1, 2, 2, 2, 2, 2, 2, 3, 2, 2, 1, 1, 1, 2, 1, 1, 1, 2, 1, 3, 2, 2, 1, 2, 2, 2, 2, 2, 2, 2, 1, 1, 1, 2, 2, 2, 1, 1, 2, 1, 3, 1, 1, 1, 2, 1, 1, 2, 2, 2, 2, 1, 2, 2, 2, 1, 1, 4, 2, 1, 2, 2, 2, 2, 1, 1, 1, 2, 2, 2, 1, 2, 1, 2, 2, 2, 2, 1, 2, 2, 1, 3, 2, 1, 2, 2, 2, 1, 1, 2, 2, 2, 2, 1, 3, 2, 3, 1, 1, 1, 1, 2, 3, 1, 3, 2, 2, 1, 2, 1, 2, 1, 2, 2, 1, 1, 1, 2, 1, 2, 2, 1, 1, 2, 2, 2, 3, 1, 2, 2, 2, 3, 1, 2, 2, 1, 2, 1, 2, 1, 2, 1, 1, 2, 2, 2, 2, 2, 2, 1, 2, 1, 2, 2, 2, 1, 3, 1, 1, 2, 1, 2, 1, 1, 2, 1, 1, 1, 1, 1, 2, 1, 2, 1, 2, 2, 2, 2, 1, 2, 1, 2, 1, 2, 2, 2, 1, 1, 2, 1, 2, 1, 2, 1, 1, 1, 1, 2, 1, 1, 2, 1, 2, 1, 1, 1, 2, 1, 1, 1, 1, 1, 3, 1, 1, 1, 1, 2, 1, 2, 1, 2, 2, 1, 1, 2, 3, 1, 1, 1, 2, 3, 1, 1, 1, 3, 3, 2, 1, 2, 2, 2, 2, 1, 2, 2, 1, 3, 1, 1, 1, 1, 1, 2, 1, 1, 1, 2, 1, 2, 3, 1, 2, 2, 2, 3, 1, 3, 1, 3, 2, 2, 2, 2, 2, 1, 1, 1, 1, 2, 2, 1, 2, 1, 3, 1, 1, 2, 2, 1, 2, 2, 1, 2, 1, 2, 2, 2, 2, 2, 3, 2, 2, 1, 2, 2, 2, 1, 2, 2, 1, 2, 1, 1, 1, 1, 3, 1, 2, 3, 2, 1, 1, 1, 2, 1, 2, 2, 2, 2, 1, 2, 1, 1, 1, 1, 2, 1, 1, 2]"
   ]
  },
  {
   "cell_type": "code",
   "execution_count": null,
   "id": "6fc469c9",
   "metadata": {},
   "outputs": [],
   "source": []
  },
  {
   "cell_type": "code",
   "execution_count": 212,
   "id": "46781e27",
   "metadata": {},
   "outputs": [
    {
     "name": "stdout",
     "output_type": "stream",
     "text": [
      "Timer unit: 1e-07 s\n",
      "\n",
      "Total time: 0.7823 s\n",
      "File: C:\\Users\\Florian\\AppData\\Local\\Temp\\ipykernel_16104\\356962432.py\n",
      "Function: count_sixes at line 2\n",
      "\n",
      "Line #      Hits         Time  Per Hit   % Time  Line Contents\n",
      "==============================================================\n",
      "     2                                           @profiler\n",
      "     3                                           def count_sixes(N, D, Cache):\n",
      "     4      1001       2489.0      2.5      0.0      SixCounter    = 0\n",
      "     5      1001       2437.0      2.4      0.0      SixCounterMax = 0\n",
      "     6      1001       2445.0      2.4      0.0      j = 0\n",
      "     7     77342     190859.0      2.5      2.4      while N > 0:\n",
      "     8                                                   # TODO: use continued division for this as well? Or can we just use the remainder instead of the number?\n",
      "     9     76341    4213638.0     55.2     53.9          Digit = N % 10\n",
      "    10     76341     188286.0      2.5      2.4          if Digit == 6:\n",
      "    11      7925      21975.0      2.8      0.3              SixCounter   += 1\n",
      "    12      7925      35430.0      4.5      0.5              SixCounterMax = max(SixCounterMax, SixCounter)\n",
      "    13                                                   else:\n",
      "    14     68416     151814.0      2.2      1.9              SixCounter = 0\n",
      "    15     76341     181691.0      2.4      2.3          try:\n",
      "    16     76341     277656.0      3.6      3.5              Q, R = Cache[j]\n",
      "    17     76264     328502.0      4.3      4.2              R    = (R << 1) | (N & 1)\n",
      "    18     76264     203579.0      2.7      2.6              if R >= D:\n",
      "    19     37555     127724.0      3.4      1.6                  R = R - D\n",
      "    20     37555     682596.0     18.2      8.7                  N = (Q << 1) | 1\n",
      "    21                                                       else:\n",
      "    22     38709     568181.0     14.7      7.3                  N = (Q << 1)\n",
      "    23        77        556.0      7.2      0.0          except KeyError:\n",
      "    24        77      86757.0   1126.7      1.1              R = N  % D\n",
      "    25        77      81299.0   1055.8      1.0              N = N // D\n",
      "    26     76341     285985.0      3.7      3.7          Cache[j] = N, R\n",
      "    27     76341     186402.0      2.4      2.4          j += 1\n",
      "    28      1001       2698.0      2.7      0.0      return SixCounterMax\n",
      "\n"
     ]
    }
   ],
   "source": [
    "profiler.print_stats()"
   ]
  },
  {
   "cell_type": "code",
   "execution_count": 216,
   "id": "f25b2ecf",
   "metadata": {},
   "outputs": [
    {
     "name": "stdout",
     "output_type": "stream",
     "text": [
      "Timer unit: 1e-07 s\n",
      "\n",
      "Total time: 0.388465 s\n",
      "File: C:\\Users\\Florian\\AppData\\Local\\Temp\\ipykernel_16104\\3149308276.py\n",
      "Function: count_sixes at line 2\n",
      "\n",
      "Line #      Hits         Time  Per Hit   % Time  Line Contents\n",
      "==============================================================\n",
      "     2                                           @profiler\n",
      "     3                                           def count_sixes(N, D, Cache):\n",
      "     4      1001       2521.0      2.5      0.1      SixCounter    = 0\n",
      "     5      1001       2312.0      2.3      0.1      SixCounterMax = 0\n",
      "     6      1001       2215.0      2.2      0.1      j = 0\n",
      "     7     77342     194824.0      2.5      5.0      while N > 0:\n",
      "     8     76341     157660.0      2.1      4.1          try:\n",
      "     9     76341     265909.0      3.5      6.8              Q, R = Cache[j]\n",
      "    10     76264     315681.0      4.1      8.1              R    = (R << 1) | (N & 1)\n",
      "    11     76264     196525.0      2.6      5.1              if R >= D:\n",
      "    12     37555     124209.0      3.3      3.2                  R = R - D\n",
      "    13     37555     677981.0     18.1     17.5                  N = (Q << 1) | 1\n",
      "    14                                                       else:\n",
      "    15     38709     567920.0     14.7     14.6                  N = (Q << 1)\n",
      "    16        77        388.0      5.0      0.0          except KeyError:\n",
      "    17        77      87816.0   1140.5      2.3              R = N  % D\n",
      "    18        77      83535.0   1084.9      2.2              N = N // D\n",
      "    19     76341     277401.0      3.6      7.1          Cache[j] = N, R\n",
      "    20     76341     201734.0      2.6      5.2          j += 1\n",
      "    21                                                   \n",
      "    22     76341     314715.0      4.1      8.1          Digit = R % 10\n",
      "    23     76341     202558.0      2.7      5.2          if Digit == 6:\n",
      "    24      7925      22448.0      2.8      0.6              SixCounter   += 1\n",
      "    25      7925      34297.0      4.3      0.9              SixCounterMax = max(SixCounterMax, SixCounter)\n",
      "    26                                                   else:\n",
      "    27     68416     149130.0      2.2      3.8              SixCounter = 0\n",
      "    28                                                   \n",
      "    29      1001       2871.0      2.9      0.1      return SixCounterMax\n",
      "\n"
     ]
    }
   ],
   "source": [
    "profiler.print_stats()"
   ]
  },
  {
   "cell_type": "markdown",
   "id": "b6f79924",
   "metadata": {},
   "source": [
    "## Improve Candidate selection"
   ]
  },
  {
   "cell_type": "code",
   "execution_count": 52,
   "id": "c692c086",
   "metadata": {},
   "outputs": [],
   "source": [
    "from line_profiler import LineProfiler"
   ]
  },
  {
   "cell_type": "code",
   "execution_count": 149,
   "id": "8ccb3e59",
   "metadata": {},
   "outputs": [],
   "source": [
    "def count_sixes_old(N, D, Cache):\n",
    "    SixCounter    = 0\n",
    "    SixCounterMax = 0\n",
    "    j = 0\n",
    "    while N > 0:\n",
    "        try:\n",
    "            Q, R = Cache[j]\n",
    "            R    = (R << 1) | (N & 1)\n",
    "            if R >= D:\n",
    "                R = R - D\n",
    "                N = (Q << 1) | 1\n",
    "            else:\n",
    "                N = (Q << 1)\n",
    "        except KeyError:\n",
    "            R = N  % D\n",
    "            N = N // D\n",
    "        Cache[j] = N, R\n",
    "        j += 1\n",
    "        \n",
    "        Digit = R % 10\n",
    "        if Digit == 6:\n",
    "            SixCounter   += 1\n",
    "            SixCounterMax = max(SixCounterMax, SixCounter)\n",
    "        else:\n",
    "            SixCounter = 0\n",
    "        \n",
    "    return SixCounterMax"
   ]
  },
  {
   "cell_type": "code",
   "execution_count": 151,
   "id": "64be4a51",
   "metadata": {},
   "outputs": [],
   "source": [
    "profiler = LineProfiler()\n",
    "@profiler\n",
    "def count_sixes(N, D, Cache, k=1):\n",
    "    SixCounter    = 0\n",
    "    SixCounterMax = 0\n",
    "    j = 0\n",
    "    while N > 0:\n",
    "        try:\n",
    "            Q, R = Cache[j]\n",
    "            R    = (R << 1) | (N & 1)\n",
    "            if R >= D:\n",
    "                R = R - D\n",
    "                N = (Q << 1) | 1\n",
    "            else:\n",
    "                N = (Q << 1)\n",
    "        except KeyError:\n",
    "            R = N  % D\n",
    "            N = N // D\n",
    "        Cache[j] = N, R\n",
    "        \n",
    "        Digit = R % 10\n",
    "        if Digit == 6:\n",
    "            SixCounter += 1\n",
    "            if SixCounter == 5:\n",
    "                # Go back and run a more expensive check to reduce likelyhood of selecting (wrong) candidates.\n",
    "                # If this is a goliath number, then this needs to now be all sixes.\n",
    "                R = (Cache[j-1][1]) // 10 # We already know the last digit is a six, so skip it.\n",
    "                for _ in range(k):\n",
    "                    Digit = R % 10\n",
    "                    if Digit == 6:\n",
    "                        R = R // 10\n",
    "                    else:\n",
    "                        SixCounter = 1 # Set to one because the digit here at j is actually a 6.\n",
    "                        break\n",
    "            SixCounterMax = max(SixCounterMax, SixCounter) # This is not in the else block to support k = 0\n",
    "        else:\n",
    "            SixCounter = 0\n",
    "        j += 1\n",
    "    return SixCounterMax"
   ]
  },
  {
   "cell_type": "code",
   "execution_count": 54,
   "id": "22481867",
   "metadata": {},
   "outputs": [
    {
     "name": "stdout",
     "output_type": "stream",
     "text": [
      "Building Cache...\n",
      "1\n",
      "Done!\n",
      "CPU times: total: 15.6 ms\n",
      "Wall time: 17.1 ms\n"
     ]
    }
   ],
   "source": [
    "%%time\n",
    "i        = 100_000\n",
    "Divisor = 10**399"
   ]
  },
  {
   "cell_type": "code",
   "execution_count": 66,
   "id": "60f08cf3",
   "metadata": {},
   "outputs": [],
   "source": [
    "G = int('666'*666)"
   ]
  },
  {
   "cell_type": "code",
   "execution_count": 153,
   "id": "1ddb0a67",
   "metadata": {},
   "outputs": [
    {
     "name": "stdout",
     "output_type": "stream",
     "text": [
      "CPU times: total: 3.3 s\n",
      "Wall time: 3.3 s\n"
     ]
    },
    {
     "data": {
      "text/plain": [
       "4"
      ]
     },
     "execution_count": 153,
     "metadata": {},
     "output_type": "execute_result"
    }
   ],
   "source": [
    "%%time\n",
    "i      = 1_400_052\n",
    "Number = 1<<(i)\n",
    "count_sixes(Number, Divisor, {}, k=2)"
   ]
  },
  {
   "cell_type": "code",
   "execution_count": 154,
   "id": "08fe4769",
   "metadata": {},
   "outputs": [
    {
     "data": {
      "text/plain": [
       "5"
      ]
     },
     "execution_count": 154,
     "metadata": {},
     "output_type": "execute_result"
    }
   ],
   "source": [
    "count_sixes_old(Number, Divisor, {})"
   ]
  },
  {
   "cell_type": "code",
   "execution_count": null,
   "id": "785f1642",
   "metadata": {},
   "outputs": [],
   "source": []
  },
  {
   "cell_type": "code",
   "execution_count": null,
   "id": "a08fc5de",
   "metadata": {},
   "outputs": [],
   "source": []
  },
  {
   "cell_type": "code",
   "execution_count": null,
   "id": "4942d1c7",
   "metadata": {},
   "outputs": [],
   "source": []
  },
  {
   "cell_type": "code",
   "execution_count": null,
   "id": "e1fe81ea",
   "metadata": {},
   "outputs": [],
   "source": []
  }
 ],
 "metadata": {
  "kernelspec": {
   "display_name": "Python 3 (ipykernel)",
   "language": "python",
   "name": "python3"
  },
  "language_info": {
   "codemirror_mode": {
    "name": "ipython",
    "version": 3
   },
   "file_extension": ".py",
   "mimetype": "text/x-python",
   "name": "python",
   "nbconvert_exporter": "python",
   "pygments_lexer": "ipython3",
   "version": "3.9.7"
  }
 },
 "nbformat": 4,
 "nbformat_minor": 5
}
