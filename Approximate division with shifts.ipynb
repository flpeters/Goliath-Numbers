{
 "cells": [
  {
   "cell_type": "code",
   "execution_count": 9,
   "id": "656f0b8a",
   "metadata": {},
   "outputs": [],
   "source": [
    "from math import log\n",
    "from line_profiler import LineProfiler"
   ]
  },
  {
   "cell_type": "code",
   "execution_count": 10,
   "id": "9f5c8b61",
   "metadata": {},
   "outputs": [],
   "source": [
    "%load_ext line_profiler"
   ]
  },
  {
   "cell_type": "markdown",
   "id": "f48a77b3",
   "metadata": {},
   "source": [
    "This sequence is used for division by multiplication with an approximation of the inverse of the divisor on computers if they support multiplying two 32-bit numbers for a 64-bit result.  \n",
    "This is usually much faster than a division instruction because integer division is a very slow operation on most computers."
   ]
  },
  {
   "cell_type": "markdown",
   "id": "ab7ce9c6",
   "metadata": {},
   "source": [
    "Source: https://en.m.wikipedia.org/wiki/Division_algorithm#Division_by_a_constant  \n",
    "https://oeis.org/A346495 https://oeis.org/A346496  \n",
    "https://stackoverflow.com/questions/5558492/divide-by-10-using-bit-shifts"
   ]
  },
  {
   "cell_type": "code",
   "execution_count": 1,
   "id": "f0400c97",
   "metadata": {},
   "outputs": [],
   "source": [
    "def power_of_two(n):\n",
    "    return n == (1<<(n.bit_length()-1))"
   ]
  },
  {
   "cell_type": "code",
   "execution_count": 2,
   "id": "b2696416",
   "metadata": {},
   "outputs": [],
   "source": [
    "def a(n):\n",
    "    Result = 1\n",
    "    if not power_of_two(n):\n",
    "        n_c = ((1<<32) - ((1<<32) % n)) - 1\n",
    "        b   = 1\n",
    "        while (1<<b) <= (n_c * ((n - 1) - (((1<<b) - 1) % n))):\n",
    "            b += 1\n",
    "        Result = ((1<<b) + (n - 1) - (((1<<b) - 1) % n)) // n\n",
    "    return Result"
   ]
  },
  {
   "cell_type": "code",
   "execution_count": 3,
   "id": "e0f0ad3b",
   "metadata": {},
   "outputs": [
    {
     "name": "stdout",
     "output_type": "stream",
     "text": [
      "[1, 1, 2863311531, 1, 3435973837, 2863311531, 4908534053, 1, 954437177, 3435973837, 3123612579, 2863311531, 1321528399, 4908534053, 2290649225, 1, 4042322161, 954437177, 7233629131, 3435973837, 6544712071, 3123612579, 2987803337, 2863311531, 1374389535]\n"
     ]
    }
   ],
   "source": [
    "print([a(n) for n in range(1, 26)])"
   ]
  },
  {
   "cell_type": "code",
   "execution_count": 4,
   "id": "e2a1317c",
   "metadata": {},
   "outputs": [],
   "source": [
    "def b(n):\n",
    "    Result = None\n",
    "    if power_of_two(n):\n",
    "        Result = n.bit_length() - 1\n",
    "    else:\n",
    "        n_c = ((1<<32) - ((1<<32) % n)) - 1\n",
    "        b   = 1\n",
    "        while (1<<b) <= (n_c * ((n - 1) - (((1<<b) - 1) % n))):\n",
    "            b += 1\n",
    "        Result = b\n",
    "    return Result"
   ]
  },
  {
   "cell_type": "code",
   "execution_count": 5,
   "id": "5858967b",
   "metadata": {},
   "outputs": [
    {
     "name": "stdout",
     "output_type": "stream",
     "text": [
      "[0, 1, 33, 2, 34, 34, 35, 3, 33, 35, 35, 35, 34, 36, 35, 4, 36, 34, 37, 36, 37, 36, 36, 36, 35, 35, 37, 37, 36, 36, 37, 5, 35, 37, 38, 35, 38, 38, 38, 37, 37, 38, 35, 37, 38, 37, 37, 37, 36, 36, 37, 36, 38, 38, 38, 38, 38, 37, 35, 37, 36, 38, 38, 6, 38, 36]\n"
     ]
    }
   ],
   "source": [
    "print([b(n) for n in range(1, 67)])"
   ]
  },
  {
   "cell_type": "markdown",
   "id": "bc20efed",
   "metadata": {},
   "source": [
    "Smallest a(n) so that division by n can be performed by $$\\left\\lfloor\\frac{x}{n}\\right\\rfloor = \\frac{\\lfloor(x*a(n)\\rfloor}{2^{b(n)}}$$ for all $0 <= x < 2^{32}$. "
   ]
  },
  {
   "cell_type": "code",
   "execution_count": 6,
   "id": "c54170ab",
   "metadata": {},
   "outputs": [],
   "source": [
    "LIMIT     = 32\n",
    "BIT_LIMIT = 1<<LIMIT\n",
    "def seq(i):\n",
    "    A = 1\n",
    "    B = i.bit_length() - 1\n",
    "    j = i - 1\n",
    "    if not (i == (1<<B)):\n",
    "        k = (BIT_LIMIT - (BIT_LIMIT % i)) - 1\n",
    "        print(bin(k))\n",
    "        B   = 1\n",
    "        B2  = 1<<B\n",
    "        while B2 <= (k * (j - ((B2 - 1) % i))):\n",
    "            B += 1\n",
    "            B2 = B2<<1\n",
    "        A = (B2 + j - ((B2 - 1) % i)) // i\n",
    "    return (A, B)"
   ]
  },
  {
   "cell_type": "code",
   "execution_count": 7,
   "id": "d4e00557",
   "metadata": {},
   "outputs": [
    {
     "data": {
      "text/plain": [
       "'0b100000000000000000000000000000000'"
      ]
     },
     "execution_count": 7,
     "metadata": {},
     "output_type": "execute_result"
    }
   ],
   "source": [
    "bin(1<<32)"
   ]
  },
  {
   "cell_type": "code",
   "execution_count": 8,
   "id": "36c09bae",
   "metadata": {},
   "outputs": [
    {
     "name": "stdout",
     "output_type": "stream",
     "text": [
      "0b11111111111111111111111111111110\n",
      "0b11111111111111111111111111111110\n",
      "0b11111111111111111111111111111011\n",
      "0b11111111111111111111111111111011\n",
      "0b11111111111111111111111111111011\n",
      "0b11111111111111111111111111111001\n",
      "0b11111111111111111111111111111011\n",
      "0b11111111111111111111111111111011\n",
      "0b11111111111111111111111111110110\n",
      "0b11111111111111111111111111111011\n",
      "0b11111111111111111111111111111110\n",
      "0b11111111111111111111111111111110\n",
      "0b11111111111111111111111111111011\n",
      "0b11111111111111111111111111111001\n",
      "0b11111111111111111111111111101111\n",
      "0b11111111111111111111111111111011\n",
      "0b11111111111111111111111111111011\n",
      "0b11111111111111111111111111110011\n",
      "0b11111111111111111111111111101111\n",
      "0b11111111111111111111111111101010\n",
      "[(1, 0), (1, 1), (2863311531, 33), (1, 2), (3435973837, 34), (2863311531, 34), (4908534053, 35), (1, 3), (954437177, 33), (3435973837, 35), (3123612579, 35), (2863311531, 35), (1321528399, 34), (4908534053, 36), (2290649225, 35), (1, 4), (4042322161, 36), (954437177, 34), (7233629131, 37), (3435973837, 36), (6544712071, 37), (3123612579, 36), (2987803337, 36), (2863311531, 36), (1374389535, 35)]\n"
     ]
    }
   ],
   "source": [
    "print([seq(n) for n in range(1, 26)])"
   ]
  },
  {
   "cell_type": "code",
   "execution_count": null,
   "id": "2fb145b7",
   "metadata": {},
   "outputs": [],
   "source": []
  },
  {
   "cell_type": "code",
   "execution_count": null,
   "id": "8d36a349",
   "metadata": {},
   "outputs": [],
   "source": []
  },
  {
   "cell_type": "markdown",
   "id": "b6c82101",
   "metadata": {},
   "source": [
    "---"
   ]
  },
  {
   "cell_type": "markdown",
   "id": "2e795602",
   "metadata": {},
   "source": [
    "Finding the magic numbers in the way we did above is limited to 32 bits. But there is another way:\n",
    "---"
   ]
  },
  {
   "cell_type": "markdown",
   "id": "ebda1e9c",
   "metadata": {},
   "source": [
    "Source: Hacker's delight page 218 (chapter 10–15 Simple Code in Python)"
   ]
  },
  {
   "cell_type": "markdown",
   "id": "95bef0dd",
   "metadata": {},
   "source": [
    "Optimization: Switching from a linear search to a binary search reduced the runtime for inputs `m, p = magicgu(1<<1_000_000, 10**399)` from 40 minutes to 0.08 seconds, taking just 24 iterations to converge on the correct value..."
   ]
  },
  {
   "cell_type": "code",
   "execution_count": 11,
   "id": "e10ef525",
   "metadata": {},
   "outputs": [],
   "source": [
    "def magicgu_slow(nmax, d):\n",
    "    \"\"\"Given the maximum value of the dividend nmax and the divisor d,\n",
    "    returns a pair of integers:\n",
    "        the magic number m and a shift amount p.\n",
    "    To divide a dividend x by d, one multiplies x by m and then shifts the (full length) product right p bits.\n",
    "    \"\"\"\n",
    "    dminus1      = d - 1\n",
    "    nc           = (nmax // d) * dminus1\n",
    "    search_range = 1 + (2 * nmax.bit_length())\n",
    "    for p in range(0, search_range):\n",
    "        q         = 1<<p\n",
    "        qminus1   = q - 1\n",
    "        remainder = (qminus1 % d)\n",
    "        if q > (nc * (dminus1 - remainder)):\n",
    "            m = ((q + dminus1) - remainder) // d\n",
    "            return (m, p)\n",
    "    raise Exception('Couldn\\'t find a solution, something is wrong.')"
   ]
  },
  {
   "cell_type": "code",
   "execution_count": 12,
   "id": "71eaeb1d",
   "metadata": {},
   "outputs": [],
   "source": [
    "def magicgu(nmax, d):\n",
    "    \"\"\"\n",
    "    Given the maximum value of the dividend nmax and the divisor d, returns a pair of integers:\n",
    "        the magic number m and a shift amount p.\n",
    "    To divide a dividend x by d, one multiplies x by m and then shifts the (full length) product right p bits.\n",
    "    This works because m / p will be very close to 1 / d, and p will be a power of two, making the divide a simple bit shift.\n",
    "    \"\"\"\n",
    "    dminus1 = d - 1\n",
    "    nc      = (nmax // d) * dminus1\n",
    "    lowest  = 0\n",
    "    highest = 1 + (2 * nmax.bit_length())\n",
    "    while lowest < highest:\n",
    "        p         = (highest + lowest) // 2\n",
    "        q         = 1<<p\n",
    "        qminus1   = q - 1\n",
    "        remainder = (qminus1 % d)\n",
    "        if q > (nc * (dminus1 - remainder)):\n",
    "            highest = p\n",
    "        else:\n",
    "            lowest  = p + 1\n",
    "    p         = (highest + lowest) // 2\n",
    "    q         = 1<<p\n",
    "    qminus1   = q - 1\n",
    "    remainder = (qminus1 % d)\n",
    "    m         = ((q + dminus1) - remainder) // d\n",
    "    return (m, p)\n",
    "        \n",
    "    raise Exception('Couldn\\'t find a solution, something is wrong.')"
   ]
  },
  {
   "cell_type": "markdown",
   "id": "d00ed4ad",
   "metadata": {},
   "source": [
    "Example 1:"
   ]
  },
  {
   "cell_type": "code",
   "execution_count": 15,
   "id": "c15f209d",
   "metadata": {},
   "outputs": [
    {
     "data": {
      "text/plain": [
       "(292957247209924852137075224890370171032692958681326960826984919130001827539839214697757948051204538105646676347303848625162902618953473698102408269423433879425259310757283275210972425883538122452847336119254634643499505917091533837488298906776482947295647220679792987618467923311462718229513113755678107850012507556042175979861246759917806100226846569645613245309343003296469005736181778637822676173,\n",
       " 1327)"
      ]
     },
     "execution_count": 15,
     "metadata": {},
     "output_type": "execute_result"
    }
   ],
   "source": [
    "m, p = magicgu(10**399, 10); m, p"
   ]
  },
  {
   "cell_type": "code",
   "execution_count": 16,
   "id": "05ec4f90",
   "metadata": {},
   "outputs": [],
   "source": [
    "x = 675498068352129731964884062763533329144415921218630285019127698639680940044270154133162810213979906631608629547659877222303938885553947675194806514177810321278967470122934933377995913130368225534489724572693654861728928532250033597205506631158056720564410536312378792296760105033917922985829102352323964365789020903947560236392997251191841134769795404868939332473278193403660671793915429281166670196"
   ]
  },
  {
   "cell_type": "code",
   "execution_count": 17,
   "id": "08cd4db9",
   "metadata": {},
   "outputs": [
    {
     "data": {
      "text/plain": [
       "True"
      ]
     },
     "execution_count": 17,
     "metadata": {},
     "output_type": "execute_result"
    }
   ],
   "source": [
    "x < 10**399"
   ]
  },
  {
   "cell_type": "code",
   "execution_count": 18,
   "id": "5cee188b",
   "metadata": {},
   "outputs": [],
   "source": [
    "d = 10"
   ]
  },
  {
   "cell_type": "code",
   "execution_count": 19,
   "id": "e3752412",
   "metadata": {},
   "outputs": [
    {
     "name": "stdout",
     "output_type": "stream",
     "text": [
      "2.24 µs ± 31.7 ns per loop (mean ± std. dev. of 7 runs, 100,000 loops each)\n"
     ]
    }
   ],
   "source": [
    "%%timeit\n",
    "(x * m) >> p"
   ]
  },
  {
   "cell_type": "code",
   "execution_count": 20,
   "id": "494b1f8b",
   "metadata": {},
   "outputs": [
    {
     "name": "stdout",
     "output_type": "stream",
     "text": [
      "164 ns ± 1.19 ns per loop (mean ± std. dev. of 7 runs, 10,000,000 loops each)\n"
     ]
    }
   ],
   "source": [
    "%%timeit\n",
    "x // 10"
   ]
  },
  {
   "cell_type": "markdown",
   "id": "15db2176",
   "metadata": {},
   "source": [
    "Example 2:"
   ]
  },
  {
   "cell_type": "code",
   "execution_count": 21,
   "id": "2867b65b",
   "metadata": {},
   "outputs": [],
   "source": [
    "x = (1<<999_900)"
   ]
  },
  {
   "cell_type": "code",
   "execution_count": 22,
   "id": "670336ee",
   "metadata": {},
   "outputs": [],
   "source": [
    "d = 10**399"
   ]
  },
  {
   "cell_type": "code",
   "execution_count": 23,
   "id": "84880d71",
   "metadata": {},
   "outputs": [
    {
     "name": "stdout",
     "output_type": "stream",
     "text": [
      "1.38 ms ± 12.6 µs per loop (mean ± std. dev. of 7 runs, 1,000 loops each)\n"
     ]
    }
   ],
   "source": [
    "%%timeit\n",
    "(x * m) >> p"
   ]
  },
  {
   "cell_type": "code",
   "execution_count": 24,
   "id": "7fc99eb1",
   "metadata": {},
   "outputs": [
    {
     "name": "stdout",
     "output_type": "stream",
     "text": [
      "2.16 ms ± 15.7 µs per loop (mean ± std. dev. of 7 runs, 100 loops each)\n"
     ]
    }
   ],
   "source": [
    "%%timeit\n",
    "x // d"
   ]
  },
  {
   "cell_type": "markdown",
   "id": "25d44850",
   "metadata": {},
   "source": [
    "This works, but sadly it's not really faster than the usual division, even when the number we're dividing is close to the maximum (which makes the difference between the mult and shift version and the division version the smallest)."
   ]
  },
  {
   "cell_type": "markdown",
   "id": "d7ee823d",
   "metadata": {},
   "source": [
    "---"
   ]
  },
  {
   "cell_type": "markdown",
   "id": "5019e8ea",
   "metadata": {},
   "source": [
    "If the divisor and the maximum size are fixed, we can go another approach which gets rid of even the multiply instruction and instead does a bunch of adds and shifts\n",
    "---"
   ]
  },
  {
   "cell_type": "markdown",
   "id": "68b6a107",
   "metadata": {},
   "source": [
    "Source: Hackers Delight (see above)"
   ]
  },
  {
   "cell_type": "markdown",
   "id": "872f97bd",
   "metadata": {},
   "source": [
    "This again doesn't work for larger numbers. The given examples are only accurate for 32 bits (i think)"
   ]
  },
  {
   "cell_type": "code",
   "execution_count": 27,
   "id": "d87705c1",
   "metadata": {},
   "outputs": [],
   "source": [
    "def divu10(n):\n",
    "    q  = (n >> 1) + (n >> 2)\n",
    "    q += (q >> 4)\n",
    "    q += (q >> 8)\n",
    "    q += (q >> 16)\n",
    "    q  = (q >> 3)\n",
    "    r  = n - (((q << 2) + q) << 1)\n",
    "    return q + (r > 9), r"
   ]
  },
  {
   "cell_type": "code",
   "execution_count": 28,
   "id": "2cb6bb6e",
   "metadata": {},
   "outputs": [
    {
     "data": {
      "text/plain": [
       "(2, 11)"
      ]
     },
     "execution_count": 28,
     "metadata": {},
     "output_type": "execute_result"
    }
   ],
   "source": [
    "divu10(21)"
   ]
  },
  {
   "cell_type": "code",
   "execution_count": 29,
   "id": "85ee459d",
   "metadata": {},
   "outputs": [],
   "source": [
    "def divu100(n):\n",
    "    q = (n >> 1) + (n >> 3) + (n >> 6) - (n >> 10) + (n >> 12) + (n >> 13) - (n >> 16)\n",
    "    q = q + (q >> 20)\n",
    "    q = q >> 6\n",
    "    r = n - q*100\n",
    "    return q + ((r + 28) >> 7)\n",
    "    # // return q + (r > 99)"
   ]
  },
  {
   "cell_type": "code",
   "execution_count": 30,
   "id": "dd53b5b9",
   "metadata": {},
   "outputs": [
    {
     "data": {
      "text/plain": [
       "2"
      ]
     },
     "execution_count": 30,
     "metadata": {},
     "output_type": "execute_result"
    }
   ],
   "source": [
    "divu100(240)"
   ]
  },
  {
   "cell_type": "code",
   "execution_count": 31,
   "id": "5eb63bea",
   "metadata": {},
   "outputs": [],
   "source": [
    "def divu1000(n):\n",
    "    t = (n >> 7) + (n >> 8) + (n >> 12)\n",
    "    q = (n >> 1) + t + (n >> 15) + (t >> 11) + (t >> 14)\n",
    "    q = q >> 9\n",
    "    r = n - q*1000\n",
    "    return q + ((r + 24) >> 10)\n",
    "    # // return q + (r > 999)"
   ]
  },
  {
   "cell_type": "code",
   "execution_count": 32,
   "id": "78d8dde8",
   "metadata": {},
   "outputs": [
    {
     "data": {
      "text/plain": [
       "3"
      ]
     },
     "execution_count": 32,
     "metadata": {},
     "output_type": "execute_result"
    }
   ],
   "source": [
    "divu1000(3600)"
   ]
  },
  {
   "cell_type": "code",
   "execution_count": null,
   "id": "56de780d",
   "metadata": {},
   "outputs": [],
   "source": []
  },
  {
   "cell_type": "code",
   "execution_count": null,
   "id": "c48eaed8",
   "metadata": {},
   "outputs": [],
   "source": []
  },
  {
   "cell_type": "code",
   "execution_count": null,
   "id": "eea0bbe5",
   "metadata": {},
   "outputs": [],
   "source": []
  }
 ],
 "metadata": {
  "kernelspec": {
   "display_name": "Python 3 (ipykernel)",
   "language": "python",
   "name": "python3"
  },
  "language_info": {
   "codemirror_mode": {
    "name": "ipython",
    "version": 3
   },
   "file_extension": ".py",
   "mimetype": "text/x-python",
   "name": "python",
   "nbconvert_exporter": "python",
   "pygments_lexer": "ipython3",
   "version": "3.9.7"
  }
 },
 "nbformat": 4,
 "nbformat_minor": 5
}
